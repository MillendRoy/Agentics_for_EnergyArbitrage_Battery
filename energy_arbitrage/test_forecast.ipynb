{
 "cells": [
  {
   "cell_type": "code",
   "execution_count": 1,
   "id": "df037a7c",
   "metadata": {},
   "outputs": [
    {
     "name": "stderr",
     "output_type": "stream",
     "text": [
      "2025-10-11 22:57:08.899 | DEBUG    | agentics.core.agentics:from_csv:307 - Importing Agentics of type EnergyDataRecord from CSV c:\\Users\\16467\\OneDrive\\Desktop\\Columbia\\Agentics\\New\\Agentics_for_EnergyArbitrage_Battery\\energy_arbitrage\\agentic_energy\\data\\Italy_data.csv\n"
     ]
    },
    {
     "name": "stdout",
     "output_type": "stream",
     "text": [
      "Forecast Engine using device: cpu\n",
      "Binned MLP Forecast Engine using device: cpu\n",
      "Validation passed: Forecast period 2023-07-15 to 2023-07-16 is in second half (>= 2023-01-01)\n",
      "\n",
      "Generating prices forecast for ITALY using Binned MLP...\n",
      "Loading binned MLP models from Italy_data_prices_Binned_MLP_model.pkl...\n",
      "  Loaded 24 bin models\n",
      "  MSE: 30117.5252, RMSE: 173.5440, MAE: 170.9767\n",
      "\n",
      "Generating consumption forecast for ITALY using Binned MLP...\n",
      "Loading binned MLP models from Italy_data_consumption_Binned_MLP_model.pkl...\n",
      "  Loaded 24 bin models\n",
      "  MSE: 7.4308, RMSE: 2.7259, MAE: 2.1640\n",
      "MSE: 30117.5252\n",
      "RMSE: 173.5440\n"
     ]
    }
   ],
   "source": [
    "from agentic_energy.data_loader import EnergyDataLoader\n",
    "from agentic_energy.forecast_engine import ForecastEngine\n",
    "from agentic_energy.forecast_engine_binned_mlp import BinnedMLPForecastEngine\n",
    "\n",
    "# Load data\n",
    "loader = EnergyDataLoader(region=\"Italy\")\n",
    "data = loader.load_region_data()\n",
    "\n",
    "# Initialize forecast engine\n",
    "engine = BinnedMLPForecastEngine(models_dir=\"agentic_energy/trained_models\")\n",
    "\n",
    "# Forecast a day (must be in second half!)\n",
    "# forecasts = await engine.get_forecast_for_day(\n",
    "#     ag_data=data,\n",
    "#     date=\"2023-07-15\",\n",
    "#     targets=['prices', 'consumption']\n",
    "# )\n",
    "\n",
    "forecasts = await engine.generate_forecasts(\n",
    "    ag_data=data,\n",
    "    start_date=\"2023-07-15\",\n",
    "    end_date=\"2023-07-16\", \n",
    "    targets=['prices', 'consumption']\n",
    ")\n",
    "\n",
    "# Examine results\n",
    "price_forecast = forecasts.states[0]\n",
    "print(f\"MSE: {price_forecast.metrics.mse:.4f}\")\n",
    "print(f\"RMSE: {price_forecast.metrics.rmse:.4f}\")"
   ]
  },
  {
   "cell_type": "code",
   "execution_count": null,
   "id": "b1507c1e",
   "metadata": {},
   "outputs": [],
   "source": []
  },
  {
   "cell_type": "code",
   "execution_count": 2,
   "id": "a958a634",
   "metadata": {},
   "outputs": [
    {
     "data": {
      "text/plain": [
       "ForecastResult(region='ITALY', target='prices', start_date='2023-07-15', end_date='2023-07-16', lookback=96, horizon=24, metrics=ForecastMetrics(mse=425.24299340371095, rmse=20.621420741639287, mae=16.59968173828125, num_predictions=25), forecasts=[ForecastRecord(timestamp='2023-07-15 00:00:00', actual=105.68, predicted=105.09126281738281, error=-0.5887371826171943), ForecastRecord(timestamp='2023-07-15 01:00:00', actual=104.92, predicted=101.46928405761719, error=-3.450715942382814), ForecastRecord(timestamp='2023-07-15 02:00:00', actual=102.18, predicted=98.087646484375, error=-4.092353515625007), ForecastRecord(timestamp='2023-07-15 03:00:00', actual=95.92, predicted=97.26852416992188, error=1.3485241699218733), ForecastRecord(timestamp='2023-07-15 04:00:00', actual=100.32, predicted=99.14418029785156, error=-1.1758197021484307), ForecastRecord(timestamp='2023-07-15 05:00:00', actual=99.2, predicted=103.57736206054688, error=4.377362060546872), ForecastRecord(timestamp='2023-07-15 06:00:00', actual=98.0, predicted=109.58955383300781, error=11.589553833007812), ForecastRecord(timestamp='2023-07-15 07:00:00', actual=100.0, predicted=117.80290222167969, error=17.802902221679688), ForecastRecord(timestamp='2023-07-15 08:00:00', actual=100.0, predicted=124.65141296386719, error=24.651412963867188), ForecastRecord(timestamp='2023-07-15 09:00:00', actual=91.75, predicted=129.27044677734375, error=37.52044677734375), ForecastRecord(timestamp='2023-07-15 10:00:00', actual=92.71, predicted=129.0306396484375, error=36.320639648437506), ForecastRecord(timestamp='2023-07-15 11:00:00', actual=88.95, predicted=127.00328063964844, error=38.053280639648435), ForecastRecord(timestamp='2023-07-15 12:00:00', actual=87.2, predicted=122.85523986816406, error=35.65523986816406), ForecastRecord(timestamp='2023-07-15 13:00:00', actual=87.2, predicted=118.31077575683594, error=31.110775756835935), ForecastRecord(timestamp='2023-07-15 14:00:00', actual=87.2, predicted=113.24867248535156, error=26.04867248535156), ForecastRecord(timestamp='2023-07-15 15:00:00', actual=87.95, predicted=110.50241088867188, error=22.552410888671872), ForecastRecord(timestamp='2023-07-15 16:00:00', actual=92.92, predicted=112.60543823242188, error=19.685438232421873), ForecastRecord(timestamp='2023-07-15 17:00:00', actual=98.83, predicted=119.0738525390625, error=20.2438525390625), ForecastRecord(timestamp='2023-07-15 18:00:00', actual=106.82, predicted=126.44390869140625, error=19.623908691406257), ForecastRecord(timestamp='2023-07-15 19:00:00', actual=140.04, predicted=134.53453063964844, error=-5.5054693603515545), ForecastRecord(timestamp='2023-07-15 20:00:00', actual=143.49, predicted=139.05262756347656, error=-4.437372436523447), ForecastRecord(timestamp='2023-07-15 21:00:00', actual=147.51, predicted=140.88705444335938, error=-6.622945556640616), ForecastRecord(timestamp='2023-07-15 22:00:00', actual=122.57, predicted=136.24493408203125, error=13.674934082031257), ForecastRecord(timestamp='2023-07-15 23:00:00', actual=112.11, predicted=130.9942626953125, error=18.8842626953125), ForecastRecord(timestamp='2023-07-16 00:00:00', actual=130.9, predicted=120.92498779296875, error=-9.975012207031256)])"
      ]
     },
     "execution_count": 2,
     "metadata": {},
     "output_type": "execute_result"
    }
   ],
   "source": [
    "forecasts.states[0]"
   ]
  },
  {
   "cell_type": "code",
   "execution_count": 3,
   "id": "66279a86",
   "metadata": {},
   "outputs": [
    {
     "data": {
      "text/plain": [
       "Agentics(atype=<class 'agentic_energy.schemas.ForecastResult'>, states=[ForecastResult(region='ITALY', target='prices', start_date='2023-07-15', end_date='2023-07-16', lookback=96, horizon=24, metrics=ForecastMetrics(mse=425.24299340371095, rmse=20.621420741639287, mae=16.59968173828125, num_predictions=25), forecasts=[ForecastRecord(timestamp='2023-07-15 00:00:00', actual=105.68, predicted=105.09126281738281, error=-0.5887371826171943), ForecastRecord(timestamp='2023-07-15 01:00:00', actual=104.92, predicted=101.46928405761719, error=-3.450715942382814), ForecastRecord(timestamp='2023-07-15 02:00:00', actual=102.18, predicted=98.087646484375, error=-4.092353515625007), ForecastRecord(timestamp='2023-07-15 03:00:00', actual=95.92, predicted=97.26852416992188, error=1.3485241699218733), ForecastRecord(timestamp='2023-07-15 04:00:00', actual=100.32, predicted=99.14418029785156, error=-1.1758197021484307), ForecastRecord(timestamp='2023-07-15 05:00:00', actual=99.2, predicted=103.57736206054688, error=4.377362060546872), ForecastRecord(timestamp='2023-07-15 06:00:00', actual=98.0, predicted=109.58955383300781, error=11.589553833007812), ForecastRecord(timestamp='2023-07-15 07:00:00', actual=100.0, predicted=117.80290222167969, error=17.802902221679688), ForecastRecord(timestamp='2023-07-15 08:00:00', actual=100.0, predicted=124.65141296386719, error=24.651412963867188), ForecastRecord(timestamp='2023-07-15 09:00:00', actual=91.75, predicted=129.27044677734375, error=37.52044677734375), ForecastRecord(timestamp='2023-07-15 10:00:00', actual=92.71, predicted=129.0306396484375, error=36.320639648437506), ForecastRecord(timestamp='2023-07-15 11:00:00', actual=88.95, predicted=127.00328063964844, error=38.053280639648435), ForecastRecord(timestamp='2023-07-15 12:00:00', actual=87.2, predicted=122.85523986816406, error=35.65523986816406), ForecastRecord(timestamp='2023-07-15 13:00:00', actual=87.2, predicted=118.31077575683594, error=31.110775756835935), ForecastRecord(timestamp='2023-07-15 14:00:00', actual=87.2, predicted=113.24867248535156, error=26.04867248535156), ForecastRecord(timestamp='2023-07-15 15:00:00', actual=87.95, predicted=110.50241088867188, error=22.552410888671872), ForecastRecord(timestamp='2023-07-15 16:00:00', actual=92.92, predicted=112.60543823242188, error=19.685438232421873), ForecastRecord(timestamp='2023-07-15 17:00:00', actual=98.83, predicted=119.0738525390625, error=20.2438525390625), ForecastRecord(timestamp='2023-07-15 18:00:00', actual=106.82, predicted=126.44390869140625, error=19.623908691406257), ForecastRecord(timestamp='2023-07-15 19:00:00', actual=140.04, predicted=134.53453063964844, error=-5.5054693603515545), ForecastRecord(timestamp='2023-07-15 20:00:00', actual=143.49, predicted=139.05262756347656, error=-4.437372436523447), ForecastRecord(timestamp='2023-07-15 21:00:00', actual=147.51, predicted=140.88705444335938, error=-6.622945556640616), ForecastRecord(timestamp='2023-07-15 22:00:00', actual=122.57, predicted=136.24493408203125, error=13.674934082031257), ForecastRecord(timestamp='2023-07-15 23:00:00', actual=112.11, predicted=130.9942626953125, error=18.8842626953125), ForecastRecord(timestamp='2023-07-16 00:00:00', actual=130.9, predicted=120.92498779296875, error=-9.975012207031256)]), ForecastResult(region='ITALY', target='consumption', start_date='2023-07-15', end_date='2023-07-16', lookback=96, horizon=24, metrics=ForecastMetrics(mse=0.43934194390616615, rmse=0.6628287440253071, mae=0.5887141418457034, num_predictions=25), forecasts=[ForecastRecord(timestamp='2023-07-15 00:00:00', actual=32.32, predicted=32.74100875854492, error=0.4210087585449216), ForecastRecord(timestamp='2023-07-15 01:00:00', actual=30.77, predicted=30.90636444091797, error=0.13636444091796918), ForecastRecord(timestamp='2023-07-15 02:00:00', actual=29.29, predicted=29.77945899963379, error=0.4894589996337899), ForecastRecord(timestamp='2023-07-15 03:00:00', actual=28.63, predicted=28.955902099609375, error=0.325902099609376), ForecastRecord(timestamp='2023-07-15 04:00:00', actual=28.18, predicted=28.429946899414062, error=0.24994689941406278), ForecastRecord(timestamp='2023-07-15 05:00:00', actual=27.87, predicted=28.38395118713379, error=0.5139511871337881), ForecastRecord(timestamp='2023-07-15 06:00:00', actual=28.77, predicted=29.29025650024414, error=0.520256500244141), ForecastRecord(timestamp='2023-07-15 07:00:00', actual=30.94, predicted=31.190616607666016, error=0.25061660766601435), ForecastRecord(timestamp='2023-07-15 08:00:00', actual=33.23, predicted=33.4309196472168, error=0.2009196472168), ForecastRecord(timestamp='2023-07-15 09:00:00', actual=34.92, predicted=35.44374465942383, error=0.5237446594238264), ForecastRecord(timestamp='2023-07-15 10:00:00', actual=35.4, predicted=36.259578704833984, error=0.8595787048339858), ForecastRecord(timestamp='2023-07-15 11:00:00', actual=35.27, predicted=35.891658782958984, error=0.6216587829589812), ForecastRecord(timestamp='2023-07-15 12:00:00', actual=34.93, predicted=35.07856369018555, error=0.14856369018554716), ForecastRecord(timestamp='2023-07-15 13:00:00', actual=34.74, predicted=34.272186279296875, error=-0.467813720703127), ForecastRecord(timestamp='2023-07-15 14:00:00', actual=34.64, predicted=33.7270393371582, error=-0.9129606628417974), ForecastRecord(timestamp='2023-07-15 15:00:00', actual=34.45, predicted=33.83366775512695, error=-0.6163322448730497), ForecastRecord(timestamp='2023-07-15 16:00:00', actual=34.93, predicted=34.08619689941406, error=-0.8438031005859372), ForecastRecord(timestamp='2023-07-15 17:00:00', actual=35.66, predicted=34.68267059326172, error=-0.9773294067382778), ForecastRecord(timestamp='2023-07-15 18:00:00', actual=36.5, predicted=35.328372955322266, error=-1.1716270446777344), ForecastRecord(timestamp='2023-07-15 19:00:00', actual=37.19, predicted=36.01448440551758, error=-1.1755155944824196), ForecastRecord(timestamp='2023-07-15 20:00:00', actual=36.84, predicted=36.039756774902344, error=-0.8002432250976597), ForecastRecord(timestamp='2023-07-15 21:00:00', actual=36.28, predicted=35.351871490478516, error=-0.9281285095214855), ForecastRecord(timestamp='2023-07-15 22:00:00', actual=34.68, predicted=33.87431716918945, error=-0.8056828308105466), ForecastRecord(timestamp='2023-07-15 23:00:00', actual=32.2, predicted=31.941707611083984, error=-0.25829238891601847), ForecastRecord(timestamp='2023-07-16 00:00:00', actual=30.41, predicted=29.911846160888672, error=-0.49815383911132827)])], transduce_fields=None, llm=<crewai.llm.LLM object at 0x13ed7c590>, tools=None, max_iter=3, instructions='Generate an object of the specified type from the following input.', prompt_template=None, crew_prompt_params={'role': 'Task Executor', 'goal': 'You execute tasks', 'backstory': 'You are always faithful and provide only fact based answers.', 'expected_output': 'Described by Pydantic Type'}, skip_intensional_definiton=False, memory_collection=None, transduction_logs_path=None, batch_size=20, verbose_transduction=True, verbose_agent=False)"
      ]
     },
     "execution_count": 3,
     "metadata": {},
     "output_type": "execute_result"
    }
   ],
   "source": [
    "forecasts"
   ]
  },
  {
   "cell_type": "code",
   "execution_count": 4,
   "id": "829e9bbb",
   "metadata": {},
   "outputs": [
    {
     "data": {
      "text/plain": [
       "25"
      ]
     },
     "execution_count": 4,
     "metadata": {},
     "output_type": "execute_result"
    }
   ],
   "source": [
    "forecasts.states[0].metrics.num_predictions"
   ]
  }
 ],
 "metadata": {
  "kernelspec": {
   "display_name": "agentics-py (3.11.3)",
   "language": "python",
   "name": "python3"
  },
  "language_info": {
   "codemirror_mode": {
    "name": "ipython",
    "version": 3
   },
   "file_extension": ".py",
   "mimetype": "text/x-python",
   "name": "python",
   "nbconvert_exporter": "python",
   "pygments_lexer": "ipython3",
   "version": "3.11.3"
  }
 },
 "nbformat": 4,
 "nbformat_minor": 5
}
