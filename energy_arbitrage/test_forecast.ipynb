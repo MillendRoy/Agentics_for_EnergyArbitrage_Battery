{
 "cells": [
  {
   "cell_type": "code",
   "execution_count": 1,
   "id": "df037a7c",
   "metadata": {},
   "outputs": [
    {
     "name": "stderr",
     "output_type": "stream",
     "text": [
      "2025-10-05 22:48:25.237 | DEBUG    | agentics.core.agentics:from_csv:307 - Importing Agentics of type EnergyDataRecord from CSV c:\\Users\\16467\\OneDrive\\Desktop\\Columbia\\Agentics\\New\\Agentics_for_EnergyArbitrage_Battery\\energy_arbitrage\\agentic_energy\\data\\Italy_data.csv\n"
     ]
    },
    {
     "name": "stdout",
     "output_type": "stream",
     "text": [
      "Forecast Engine using device: cpu\n",
      "Validation passed: Forecast period 2023-07-15 to 2023-07-16 is in second half (>= 2023-01-01)\n",
      "\n",
      "Generating prices forecast for ITALY...\n",
      "Successfully loaded ITALY_prices\n",
      "  - Compiled with TorchScript JIT\n",
      "  MSE: 365.7518, RMSE: 19.1246, MAE: 15.7612\n",
      "\n",
      "Generating consumption forecast for ITALY...\n",
      "Successfully loaded ITALY_consumption\n",
      "  - Compiled with TorchScript JIT\n",
      "  MSE: 0.7800, RMSE: 0.8832, MAE: 0.6683\n",
      "MSE: 365.7518\n",
      "RMSE: 19.1246\n"
     ]
    }
   ],
   "source": [
    "from agentic_energy.data_loader import EnergyDataLoader\n",
    "from agentic_energy.forecast_engine import ForecastEngine\n",
    "\n",
    "# Load data\n",
    "loader = EnergyDataLoader(region=\"Italy\")\n",
    "data = loader.load_region_data()\n",
    "\n",
    "# Initialize forecast engine\n",
    "engine = ForecastEngine(models_dir=\"agentic_energy/trained_models\")\n",
    "\n",
    "# Forecast a day (must be in second half!)\n",
    "# forecasts = await engine.get_forecast_for_day(\n",
    "#     ag_data=data,\n",
    "#     date=\"2023-07-15\",\n",
    "#     targets=['prices', 'consumption']\n",
    "# )\n",
    "\n",
    "forecasts = await engine.generate_forecasts(\n",
    "    ag_data=data,\n",
    "    start_date=\"2023-07-15\",\n",
    "    end_date=\"2023-07-16\", \n",
    "    targets=['prices', 'consumption']\n",
    ")\n",
    "\n",
    "# Examine results\n",
    "price_forecast = forecasts.states[0]\n",
    "print(f\"MSE: {price_forecast.metrics.mse:.4f}\")\n",
    "print(f\"RMSE: {price_forecast.metrics.rmse:.4f}\")"
   ]
  },
  {
   "cell_type": "code",
   "execution_count": 3,
   "id": "66279a86",
   "metadata": {},
   "outputs": [
    {
     "data": {
      "text/plain": [
       "AG(atype=<class 'agentic_energy.schemas.ForecastResult'>, crew_prompt_params={'role': 'Task Executor', 'goal': 'You execute tasks', 'backstory': 'You are always faithful and provide only fact based answers.', 'expected_output': 'Described by Pydantic Type'}, instructions='Generate an object of the specified type from the following input.', llm=<crewai.llm.LLM object at 0x0000015C26069B90>, max_iter=3, prompt_template=None, reasoning=None, skip_intentional_definition=False, states=[ForecastResult(region='ITALY', target='prices', start_date='2023-07-15', end_date='2023-07-16', lookback=96, horizon=24, metrics=ForecastMetrics(mse=365.7518449857833, rmse=19.124639734797185, mae=15.761176489257814, num_predictions=25), forecasts=[ForecastRecord(timestamp='2023-07-15 00:00:00', actual=105.68, predicted=103.8343505859375, error=-1.8456494140625068), ForecastRecord(timestamp='2023-07-15 01:00:00', actual=104.92, predicted=100.12750244140625, error=-4.792497558593752), ForecastRecord(timestamp='2023-07-15 02:00:00', actual=102.18, predicted=97.07901000976562, error=-5.100989990234382), ForecastRecord(timestamp='2023-07-15 03:00:00', actual=95.92, predicted=96.74720764160156, error=0.8272076416015608), ForecastRecord(timestamp='2023-07-15 04:00:00', actual=100.32, predicted=98.84170532226562, error=-1.4782946777343682), ForecastRecord(timestamp='2023-07-15 05:00:00', actual=99.2, predicted=103.32125854492188, error=4.121258544921872), ForecastRecord(timestamp='2023-07-15 06:00:00', actual=98.0, predicted=109.20445251464844, error=11.204452514648438), ForecastRecord(timestamp='2023-07-15 07:00:00', actual=100.0, predicted=117.11549377441406, error=17.115493774414062), ForecastRecord(timestamp='2023-07-15 08:00:00', actual=100.0, predicted=123.32159423828125, error=23.32159423828125), ForecastRecord(timestamp='2023-07-15 09:00:00', actual=91.75, predicted=127.02688598632812, error=35.276885986328125), ForecastRecord(timestamp='2023-07-15 10:00:00', actual=92.71, predicted=126.16476440429688, error=33.45476440429688), ForecastRecord(timestamp='2023-07-15 11:00:00', actual=88.95, predicted=123.76397705078125, error=34.81397705078125), ForecastRecord(timestamp='2023-07-15 12:00:00', actual=87.2, predicted=119.89385986328125, error=32.69385986328125), ForecastRecord(timestamp='2023-07-15 13:00:00', actual=87.2, predicted=115.46498107910156, error=28.26498107910156), ForecastRecord(timestamp='2023-07-15 14:00:00', actual=87.2, predicted=110.96043395996094, error=23.760433959960935), ForecastRecord(timestamp='2023-07-15 15:00:00', actual=87.95, predicted=108.599609375, error=20.649609374999997), ForecastRecord(timestamp='2023-07-15 16:00:00', actual=92.92, predicted=111.09849548339844, error=18.178495483398436), ForecastRecord(timestamp='2023-07-15 17:00:00', actual=98.83, predicted=117.70164489746094, error=18.87164489746094), ForecastRecord(timestamp='2023-07-15 18:00:00', actual=106.82, predicted=124.97224426269531, error=18.15224426269532), ForecastRecord(timestamp='2023-07-15 19:00:00', actual=140.04, predicted=132.6890411376953, error=-7.3509588623046795), ForecastRecord(timestamp='2023-07-15 20:00:00', actual=143.49, predicted=136.82777404785156, error=-6.662225952148447), ForecastRecord(timestamp='2023-07-15 21:00:00', actual=147.51, predicted=138.23080444335938, error=-9.279195556640616), ForecastRecord(timestamp='2023-07-15 22:00:00', actual=122.57, predicted=133.3597869873047, error=10.789786987304694), ForecastRecord(timestamp='2023-07-15 23:00:00', actual=112.11, predicted=128.20965576171875, error=16.09965576171875), ForecastRecord(timestamp='2023-07-16 00:00:00', actual=130.9, predicted=120.97674560546875, error=-9.923254394531256)]), ForecastResult(region='ITALY', target='consumption', start_date='2023-07-15', end_date='2023-07-16', lookback=96, horizon=24, metrics=ForecastMetrics(mse=0.7800281320193088, rmse=0.8831920131088759, mae=0.6683182861328126, num_predictions=25), forecasts=[ForecastRecord(timestamp='2023-07-15 00:00:00', actual=32.32, predicted=32.686973571777344, error=0.36697357177734347), ForecastRecord(timestamp='2023-07-15 01:00:00', actual=30.77, predicted=30.822696685791016, error=0.05269668579101605), ForecastRecord(timestamp='2023-07-15 02:00:00', actual=29.29, predicted=29.668991088867188, error=0.37899108886718835), ForecastRecord(timestamp='2023-07-15 03:00:00', actual=28.63, predicted=28.81149673461914, error=0.18149673461914162), ForecastRecord(timestamp='2023-07-15 04:00:00', actual=28.18, predicted=28.2332820892334, error=0.05328208923339872), ForecastRecord(timestamp='2023-07-15 05:00:00', actual=27.87, predicted=28.113977432250977, error=0.24397743225097557), ForecastRecord(timestamp='2023-07-15 06:00:00', actual=28.77, predicted=28.927661895751953, error=0.15766189575195355), ForecastRecord(timestamp='2023-07-15 07:00:00', actual=30.94, predicted=30.754121780395508, error=-0.18587821960449347), ForecastRecord(timestamp='2023-07-15 08:00:00', actual=33.23, predicted=32.95111846923828, error=-0.2788815307617156), ForecastRecord(timestamp='2023-07-15 09:00:00', actual=34.92, predicted=34.94503402709961, error=0.02503402709960767), ForecastRecord(timestamp='2023-07-15 10:00:00', actual=35.4, predicted=35.74458312988281, error=0.3445831298828139), ForecastRecord(timestamp='2023-07-15 11:00:00', actual=35.27, predicted=35.35939025878906, error=0.08939025878905937), ForecastRecord(timestamp='2023-07-15 12:00:00', actual=34.93, predicted=34.528289794921875, error=-0.4017102050781247), ForecastRecord(timestamp='2023-07-15 13:00:00', actual=34.74, predicted=33.71084213256836, error=-1.0291578674316426), ForecastRecord(timestamp='2023-07-15 14:00:00', actual=34.64, predicted=33.15660095214844, error=-1.483399047851563), ForecastRecord(timestamp='2023-07-15 15:00:00', actual=34.45, predicted=33.251583099365234, error=-1.1984169006347685), ForecastRecord(timestamp='2023-07-15 16:00:00', actual=34.93, predicted=33.497371673583984, error=-1.4326283264160153), ForecastRecord(timestamp='2023-07-15 17:00:00', actual=35.66, predicted=34.09607696533203, error=-1.5639230346679653), ForecastRecord(timestamp='2023-07-15 18:00:00', actual=36.5, predicted=34.789554595947266, error=-1.7104454040527344), ForecastRecord(timestamp='2023-07-15 19:00:00', actual=37.19, predicted=35.56074523925781, error=-1.6292547607421852), ForecastRecord(timestamp='2023-07-15 20:00:00', actual=36.84, predicted=35.6971435546875, error=-1.1428564453125034), ForecastRecord(timestamp='2023-07-15 21:00:00', actual=36.28, predicted=35.099056243896484, error=-1.1809437561035168), ForecastRecord(timestamp='2023-07-15 22:00:00', actual=34.68, predicted=33.67699432373047, error=-1.003005676269531), ForecastRecord(timestamp='2023-07-15 23:00:00', actual=32.2, predicted=31.75045394897461, error=-0.44954605102539347), ForecastRecord(timestamp='2023-07-16 00:00:00', actual=30.41, predicted=30.533823013305664, error=0.12382301330566392)])], tools=None, transduce_fields=None, transient_pbar=False, transduction_logs_path=None, transduction_timeout=None, verbose_transduction=True, verbose_agent=False)"
      ]
     },
     "execution_count": 3,
     "metadata": {},
     "output_type": "execute_result"
    }
   ],
   "source": [
    "forecasts"
   ]
  },
  {
   "cell_type": "code",
   "execution_count": 4,
   "id": "829e9bbb",
   "metadata": {},
   "outputs": [
    {
     "data": {
      "text/plain": [
       "25"
      ]
     },
     "execution_count": 4,
     "metadata": {},
     "output_type": "execute_result"
    }
   ],
   "source": [
    "forecasts.states[0].metrics.num_predictions"
   ]
  },
  {
   "cell_type": "code",
   "execution_count": 2,
   "id": "a958a634",
   "metadata": {},
   "outputs": [
    {
     "data": {
      "text/plain": [
       "ForecastResult(region='ITALY', target='prices', start_date='2023-07-15', end_date='2023-07-16', lookback=96, horizon=24, metrics=ForecastMetrics(mse=365.7518449857833, rmse=19.124639734797185, mae=15.761176489257814, num_predictions=25), forecasts=[ForecastRecord(timestamp='2023-07-15 00:00:00', actual=105.68, predicted=103.8343505859375, error=-1.8456494140625068), ForecastRecord(timestamp='2023-07-15 01:00:00', actual=104.92, predicted=100.12750244140625, error=-4.792497558593752), ForecastRecord(timestamp='2023-07-15 02:00:00', actual=102.18, predicted=97.07901000976562, error=-5.100989990234382), ForecastRecord(timestamp='2023-07-15 03:00:00', actual=95.92, predicted=96.74720764160156, error=0.8272076416015608), ForecastRecord(timestamp='2023-07-15 04:00:00', actual=100.32, predicted=98.84170532226562, error=-1.4782946777343682), ForecastRecord(timestamp='2023-07-15 05:00:00', actual=99.2, predicted=103.32125854492188, error=4.121258544921872), ForecastRecord(timestamp='2023-07-15 06:00:00', actual=98.0, predicted=109.20445251464844, error=11.204452514648438), ForecastRecord(timestamp='2023-07-15 07:00:00', actual=100.0, predicted=117.11549377441406, error=17.115493774414062), ForecastRecord(timestamp='2023-07-15 08:00:00', actual=100.0, predicted=123.32159423828125, error=23.32159423828125), ForecastRecord(timestamp='2023-07-15 09:00:00', actual=91.75, predicted=127.02688598632812, error=35.276885986328125), ForecastRecord(timestamp='2023-07-15 10:00:00', actual=92.71, predicted=126.16476440429688, error=33.45476440429688), ForecastRecord(timestamp='2023-07-15 11:00:00', actual=88.95, predicted=123.76397705078125, error=34.81397705078125), ForecastRecord(timestamp='2023-07-15 12:00:00', actual=87.2, predicted=119.89385986328125, error=32.69385986328125), ForecastRecord(timestamp='2023-07-15 13:00:00', actual=87.2, predicted=115.46498107910156, error=28.26498107910156), ForecastRecord(timestamp='2023-07-15 14:00:00', actual=87.2, predicted=110.96043395996094, error=23.760433959960935), ForecastRecord(timestamp='2023-07-15 15:00:00', actual=87.95, predicted=108.599609375, error=20.649609374999997), ForecastRecord(timestamp='2023-07-15 16:00:00', actual=92.92, predicted=111.09849548339844, error=18.178495483398436), ForecastRecord(timestamp='2023-07-15 17:00:00', actual=98.83, predicted=117.70164489746094, error=18.87164489746094), ForecastRecord(timestamp='2023-07-15 18:00:00', actual=106.82, predicted=124.97224426269531, error=18.15224426269532), ForecastRecord(timestamp='2023-07-15 19:00:00', actual=140.04, predicted=132.6890411376953, error=-7.3509588623046795), ForecastRecord(timestamp='2023-07-15 20:00:00', actual=143.49, predicted=136.82777404785156, error=-6.662225952148447), ForecastRecord(timestamp='2023-07-15 21:00:00', actual=147.51, predicted=138.23080444335938, error=-9.279195556640616), ForecastRecord(timestamp='2023-07-15 22:00:00', actual=122.57, predicted=133.3597869873047, error=10.789786987304694), ForecastRecord(timestamp='2023-07-15 23:00:00', actual=112.11, predicted=128.20965576171875, error=16.09965576171875), ForecastRecord(timestamp='2023-07-16 00:00:00', actual=130.9, predicted=120.97674560546875, error=-9.923254394531256)])"
      ]
     },
     "execution_count": 2,
     "metadata": {},
     "output_type": "execute_result"
    }
   ],
   "source": [
    "forecasts.states[0]"
   ]
  },
  {
   "cell_type": "code",
   "execution_count": 2,
   "id": "8f141301",
   "metadata": {},
   "outputs": [],
   "source": [
    "# \"\"\"\n",
    "# Verification script to check if forecast engine setup is correct\n",
    "# \"\"\"\n",
    "\n",
    "# from pathlib import Path\n",
    "# import sys\n",
    "\n",
    "# def verify_setup():\n",
    "#     \"\"\"Verify that all required files are in place\"\"\"\n",
    "    \n",
    "#     print(\"=\" * 70)\n",
    "#     print(\"FORECAST ENGINE SETUP VERIFICATION\")\n",
    "#     print(\"=\" * 70)\n",
    "    \n",
    "#     # Check if we can import\n",
    "#     try:\n",
    "#         from agentic_energy.forecast_engine import ForecastEngine\n",
    "#         print(\"✓ forecast_engine.py can be imported\")\n",
    "#     except ImportError as e:\n",
    "#         print(f\"✗ Cannot import forecast_engine: {e}\")\n",
    "#         return False\n",
    "    \n",
    "#     # Initialize engine\n",
    "#     try:\n",
    "#         engine = ForecastEngine()\n",
    "#         print(f\"✓ ForecastEngine initialized\")\n",
    "#         print(f\"  Models directory: {engine.models_dir}\")\n",
    "#     except Exception as e:\n",
    "#         print(f\"✗ Cannot initialize ForecastEngine: {e}\")\n",
    "#         return False\n",
    "    \n",
    "#     # Check if models directory exists\n",
    "#     if not engine.models_dir.exists():\n",
    "#         print(f\"✗ Models directory not found at: {engine.models_dir}\")\n",
    "#         print(f\"\\n  Please create the directory and place your .pkl model files there.\")\n",
    "#         print(f\"  Expected structure:\")\n",
    "#         print(f\"    agentic_energy/\")\n",
    "#         print(f\"    ├── data/\")\n",
    "#         print(f\"    ├── trained_models/  <-- Create this!\")\n",
    "#         print(f\"    ├── data_loader.py\")\n",
    "#         print(f\"    └── forecast_engine.py\")\n",
    "#         return False\n",
    "#     else:\n",
    "#         print(f\"✓ Models directory exists: {engine.models_dir}\")\n",
    "    \n",
    "#     # Check for model files\n",
    "#     model_files = list(engine.models_dir.glob(\"*.pkl\"))\n",
    "    \n",
    "#     if not model_files:\n",
    "#         print(f\"✗ No .pkl model files found in {engine.models_dir}\")\n",
    "#         print(f\"\\n  Please place your trained model files in this directory.\")\n",
    "#         print(f\"  Expected file names:\")\n",
    "#         print(f\"    - CAISO_data_prices_model.pkl\")\n",
    "#         print(f\"    - CAISO_data_consumption_model.pkl\")\n",
    "#         print(f\"    - Ercot_energy_data_prices_model.pkl\")\n",
    "#         print(f\"    - etc.\")\n",
    "#         return False\n",
    "#     else:\n",
    "#         print(f\"✓ Found {len(model_files)} model file(s):\")\n",
    "#         for mf in sorted(model_files):\n",
    "#             print(f\"    - {mf.name}\")\n",
    "    \n",
    "#     # Check specific models\n",
    "#     expected_models = [\n",
    "#         \"CAISO_data_prices_model.pkl\",\n",
    "#         \"CAISO_data_consumption_model.pkl\",\n",
    "#         \"NewYork_energy_data_prices_model.pkl\",\n",
    "#         \"NewYork_energy_data_consumption_model.pkl\"\n",
    "#     ]\n",
    "    \n",
    "#     print(f\"\\n  Checking for common models:\")\n",
    "#     found_count = 0\n",
    "#     for model_name in expected_models:\n",
    "#         model_path = engine.models_dir / model_name\n",
    "#         if model_path.exists():\n",
    "#             print(f\"    ✓ {model_name}\")\n",
    "#             found_count += 1\n",
    "#         else:\n",
    "#             print(f\"    ✗ {model_name} (not found)\")\n",
    "    \n",
    "#     if found_count == 0:\n",
    "#         print(f\"\\n  Warning: None of the expected models were found.\")\n",
    "#         print(f\"  Make sure your model files use the correct naming convention.\")\n",
    "    \n",
    "#     # Try to load a model\n",
    "#     print(f\"\\n  Testing model loading...\")\n",
    "#     try:\n",
    "#         # Try to load CAISO prices model\n",
    "#         caiso_model_path = engine.models_dir / \"CAISO_data_prices_model.pkl\"\n",
    "#         if caiso_model_path.exists():\n",
    "#             model_package = engine.load_model(\"CAISO\", \"prices\")\n",
    "#             print(f\"    ✓ Successfully loaded CAISO prices model\")\n",
    "#             print(f\"      - Lookback: {model_package['model_config']['lookback']}\")\n",
    "#             print(f\"      - Horizon: {model_package['model_config']['horizon']}\")\n",
    "#         else:\n",
    "#             print(f\"    ⊘ CAISO prices model not available for testing\")\n",
    "#     except Exception as e:\n",
    "#         print(f\"    ✗ Error loading model: {e}\")\n",
    "#         return False\n",
    "    \n",
    "#     # All checks passed\n",
    "#     print(\"\\n\" + \"=\" * 70)\n",
    "#     print(\"✓ ALL CHECKS PASSED - Setup is correct!\")\n",
    "#     print(\"=\" * 70)\n",
    "#     print(\"\\nYou can now use the forecast engine. Try running:\")\n",
    "#     print(\"  jupyter notebook test_forecaster.ipynb\")\n",
    "    \n",
    "#     return True\n",
    "\n",
    "\n",
    "# if __name__ == \"__main__\":\n",
    "#     success = verify_setup()\n",
    "#     sys.exit(0 if success else 1)"
   ]
  }
 ],
 "metadata": {
  "kernelspec": {
   "display_name": "agentics-py (3.11.3)",
   "language": "python",
   "name": "python3"
  },
  "language_info": {
   "codemirror_mode": {
    "name": "ipython",
    "version": 3
   },
   "file_extension": ".py",
   "mimetype": "text/x-python",
   "name": "python",
   "nbconvert_exporter": "python",
   "pygments_lexer": "ipython3",
   "version": "3.11.3"
  }
 },
 "nbformat": 4,
 "nbformat_minor": 5
}
