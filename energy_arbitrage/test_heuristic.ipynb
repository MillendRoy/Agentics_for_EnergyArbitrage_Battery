{
 "cells": [
  {
   "cell_type": "code",
   "execution_count": 1,
   "id": "22dfee0b",
   "metadata": {},
   "outputs": [
    {
     "name": "stderr",
     "output_type": "stream",
     "text": [
      "2025-10-09 17:31:13.085 | DEBUG    | agentics.core.agentics:from_csv:307 - Importing Agentics of type EnergyDataRecord from CSV c:\\Users\\16467\\OneDrive\\Desktop\\Columbia\\Agentics\\New\\Agentics_for_EnergyArbitrage_Battery\\energy_arbitrage\\agentic_energy\\data\\Italy_data.csv\n"
     ]
    },
    {
     "name": "stdout",
     "output_type": "stream",
     "text": [
      "Forecast Engine using device: cpu\n",
      "\n",
      "Simulating heuristic trading for ITALY\n",
      "Period: 2023-07-16 to 2023-07-16\n",
      "Total data points: 24\n",
      "Storage capacity: 1.0 MWh\n",
      "Round-trip efficiency: 95.0%\n",
      "Initial SOC: 0.5 MWh (50%)\n",
      "\n",
      "=== Trading Summary ===\n",
      "Initial SOC: 0.50 MWh (50%)\n",
      "Final SOC: 0.00 MWh\n",
      "Total Profit: $64.15\n",
      "Total Energy Charged: 2.55 MWh\n",
      "Total Energy Discharged: 2.92 MWh\n",
      "Avg Charge Price: $106.76/MWh\n",
      "Avg Discharge Price: $115.10/MWh\n",
      "Profit: $64.15\n"
     ]
    }
   ],
   "source": [
    "from agentic_energy.data_loader import EnergyDataLoader\n",
    "from agentic_energy.heuristic import HeuristicTrader\n",
    "\n",
    "# Load data\n",
    "loader = EnergyDataLoader(region=\"Italy\")\n",
    "data = loader.load_region_data()\n",
    "\n",
    "# Trade\n",
    "# trader = HeuristicTrader()\n",
    "\n",
    "trader = HeuristicTrader(\n",
    "    storage_capacity=1.0,     \n",
    "    max_charge_rate=0.25,     \n",
    "    max_discharge_rate=0.25\n",
    ")\n",
    "\n",
    "result = await trader.simulate_trading(\n",
    "    ag_data=data,\n",
    "    start_date=\"2023-07-16\",\n",
    "    end_date=\"2023-07-16\"\n",
    ")\n",
    "\n",
    "# Get profit\n",
    "print(f\"Profit: ${result.states[0].metrics.total_profit:,.2f}\")"
   ]
  }
 ],
 "metadata": {
  "kernelspec": {
   "display_name": "agentics-py (3.11.3)",
   "language": "python",
   "name": "python3"
  },
  "language_info": {
   "codemirror_mode": {
    "name": "ipython",
    "version": 3
   },
   "file_extension": ".py",
   "mimetype": "text/x-python",
   "name": "python",
   "nbconvert_exporter": "python",
   "pygments_lexer": "ipython3",
   "version": "3.11.3"
  }
 },
 "nbformat": 4,
 "nbformat_minor": 5
}
