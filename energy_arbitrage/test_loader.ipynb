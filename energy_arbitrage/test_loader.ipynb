{
 "cells": [
  {
   "cell_type": "code",
   "execution_count": 1,
   "id": "f09221f2",
   "metadata": {},
   "outputs": [
    {
     "name": "stderr",
     "output_type": "stream",
     "text": [
      "\u001b[32m2025-10-04 13:37:10.833\u001b[0m | \u001b[34m\u001b[1mDEBUG   \u001b[0m | \u001b[36magentics.core.llm_connections\u001b[0m:\u001b[36m<module>\u001b[0m:\u001b[36m121\u001b[0m - \u001b[34m\u001b[1mAGENTICS is connecting to the following LLM API providers:\u001b[0m\n",
      "\u001b[32m2025-10-04 13:37:10.833\u001b[0m | \u001b[34m\u001b[1mDEBUG   \u001b[0m | \u001b[36magentics.core.llm_connections\u001b[0m:\u001b[36m<module>\u001b[0m:\u001b[36m129\u001b[0m - \u001b[34m\u001b[1m0 - Gemini\u001b[0m\n",
      "\u001b[32m2025-10-04 13:37:10.833\u001b[0m | \u001b[34m\u001b[1mDEBUG   \u001b[0m | \u001b[36magentics.core.llm_connections\u001b[0m:\u001b[36m<module>\u001b[0m:\u001b[36m135\u001b[0m - \u001b[34m\u001b[1mPlease add API keys in .env file to add or disconnect providers.\u001b[0m\n",
      "\u001b[32m2025-10-04 13:37:10.841\u001b[0m | \u001b[34m\u001b[1mDEBUG   \u001b[0m | \u001b[36magentics.core.llm_connections\u001b[0m:\u001b[36mget_llm_provider\u001b[0m:\u001b[36m29\u001b[0m - \u001b[34m\u001b[1mNo LLM provider specified. Using the first available provider.\u001b[0m\n",
      "\u001b[32m2025-10-04 13:37:10.841\u001b[0m | \u001b[34m\u001b[1mDEBUG   \u001b[0m | \u001b[36magentics.core.llm_connections\u001b[0m:\u001b[36mget_llm_provider\u001b[0m:\u001b[36m31\u001b[0m - \u001b[34m\u001b[1mAvailable LLM providers: ['gemini']. Using 'gemini'\u001b[0m\n"
     ]
    }
   ],
   "source": [
    "from dotenv import find_dotenv, load_dotenv\n",
    "load_dotenv(find_dotenv())\n",
    "from agentics import Agentics as AG"
   ]
  },
  {
   "cell_type": "code",
   "execution_count": 2,
   "id": "de1be65d",
   "metadata": {},
   "outputs": [
    {
     "name": "stderr",
     "output_type": "stream",
     "text": [
      "\u001b[32m2025-10-04 13:37:10.854\u001b[0m | \u001b[34m\u001b[1mDEBUG   \u001b[0m | \u001b[36magentics.core.agentics\u001b[0m:\u001b[36mfrom_csv\u001b[0m:\u001b[36m312\u001b[0m - \u001b[34m\u001b[1mImporting Agentics of type EnergyDataRecord from CSV /Users/millendroy/Projects/Agentic_Energy/Agentics_for_EnergyArbitrage_Battery/energy_arbitrage/agentic_energy/data/NewYork_energy_data.csv\u001b[0m\n"
     ]
    }
   ],
   "source": [
    "from agentic_energy.data_loader import EnergyDataLoader\n",
    "newyork_obj = EnergyDataLoader(region = \"NEWYORK\")\n",
    "newyork_data = newyork_obj.load_region_data()"
   ]
  },
  {
   "cell_type": "code",
   "execution_count": 3,
   "id": "7c6b350e",
   "metadata": {},
   "outputs": [
    {
     "name": "stdout",
     "output_type": "stream",
     "text": [
      "Atype : <class 'agentic_energy.schemas.SummaryStats'>\n",
      "region: NEWYORK\n",
      "total_records: 842118\n",
      "date_range:\n",
      "  start: '2016-01-01 00:00:00'\n",
      "  end: '2023-12-31 23:55:00'\n",
      "prices:\n",
      "  count: 842118\n",
      "  min: -1605.8480807856683\n",
      "  max: 4489.850716479724\n",
      "  avg: 36.446246538515986\n",
      "  median: 26.38895136167702\n",
      "  p25: 19.101974669593467\n",
      "  p75: 39.39573638671309\n",
      "  std: 49.90002591744642\n",
      "  var: 2490.0125865618243\n",
      "consumption:\n",
      "  count: 842118\n",
      "  min: 11339.7\n",
      "  max: 32187.5\n",
      "  avg: 17621.95834075937\n",
      "  median: 17244.57175\n",
      "  p25: 15266.02375\n",
      "  p75: 19322.484474999997\n",
      "  std: 3287.1438682568482\n",
      "  var: 10805314.810618596\n",
      "\n",
      "\n"
     ]
    }
   ],
   "source": [
    "stats= await EnergyDataLoader.get_summary_stats_from_ag(newyork_data)\n",
    "print(stats.pretty_print())\n"
   ]
  },
  {
   "cell_type": "code",
   "execution_count": 4,
   "id": "d8165e4a",
   "metadata": {},
   "outputs": [],
   "source": [
    "filtered_newyork= await newyork_obj.get_filtered_data(\"2020-01-01\", \"2020-12-31\")"
   ]
  },
  {
   "cell_type": "code",
   "execution_count": 5,
   "id": "8af78e01",
   "metadata": {},
   "outputs": [
    {
     "name": "stdout",
     "output_type": "stream",
     "text": [
      "Atype : <class 'agentic_energy.schemas.SummaryStats'>\n",
      "region: NEWYORK\n",
      "total_records: 105479\n",
      "date_range:\n",
      "  start: '2020-01-01 00:05:00'\n",
      "  end: '2020-12-31 23:55:00'\n",
      "prices:\n",
      "  count: 105479\n",
      "  min: -946.561433194205\n",
      "  max: 977.318054194437\n",
      "  avg: 20.657460824572066\n",
      "  median: 17.234785048101944\n",
      "  p25: 13.66327168389902\n",
      "  p75: 22.841476386965383\n",
      "  std: 18.486209697000437\n",
      "  var: 341.7399489614729\n",
      "consumption:\n",
      "  count: 105479\n",
      "  min: 11339.7\n",
      "  max: 30734.5582\n",
      "  avg: 17096.097971165353\n",
      "  median: 16562.0\n",
      "  p25: 14696.4445\n",
      "  p75: 18801.699999999997\n",
      "  std: 3307.8742586141234\n",
      "  var: 10942032.110801935\n",
      "\n",
      "\n"
     ]
    }
   ],
   "source": [
    "# full stats\n",
    "stats_full = await EnergyDataLoader.get_summary_stats_from_ag(filtered_newyork)\n",
    "print(stats_full.pretty_print())"
   ]
  },
  {
   "cell_type": "code",
   "execution_count": 7,
   "id": "294c9931",
   "metadata": {},
   "outputs": [
    {
     "name": "stdout",
     "output_type": "stream",
     "text": [
      "Atype : <class 'agentic_energy.schemas.MetricStats'>\n",
      "count: 105479\n",
      "min: -946.561433194205\n",
      "max: 977.318054194437\n",
      "avg: 20.657460824572066\n",
      "median: 17.234785048101944\n",
      "p25: 13.66327168389902\n",
      "p75: 22.841476386965383\n",
      "std: 18.486209697000437\n",
      "var: 341.7399489614729\n",
      "\n",
      "\n"
     ]
    }
   ],
   "source": [
    "# only prices\n",
    "stats_prices = await EnergyDataLoader.get_summary_stats_from_ag(filtered_newyork, column=\"prices\")\n",
    "print(stats_prices.pretty_print())"
   ]
  },
  {
   "cell_type": "code",
   "execution_count": 19,
   "id": "0bbf8cce",
   "metadata": {},
   "outputs": [
    {
     "data": {
      "text/plain": [
       "MetricStats(count=105479, min=11339.7, max=30734.5582, avg=17096.097971165353, median=16562.0, p25=14696.4445, p75=18801.699999999997, std=3307.8742586141234, var=10942032.110801935)"
      ]
     },
     "execution_count": 19,
     "metadata": {},
     "output_type": "execute_result"
    }
   ],
   "source": [
    "# how to print a field in agentic class\n",
    "stats_full.states[0].consumption"
   ]
  },
  {
   "cell_type": "code",
   "execution_count": null,
   "id": "0598cb9d",
   "metadata": {},
   "outputs": [],
   "source": []
  }
 ],
 "metadata": {
  "kernelspec": {
   "display_name": "agentics",
   "language": "python",
   "name": "python3"
  },
  "language_info": {
   "codemirror_mode": {
    "name": "ipython",
    "version": 3
   },
   "file_extension": ".py",
   "mimetype": "text/x-python",
   "name": "python",
   "nbconvert_exporter": "python",
   "pygments_lexer": "ipython3",
   "version": "3.11.13"
  }
 },
 "nbformat": 4,
 "nbformat_minor": 5
}
