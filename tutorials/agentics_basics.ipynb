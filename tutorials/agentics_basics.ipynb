{
 "cells": [
  {
   "cell_type": "markdown",
   "id": "e9c9ccb2",
   "metadata": {},
   "source": [
    "# Agentics Tutorial\n",
    "This is a step by step guide illustrating how to make a new AG, access and print its content, import and export it to files"
   ]
  },
  {
   "cell_type": "code",
   "execution_count": null,
   "id": "ee7f374b",
   "metadata": {},
   "outputs": [
    {
     "name": "stdout",
     "output_type": "stream",
     "text": [
      "\u001b[2mUsing Python 3.12.9 environment at: /Users/gliozzo/Code/agentics911/agentics/.venv\u001b[0m\n",
      "\u001b[2mAudited \u001b[1m1 package\u001b[0m \u001b[2min 17ms\u001b[0m\u001b[0m\n",
      "In Colab: False\n"
     ]
    }
   ],
   "source": [
    "! uv pip install agentics-py\n",
    "\n",
    "import os\n",
    "from pathlib import Path\n",
    "import sys\n",
    "from getpass import getpass\n",
    "\n",
    "from dotenv import find_dotenv, load_dotenv\n",
    "\n",
    "CURRENT_PATH = \"\"\n",
    "\n",
    "IN_COLAB = \"google.colab\" in sys.modules\n",
    "print(\"In Colab:\", IN_COLAB)\n",
    "\n",
    "if IN_COLAB:\n",
    "    CURRENT_PATH = \"/content/drive/MyDrive/\"\n",
    "    # Mount your google drive\n",
    "    from google.colab import drive\n",
    "    drive.mount(\"/content/drive\")\n",
    "    load_dotenv(\"/content/drive/MyDrive/.env\")\n",
    "else:\n",
    "    load_dotenv(find_dotenv())\n",
    "\n",
    "if not os.getenv(\"GEMINI_API_KEY\"):\n",
    "    os.environ[\"GEMINI_API_KEY\"] = getpass(\"Enter your GEMINI_API_KEY:\")\n",
    "\n",
    "base = Path(CURRENT_PATH)"
   ]
  },
  {
   "cell_type": "markdown",
   "id": "dfd9c423",
   "metadata": {},
   "source": [
    "## Define a new AG\n",
    "\n",
    "Agentics provide the smarts of LLM to pydantic types. It does so by wrapping assigning any Pydantic type definitions to the atype field. "
   ]
  },
  {
   "cell_type": "code",
   "execution_count": 2,
   "id": "8a10961e",
   "metadata": {},
   "outputs": [
    {
     "name": "stderr",
     "output_type": "stream",
     "text": [
      "2025-09-11 11:20:15.142 | DEBUG    | agentics.core.llm_connections:<module>:121 - AGENTICS is connecting to the following LLM API providers:\n",
      "2025-09-11 11:20:15.143 | DEBUG    | agentics.core.llm_connections:<module>:124 - 0 - WatsonX\n",
      "2025-09-11 11:20:15.143 | DEBUG    | agentics.core.llm_connections:<module>:129 - 1 - Gemini\n",
      "2025-09-11 11:20:15.143 | DEBUG    | agentics.core.llm_connections:<module>:133 - 2 - OpenAI\n",
      "2025-09-11 11:20:15.144 | DEBUG    | agentics.core.llm_connections:<module>:135 - Please add API keys in .env file to add or disconnect providers.\n",
      "2025-09-11 11:20:15.150 | DEBUG    | agentics.core.llm_connections:get_llm_provider:29 - No LLM provider specified. Using the first available provider.\n",
      "2025-09-11 11:20:15.150 | DEBUG    | agentics.core.llm_connections:get_llm_provider:31 - Available LLM providers: ['watsonx', 'gemini', 'openai']. Using 'watsonx'\n"
     ]
    },
    {
     "name": "stdout",
     "output_type": "stream",
     "text": [
      "Atype : <class '__main__.Movie'>\n",
      "\n"
     ]
    }
   ],
   "source": [
    "from agentics.core.agentics import Agentics as AG\n",
    "from pydantic import BaseModel\n",
    "from typing import Optional\n",
    "\n",
    "class Movie(BaseModel):\n",
    "    title: Optional[str] = None\n",
    "    genre: Optional[str] = None\n",
    "    description:Optional[str] = None\n",
    "\n",
    "movies = AG(atype=Movie)\n",
    "print(movies.pretty_print())"
   ]
  },
  {
   "cell_type": "markdown",
   "id": "25bf6a5c",
   "metadata": {},
   "source": [
    "## Agentics are Typed Lists\n",
    "\n",
    "In addition to atypes, the AG class allows us to store a list of pydantic objects which are instances of atype. This enable them to exibit a list like behaviour, which allows us to access their states as arrays and use the + operator for concatenation.\n"
   ]
  },
  {
   "cell_type": "code",
   "execution_count": 3,
   "id": "3329c6f9",
   "metadata": {},
   "outputs": [
    {
     "name": "stdout",
     "output_type": "stream",
     "text": [
      "[]\n",
      "title='The Godfather' genre=None description=None\n",
      "Atype : <class '__main__.Movie'>\n",
      "title: The Godfather\n",
      "genre: null\n",
      "description: null\n",
      "\n",
      "title: La dolce vita\n",
      "genre: null\n",
      "description: null\n",
      "\n",
      "\n",
      "{\"title\":\"The Godfather\",\"genre\":null,\"description\":null}\n",
      "{\"title\":\"La dolce vita\",\"genre\":null,\"description\":null}\n",
      "Atype : <class '__main__.Movie'>\n",
      "title: The Godfather\n",
      "genre: null\n",
      "description: null\n",
      "\n",
      "title: La dolce vita\n",
      "genre: null\n",
      "description: null\n",
      "\n",
      "title: Superman\n",
      "genre: null\n",
      "description: null\n",
      "\n",
      "\n",
      "3\n"
     ]
    }
   ],
   "source": [
    "movies = AG(atype=Movie)\n",
    "print(movies.states) ### Initially empty states\n",
    "\n",
    "movies.states.append(Movie(title=\"The Godfather\")) ### add new object\n",
    "print(movies[0]) ## print the first state\n",
    "\n",
    "movies.states.append(Movie(title=\"La dolce vita\")) ## add second object\n",
    "print(movies.pretty_print()) ## the pretty print function return a string describing atype and states of the agentic\n",
    "\n",
    "for movie in movies:  ### Agentics can be used as lists and allow iteration on states\n",
    "    print(movie.model_dump_json())\n",
    "\n",
    "new_movies = AG(atype=Movie,states=[Movie(title=\"Superman\")]) ### Creating a new agentics to show sum\n",
    "\n",
    "movies += new_movies ## agentics of the same type can be concatenated using the + operand\n",
    "\n",
    "print(movies.pretty_print())\n",
    "\n",
    "print(len(movies))"
   ]
  },
  {
   "cell_type": "markdown",
   "id": "ec051ce7",
   "metadata": {},
   "source": [
    "## Input/Output\n",
    "\n",
    "Agentics states can be initialized loaded and saved to .csv or .jsonl files. AType will be automatically generated from the column names (after they will be normalized as needed for valid pydantic fields), with all attributes set to strings.\n"
   ]
  },
  {
   "cell_type": "code",
   "execution_count": 7,
   "id": "84ab7245",
   "metadata": {},
   "outputs": [
    {
     "name": "stderr",
     "output_type": "stream",
     "text": [
      "2025-09-11 11:21:54.849 | DEBUG    | agentics.core.agentics:to_jsonl:938 - Exporting 10 Agentics to CSV data/movies.jsonl\n",
      "2025-09-11 11:21:54.853 | DEBUG    | agentics.core.agentics:to_csv:928 - Exporting 20 Agentics to CSV data/movies_copy.csv\n"
     ]
    },
    {
     "name": "stdout",
     "output_type": "stream",
     "text": [
      "Atype : <class 'agentics.core.utils.AType#movie_name:genre:descriptionOptional'>\n",
      "movie_name: The Shawshank Redemption\n",
      "genre: Drama, Crime\n",
      "description: Imprisoned in the 1940s for the double murder of his wife and her lover,\n",
      "  upstanding banker Andy Dufresne begins a new life at the Shawshank prison, where\n",
      "  he puts his accounting skills to work for an amoral warden. During his long stretch\n",
      "  in prison, Dufresne comes to be admired by the other inmates -- including an older\n",
      "  prisoner named Red -- for his integrity and unquenchable sense of hope.\n",
      "\n",
      "movie_name: The Godfather\n",
      "genre: Drama, Crime\n",
      "description: Spanning the years 1945 to 1955, a chronicle of the fictional Italian-American\n",
      "  Corleone crime family. When organized crime family patriarch, Vito Corleone barely\n",
      "  survives an attempt on his life, his youngest son, Michael steps in to take care\n",
      "  of the would-be killers, launching a campaign of bloody revenge.\n",
      "\n",
      "movie_name: The Godfather Part II\n",
      "genre: Drama, Crime\n",
      "description: In the continuing saga of the Corleone crime family, a young Vito Corleone\n",
      "  grows up in Sicily and in 1910s New York. In the 1950s, Michael Corleone attempts\n",
      "  to expand the family business into Las Vegas, Hollywood and Cuba.\n",
      "\n",
      "movie_name: Schindler's List\n",
      "genre: Drama, History, War\n",
      "description: The true story of how businessman Oskar Schindler saved over a thousand\n",
      "  Jewish lives from the Nazis while they worked as slaves in his factory during World\n",
      "  War II.\n",
      "\n",
      "movie_name: 12 Angry Men\n",
      "genre: Drama\n",
      "description: The defense and the prosecution have rested and the jury is filing into\n",
      "  the jury room to decide if a young Spanish-American is guilty or innocent of murdering\n",
      "  his father. What begins as an open and shut case soon becomes a mini-drama of each\n",
      "  of the jurors' prejudices and preconceptions about the trial, the accused, and each\n",
      "  other.\n",
      "\n",
      "movie_name: Spirited Away\n",
      "genre: Animation, Family, Fantasy\n",
      "description: A young girl, Chihiro, becomes trapped in a strange new world of spirits.\n",
      "  When her parents undergo a mysterious transformation, she must call upon the courage\n",
      "  she never knew she had to free her family.\n",
      "\n",
      "movie_name: The Dark Knight\n",
      "genre: Drama, Action, Crime, Thriller\n",
      "description: Batman raises the stakes in his war on crime. With the help of Lt. Jim\n",
      "  Gordon and District Attorney Harvey Dent, Batman sets out to dismantle the remaining\n",
      "  criminal organizations that plague the streets. The partnership proves to be effective,\n",
      "  but they soon find themselves prey to a reign of chaos unleashed by a rising criminal\n",
      "  mastermind known to the terrified citizens of Gotham as the Joker.\n",
      "\n",
      "movie_name: Dilwale Dulhania Le Jayenge\n",
      "genre: Comedy, Drama, Romance\n",
      "description: \"Raj is a rich, carefree, happy-go-lucky second generation NRI. Simran\\\n",
      "  \\ is the daughter of Chaudhary Baldev Singh, who in spite of being an NRI is very\\\n",
      "  \\ strict about adherence to Indian values. Simran has left for India to be married\\\n",
      "  \\ to her childhood fianc\\xE9. Raj leaves for India with a mission at his hands,\\\n",
      "  \\ to claim his lady love under the noses of her whole family. Thus begins a saga.\"\n",
      "\n",
      "movie_name: The Green Mile\n",
      "genre: Fantasy, Drama, Crime\n",
      "description: A supernatural tale set on death row in a Southern prison, where gentle\n",
      "  giant John Coffey possesses the mysterious power to heal people's ailments. When\n",
      "  the cell block's head guard, Paul Edgecomb, recognizes Coffey's miraculous gift,\n",
      "  he tries desperately to help stave off the condemned man's execution.\n",
      "\n",
      "movie_name: Parasite\n",
      "genre: ''\n",
      "description: All unemployed, Ki-taek's family takes peculiar interest in the wealthy\n",
      "  and glamorous Parks for their livelihood until they get entangled in an unexpected\n",
      "  incident.\n",
      "\n",
      "\n"
     ]
    }
   ],
   "source": [
    "# Create a new AG object from the privided csv file\n",
    "movies = AG.from_csv(base /\"data/movies.csv\",max_rows=10)\n",
    "\n",
    "# Note that the type is automatically induced and all arguments are set to srt\n",
    "print(movies.pretty_print()) \n",
    "\n",
    "# Export the same AG in jsonl format\n",
    "movies.to_jsonl(base / \"data/movies.jsonl\")\n",
    "\n",
    "# Load new agentic from jsonl\n",
    "movies_copy = AG.from_jsonl(base / \"data/movies.jsonl\")\n",
    "movies_copy += movies\n",
    "\n",
    "# export the new AG in csv format\n",
    "movies_copy.to_csv(base / \"data/movies_copy.csv\")"
   ]
  },
  {
   "cell_type": "markdown",
   "id": "2cc6510f",
   "metadata": {},
   "source": []
  }
 ],
 "metadata": {
  "kernelspec": {
   "display_name": ".venv",
   "language": "python",
   "name": "python3"
  },
  "language_info": {
   "codemirror_mode": {
    "name": "ipython",
    "version": 3
   },
   "file_extension": ".py",
   "mimetype": "text/x-python",
   "name": "python",
   "nbconvert_exporter": "python",
   "pygments_lexer": "ipython3",
   "version": "3.12.9"
  }
 },
 "nbformat": 4,
 "nbformat_minor": 5
}
