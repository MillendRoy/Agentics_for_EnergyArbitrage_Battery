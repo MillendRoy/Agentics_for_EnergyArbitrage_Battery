{
 "cells": [
  {
   "cell_type": "markdown",
   "id": "0",
   "metadata": {},
   "source": [
    "# Agentics Tutorial\n",
    "This is a step by step guide illustrating how to make a new AG, access and print its content, import and export it to files"
   ]
  },
  {
   "cell_type": "code",
   "execution_count": null,
   "id": "1",
   "metadata": {},
   "outputs": [],
   "source": [
    "! uv pip install agentics-py\n",
    "\n",
    "import os\n",
    "from pathlib import Path\n",
    "import sys\n",
    "from getpass import getpass\n",
    "\n",
    "from dotenv import find_dotenv, load_dotenv\n",
    "\n",
    "CURRENT_PATH = \"\"\n",
    "\n",
    "IN_COLAB = \"google.colab\" in sys.modules\n",
    "print(\"In Colab:\", IN_COLAB)\n",
    "\n",
    "if IN_COLAB:\n",
    "    CURRENT_PATH = \"/content/drive/MyDrive/\"\n",
    "    # Mount your google drive\n",
    "    from google.colab import drive\n",
    "\n",
    "    drive.mount(\"/content/drive\")\n",
    "    from google.colab import userdata\n",
    "\n",
    "    os.environ[\"GEMINI_API_KEY\"] = userdata.get(\"GEMINI_API_KEY\")\n",
    "else:\n",
    "    load_dotenv(find_dotenv())\n",
    "\n",
    "if not os.getenv(\"GEMINI_API_KEY\"):\n",
    "    os.environ[\"GEMINI_API_KEY\"] = getpass(\"Enter your GEMINI_API_KEY:\")\n",
    "\n",
    "base = Path(CURRENT_PATH)"
   ]
  },
  {
   "cell_type": "markdown",
   "id": "2",
   "metadata": {},
   "source": [
    "## Define a new AG\n",
    "\n",
    "Agentics provide the smarts of LLM to pydantic types. It does so by wrapping assigning any Pydantic type definitions to the atype field. "
   ]
  },
  {
   "cell_type": "code",
   "execution_count": null,
   "id": "3",
   "metadata": {},
   "outputs": [],
   "source": [
    "from agentics import AG\n",
    "from pydantic import BaseModel\n",
    "from typing import Optional\n",
    "\n",
    "\n",
    "class Movie(BaseModel):\n",
    "    title: Optional[str] = None\n",
    "    genre: Optional[str] = None\n",
    "    description: Optional[str] = None\n",
    "\n",
    "\n",
    "movies = AG(atype=Movie)\n",
    "print(movies.pretty_print())"
   ]
  },
  {
   "cell_type": "markdown",
   "id": "4",
   "metadata": {},
   "source": [
    "## Agentics are Typed Lists\n",
    "\n",
    "In addition to atypes, the AG class allows us to store a list of pydantic objects which are instances of atype. This enable them to exibit a list like behaviour, which allows us to access their states as arrays and use the + operator for concatenation.\n"
   ]
  },
  {
   "cell_type": "code",
   "execution_count": null,
   "id": "5",
   "metadata": {},
   "outputs": [],
   "source": [
    "movies = AG(atype=Movie)\n",
    "print(movies.states)  ### Initially empty states\n",
    "\n",
    "movies.states.append(Movie(title=\"The Godfather\"))  ### add new object\n",
    "print(movies[0])  ## print the first state\n",
    "\n",
    "movies.states.append(Movie(title=\"La dolce vita\"))  ## add second object\n",
    "print(\n",
    "    movies.pretty_print()\n",
    ")  ## the pretty print function return a string describing atype and states of the agentic\n",
    "\n",
    "for movie in movies:  ### Agentics can be used as lists and allow iteration on states\n",
    "    print(movie.model_dump_json())\n",
    "\n",
    "new_movies = AG(\n",
    "    atype=Movie, states=[Movie(title=\"Superman\")]\n",
    ")  ### Creating a new agentics to show sum\n",
    "\n",
    "\n",
    "for state in new_movies:\n",
    "    movies.append(state)\n",
    "\n",
    "print(movies.pretty_print())\n",
    "\n",
    "print(len(movies))"
   ]
  },
  {
   "cell_type": "markdown",
   "id": "6",
   "metadata": {},
   "source": [
    "## Input/Output\n",
    "\n",
    "Agentics states can be initialized loaded and saved to .csv or .jsonl files. AType will be automatically generated from the column names (after they will be normalized as needed for valid pydantic fields), with all attributes set to strings.\n"
   ]
  },
  {
   "cell_type": "code",
   "execution_count": null,
   "id": "7",
   "metadata": {},
   "outputs": [],
   "source": [
    "# Create a new AG object from the privided csv file\n",
    "movies = AG.from_csv(base / \"data/movies.csv\", max_rows=10)\n",
    "\n",
    "# Note that the type is automatically induced and all arguments are set to srt\n",
    "print(movies.pretty_print())\n",
    "\n",
    "# Export the same AG in jsonl format\n",
    "movies.to_jsonl(base / \"data/movies.jsonl\")\n",
    "\n",
    "# Load new agentic from jsonl\n",
    "movies_copy = AG.from_jsonl(base / \"data/movies.jsonl\")\n",
    "for state in movies:\n",
    "    movies_copy.append(state)\n",
    "\n",
    "# export the new AG in csv format\n",
    "movies_copy.to_csv(base / \"data/movies_copy.csv\")"
   ]
  },
  {
   "cell_type": "markdown",
   "id": "8",
   "metadata": {},
   "source": []
  }
 ],
 "metadata": {
  "kernelspec": {
   "display_name": ".venv",
   "language": "python",
   "name": "python3"
  },
  "language_info": {
   "codemirror_mode": {
    "name": "ipython",
    "version": 3
   },
   "file_extension": ".py",
   "mimetype": "text/x-python",
   "name": "python",
   "nbconvert_exporter": "python",
   "pygments_lexer": "ipython3",
   "version": "3.12.11"
  }
 },
 "nbformat": 4,
 "nbformat_minor": 5
}
