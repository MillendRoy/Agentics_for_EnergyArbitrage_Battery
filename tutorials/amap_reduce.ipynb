{
 "cells": [
  {
   "cell_type": "markdown",
   "id": "d14bfec4",
   "metadata": {},
   "source": [
    "# aMapReduce Framework\n",
    "\n",
    "Agentics enable scalable execution of LLM workflows by implementing a MapReduce framework which enable the async use of LLM blended with regular python code."
   ]
  },
  {
   "cell_type": "markdown",
   "id": "90dd4694",
   "metadata": {},
   "source": [
    "Let us first define an aType to represent StockMarket Data for the DowJones index, and populate it with historical data"
   ]
  },
  {
   "cell_type": "code",
   "execution_count": 1,
   "id": "d981012d",
   "metadata": {},
   "outputs": [
    {
     "name": "stderr",
     "output_type": "stream",
     "text": [
      "2025-08-31 16:04:32.442 | DEBUG    | agentics.core.llm_connections:<module>:66 - AGENTICS is connecting to the following LLM API providers:\n",
      "2025-08-31 16:04:32.443 | DEBUG    | agentics.core.llm_connections:<module>:69 - 0 - WatsonX\n",
      "2025-08-31 16:04:32.443 | DEBUG    | agentics.core.llm_connections:<module>:74 - 1 - Gemini\n",
      "2025-08-31 16:04:32.444 | DEBUG    | agentics.core.llm_connections:<module>:78 - 2 - OpenAI\n",
      "2025-08-31 16:04:32.444 | DEBUG    | agentics.core.llm_connections:<module>:80 - Please add API keys in .env file to add or disconnect providers.\n",
      "2025-08-31 16:04:32.453 | DEBUG    | agentics.core.agentics:from_csv:312 - Importing Agentics of type StockMarketState from CSV data/dow_jones.csv\n"
     ]
    }
   ],
   "source": [
    "from agentics import Agentics as AG\n",
    "from typing import Optional\n",
    "from pydantic import BaseModel\n",
    "\n",
    "## Define the data model for stock market data\n",
    "class StockMarketState(BaseModel):   \n",
    "    Date: Optional[str] = None\n",
    "    Open: Optional[float] = None\n",
    "    High: Optional[float] = None\n",
    "    Low: Optional[float] = None\n",
    "    Close: Optional[float]  = None\n",
    "    Volume: Optional[int] = None\n",
    "    Adj_Close: Optional[float] = None\n",
    "    daily_range: Optional[float] = None\n",
    "    News: Optional[str] = None\n",
    "    Explanation: Optional[str] = None\n",
    "    \n",
    "## import the data\n",
    "dj_data = AG.from_csv(\"data/dow_jones.csv\", atype=StockMarketState)"
   ]
  },
  {
   "cell_type": "markdown",
   "id": "ca61713d",
   "metadata": {},
   "source": [
    "## Amap\n",
    "\n",
    "Amap functions enable async execution of functions over all the states of an AG. Agentics supports 1:1 maps that maps all states of an AG into states of the same type.\n",
    "\n",
    "In the following example we define a simple function to compute the daily_range of the stock and we pass that to an amap fuction which applies that to all states asyncronously"
   ]
  },
  {
   "cell_type": "code",
   "execution_count": null,
   "id": "fa1e862d",
   "metadata": {},
   "outputs": [
    {
     "name": "stderr",
     "output_type": "stream",
     "text": [
      "2025-08-31 16:04:32.464 | DEBUG    | agentics.core.agentics:amap:206 - Executing amap on function <function get_daily_variation_percentage at 0x1062014e0>\n",
      "2025-08-31 16:04:32.465 | DEBUG    | agentics.core.agentics:amap:231 - 100 states processed. 6.568431854248047e-06 seconds average per state in the last chunk ...\n",
      "2025-08-31 16:04:32.466 | DEBUG    | agentics.core.agentics:amap:231 - 200 states processed. 7.443428039550781e-06 seconds average per state in the last chunk ...\n",
      "2025-08-31 16:04:32.467 | DEBUG    | agentics.core.agentics:amap:231 - 300 states processed. 7.638931274414062e-06 seconds average per state in the last chunk ...\n",
      "2025-08-31 16:04:32.468 | DEBUG    | agentics.core.agentics:amap:231 - 400 states processed. 5.829334259033203e-06 seconds average per state in the last chunk ...\n",
      "2025-08-31 16:04:32.468 | DEBUG    | agentics.core.agentics:amap:231 - 500 states processed. 6.999969482421875e-06 seconds average per state in the last chunk ...\n",
      "2025-08-31 16:04:32.469 | DEBUG    | agentics.core.agentics:amap:231 - 600 states processed. 6.868839263916015e-06 seconds average per state in the last chunk ...\n",
      "2025-08-31 16:04:32.470 | DEBUG    | agentics.core.agentics:amap:231 - 700 states processed. 6.010532379150391e-06 seconds average per state in the last chunk ...\n",
      "2025-08-31 16:04:32.471 | DEBUG    | agentics.core.agentics:amap:231 - 800 states processed. 6.051063537597656e-06 seconds average per state in the last chunk ...\n",
      "2025-08-31 16:04:32.472 | DEBUG    | agentics.core.agentics:amap:231 - 900 states processed. 5.950927734375e-06 seconds average per state in the last chunk ...\n",
      "2025-08-31 16:04:32.473 | DEBUG    | agentics.core.agentics:amap:231 - 1000 states processed. 6.0009956359863285e-06 seconds average per state in the last chunk ...\n",
      "2025-08-31 16:04:32.474 | DEBUG    | agentics.core.agentics:amap:231 - 1100 states processed. 7.066726684570313e-06 seconds average per state in the last chunk ...\n",
      "2025-08-31 16:04:32.475 | DEBUG    | agentics.core.agentics:amap:231 - 1200 states processed. 6.580352783203125e-06 seconds average per state in the last chunk ...\n",
      "2025-08-31 16:04:32.475 | DEBUG    | agentics.core.agentics:amap:231 - 1300 states processed. 5.92947006225586e-06 seconds average per state in the last chunk ...\n",
      "2025-08-31 16:04:32.476 | DEBUG    | agentics.core.agentics:amap:231 - 1400 states processed. 5.79833984375e-06 seconds average per state in the last chunk ...\n",
      "2025-08-31 16:04:32.477 | DEBUG    | agentics.core.agentics:amap:231 - 1500 states processed. 6.530284881591797e-06 seconds average per state in the last chunk ...\n",
      "2025-08-31 16:04:32.478 | DEBUG    | agentics.core.agentics:amap:231 - 1600 states processed. 5.750656127929688e-06 seconds average per state in the last chunk ...\n",
      "2025-08-31 16:04:32.479 | DEBUG    | agentics.core.agentics:amap:231 - 1700 states processed. 7.3504447937011715e-06 seconds average per state in the last chunk ...\n",
      "2025-08-31 16:04:32.480 | DEBUG    | agentics.core.agentics:amap:231 - 1800 states processed. 6.349086761474609e-06 seconds average per state in the last chunk ...\n",
      "2025-08-31 16:04:32.480 | DEBUG    | agentics.core.agentics:amap:231 - 1900 states processed. 5.619525909423828e-06 seconds average per state in the last chunk ...\n",
      "2025-08-31 16:04:32.481 | DEBUG    | agentics.core.agentics:amap:231 - 2000 states processed. 5.450248718261719e-06 seconds average per state in the last chunk ...\n"
     ]
    },
    {
     "name": "stdout",
     "output_type": "stream",
     "text": [
      "Date: 2016-07-01, Daily Range: 0.47703930117312493\n",
      "Date: 2016-06-30, Daily Range: 1.2353831025172834\n",
      "Date: 2016-06-29, Daily Range: 1.423521751672572\n"
     ]
    }
   ],
   "source": [
    "## Note that input and output are both StockMarketState objects\n",
    "async def get_daily_variation_percentage(state: StockMarketState) -> StockMarketState:\n",
    "    state.daily_range = (float(state.High) - float(state.Low)) / float(state.Low) * 100\n",
    "    return state\n",
    "\n",
    "## Apply the function to all states using amap\n",
    "dj_data.batch_size = 100\n",
    "dj_data = await dj_data.amap(get_daily_variation_percentage)\n",
    "\n",
    "for state in dj_data[:3]: \n",
    "    print(f\"Date: {state.Date}, Daily Range: {state.daily_range}\")"
   ]
  },
  {
   "cell_type": "markdown",
   "id": "e0e2bdfd",
   "metadata": {},
   "source": [
    "## aReduce"
   ]
  },
  {
   "cell_type": "markdown",
   "id": "ecb8895e",
   "metadata": {},
   "source": [
    "Reduce functions enable executing operations on the entire list of elements (states) within an Agentics group. Although reduce operations are intrinsically synchronous—since they consider all states at once—they are defined as async functions to allow for internal async calls (such as fetching news or running LLMs).\n",
    "\n",
    "In the following example we will use a reduce function to analyze get the top 10 days with highest variation in the market"
   ]
  },
  {
   "cell_type": "code",
   "execution_count": 3,
   "id": "9b73900d",
   "metadata": {},
   "outputs": [
    {
     "name": "stdout",
     "output_type": "stream",
     "text": [
      "Atype : <class '__main__.StockMarketState'>\n",
      "Date: '2008-10-10'\n",
      "Open: 8568.669922\n",
      "High: 8901.280273\n",
      "Low: 7882.509766\n",
      "Close: 8451.19043\n",
      "Volume: 674920000\n",
      "Adj_Close: null\n",
      "daily_range: 12.924443321266926\n",
      "News: null\n",
      "Explanation: null\n",
      "\n",
      "Date: '2008-11-13'\n",
      "Open: 8281.139648\n",
      "High: 8876.589844\n",
      "Low: 7965.419922\n",
      "Close: 8835.25\n",
      "Volume: 476600000\n",
      "Adj_Close: null\n",
      "daily_range: 11.439069514507388\n",
      "News: null\n",
      "Explanation: null\n",
      "\n",
      "Date: '2008-10-13'\n",
      "Open: 8462.419922\n",
      "High: 9427.990234\n",
      "Low: 8462.179688\n",
      "Close: 9387.610352\n",
      "Volume: 399290000\n",
      "Adj_Close: null\n",
      "daily_range: 11.413259722782675\n",
      "News: null\n",
      "Explanation: null\n",
      "\n",
      "Date: '2008-10-28'\n",
      "Open: 8178.720215\n",
      "High: 9082.080078\n",
      "Low: 8174.72998\n",
      "Close: 9065.120117\n",
      "Volume: 372160000\n",
      "Adj_Close: null\n",
      "daily_range: 11.099450382090795\n",
      "News: null\n",
      "Explanation: null\n",
      "\n",
      "Date: '2010-05-06'\n",
      "Open: 10868.120117\n",
      "High: 10879.759766\n",
      "Low: 9869.620117\n",
      "Close: 10520.320312\n",
      "Volume: 459890000\n",
      "Adj_Close: null\n",
      "daily_range: 10.23483819058118\n",
      "News: null\n",
      "Explanation: null\n",
      "\n",
      "Date: '2008-10-09'\n",
      "Open: 9261.69043\n",
      "High: 9448.139648\n",
      "Low: 8579.19043\n",
      "Close: 8579.19043\n",
      "Volume: 436740000\n",
      "Adj_Close: null\n",
      "daily_range: 10.12856894936647\n",
      "News: null\n",
      "Explanation: null\n",
      "\n",
      "Date: '2008-10-16'\n",
      "Open: 8577.040039\n",
      "High: 9013.269531\n",
      "Low: 8197.669922\n",
      "Close: 8979.259766\n",
      "Volume: 422450000\n",
      "Adj_Close: null\n",
      "daily_range: 9.949163808257087\n",
      "News: null\n",
      "Explanation: null\n",
      "\n",
      "Date: '2008-10-15'\n",
      "Open: 9301.910156\n",
      "High: 9308.759766\n",
      "Low: 8530.120117\n",
      "Close: 8577.910156\n",
      "Volume: 374350000\n",
      "Adj_Close: null\n",
      "daily_range: 9.128120569465585\n",
      "News: null\n",
      "Explanation: null\n",
      "\n",
      "Date: '2008-11-20'\n",
      "Open: 7995.529785\n",
      "High: 8187.399902\n",
      "Low: 7506.970215\n",
      "Close: 7552.290039\n",
      "Volume: 528130000\n",
      "Adj_Close: null\n",
      "daily_range: 9.06397211541354\n",
      "News: null\n",
      "Explanation: null\n",
      "\n",
      "Date: '2008-12-01'\n",
      "Open: 8826.889648\n",
      "High: 8827.049805\n",
      "Low: 8141.359863\n",
      "Close: 8149.089844\n",
      "Volume: 321010000\n",
      "Adj_Close: null\n",
      "daily_range: 8.422302336938241\n",
      "News: null\n",
      "Explanation: null\n",
      "\n",
      "\n"
     ]
    }
   ],
   "source": [
    "async def get_highest_volatility_days(states:list[StockMarketState]) -> list[StockMarketState]:\n",
    "    \n",
    "    # sort the states by volatility and return the top 10, define a new AG with these states\n",
    "    return sorted(states, \n",
    "                key=lambda x: abs(x.daily_range) if x.daily_range is not None else 0, \n",
    "                reverse=True)[:10]\n",
    "\n",
    "# apply the reduce function to get the top 10 days with highest volatility\n",
    "highest_volatility_days = await dj_data.areduce(get_highest_volatility_days)\n",
    "print(highest_volatility_days.pretty_print())"
   ]
  },
  {
   "cell_type": "markdown",
   "id": "26496816",
   "metadata": {},
   "source": [
    "## Complex AMAPs\n",
    "\n",
    "aMaps function can contain external API and LLM calls. This way we can use agentics as a scaleout frameworks for complex workflows. "
   ]
  },
  {
   "cell_type": "code",
   "execution_count": 4,
   "id": "7f30733f",
   "metadata": {},
   "outputs": [
    {
     "name": "stderr",
     "output_type": "stream",
     "text": [
      "2025-08-31 16:04:32.511 | DEBUG    | agentics.core.agentics:amap:206 - Executing amap on function <function get_news at 0x1062013a0>\n",
      "2025-08-31 16:04:36.850 | DEBUG    | agentics.core.agentics:amap:231 - 5 states processed. 0.8677820205688477 seconds average per state in the last chunk ...\n",
      "2025-08-31 16:04:41.980 | DEBUG    | agentics.core.agentics:amap:231 - 10 states processed. 1.0258316040039062 seconds average per state in the last chunk ...\n"
     ]
    },
    {
     "name": "stdout",
     "output_type": "stream",
     "text": [
      "Date: 2008-10-10, Daily Range: 12.924443321266926, News: [{'title': 'Global financial crisis in October 2008 - Wikipedia', 'href': 'https://en.wikipedia.org/wiki/Global_financial_crisis_in_October_2008', 'body': 'On October 10 , within the first five minute...\n"
     ]
    }
   ],
   "source": [
    "from ddgs import DDGS\n",
    "\n",
    "## Define a function to get news for a given date using the DDGS search engine\n",
    "## Note that the similar functionalities can be implemented using MCP tools in AGs\n",
    "async def get_news(state):\n",
    "    state.News=str(DDGS().text(f\"What happended to the stock market and dow jones on {state.Date}\", max_results=10))\n",
    "    return state    \n",
    "\n",
    "## set the batch size for the amap function to 5 (only 10 states will be processed)\n",
    "highest_volatility_days.batch_size = 5\n",
    "\n",
    "# Now get news for the top 10 days with highest volatility using amap\n",
    "highest_volatility_days = await highest_volatility_days.amap(get_news)\n",
    "\n",
    "# print the first result for brevity\n",
    "print(f\"Date: {highest_volatility_days[0].Date}, Daily Range: {highest_volatility_days[0].daily_range}, News: {highest_volatility_days[0].News[:200]}...\")"
   ]
  },
  {
   "cell_type": "markdown",
   "id": "9cf39b3b",
   "metadata": {},
   "source": [
    "Now let's use self transduction to provide an explanation for the market volatility"
   ]
  },
  {
   "cell_type": "code",
   "execution_count": 5,
   "id": "9ce555e2",
   "metadata": {},
   "outputs": [
    {
     "name": "stderr",
     "output_type": "stream",
     "text": [
      "2025-08-31 16:04:41.990 | DEBUG    | agentics.core.agentics:__lshift__:518 - Executing task: Explain the reasons why the market went down or up \n",
      "given the high volatility in the stock market on this day based on the news provided. \n",
      "Provide a concise summary.\n",
      "10 states will be transduced\n",
      "2025-08-31 16:04:41.992 | DEBUG    | agentics.core.agentics:__lshift__:612 - transducer class: <class 'agentics.abstractions.pydantic_transducer.PydanticTransducerCrewAI'>\n",
      "2025-08-31 16:04:47.827 | DEBUG    | agentics.core.agentics:__lshift__:648 - Processed 5 states in 5.834758996963501 seconds\n",
      "2025-08-31 16:04:47.827 | DEBUG    | agentics.core.agentics:__lshift__:700 - 5 states processed in 1.1669517993927 seconds average per state ...\n",
      "2025-08-31 16:04:54.552 | DEBUG    | agentics.core.agentics:__lshift__:648 - Processed 5 states in 6.72395396232605 seconds\n",
      "2025-08-31 16:04:54.552 | DEBUG    | agentics.core.agentics:__lshift__:700 - 10 states processed in 1.34479079246521 seconds average per state ...\n"
     ]
    },
    {
     "name": "stdout",
     "output_type": "stream",
     "text": [
      "Date: 2008-10-10, Daily Range: 12.924443321266926\n",
      "Explanation: The market went down on October 10, 2008, due to the global financial crisis. The Dow Jones Industrial Average plunged 697 points, falling below 7900 to its lowest level since March 17, 2003. This was a result of the subprime mortgage crisis, which led to a housing market bubble burst, causing a massive loss of wealth for investors and a significant decline in the stock market. The crisis was exacerbated by the bankruptcy of Lehman Brothers, the bailout of American International Group, and the passage of the bailout bill in early October. The high volatility in the stock market on this day was fueled by panicky sellers, who contributed to the rout, with the Dow Jones industrial average closing down 679 points, or 7.3 percent, leaving it below 9,000 for the first time in five years....\n",
      "Date: 2008-11-13, Daily Range: 11.439069514507388\n",
      "Explanation: The market went up on November 13, 2008, despite the high volatility in the stock market, as evidenced by the Dow Jones Industrial Average closing at 8835.25, which is higher than its opening value of 8281.14. The daily range was 11.439069514507388, indicating significant fluctuations throughout the day. The news articles provided suggest that the market was experiencing a period of extreme uncertainty and panic, with major indexes falling sharply due to economic uncertainty. However, on this particular day, the market seems to have rebounded, with the Dow Jones Industrial Average closing higher than its opening value. This could be attributed to various factors, including investor sentiment, economic indicators, and global events, which are not explicitly stated in the provided news articles. Nevertheless, the fact that the market closed higher than it opened suggests that, on this day, the positive forces outweighed the negative ones, leading to an upward movement in the market....\n",
      "Date: 2008-10-13, Daily Range: 11.413259722782675\n",
      "Explanation: The market went up on October 13, 2008, due to a global cash infusion designed to relieve the economic crisis. The Dow Jones Industrial Average increased by 935 points or 11.1 percent, which was one of its best performances in history. This rebound was likely a response to the significant volatility and losses experienced in the weeks leading up to October 13th, 2008, including an 11.4% daily range and a low of 8462.18. The news articles provided suggest that investors were optimistic about the steps being taken to address the financial crisis, leading to a surge in stock prices. Specifically, the news article from The New York Times mentions that 'the stage was set for a huge rally' and that 'shares of nearly every type of business surged.' Additionally, the Dow Jones Industrial Average historical data shows that the index closed at 9387.61 on October 13, 2008, which was a significant increase from its opening value of 8462.42. Overall, the market's upward movement on October 13, 2008, can be attributed to the positive response to the global cash infusion and the subsequent relief from the economic crisis....\n",
      "Date: 2008-10-28, Daily Range: 11.099450382090795\n",
      "Explanation: The market went up on October 28, 2008, as indicated by the increase in the Dow Jones Industrial Average. The news articles provided suggest that the market surge was due to expectations of a federal interest rate cut, which helped lure investors back into the market. The Dow Jones Industrial Average ended up 889 points, marking its second-largest point gain, and closed at the 9,065 level. This rally was a significant rebound from the previous declines in the market, which were caused by the global financial crisis. The crisis had led to a significant drop in the stock market, with the Dow Jones Industrial Average plunging 697 points on October 10, 2008, and falling below 7900 to its lowest level since March 17, 2008. However, on October 28, 2008, the market staged a rally, with Wall Street indexes surging as expectations of a federal interest rate cut helped to boost investor confidence....\n",
      "Date: 2010-05-06, Daily Range: 10.23483819058118\n",
      "Explanation: The market went down due to the 2010 Flash Crash, which occurred on May 6, 2010. The Dow Jones Industrial Average (DJIA) lost almost 1,000 points in around 10 minutes, but then recovered almost 600 points in the next 30 minutes. This event was triggered by worries about the debt crisis in Greece and was characterized by a rapid decline in stock prices, followed by a rapid recovery. The flash crash was likely caused by a combination of factors, including high volatility, liquidity erosion, and the use of automated trading systems. The event had a significant impact on the stock market and led to intense scrutiny and changes in market regulations....\n",
      "Date: 2008-10-09, Daily Range: 10.12856894936647\n",
      "Explanation: The market went down on this day, as evidenced by the 'Close' price being lower than the 'Open' price. The high volatility in the stock market, with a daily range of 10.13%, suggests that there were significant fluctuations in the market. However, the provided news does not contain any information related to the stock market or economic events that could have caused the market to go down. The news articles are all related to the correct spelling and meaning of the word 'happened' and do not provide any relevant information about the stock market. Therefore, it is not possible to provide a specific explanation for why the market went down based on the provided news....\n",
      "Date: 2008-10-16, Daily Range: 9.949163808257087\n",
      "Explanation: The market went up on this day, as indicated by the 'Close' value of 8979.259766 being higher than the 'Open' value of 8577.040039. The high volatility in the stock market on this day can be attributed to the global financial crisis in October 2008. According to the news provided, the Dow Jones Industrial Average plunged 697 points on October 10, falling below 7900 to its lowest level since March 17, 2003. However, on October 13, stocks bounced back from their worst week ever with one of their best performances in history as investors cheered a global cash infusion designed to unthaw the credit market and avoid a global crisis. The news articles also mention that the 2008 stock market crash was caused by a speculative bubble and destroyed $16.4 trillion of American households' net worth from 2007 through 2009. It wiped out more than $2 trillion of Americans' retirement savings. The Dow Jones Industrial Average fell from its high of 14,164.43 reached on Oct. 9, 2007, to 6,443.27 by March 6, 2009 - a 54% plunge in little under 18 months. On October 16, 2008, the Dow ended the day down nearly 8 percent - its steepest drop since one week after Black Monday. However, the market surged in the last hour, with the Dow soaring 4.7 percent....\n",
      "Date: 2008-10-15, Daily Range: 9.128120569465585\n",
      "Explanation: The market went down due to the global financial crisis in October 2008. The London stock exchange FTSE 100 fell substantially, surrendering 314 points to slip down 7.16 percent. The Dow Jones industrial average also fell 733.08 points, or 7.87%, to 8,577.91. The losses were precipitated by a rough final hour of trading, with selling picking up and leaving the major indexes all losing at least 7 percent. The high volatility in the stock market on this day was caused by the record-breaking volume levels and the significant declines in the stock market. The news articles provided all point to the same conclusion, that the market went down due to the global financial crisis and the resulting panic selling....\n",
      "Date: 2008-11-20, Daily Range: 9.06397211541354\n",
      "Explanation: The market went down on November 20, 2008, due to the global financial crisis. The Dow Jones Industrial Average dropped 445 points in the last minutes of the trading session, closing at 7,552, which was the lowest point in six years. This was a result of the speculative bubble that had formed in the market, which eventually led to a crash. The crisis was triggered by the collapse of the subprime mortgage market, which led to a loss of confidence in the financial system. The Dow Jones Industrial Average fell from its high of 14,164.43 reached on October 9, 2007, to 6,443.27 by March 6, 2009, a 54% plunge in little under 18 months. The 2008 stock market crash destroyed $16.4 trillion of American households' net worth from 2007 through 2009 and wiped out more than $2 trillion of Americans' retirement savings....\n",
      "Date: 2008-12-01, Daily Range: 8.422302336938241\n",
      "Explanation: The market went down on December 1, 2008, due to the global financial crisis, with the Dow Jones Industrial Average closing at 8,149.09, down 7.7% or 679.95 points. The S&P 500 fell 80.03 points to 816.21, down 8.93%, and financial stocks in the S&P 500 fell 17%. This decline was a result of dismal reports on U.S. manufacturing sentiment and construction spending, as well as growing worries about the economy and consumer spending. The market's volatility was further exacerbated by the ongoing bear market, which was confirmed in June 2008 when the Dow Jones Industrial Average had fallen 20% from its October 11, 2007 peak....\n"
     ]
    }
   ],
   "source": [
    "highest_volatility_days.instructions = \"\"\"Explain the reasons why the market went down or up \n",
    "given the high volatility in the stock market on this day based on the news provided. \n",
    "Provide a concise summary.\"\"\"\n",
    "highest_volatility_explanations = await highest_volatility_days.self_transduction(\n",
    "[\"Date\", \"Open\", \"High\", \"Low\", \"Close\", \"Volume\", \"daily_range\", \"News\"],[\"Explanation\"])\n",
    "\n",
    "for state in highest_volatility_explanations: \n",
    "    print(f\"Date: {state.Date}, Daily Range: {state.daily_range}\\nExplanation: {state.Explanation}...\")"
   ]
  },
  {
   "cell_type": "markdown",
   "id": "00ae3253",
   "metadata": {},
   "source": [
    "## Well Done\n",
    "You are now fully equipped to work with agentics and apply it to your data.\n",
    "Congratulations and please contribute back to the community if you feel this is exciting. "
   ]
  }
 ],
 "metadata": {
  "kernelspec": {
   "display_name": ".venv",
   "language": "python",
   "name": "python3"
  },
  "language_info": {
   "codemirror_mode": {
    "name": "ipython",
    "version": 3
   },
   "file_extension": ".py",
   "mimetype": "text/x-python",
   "name": "python",
   "nbconvert_exporter": "python",
   "pygments_lexer": "ipython3",
   "version": "3.12.9"
  }
 },
 "nbformat": 4,
 "nbformat_minor": 5
}
