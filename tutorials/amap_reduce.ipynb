{
 "cells": [
  {
   "cell_type": "markdown",
   "id": "d14bfec4",
   "metadata": {},
   "source": [
    "# aMapReduce Framework\n",
    "\n",
    "Agentics enable scalable execution of LLM workflows by implementing a MapReduce framework which enable the async use of LLM blended with regular python code."
   ]
  },
  {
   "cell_type": "markdown",
   "id": "90dd4694",
   "metadata": {},
   "source": [
    "Let us first define an aType to represent StockMarket Data for the DowJones index, and populate it with historical data"
   ]
  },
  {
   "cell_type": "code",
   "execution_count": 1,
   "id": "d981012d",
   "metadata": {},
   "outputs": [
    {
     "name": "stderr",
     "output_type": "stream",
     "text": [
      "2025-09-02 12:43:31.827 | DEBUG    | agentics.core.llm_connections:<module>:89 - AGENTICS is connecting to the following LLM API providers:\n",
      "2025-09-02 12:43:31.828 | DEBUG    | agentics.core.llm_connections:<module>:92 - 0 - WatsonX\n",
      "2025-09-02 12:43:31.828 | DEBUG    | agentics.core.llm_connections:<module>:97 - 1 - Gemini\n",
      "2025-09-02 12:43:31.828 | DEBUG    | agentics.core.llm_connections:<module>:101 - 2 - OpenAI\n",
      "2025-09-02 12:43:31.829 | DEBUG    | agentics.core.llm_connections:<module>:103 - Please add API keys in .env file to add or disconnect providers.\n",
      "2025-09-02 12:43:31.836 | DEBUG    | agentics.core.llm_connections:get_llm_provider:28 - No LLM provider specified. Using the first available provider.\n",
      "2025-09-02 12:43:31.836 | DEBUG    | agentics.core.llm_connections:get_llm_provider:30 - Available LLM providers: ['watsonx', 'gemini', 'openai']. Using 'watsonx'\n",
      "2025-09-02 12:43:31.839 | DEBUG    | agentics.core.agentics:from_csv:312 - Importing Agentics of type StockMarketState from CSV data/dow_jones.csv\n"
     ]
    }
   ],
   "source": [
    "from agentics import Agentics as AG\n",
    "from typing import Optional\n",
    "from pydantic import BaseModel\n",
    "\n",
    "## Define the data model for stock market data\n",
    "\n",
    "\n",
    "class StockMarketState(BaseModel):\n",
    "    Date: Optional[str] = None\n",
    "    Open: Optional[float] = None\n",
    "    High: Optional[float] = None\n",
    "    Low: Optional[float] = None\n",
    "    Close: Optional[float] = None\n",
    "    Volume: Optional[int] = None\n",
    "    Adj_Close: Optional[float] = None\n",
    "    daily_range: Optional[float] = None\n",
    "    News: Optional[str] = None\n",
    "    Explanation_report: Optional[str] = None\n",
    "\n",
    "\n",
    "## import the data\n",
    "dj_data = AG.from_csv(\"data/dow_jones.csv\", atype=StockMarketState)"
   ]
  },
  {
   "cell_type": "markdown",
   "id": "ca61713d",
   "metadata": {},
   "source": [
    "## Amap\n",
    "\n",
    "Amap functions enable async execution of functions over all the states of an AG. Agentics supports 1:1 maps that maps all states of an AG into states of the same type.\n",
    "\n",
    "In the following example we define a simple function to compute the daily_range of the stock and we pass that to an amap fuction which applies that to all states asyncronously"
   ]
  },
  {
   "cell_type": "code",
   "execution_count": null,
   "id": "fa1e862d",
   "metadata": {},
   "outputs": [
    {
     "name": "stderr",
     "output_type": "stream",
     "text": [
      "2025-09-02 12:43:31.849 | DEBUG    | agentics.core.agentics:amap:206 - Executing amap on function <function get_daily_variation_percentage at 0x107205760>\n",
      "2025-09-02 12:43:31.851 | DEBUG    | agentics.core.agentics:amap:231 - 100 states processed. 9.627342224121094e-06 seconds average per state in the last chunk ...\n",
      "2025-09-02 12:43:31.852 | DEBUG    | agentics.core.agentics:amap:231 - 200 states processed. 7.46011734008789e-06 seconds average per state in the last chunk ...\n",
      "2025-09-02 12:43:31.853 | DEBUG    | agentics.core.agentics:amap:231 - 300 states processed. 6.301403045654297e-06 seconds average per state in the last chunk ...\n",
      "2025-09-02 12:43:31.853 | DEBUG    | agentics.core.agentics:amap:231 - 400 states processed. 5.538463592529297e-06 seconds average per state in the last chunk ...\n",
      "2025-09-02 12:43:31.854 | DEBUG    | agentics.core.agentics:amap:231 - 500 states processed. 6.4015388488769535e-06 seconds average per state in the last chunk ...\n",
      "2025-09-02 12:43:31.855 | DEBUG    | agentics.core.agentics:amap:231 - 600 states processed. 5.917549133300781e-06 seconds average per state in the last chunk ...\n",
      "2025-09-02 12:43:31.856 | DEBUG    | agentics.core.agentics:amap:231 - 700 states processed. 6.308555603027344e-06 seconds average per state in the last chunk ...\n",
      "2025-09-02 12:43:31.857 | DEBUG    | agentics.core.agentics:amap:231 - 800 states processed. 5.6672096252441405e-06 seconds average per state in the last chunk ...\n",
      "2025-09-02 12:43:31.857 | DEBUG    | agentics.core.agentics:amap:231 - 900 states processed. 5.598068237304688e-06 seconds average per state in the last chunk ...\n",
      "2025-09-02 12:43:31.858 | DEBUG    | agentics.core.agentics:amap:231 - 1000 states processed. 6.341934204101563e-06 seconds average per state in the last chunk ...\n",
      "2025-09-02 12:43:31.859 | DEBUG    | agentics.core.agentics:amap:231 - 1100 states processed. 5.719661712646484e-06 seconds average per state in the last chunk ...\n",
      "2025-09-02 12:43:31.860 | DEBUG    | agentics.core.agentics:amap:231 - 1200 states processed. 5.843639373779297e-06 seconds average per state in the last chunk ...\n",
      "2025-09-02 12:43:31.860 | DEBUG    | agentics.core.agentics:amap:231 - 1300 states processed. 5.9199333190917965e-06 seconds average per state in the last chunk ...\n",
      "2025-09-02 12:43:31.861 | DEBUG    | agentics.core.agentics:amap:231 - 1400 states processed. 5.4097175598144534e-06 seconds average per state in the last chunk ...\n",
      "2025-09-02 12:43:31.862 | DEBUG    | agentics.core.agentics:amap:231 - 1500 states processed. 6.618499755859375e-06 seconds average per state in the last chunk ...\n",
      "2025-09-02 12:43:31.863 | DEBUG    | agentics.core.agentics:amap:231 - 1600 states processed. 5.869865417480469e-06 seconds average per state in the last chunk ...\n",
      "2025-09-02 12:43:31.864 | DEBUG    | agentics.core.agentics:amap:231 - 1700 states processed. 6.37054443359375e-06 seconds average per state in the last chunk ...\n",
      "2025-09-02 12:43:31.864 | DEBUG    | agentics.core.agentics:amap:231 - 1800 states processed. 6.570816040039062e-06 seconds average per state in the last chunk ...\n",
      "2025-09-02 12:43:31.865 | DEBUG    | agentics.core.agentics:amap:231 - 1900 states processed. 7.379055023193359e-06 seconds average per state in the last chunk ...\n",
      "2025-09-02 12:43:31.866 | DEBUG    | agentics.core.agentics:amap:231 - 2000 states processed. 6.389617919921875e-06 seconds average per state in the last chunk ...\n"
     ]
    },
    {
     "name": "stdout",
     "output_type": "stream",
     "text": [
      "Date: 2016-07-01, Daily Range: 0.47703930117312493\n",
      "Date: 2016-06-30, Daily Range: 1.2353831025172834\n",
      "Date: 2016-06-29, Daily Range: 1.423521751672572\n"
     ]
    }
   ],
   "source": [
    "## Note that input and output are both StockMarketState objects\n",
    "async def get_daily_variation_percentage(state: StockMarketState) -> StockMarketState:\n",
    "    state.daily_range = (float(state.High) - float(state.Low)) / float(state.Low) * 100\n",
    "    return state\n",
    "\n",
    "\n",
    "## Apply the function to all states using amap\n",
    "dj_data = await dj_data.amap(get_daily_variation_percentage)\n",
    "\n",
    "for state in dj_data[:3]:\n",
    "    print(f\"Date: {state.Date}, Daily Range: {state.daily_range}\")"
   ]
  },
  {
   "cell_type": "markdown",
   "id": "e0e2bdfd",
   "metadata": {},
   "source": [
    "## aReduce"
   ]
  },
  {
   "cell_type": "markdown",
   "id": "ecb8895e",
   "metadata": {},
   "source": [
    "Reduce functions enable executing operations on the entire list of elements (states) within an Agentics group. Although reduce operations are intrinsically synchronous—since they consider all states at once—they are defined as async functions to allow for internal async calls (such as fetching news or running LLMs).\n",
    "\n",
    "In the following example we will use a reduce function to analyze get the top 10 days with highest variation in the market"
   ]
  },
  {
   "cell_type": "code",
   "execution_count": 3,
   "id": "9b73900d",
   "metadata": {},
   "outputs": [
    {
     "name": "stdout",
     "output_type": "stream",
     "text": [
      "Atype : <class '__main__.StockMarketState'>\n",
      "Date: '2008-10-10'\n",
      "Open: 8568.669922\n",
      "High: 8901.280273\n",
      "Low: 7882.509766\n",
      "Close: 8451.19043\n",
      "Volume: 674920000\n",
      "Adj_Close: null\n",
      "daily_range: 12.924443321266926\n",
      "News: null\n",
      "Explanation_report: null\n",
      "\n",
      "Date: '2008-11-13'\n",
      "Open: 8281.139648\n",
      "High: 8876.589844\n",
      "Low: 7965.419922\n",
      "Close: 8835.25\n",
      "Volume: 476600000\n",
      "Adj_Close: null\n",
      "daily_range: 11.439069514507388\n",
      "News: null\n",
      "Explanation_report: null\n",
      "\n",
      "Date: '2008-10-13'\n",
      "Open: 8462.419922\n",
      "High: 9427.990234\n",
      "Low: 8462.179688\n",
      "Close: 9387.610352\n",
      "Volume: 399290000\n",
      "Adj_Close: null\n",
      "daily_range: 11.413259722782675\n",
      "News: null\n",
      "Explanation_report: null\n",
      "\n",
      "Date: '2008-10-28'\n",
      "Open: 8178.720215\n",
      "High: 9082.080078\n",
      "Low: 8174.72998\n",
      "Close: 9065.120117\n",
      "Volume: 372160000\n",
      "Adj_Close: null\n",
      "daily_range: 11.099450382090795\n",
      "News: null\n",
      "Explanation_report: null\n",
      "\n",
      "Date: '2010-05-06'\n",
      "Open: 10868.120117\n",
      "High: 10879.759766\n",
      "Low: 9869.620117\n",
      "Close: 10520.320312\n",
      "Volume: 459890000\n",
      "Adj_Close: null\n",
      "daily_range: 10.23483819058118\n",
      "News: null\n",
      "Explanation_report: null\n",
      "\n",
      "Date: '2008-10-09'\n",
      "Open: 9261.69043\n",
      "High: 9448.139648\n",
      "Low: 8579.19043\n",
      "Close: 8579.19043\n",
      "Volume: 436740000\n",
      "Adj_Close: null\n",
      "daily_range: 10.12856894936647\n",
      "News: null\n",
      "Explanation_report: null\n",
      "\n",
      "Date: '2008-10-16'\n",
      "Open: 8577.040039\n",
      "High: 9013.269531\n",
      "Low: 8197.669922\n",
      "Close: 8979.259766\n",
      "Volume: 422450000\n",
      "Adj_Close: null\n",
      "daily_range: 9.949163808257087\n",
      "News: null\n",
      "Explanation_report: null\n",
      "\n",
      "Date: '2008-10-15'\n",
      "Open: 9301.910156\n",
      "High: 9308.759766\n",
      "Low: 8530.120117\n",
      "Close: 8577.910156\n",
      "Volume: 374350000\n",
      "Adj_Close: null\n",
      "daily_range: 9.128120569465585\n",
      "News: null\n",
      "Explanation_report: null\n",
      "\n",
      "Date: '2008-11-20'\n",
      "Open: 7995.529785\n",
      "High: 8187.399902\n",
      "Low: 7506.970215\n",
      "Close: 7552.290039\n",
      "Volume: 528130000\n",
      "Adj_Close: null\n",
      "daily_range: 9.06397211541354\n",
      "News: null\n",
      "Explanation_report: null\n",
      "\n",
      "Date: '2008-12-01'\n",
      "Open: 8826.889648\n",
      "High: 8827.049805\n",
      "Low: 8141.359863\n",
      "Close: 8149.089844\n",
      "Volume: 321010000\n",
      "Adj_Close: null\n",
      "daily_range: 8.422302336938241\n",
      "News: null\n",
      "Explanation_report: null\n",
      "\n",
      "\n"
     ]
    }
   ],
   "source": [
    "async def get_highest_volatility_days(\n",
    "    states: list[StockMarketState],\n",
    ") -> list[StockMarketState]:\n",
    "\n",
    "    # sort the states by volatility and return the top 10, define a new AG with these states\n",
    "    return sorted(\n",
    "        states,\n",
    "        key=lambda x: abs(x.daily_range) if x.daily_range is not None else 0,\n",
    "        reverse=True,\n",
    "    )[:10]\n",
    "\n",
    "\n",
    "# apply the reduce function to get the top 10 days with highest volatility\n",
    "highest_volatility_days = await dj_data.areduce(get_highest_volatility_days)\n",
    "print(highest_volatility_days.pretty_print())"
   ]
  },
  {
   "cell_type": "markdown",
   "id": "26496816",
   "metadata": {},
   "source": [
    "## Complex AMAPs\n",
    "\n",
    "aMaps function can contain external API and LLM calls. This way we can use agentics as a scaleout frameworks for complex workflows. "
   ]
  },
  {
   "cell_type": "code",
   "execution_count": null,
   "id": "7f30733f",
   "metadata": {},
   "outputs": [
    {
     "name": "stderr",
     "output_type": "stream",
     "text": [
      "2025-09-02 12:43:31.896 | DEBUG    | agentics.core.agentics:amap:206 - Executing amap on function <function get_news at 0x107205440>\n",
      "2025-09-02 12:43:43.537 | DEBUG    | agentics.core.agentics:amap:231 - 10 states processed. 1.1640605926513672 seconds average per state in the last chunk ...\n"
     ]
    },
    {
     "name": "stdout",
     "output_type": "stream",
     "text": [
      "Date: 2008-10-10, Daily Range: 12.924443321266926, News: [{'title': 'Global financial crisis in October 2008', 'href': 'https://en.wikipedia.org/wiki/Global_financial_crisis_in_October_2008', 'body': 'On Friday, October 10, stock markets crashed across Euro...\n"
     ]
    }
   ],
   "source": [
    "from ddgs import DDGS\n",
    "\n",
    "\n",
    "## Define a function to get news for a given date using the DDGS search engine\n",
    "## Note that the similar functionalities can be implemented using MCP tools in AGs\n",
    "async def get_news(state):\n",
    "    state.News = str(\n",
    "        DDGS().text(\n",
    "            f\"What happended to the stock market and dow jones on {state.Date}\",\n",
    "            max_results=10,\n",
    "        )\n",
    "    )\n",
    "    return state\n",
    "\n",
    "\n",
    "# Now get news for the top 10 days with highest volatility using amap\n",
    "highest_volatility_days = await highest_volatility_days.amap(get_news)\n",
    "\n",
    "# print the first result for brevity\n",
    "print(\n",
    "    f\"Date: {highest_volatility_days[0].Date}, Daily Range: {highest_volatility_days[0].daily_range}, News: {highest_volatility_days[0].News[:200]}...\"\n",
    ")"
   ]
  },
  {
   "cell_type": "markdown",
   "id": "9cf39b3b",
   "metadata": {},
   "source": [
    "Now let's use self transduction to provide an explanation for the market volatility"
   ]
  },
  {
   "cell_type": "code",
   "execution_count": 5,
   "id": "9ce555e2",
   "metadata": {},
   "outputs": [
    {
     "name": "stderr",
     "output_type": "stream",
     "text": [
      "2025-09-02 12:43:43.551 | DEBUG    | agentics.core.llm_connections:get_llm_provider:28 - No LLM provider specified. Using the first available provider.\n",
      "2025-09-02 12:43:43.552 | DEBUG    | agentics.core.llm_connections:get_llm_provider:30 - Available LLM providers: ['watsonx', 'gemini', 'openai']. Using 'watsonx'\n",
      "2025-09-02 12:43:43.554 | DEBUG    | agentics.core.agentics:__lshift__:518 - Executing task: Explain the reasons why the market went down or up \n",
      "given the high volatility in the stock market on this day based on the news provided. \n",
      "Provide a concise summary.\n",
      "10 states will be transduced\n",
      "2025-09-02 12:43:43.555 | DEBUG    | agentics.core.agentics:__lshift__:612 - transducer class: <class 'agentics.abstractions.pydantic_transducer.PydanticTransducerCrewAI'>\n",
      "2025-09-02 12:43:49.266 | DEBUG    | agentics.core.agentics:__lshift__:648 - Processed 10 states in 5.710923910140991 seconds\n",
      "2025-09-02 12:43:49.267 | DEBUG    | agentics.core.agentics:__lshift__:700 - 10 states processed in 0.5710923910140991 seconds average per state ...\n"
     ]
    },
    {
     "name": "stdout",
     "output_type": "stream",
     "text": [
      "Date: 2008-10-10, Daily Range: 12.924443321266926\n",
      "Explanation: The market went down on October 10, 2008, due to the global financial crisis. The Dow Jones Industrial Average plummeted nearly 700 points in the first ten minutes of trading to 7882, a fall of 8%. This was a result of a runaway train of a sell-off that turned the anniversary of the stock market peak into one of the darkest days in Wall Street history. The high volatility in the stock market was caused by panic selling, with the Dow Jones Industrial Average suffering its worst week of losses in its history, dropping by more than 20 percent. The crisis was triggered by a combination of factors, including record-breaking volume levels, a sharp snapback that briefly pushed shares into positive territory, and a decline of the Dow Jones Industrial Average from October 1st through October 10th. The market's downward trend was further exacerbated by the intervention of the Federal Reserve, which led to a rout in the afternoon on Wall Street, with the Dow Jones industrial average closing down 679 points, or 7.3 percent....\n",
      "Date: 2008-11-13, Daily Range: 11.439069514507388\n",
      "Explanation: The market went up on November 13, 2008, as evidenced by the increase in the Dow Jones Industrial Average from an opening value of 8,282.66 to a closing value of 8,835.25. This represents a significant gain of 553 points, or approximately 6.80%, despite the high volatility in the stock market on this day. The news articles provided suggest that the market was highly uncertain and sensitive to economic developments, with major indexes experiencing sharp declines in previous days. However, on November 13, the market seemed to reverse its trend, possibly due to new investor confidence, as mentioned in one of the news articles. The daily range of 11.44% also indicates significant price fluctuations throughout the day. Overall, the market's upward movement on November 13, 2008, can be attributed to a combination of factors, including changes in investor sentiment and the market's inherent volatility during the global financial crisis of 2008....\n",
      "Date: 2008-10-13, Daily Range: 11.413259722782675\n",
      "Explanation: The market went up on October 13, 2008, with the Dow Jones industrial average closing at 9,387.61, up 11.1 percent, due to a global cash infusion designed to unthaw the credit market and avoid a global financial crisis. This rebound came after eight days of precipitous losses that took the Dow down nearly 2,400 points. The news of the bailout bill passed by Congress and the Federal Reserve's intervention to save failing investment banks also contributed to the market's positive performance. Additionally, the announcement of the Bush administration's plan to buy preferred stocks in the nation's banks helped to boost investor confidence. Overall, the market's surge on October 13, 2008, was a result of the combined efforts of governments and financial institutions to stabilize the economy and restore investor confidence....\n",
      "Date: 2008-10-28, Daily Range: 11.099450382090795\n",
      "Explanation: The market went up on this day, with the Dow Jones Industrial Average rising by 889 points to 9,065, due to expectations of a rate cut. This increase was the second-largest point gain, following a 936-point jump on a previous day. Despite the overall high volatility in the stock market during October 2008, with the market experiencing its worst decline in seven decades, the Dow ended the day with a significant gain. The global financial crisis, which was triggered by a speculative bubble, had been building for a long time and would eventually lead to a 54% plunge in the Dow Jones Industrial Average from its high in October 2007 to its low in March 2009. However, on this specific day, the market reacted positively to the expected rate cut, resulting in a substantial increase in the Dow Jones Industrial Average....\n",
      "Date: 2010-05-06, Daily Range: 10.23483819058118\n",
      "Explanation: The market went down on May 6, 2010, due to a combination of factors, including worries about the debt crisis in Greece and technical errors made by a single trader. The Dow Jones Industrial Average plummeted nearly 1,000 points in a matter of minutes, erasing nearly $1 trillion in market value, before rebounding and recovering most of the losses. The flash crash was triggered by a trader's technical errors in entering order amounts, leading to the posting of large sell orders that exacerbated the market's downward trend. High-frequency traders also played a significant role in the crash, as their aggressive selling and buying of large volumes of securities resulted in enormous price volatility in the financial markets. The event led to a rapid decline in the market, with the Dow Jones Industrial Average declining 161 points, or approximately 1.5 percent, by 2:00 p.m. (ET), before dropping nearly 1,000 points in the next 10 minutes. The flash crash exposed the fragility of the market and the potential for technical errors to have a significant impact on market volatility....\n",
      "Date: 2008-10-09, Daily Range: 10.12856894936647\n",
      "Explanation: The market went down on this day, as evidenced by the close price of 8579.19043 being lower than the open price of 9261.69043. The daily range of 10.12856894936647 indicates high volatility in the stock market. However, the provided news does not contain any information related to the stock market or economic events that could have caused the market to go down. The news articles are all related to WhatsApp Web, providing guides and information on how to use the service. Therefore, it is not possible to determine the exact reason for the market decline based on the provided news. The market's performance on this day, October 9th, 2008, is more likely related to the global financial crisis that was occurring around that time, but this information is not present in the provided news articles....\n",
      "Date: 2008-10-16, Daily Range: 9.949163808257087\n",
      "Explanation: The market went down on October 16, 2008, due to the global financial crisis. The Dow Jones Industrial Average fell by 733 points, or nearly 8 percent, which was its steepest drop since one week after Black Monday. This decline was part of a larger trend, as the Dow had fallen by 1,874 points, or 18.1%, over the course of the week, and by 40% from its record high on October 9, 2007. The crisis was triggered by a housing bubble and risky mortgage lending practices, which escalated into a global financial meltdown through complex financial products and inadequate regulation. The effects of the crisis were staggering, with $16.4 trillion of American households' net worth destroyed from 2007 through 2009, and more than $2 trillion of Americans' retirement savings wiped out. The crisis also had a profound impact on the US economy, fundamentally changing how banks operate, how homes are bought and sold, and how the government regulates Wall Street....\n",
      "Date: 2008-10-15, Daily Range: 9.128120569465585\n",
      "Explanation: The market went down on October 15, 2008, due to the global financial crisis. The Dow Jones Industrial Average fell by 733.08 points, or 7.87%, to 8,577.91, which was its second-largest point loss ever at the time. The S&P 500 also plunged 7.6% to 2,458.11. This significant decline was attributed to the escalating financial crisis, which led to a massive sell-off in the stock market. The crisis was triggered by a housing market bubble burst, which caused a credit crunch and led to a global economic downturn. The high volatility in the stock market on this day was a result of investors' panic and loss of confidence in the market, leading to a sharp decline in stock prices. The news articles provided confirm that the market's despair propelled the Dow Jones industrials down, and the major indexes all lost at least 7% on this day, making it one of the worst days in the history of the stock market....\n",
      "Date: 2008-11-20, Daily Range: 9.06397211541354\n",
      "Explanation: The market went down on November 20, 2008, due to the global financial crisis. The Dow Jones Industrial Average dropped 445 points in the last minutes of the trading session, closing at 7,552, the lowest point in six years. Shares in Citigroup plummeted another 26%, and shares of other major US financial institutions dropped by more than 10%. The crisis was caused by defaults on consolidated mortgage-backed securities, which comprised most mortgage-backed securities. Banks offered these loans to almost everyone, even those who weren’t creditworthy. When the housing market fell, many homeowners defaulted on their loans, leading to a global financial turmoil. The average closing price for the Dow Jones Industrial Average in November 2008 was $8,614.55, down 5.3% for the month. The Dow Jones Industrial Average fell from its high of 14,164.43 reached on Oct. 9, 2007, to 6,443.27 by March 6, 2009, a 54% plunge in little under 18 months....\n",
      "Date: 2008-12-01, Daily Range: 8.422302336938241\n",
      "Explanation: The market went down on December 1, 2008, due to high volatility in the stock market, with the Dow Jones Industrial Average falling 679.95 points or 7.7 percent. This decline was attributed to dismal reports on U.S. manufacturing sentiment and construction spending, as well as the confirmation of the United States bear market of 2007–2009. The S&P 500 and Nasdaq each tumbled nearly 9% on the same day, with financial stocks in the S&P 500 falling 17%. The global financial crisis in December 2008 also played a significant role in the market's downturn. Overall, the combination of economic woes, recession fears, and poor economic data led to a sharp decline in the stock market on December 1, 2008....\n"
     ]
    }
   ],
   "source": [
    "from agentics.core.llm_connections import get_llm_provider\n",
    "\n",
    "highest_volatility_days.instructions = \"\"\"Explain the reasons why the market went down or up \n",
    "given the high volatility in the stock market on this day based on the news provided. \n",
    "Provide a concise summary.\"\"\"\n",
    "highest_volatility_days.llm = (\n",
    "    get_llm_provider()\n",
    ")  ## You can choose between \"openai\", \"watsonx\", \"gemini\", \"vllm_crewai\"\n",
    "highest_volatility_explanations = await highest_volatility_days.self_transduction(\n",
    "    [\"Date\", \"Open\", \"High\", \"Low\", \"Close\", \"Volume\", \"daily_range\", \"News\"],\n",
    "    [\"Explanation_report\"],\n",
    ")\n",
    "\n",
    "for state in highest_volatility_explanations:\n",
    "    print(\n",
    "        f\"Date: {state.Date}, Daily Range: {state.daily_range}\\nExplanation: {state.Explanation_report}...\"\n",
    "    )"
   ]
  },
  {
   "cell_type": "markdown",
   "id": "00ae3253",
   "metadata": {},
   "source": [
    "## Well Done\n",
    "You are now fully equipped to work with agentics and apply it to your data.\n",
    "Congratulations and please contribute back to the community if you feel this is exciting. "
   ]
  }
 ],
 "metadata": {
  "kernelspec": {
   "display_name": ".venv",
   "language": "python",
   "name": "python3"
  },
  "language_info": {
   "codemirror_mode": {
    "name": "ipython",
    "version": 3
   },
   "file_extension": ".py",
   "mimetype": "text/x-python",
   "name": "python",
   "nbconvert_exporter": "python",
   "pygments_lexer": "ipython3",
   "version": "3.12.9"
  }
 },
 "nbformat": 4,
 "nbformat_minor": 5
}
