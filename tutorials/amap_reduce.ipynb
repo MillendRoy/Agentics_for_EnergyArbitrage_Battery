{
 "cells": [
  {
   "cell_type": "markdown",
   "id": "d14bfec4",
   "metadata": {},
   "source": [
    "# aMapReduce Framework\n",
    "\n",
    "Agentics enable scalable execution of LLM workflows by implementing a MapReduce framework which enable the async use of LLM blended with regular python code."
   ]
  },
  {
   "cell_type": "code",
   "execution_count": 7,
   "id": "d2c428a7",
   "metadata": {},
   "outputs": [
    {
     "name": "stdout",
     "output_type": "stream",
     "text": [
      "\u001b[2mUsing Python 3.12.9 environment at: /Users/gliozzo/Code/agentics911/agentics/.venv\u001b[0m\n",
      "\u001b[2mAudited \u001b[1m1 package\u001b[0m \u001b[2min 20ms\u001b[0m\u001b[0m\n",
      "In Colab: False\n"
     ]
    }
   ],
   "source": [
    "! uv pip install agentics-py\n",
    "\n",
    "\n",
    "import os\n",
    "from pathlib import Path\n",
    "import sys\n",
    "from getpass import getpass\n",
    "\n",
    "from dotenv import find_dotenv, load_dotenv\n",
    "\n",
    "CURRENT_PATH = \"\"\n",
    "\n",
    "IN_COLAB = \"google.colab\" in sys.modules\n",
    "print(\"In Colab:\", IN_COLAB)\n",
    "\n",
    "\n",
    "if IN_COLAB:\n",
    "    CURRENT_PATH = \"/content/drive/MyDrive/\"\n",
    "    # Mount your google drive\n",
    "    from google.colab import drive\n",
    "    drive.mount(\"/content/drive\")\n",
    "    load_dotenv(\"/content/drive/MyDrive/.env\")\n",
    "else:\n",
    "    \n",
    "    CURRENT_PATH=os.getcwd()\n",
    "    load_dotenv(find_dotenv())\n",
    "\n",
    "if not os.getenv(\"GEMINI_API_KEY\"):\n",
    "    os.environ[\"GEMINI_API_KEY\"] = getpass(\"Enter your GEMINI_API_KEY:\")\n",
    "\n",
    "base = Path(CURRENT_PATH)"
   ]
  },
  {
   "cell_type": "markdown",
   "id": "90dd4694",
   "metadata": {},
   "source": [
    "Let us first define an aType to represent StockMarket Data for the DowJones index, and populate it with historical data"
   ]
  },
  {
   "cell_type": "code",
   "execution_count": 19,
   "id": "d981012d",
   "metadata": {},
   "outputs": [
    {
     "name": "stderr",
     "output_type": "stream",
     "text": [
      "2025-09-12 11:47:40.320 | DEBUG    | agentics.core.agentics:from_csv:312 - Importing Agentics of type StockMarketState from CSV /Users/gliozzo/Code/agentics911/agentics/tutorials/data/dow_jones.csv\n"
     ]
    },
    {
     "name": "stdout",
     "output_type": "stream",
     "text": [
      "date='2016-07-01' open=17924.240234 high=18002.380859 low=17916.910156 close=17949.369141 volume=82160000.0 daily_range=None news=None explanation_report=None\n",
      "date='2016-06-30' open=17712.759766 high=17930.609375 low=17711.800781 close=17929.990234 volume=133030000.0 daily_range=None news=None explanation_report=None\n",
      "date='2016-06-29' open=17456.019531 high=17704.509766 low=17456.019531 close=17694.679688 volume=106380000.0 daily_range=None news=None explanation_report=None\n"
     ]
    }
   ],
   "source": [
    "from agentics import Agentics as AG\n",
    "from typing import Optional\n",
    "from pydantic import BaseModel, Field\n",
    "from datetime import datetime\n",
    "## Define the data model for stock market data\n",
    "\n",
    "class StockMarketState(BaseModel):\n",
    "    date: Optional[str] = None\n",
    "    open: Optional[float] = None\n",
    "    high: Optional[float] = None\n",
    "    low: Optional[float] = None\n",
    "    close: Optional[float] = None\n",
    "    volume: Optional[float] = None\n",
    "    daily_range: Optional[float] = Field(None, \n",
    "        description=\"\"\"The difference between the high and low prices for the day.\"\"\")\n",
    "    news: Optional[str] = Field(None, \n",
    "        description=\"\"\"Text reporting a list of news headlines relevant to the stock for the day.\"\"\")\n",
    "    explanation_report: Optional[str] = Field(None,\n",
    "        description=\"A detailed explanation of the stock market state for the day.\")\n",
    "\n",
    "    \n",
    "## import the data\n",
    "dj_data = AG.from_csv(base / \"data/dow_jones.csv\", atype=StockMarketState)\n",
    "for state in dj_data[:3]: \n",
    "    print(state)"
   ]
  },
  {
   "cell_type": "markdown",
   "id": "ca61713d",
   "metadata": {},
   "source": [
    "## Amap\n",
    "\n",
    "Amap functions enable async execution of functions over all the states of an AG. Agentics supports 1:1 maps that maps all states of an AG into states of the same type.\n",
    "\n",
    "In the following example we define a simple function to compute the daily_range of the stock and we pass that to an amap fuction which applies that to all states asyncronously"
   ]
  },
  {
   "cell_type": "code",
   "execution_count": 20,
   "id": "fa1e862d",
   "metadata": {},
   "outputs": [
    {
     "name": "stderr",
     "output_type": "stream",
     "text": [
      "2025-09-12 11:48:26.429 | DEBUG    | agentics.core.agentics:amap:206 - Executing amap on function <function get_daily_variation_percentage at 0x15a4c1120>\n",
      "2025-09-12 11:48:26.431 | DEBUG    | agentics.core.agentics:amap:231 - 100 states processed. 9.920597076416015e-06 seconds average per state in the last chunk ...\n",
      "2025-09-12 11:48:26.432 | DEBUG    | agentics.core.agentics:amap:231 - 200 states processed. 1.1799335479736329e-05 seconds average per state in the last chunk ...\n",
      "2025-09-12 11:48:26.434 | DEBUG    | agentics.core.agentics:amap:231 - 300 states processed. 1.0890960693359375e-05 seconds average per state in the last chunk ...\n",
      "2025-09-12 11:48:26.435 | DEBUG    | agentics.core.agentics:amap:231 - 400 states processed. 7.982254028320312e-06 seconds average per state in the last chunk ...\n",
      "2025-09-12 11:48:26.436 | DEBUG    | agentics.core.agentics:amap:231 - 500 states processed. 6.608963012695312e-06 seconds average per state in the last chunk ...\n",
      "2025-09-12 11:48:26.437 | DEBUG    | agentics.core.agentics:amap:231 - 600 states processed. 7.982254028320312e-06 seconds average per state in the last chunk ...\n",
      "2025-09-12 11:48:26.439 | DEBUG    | agentics.core.agentics:amap:231 - 700 states processed. 1.1839866638183593e-05 seconds average per state in the last chunk ...\n",
      "2025-09-12 11:48:26.440 | DEBUG    | agentics.core.agentics:amap:231 - 800 states processed. 8.43048095703125e-06 seconds average per state in the last chunk ...\n",
      "2025-09-12 11:48:26.441 | DEBUG    | agentics.core.agentics:amap:231 - 900 states processed. 9.391307830810547e-06 seconds average per state in the last chunk ...\n",
      "2025-09-12 11:48:26.443 | DEBUG    | agentics.core.agentics:amap:231 - 1000 states processed. 1.3651847839355468e-05 seconds average per state in the last chunk ...\n",
      "2025-09-12 11:48:26.445 | DEBUG    | agentics.core.agentics:amap:231 - 1100 states processed. 1.16729736328125e-05 seconds average per state in the last chunk ...\n",
      "2025-09-12 11:48:26.446 | DEBUG    | agentics.core.agentics:amap:231 - 1200 states processed. 8.928775787353516e-06 seconds average per state in the last chunk ...\n",
      "2025-09-12 11:48:26.447 | DEBUG    | agentics.core.agentics:amap:231 - 1300 states processed. 1.2617111206054688e-05 seconds average per state in the last chunk ...\n",
      "2025-09-12 11:48:26.449 | DEBUG    | agentics.core.agentics:amap:231 - 1400 states processed. 1.0008811950683593e-05 seconds average per state in the last chunk ...\n",
      "2025-09-12 11:48:26.450 | DEBUG    | agentics.core.agentics:amap:231 - 1500 states processed. 7.750988006591796e-06 seconds average per state in the last chunk ...\n",
      "2025-09-12 11:48:26.451 | DEBUG    | agentics.core.agentics:amap:231 - 1600 states processed. 6.6614151000976566e-06 seconds average per state in the last chunk ...\n",
      "2025-09-12 11:48:26.452 | DEBUG    | agentics.core.agentics:amap:231 - 1700 states processed. 6.248950958251953e-06 seconds average per state in the last chunk ...\n",
      "2025-09-12 11:48:26.453 | DEBUG    | agentics.core.agentics:amap:231 - 1800 states processed. 8.03232192993164e-06 seconds average per state in the last chunk ...\n",
      "2025-09-12 11:48:26.454 | DEBUG    | agentics.core.agentics:amap:231 - 1900 states processed. 9.069442749023437e-06 seconds average per state in the last chunk ...\n",
      "2025-09-12 11:48:26.455 | DEBUG    | agentics.core.agentics:amap:231 - 2000 states processed. 7.221698760986328e-06 seconds average per state in the last chunk ...\n"
     ]
    },
    {
     "name": "stdout",
     "output_type": "stream",
     "text": [
      "Date: 2016-07-01, Daily Range: 0.47703930117312493\n",
      "Date: 2016-06-30, Daily Range: 1.2353831025172834\n",
      "Date: 2016-06-29, Daily Range: 1.423521751672572\n"
     ]
    }
   ],
   "source": [
    "## Note that input and output are both StockMarketState objects\n",
    "async def get_daily_variation_percentage(state: StockMarketState) -> StockMarketState:\n",
    "    state.daily_range = (float(state.high) - float(state.low)) / float(state.low) * 100\n",
    "    return state\n",
    "\n",
    "## Apply the function to all states using amap\n",
    "dj_data.batch_size = 100\n",
    "dj_data = await dj_data.amap(get_daily_variation_percentage)\n",
    "\n",
    "for state in dj_data[:3]: \n",
    "    print(f\"Date: {state.date}, Daily Range: {state.daily_range}\")"
   ]
  },
  {
   "cell_type": "markdown",
   "id": "e0e2bdfd",
   "metadata": {},
   "source": [
    "## aReduce"
   ]
  },
  {
   "cell_type": "markdown",
   "id": "ecb8895e",
   "metadata": {},
   "source": [
    "Reduce functions enable executing operations on the entire list of elements (states) within an Agentics group. Although reduce operations are intrinsically synchronous—since they consider all states at once—they are defined as async functions to allow for internal async calls (such as fetching news or running LLMs).\n",
    "\n",
    "In the following example we will use a reduce function to analyze get the top 10 days with highest variation in the market"
   ]
  },
  {
   "cell_type": "code",
   "execution_count": 21,
   "id": "9b73900d",
   "metadata": {},
   "outputs": [
    {
     "name": "stdout",
     "output_type": "stream",
     "text": [
      "Atype : <class '__main__.StockMarketState'>\n",
      "date: '2008-10-10'\n",
      "open: 8568.669922\n",
      "high: 8901.280273\n",
      "low: 7882.509766\n",
      "close: 8451.19043\n",
      "volume: 674920000.0\n",
      "daily_range: 12.924443321266926\n",
      "news: null\n",
      "explanation_report: null\n",
      "\n",
      "date: '2008-11-13'\n",
      "open: 8281.139648\n",
      "high: 8876.589844\n",
      "low: 7965.419922\n",
      "close: 8835.25\n",
      "volume: 476600000.0\n",
      "daily_range: 11.439069514507388\n",
      "news: null\n",
      "explanation_report: null\n",
      "\n",
      "date: '2008-10-13'\n",
      "open: 8462.419922\n",
      "high: 9427.990234\n",
      "low: 8462.179688\n",
      "close: 9387.610352\n",
      "volume: 399290000.0\n",
      "daily_range: 11.413259722782675\n",
      "news: null\n",
      "explanation_report: null\n",
      "\n",
      "date: '2008-10-28'\n",
      "open: 8178.720215\n",
      "high: 9082.080078\n",
      "low: 8174.72998\n",
      "close: 9065.120117\n",
      "volume: 372160000.0\n",
      "daily_range: 11.099450382090795\n",
      "news: null\n",
      "explanation_report: null\n",
      "\n",
      "date: '2010-05-06'\n",
      "open: 10868.120117\n",
      "high: 10879.759766\n",
      "low: 9869.620117\n",
      "close: 10520.320312\n",
      "volume: 459890000.0\n",
      "daily_range: 10.23483819058118\n",
      "news: null\n",
      "explanation_report: null\n",
      "\n",
      "date: '2008-10-09'\n",
      "open: 9261.69043\n",
      "high: 9448.139648\n",
      "low: 8579.19043\n",
      "close: 8579.19043\n",
      "volume: 436740000.0\n",
      "daily_range: 10.12856894936647\n",
      "news: null\n",
      "explanation_report: null\n",
      "\n",
      "date: '2008-10-16'\n",
      "open: 8577.040039\n",
      "high: 9013.269531\n",
      "low: 8197.669922\n",
      "close: 8979.259766\n",
      "volume: 422450000.0\n",
      "daily_range: 9.949163808257087\n",
      "news: null\n",
      "explanation_report: null\n",
      "\n",
      "date: '2008-10-15'\n",
      "open: 9301.910156\n",
      "high: 9308.759766\n",
      "low: 8530.120117\n",
      "close: 8577.910156\n",
      "volume: 374350000.0\n",
      "daily_range: 9.128120569465585\n",
      "news: null\n",
      "explanation_report: null\n",
      "\n",
      "date: '2008-11-20'\n",
      "open: 7995.529785\n",
      "high: 8187.399902\n",
      "low: 7506.970215\n",
      "close: 7552.290039\n",
      "volume: 528130000.0\n",
      "daily_range: 9.06397211541354\n",
      "news: null\n",
      "explanation_report: null\n",
      "\n",
      "date: '2008-12-01'\n",
      "open: 8826.889648\n",
      "high: 8827.049805\n",
      "low: 8141.359863\n",
      "close: 8149.089844\n",
      "volume: 321010000.0\n",
      "daily_range: 8.422302336938241\n",
      "news: null\n",
      "explanation_report: null\n",
      "\n",
      "\n"
     ]
    }
   ],
   "source": [
    "async def get_highest_volatility_days(states:list[StockMarketState]) -> list[StockMarketState]:\n",
    "    \n",
    "    # sort the states by volatility and return the top 10, define a new AG with these states\n",
    "    return sorted(states, \n",
    "                key=lambda x: abs(x.daily_range) if x.daily_range is not None else 0, \n",
    "                reverse=True)[:10]\n",
    "\n",
    "# apply the reduce function to get the top 10 days with highest volatility\n",
    "highest_volatility_days = await dj_data.areduce(get_highest_volatility_days)\n",
    "print(highest_volatility_days.pretty_print())"
   ]
  },
  {
   "cell_type": "markdown",
   "id": "26496816",
   "metadata": {},
   "source": [
    "## Complex AMAPs\n",
    "\n",
    "aMaps function can contain external API and LLM calls. This way we can use agentics as a scaleout frameworks for complex workflows. "
   ]
  },
  {
   "cell_type": "code",
   "execution_count": 22,
   "id": "7f30733f",
   "metadata": {},
   "outputs": [
    {
     "name": "stderr",
     "output_type": "stream",
     "text": [
      "2025-09-12 11:49:28.549 | DEBUG    | agentics.core.agentics:amap:206 - Executing amap on function <function get_news at 0x15a4c31a0>\n",
      "2025-09-12 11:49:44.109 | DEBUG    | agentics.core.agentics:amap:231 - 10 states processed. 1.5559696912765504 seconds average per state in the last chunk ...\n"
     ]
    },
    {
     "name": "stdout",
     "output_type": "stream",
     "text": [
      "date='2008-10-10' open=8568.669922 high=8901.280273 low=7882.509766 close=8451.19043 volume=674920000.0 daily_range=12.924443321266926 news='[{\\'title\\': \\'Wikipedia Stock market crash - Wikipedia\\', \\'href\\': \\'https://en.wikipedia.org/wiki/Stock_market_crash\\', \\'body\\': \\'5 days ago - From October 6–10, 2008, the Dow Jones Industrial Average (DJIA) closed lower in all five sessions . Volume levels were record-breaking. The DJIA fell over 1,874 points, or 18%, in its worst weekly decline ever on both a points and percentage basis.\\'}, {\\'title\\': \\'Wikipedia United States bear market of 2007–2009 - Wikipedia\\', \\'href\\': \\'https://en.wikipedia.org/wiki/United_States_bear_market_of_2007–2009\\', \\'body\\': \\'August 4, 2025 - The US bear market of 2007–2009 was a bear market that lasted from October 9, 2007 to March 9, 2009, encompassing the 2008 financial crisis. The S&P 500 lost approximately 50% of its value , but the duration of the bear market was just below average. The bear market was confirmed in June 2008 ...\\'}, {\\'title\\': \\'Wikipedia 2008 financial crisis - Wikipedia\\', \\'href\\': \\'https://en.wikipedia.org/wiki/2008_financial_crisis\\', \\'body\\': \\'3 weeks ago - October 6–10, 2008: From October 6–10, 2008, the Dow Jones Industrial Average (DJIA) closed lower in all five sessions . Volume levels were record-breaking. The DJIA fell 1,874.19 points, or 18.2%, in its worst weekly decline ever on both a points and percentage basis.\\'}, {\\'title\\': \\'Wikipedia Global financial crisis in October 2008 - Wikipedia\\', \\'href\\': \\'https://en.wikipedia.org/wiki/Global_financial_crisis_in_October_2008\\', \\'body\\': \\'August 4, 2025 - On October 13 stock markets worldwide rose with the Dow Jones industrial average showing a 400-point leap at the start of trading . At the close of trading the average was up 936.42 points, a record climb, up 11.08%, closing above 9,000 at 9,387.61. After announcement in France of a 320 billion ...\\'}, {\\'title\\': \\'Investopedia The Stock Market Crash of 2008\\', \\'href\\': \\'https://www.investopedia.com/articles/economics/09/subprime-market-2008.asp\\', \\'body\\': \\'November 21, 2024 - While many Americans recall watching in horror as the Dow Jones Industrial Average plummeted nearly 780 points in a single day in October of that year—then its biggest one-day drop in history—the seeds of a crisis that would cost the global economy more than $2 trillion of economic growth ...\\'}, {\\'title\\': \\'The Balance When and Why Did the Stock Market Crash in 2008?\\', \\'href\\': \\'https://www.thebalancemoney.com/stock-market-crash-of-2008-3305535\\', \\'body\\': \\'June 8, 2024 - It took roughly five years for stocks to recover from the market decline that included the 2008 crash. The Dow Jones Industrial Average recovered to its October 2007 highs in March 2013.\\'}, {\\'title\\': \\'PubMed Central STOCK MARKET CRASH AND EXPECTATIONS OF AMERICAN HOUSEHOLDS - PMC\\', \\'href\\': \\'https://pmc.ncbi.nlm.nih.gov/articles/PMC3086799/\\', \\'body\\': \\'See, for example, Kezdi and Willis (2008) about American households and Hurd, Rooij and Winter (2009) about Dutch households. According to Kezdi and Willis (2008), it took a five hundred point gain in the Dow Jones to generate a one percentage point gain in expected yearly returns in 2002.\\'}, {\\'title\\': \\'Investopedia Timeline of US Stock Market Crashes\\', \\'href\\': \\'https://www.investopedia.com/timeline-of-stock-market-crashes-5217820\\', \\'body\\': \"February 28, 2022 - Sept. 16, 2008: The government bails out insurance company AIG by buying 80% of it . It doesn\\'t bail out Lehman Brothers. On March 5, 2009, the Dow Jones closed at 6,926, a drop of more than 50% from its pre-recession high.\"}, {\\'title\\': \\'NYTimes For Stocks, Worst Single-Day Drop in Two Decades - The New York Times\\', \\'href\\': \\'https://www.nytimes.com/2008/09/30/business/30markets.html\\', \\'body\\': \\'September 30, 2008 - What had started 24 hours earlier, ... plunged almost 9 percent, its third-biggest decline since World War II. The Dow Jones industrial average fell nearly 778 points, or 6.98 percent, to 10,365.45. ...\\'}, {\\'title\\': \\'HISTORY Dow suffers record-breaking single-day drop | September 29, 2008 | HISTORY\\', \\'href\\': \\'https://www.history.com/this-day-in-history/september-29/dow-suffers-largest-single-day-drop-great-recession\\', \\'body\\': \\'Congress’s inability to pass the Bush administration’s bill led to fears that the nearly frozen credit markets wouldn’t be able to rebound quickly, causing sellers to shed their stocks. The Dow drop equaled a whopping $1.2 trillion loss in market value , contributing to the 18-month-long ...\\'}]' explanation_report=None\n"
     ]
    }
   ],
   "source": [
    "from ddgs import DDGS\n",
    "\n",
    "## Define a function to get news for a given date using the DDGS search engine\n",
    "## Note that the similar functionalities can be implemented using MCP tools in AGs\n",
    "async def get_news(state):\n",
    "    state.news=str(DDGS().text(f\"What happended to the stock market and dow jones on {state.date}\", max_results=10))\n",
    "    return state    \n",
    "\n",
    "## set the batch size for the amap function to 5 (only 10 states will be processed)\n",
    "highest_volatility_days.batch_size = 10\n",
    "\n",
    "# Now get news for the top 10 days with highest volatility using amap\n",
    "highest_volatility_days = await highest_volatility_days.amap(get_news)\n",
    "\n",
    "# print the first result for brevity\n",
    "print(highest_volatility_days[0])\n",
    "#print(f\"Date: {highest_volatility_days[0].date}, Daily Range: {highest_volatility_days[0].daily_range}, News: {highest_volatility_days[0].news[:200]}\")"
   ]
  },
  {
   "cell_type": "markdown",
   "id": "9cf39b3b",
   "metadata": {},
   "source": [
    "Now let's use self transduction to provide an explanation for the market volatility"
   ]
  },
  {
   "cell_type": "code",
   "execution_count": 23,
   "id": "9ce555e2",
   "metadata": {},
   "outputs": [
    {
     "name": "stderr",
     "output_type": "stream",
     "text": [
      "2025-09-12 11:51:18.682 | DEBUG    | agentics.core.llm_connections:get_llm_provider:29 - No LLM provider specified. Using the first available provider.\n",
      "2025-09-12 11:51:18.683 | DEBUG    | agentics.core.llm_connections:get_llm_provider:31 - Available LLM providers: ['watsonx', 'gemini', 'openai']. Using 'watsonx'\n",
      "2025-09-12 11:51:18.684 | DEBUG    | agentics.core.agentics:__lshift__:518 - Executing task: Explain the reasons why the market went down or up \n",
      "given the high volatility in the stock market on this day based on the news provided. \n",
      "Provide a concise summary.\n",
      "10 states will be transduced\n",
      "2025-09-12 11:51:18.685 | DEBUG    | agentics.core.agentics:__lshift__:612 - transducer class: <class 'agentics.abstractions.pydantic_transducer.PydanticTransducerCrewAI'>\n",
      "2025-09-12 11:51:39.754 | DEBUG    | agentics.core.agentics:__lshift__:648 - Processed 10 states in 21.06796383857727 seconds\n",
      "2025-09-12 11:51:39.754 | DEBUG    | agentics.core.agentics:__lshift__:700 - 10 states processed in 2.106796383857727 seconds average per state ...\n"
     ]
    },
    {
     "name": "stdout",
     "output_type": "stream",
     "text": [
      "Date: 2008-10-10, Daily Range: 12.924443321266926\n",
      "Explanation: The market went down on this day due to the high volatility in the stock market, which was caused by the 2008 financial crisis. The Dow Jones Industrial Average (DJIA) closed lower in all five sessions from October 6-10, 2008, with a record-breaking decline of 1,874 points, or 18.2%, in its worst weekly decline ever on both a points and percentage basis. This was a result of the global financial crisis, which was triggered by the subprime mortgage crisis and led to a freeze in credit markets, causing sellers to shed their stocks. The crisis led to a significant loss in market value, with the Dow Jones industrial average falling nearly 778 points, or 6.98%, to 10,365.45 on September 29, 2008. The market's decline was further exacerbated by Congress's inability to pass the Bush administration's bill, which led to fears that the credit markets wouldn't be able to rebound quickly. The stock market crash of 2008 had a significant impact on the global economy, with the S&P 500 losing approximately 50% of its value, and it took roughly five years for stocks to recover from the market decline....\n",
      "Date: 2008-11-13, Daily Range: 11.439069514507388\n",
      "Explanation: The market went up on November 13, 2008, as evidenced by the high and close values (8876.589844 and 8835.25 respectively) being higher than the open value (8281.139648). This increase occurred despite the high volatility in the stock market during this time, as indicated by the daily range of 11.439069514507388. The news articles provided suggest that the 2008 financial crisis was a major factor in the market's volatility, with the Dow Jones Industrial Average experiencing significant fluctuations throughout the year. The crisis was triggered by a housing market bubble bursting, leading to a large number of defaults on subprime mortgages and a subsequent decline in the value of mortgage-backed securities. This caused a credit crisis, as banks and other financial institutions found themselves with large amounts of worthless securities, leading to a decline in lending and a slowdown in economic activity. The market's increase on November 13, 2008, may have been a response to the government's efforts to stabilize the financial system, including the passage of the bailout bill in October 2008 and the Federal Reserve's intervention in the market. However, the market's overall trend during this time was downward, with the Dow Jones Industrial Average eventually falling to a low of 6,443.27 on March 6, 2009, a decline of over 50% from its peak in October 2007....\n",
      "Date: 2008-10-13, Daily Range: 11.413259722782675\n",
      "Explanation: The market went up on October 13, 2008, with the Dow Jones industrial average showing a 400-point leap at the start of trading and closing at 9,387.61, up 11.08%. This surge was likely due to the announcement of a global cash infusion designed to unthaw the credit market and avoid a global financial crisis. The news of Iceland shutting down its stock market, abandoning attempts to defend its currency, and requesting emergency financing from the International Monetary Fund also signaled a critical moment in the 2008 global financial crisis. Additionally, the US government's bailout plan and the Federal Reserve's intervention to save failing investment banks may have contributed to the market's rebound. The Dow's significant gain on this day was one of its best performances in history, with only four times in its history has the Dow risen more percentage points in a day....\n",
      "Date: 2008-10-28, Daily Range: 11.099450382090795\n",
      "Explanation: The market went up on this day. The given news does not provide any direct information related to the stock market or its volatility. However, based on the provided data, the 'close' value (9065.120117) is higher than the 'open' value (8178.720215), indicating an increase in the market. The 'high' value (9082.080078) is also higher than the 'low' value (8174.72998), further supporting the conclusion that the market went up. The 'daily_range' (11.099450382090795) and 'volume' (372160000.0) values are provided but without additional context, their impact on the market's direction cannot be directly determined. Given the information available, the increase in the market can be attributed to various factors not specified in the news, such as economic indicators, company performances, or global events, but these are not detailed in the provided news articles, which primarily focus on travel guides to Bangkok....\n",
      "Date: 2010-05-06, Daily Range: 10.23483819058118\n",
      "Explanation: The market went down on May 6, 2010, due to the 2010 Flash Crash, which was triggered by worries about the debt crisis in Greece. The Dow Jones Industrial Average (DJIA) lost almost 1,000 points in around 10 minutes, but then recovered almost 600 points in the next 30 minutes. The flash crash was a rapid decline in the stock market that occurred at around 2:30 p.m. and was characterized by a plunge of over 9% within a couple of minutes. The market's decline was likely caused by a combination of factors, including high-frequency trading, liquidity erosion, and technical problems. The flash crash had a lasting impact on the stock market, leading to intense scrutiny and changes in market regulations. The DJIA's rapid decline and subsequent recovery were likely due to a mix of human error, technical glitches, and market volatility....\n",
      "Date: 2008-10-09, Daily Range: 10.12856894936647\n",
      "Explanation: The market went down on October 9, 2008, due to the global financial crisis. The Dow Jones Industrial Average fell below 9,000 for the first time in five years, with a 7.62% drop. This was one of the worst days in the stock market, reflecting the severity of the financial crisis at the time. The crisis was triggered by the subprime mortgage market and led to a significant decline in the stock market, with the Dow Jones Industrial Average falling by 54% from its high in October 2007 to its low in March 2009. The market volatility was high, with investors selling off stocks in a panic, and the market experienced one of its worst declines in seven decades. The 2008 stock market crash destroyed $16.4 trillion of American households' net worth and wiped out more than $2 trillion of Americans' retirement savings....\n",
      "Date: 2008-10-16, Daily Range: 9.949163808257087\n",
      "Explanation: The market went up on this day, with the close price being 8979.259766, which is higher than the open price of 8577.040039. This is despite the high volatility in the stock market, as indicated by the daily range of 9.949163808257087. The news articles provided suggest that the stock market was experiencing a bear market during this time period, with the S&P 500 losing approximately 50% of its value. However, on this specific day, the market seems to have rebounded, with the close price being higher than the open price. The volume of 422450000.0 also indicates a high level of trading activity. Overall, the market's upward movement on this day can be attributed to various factors, including investor sentiment and market trends, which are influenced by the news and events of the time....\n",
      "Date: 2008-10-15, Daily Range: 9.128120569465585\n",
      "Explanation: The market went down on October 15, 2008, due to the global financial crisis. The Dow Jones industrial average plummeted nearly 8 percent, with a point loss of 733, which was the second-largest point loss ever at the time. This decline was triggered by comments from Federal Reserve Chairman Ben Bernanke, which sent the already-rattled market to session lows. The losses were also attributed to recession fears and a gloomy economic outlook. The market's despair was further exacerbated by significant declines in the London stock exchange FTSE 100, which fell substantially, surrendering 314 points to slip down 7.16 percent. The news reports from various sources, including CNBC, NPR, and The Guardian, all indicate a sharp decline in the stock market on this day, with the Dow Jones industrial average experiencing its steepest drop since one week after Black Monday. The market volatility was high, with the daily range being 9.13 percent, and the volume of trading reaching 374,350,000. Overall, the market went down due to a combination of factors, including the global financial crisis, recession fears, and a gloomy economic outlook, which led to a significant decline in stock prices and a high level of market volatility....\n",
      "Date: 2008-11-20, Daily Range: 9.06397211541354\n",
      "Explanation: The market went down on November 20, 2008, due to the global financial crisis. The Dow Jones Industrial Average dropped 445 points in the last minutes of the trading session, closing at 7,552, the lowest point in six years. Shares in Citigroup plummeted another 26%, and shares of other major US financial institutions dropped by more than 10%. This was a result of the ongoing financial crisis, which was triggered by the subprime mortgage crisis and led to a significant decline in the stock market. The crisis was characterized by a decline in housing prices, a rise in foreclosures, and a subsequent decline in the value of mortgage-backed securities. The Dow Jones Industrial Average fell from its high of 14,164.43 reached on October 9, 2007, to 6,443.27 by March 6, 2009, a 54% plunge in little under 18 months. The average closing price for the Dow Jones Industrial Average in November 2008 was $8,614.55, down 5.3% for the month. The stock market crash of 2008 had a significant impact on the global economy, leading to a recession and a significant decline in economic activity....\n",
      "Date: 2008-12-01, Daily Range: 8.422302336938241\n",
      "Explanation: The market went down on December 1, 2008, due to the global financial crisis. The S&P 500 fell 80.03 points to 816.21, down 8.93%, and financial stocks in the S&P 500 fell 17%. The Dow Jones Industrial Average closed at 8,149.09. This significant drop was a result of the ongoing financial crisis, which was triggered by the subprime mortgage crisis and led to a recession. The news articles provided confirm that 2008 was one of the worst years for the stock market, with the Dow Jones Industrial Average finishing the year down 33.8% and the S&P 500 experiencing its worst year since 1937. The market volatility was high, with the daily range being 8.422302336938241, and the volume being 321010000.0. The reasons for the market crash include the global financial crisis, the subprime mortgage crisis, and the resulting recession. The news articles provided offer a detailed explanation of the events leading up to the crash, the market collapse, and the aftermath....\n"
     ]
    }
   ],
   "source": [
    "from agentics.core.llm_connections import get_llm_provider\n",
    "highest_volatility_days.instructions = \"\"\"Explain the reasons why the market went down or up \n",
    "given the high volatility in the stock market on this day based on the news provided. \n",
    "Provide a concise summary.\"\"\"\n",
    "highest_volatility_days.llm= get_llm_provider() ## You can choose between \"openai\", \"watsonx\", \"gemini\", \"vllm_crewai\"\n",
    "highest_volatility_explanations = await highest_volatility_days.self_transduction(\n",
    "[\"date\", \"open\", \"high\", \"low\", \"close\", \"volume\", \"daily_range\", \"news\"],[\"explanation_report\"])\n",
    "\n",
    "for state in highest_volatility_explanations: \n",
    "    print(f\"Date: {state.date}, Daily Range: {state.daily_range}\\nExplanation: {state.explanation_report}...\")"
   ]
  },
  {
   "cell_type": "markdown",
   "id": "00ae3253",
   "metadata": {},
   "source": [
    "## Well Done\n",
    "You are now fully equipped to work with agentics and apply it to your data.\n",
    "Congratulations and please contribute back to the community if you feel this is exciting. "
   ]
  }
 ],
 "metadata": {
  "kernelspec": {
   "display_name": ".venv",
   "language": "python",
   "name": "python3"
  },
  "language_info": {
   "codemirror_mode": {
    "name": "ipython",
    "version": 3
   },
   "file_extension": ".py",
   "mimetype": "text/x-python",
   "name": "python",
   "nbconvert_exporter": "python",
   "pygments_lexer": "ipython3",
   "version": "3.12.9"
  }
 },
 "nbformat": 4,
 "nbformat_minor": 5
}
