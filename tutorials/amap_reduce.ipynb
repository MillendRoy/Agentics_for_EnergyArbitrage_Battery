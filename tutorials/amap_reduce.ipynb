{
 "cells": [
  {
   "cell_type": "markdown",
   "id": "d14bfec4",
   "metadata": {},
   "source": [
    "# aMapReduce Framework\n",
    "\n",
    "Agentics enable scalable execution of LLM workflows by implementing a MapReduce framework which enable the async use of LLM blended with regular python code."
   ]
  },
  {
   "cell_type": "code",
   "execution_count": null,
   "id": "d2c428a7",
   "metadata": {},
   "outputs": [
    {
     "ename": "IndentationError",
     "evalue": "unexpected indent (3816424734.py, line 22)",
     "output_type": "error",
     "traceback": [
      "  \u001b[36mCell\u001b[39m\u001b[36m \u001b[39m\u001b[32mIn[1]\u001b[39m\u001b[32m, line 22\u001b[39m\n\u001b[31m    \u001b[39m\u001b[31mload_dotenv(\"/content/drive/MyDrive/.env\")\u001b[39m\n    ^\n\u001b[31mIndentationError\u001b[39m\u001b[31m:\u001b[39m unexpected indent\n"
     ]
    }
   ],
   "source": [
    "! uv pip install agentics-py\n",
    "\n",
    "\n",
    "import os\n",
    "from pathlib import Path\n",
    "import sys\n",
    "from getpass import getpass\n",
    "\n",
    "from dotenv import find_dotenv, load_dotenv\n",
    "\n",
    "CURRENT_PATH = \"\"\n",
    "\n",
    "IN_COLAB = \"google.colab\" in sys.modules\n",
    "print(\"In Colab:\", IN_COLAB)\n",
    "\n",
    "\n",
    "if IN_COLAB:\n",
    "    CURRENT_PATH = \"/content/drive/MyDrive/\"\n",
    "    # Mount your google drive\n",
    "    from google.colab import drive\n",
    "    drive.mount(\"/content/drive\")\n",
    "    load_dotenv(\"/content/drive/MyDrive/.env\")\n",
    "else:\n",
    "    \n",
    "    CURRENT_PATH=os.getcwd()\n",
    "    load_dotenv(find_dotenv())\n",
    "\n",
    "if not os.getenv(\"GEMINI_API_KEY\"):\n",
    "    os.environ[\"GEMINI_API_KEY\"] = getpass(\"Enter your GEMINI_API_KEY:\")\n",
    "\n",
    "base = Path(CURRENT_PATH)"
   ]
  },
  {
   "cell_type": "markdown",
   "id": "90dd4694",
   "metadata": {},
   "source": [
    "Let us first define an aType to represent StockMarket Data for the DowJones index, and populate it with historical data"
   ]
  },
  {
   "cell_type": "code",
   "execution_count": null,
   "id": "d981012d",
   "metadata": {},
   "outputs": [
    {
     "name": "stderr",
     "output_type": "stream",
     "text": [
      "2025-09-11 11:16:29.850 | DEBUG    | agentics.core.llm_connections:<module>:121 - AGENTICS is connecting to the following LLM API providers:\n",
      "2025-09-11 11:16:29.850 | DEBUG    | agentics.core.llm_connections:<module>:124 - 0 - WatsonX\n",
      "2025-09-11 11:16:29.851 | DEBUG    | agentics.core.llm_connections:<module>:129 - 1 - Gemini\n",
      "2025-09-11 11:16:29.851 | DEBUG    | agentics.core.llm_connections:<module>:133 - 2 - OpenAI\n",
      "2025-09-11 11:16:29.851 | DEBUG    | agentics.core.llm_connections:<module>:135 - Please add API keys in .env file to add or disconnect providers.\n",
      "2025-09-11 11:16:29.858 | DEBUG    | agentics.core.llm_connections:get_llm_provider:29 - No LLM provider specified. Using the first available provider.\n",
      "2025-09-11 11:16:29.859 | DEBUG    | agentics.core.llm_connections:get_llm_provider:31 - Available LLM providers: ['watsonx', 'gemini', 'openai']. Using 'watsonx'\n",
      "2025-09-11 11:16:29.861 | DEBUG    | agentics.core.agentics:from_csv:312 - Importing Agentics of type StockMarketState from CSV /Users/gliozzo/Code/agentics911/agentics/tutorials/data/dow_jones.csv\n"
     ]
    },
    {
     "name": "stdout",
     "output_type": "stream",
     "text": [
      "date='2016-07-01' open=17924.240234 high=18002.380859 low=17916.910156 close=17949.369141 volume=82160000.0 daily_range=None news=None explanation_report=None\n",
      "date='2016-06-30' open=17712.759766 high=17930.609375 low=17711.800781 close=17929.990234 volume=133030000.0 daily_range=None news=None explanation_report=None\n",
      "date='2016-06-29' open=17456.019531 high=17704.509766 low=17456.019531 close=17694.679688 volume=106380000.0 daily_range=None news=None explanation_report=None\n"
     ]
    }
   ],
   "source": [
    "from agentics import Agentics as AG\n",
    "from typing import Optional\n",
    "from pydantic import BaseModel, Field\n",
    "from datetime import datetime\n",
    "## Define the data model for stock market data\n",
    "\n",
    "\n",
    "class StockMarketState(BaseModel):\n",
    "    date: Optional[str] = None\n",
    "    open: Optional[float] = None\n",
    "    high: Optional[float] = None\n",
    "    low: Optional[float] = None\n",
    "    close: Optional[float] = None\n",
    "    volume: Optional[float] = None\n",
    "    daily_range: Optional[float] = Field(None, \n",
    "        description=\"\"\"The difference between the high and low prices for the day.\"\"\")\n",
    "    news: Optional[str] = Field(None, \n",
    "        description=\"\"\"Text reporting a list of news headlines relevant to the stock for the day.\"\"\")\n",
    "    explanation_report: Optional[str] = Field(None,\n",
    "        description=\"A detailed explanation of the stock market state for the day.\")\n",
    "\n",
    "\n",
    "       \n",
    "    \n",
    "## import the data\n",
    "dj_data = AG.from_csv(base / \"data/dow_jones.csv\", atype=StockMarketState)\n",
    "for state in dj_data[:3]: \n",
    "    print(state)"
   ]
  },
  {
   "cell_type": "markdown",
   "id": "ca61713d",
   "metadata": {},
   "source": [
    "## Amap\n",
    "\n",
    "Amap functions enable async execution of functions over all the states of an AG. Agentics supports 1:1 maps that maps all states of an AG into states of the same type.\n",
    "\n",
    "In the following example we define a simple function to compute the daily_range of the stock and we pass that to an amap fuction which applies that to all states asyncronously"
   ]
  },
  {
   "cell_type": "code",
   "execution_count": null,
   "id": "fa1e862d",
   "metadata": {},
   "outputs": [
    {
     "name": "stderr",
     "output_type": "stream",
     "text": [
      "2025-09-11 11:16:29.871 | DEBUG    | agentics.core.agentics:amap:206 - Executing amap on function <function get_daily_variation_percentage at 0x1075c4d60>\n",
      "2025-09-11 11:16:29.873 | DEBUG    | agentics.core.agentics:amap:231 - 100 states processed. 8.151531219482421e-06 seconds average per state in the last chunk ...\n",
      "2025-09-11 11:16:29.874 | DEBUG    | agentics.core.agentics:amap:231 - 200 states processed. 7.290840148925781e-06 seconds average per state in the last chunk ...\n",
      "2025-09-11 11:16:29.874 | DEBUG    | agentics.core.agentics:amap:231 - 300 states processed. 6.489753723144531e-06 seconds average per state in the last chunk ...\n",
      "2025-09-11 11:16:29.875 | DEBUG    | agentics.core.agentics:amap:231 - 400 states processed. 5.781650543212891e-06 seconds average per state in the last chunk ...\n",
      "2025-09-11 11:16:29.876 | DEBUG    | agentics.core.agentics:amap:231 - 500 states processed. 5.9580802917480465e-06 seconds average per state in the last chunk ...\n",
      "2025-09-11 11:16:29.877 | DEBUG    | agentics.core.agentics:amap:231 - 600 states processed. 5.879402160644531e-06 seconds average per state in the last chunk ...\n",
      "2025-09-11 11:16:29.878 | DEBUG    | agentics.core.agentics:amap:231 - 700 states processed. 6.508827209472656e-06 seconds average per state in the last chunk ...\n",
      "2025-09-11 11:16:29.878 | DEBUG    | agentics.core.agentics:amap:231 - 800 states processed. 5.848407745361328e-06 seconds average per state in the last chunk ...\n",
      "2025-09-11 11:16:29.879 | DEBUG    | agentics.core.agentics:amap:231 - 900 states processed. 7.140636444091797e-06 seconds average per state in the last chunk ...\n",
      "2025-09-11 11:16:29.880 | DEBUG    | agentics.core.agentics:amap:231 - 1000 states processed. 7.758140563964844e-06 seconds average per state in the last chunk ...\n",
      "2025-09-11 11:16:29.881 | DEBUG    | agentics.core.agentics:amap:231 - 1100 states processed. 7.932186126708985e-06 seconds average per state in the last chunk ...\n",
      "2025-09-11 11:16:29.883 | DEBUG    | agentics.core.agentics:amap:231 - 1200 states processed. 8.020401000976563e-06 seconds average per state in the last chunk ...\n",
      "2025-09-11 11:16:29.883 | DEBUG    | agentics.core.agentics:amap:231 - 1300 states processed. 6.6590309143066406e-06 seconds average per state in the last chunk ...\n",
      "2025-09-11 11:16:29.884 | DEBUG    | agentics.core.agentics:amap:231 - 1400 states processed. 6.709098815917969e-06 seconds average per state in the last chunk ...\n",
      "2025-09-11 11:16:29.885 | DEBUG    | agentics.core.agentics:amap:231 - 1500 states processed. 7.159709930419922e-06 seconds average per state in the last chunk ...\n",
      "2025-09-11 11:16:29.886 | DEBUG    | agentics.core.agentics:amap:231 - 1600 states processed. 6.201267242431641e-06 seconds average per state in the last chunk ...\n",
      "2025-09-11 11:16:29.887 | DEBUG    | agentics.core.agentics:amap:231 - 1700 states processed. 8.578300476074218e-06 seconds average per state in the last chunk ...\n",
      "2025-09-11 11:16:29.888 | DEBUG    | agentics.core.agentics:amap:231 - 1800 states processed. 7.588863372802734e-06 seconds average per state in the last chunk ...\n",
      "2025-09-11 11:16:29.889 | DEBUG    | agentics.core.agentics:amap:231 - 1900 states processed. 6.5112113952636716e-06 seconds average per state in the last chunk ...\n",
      "2025-09-11 11:16:29.892 | DEBUG    | agentics.core.agentics:amap:231 - 2000 states processed. 2.0122528076171876e-05 seconds average per state in the last chunk ...\n"
     ]
    },
    {
     "name": "stdout",
     "output_type": "stream",
     "text": [
      "Date: 2016-07-01, Daily Range: 0.47703930117312493\n",
      "Date: 2016-06-30, Daily Range: 1.2353831025172834\n",
      "Date: 2016-06-29, Daily Range: 1.423521751672572\n"
     ]
    }
   ],
   "source": [
    "## Note that input and output are both StockMarketState objects\n",
    "async def get_daily_variation_percentage(state: StockMarketState) -> StockMarketState:\n",
    "    state.daily_range = (float(state.high) - float(state.low)) / float(state.low) * 100\n",
    "    return state\n",
    "\n",
    "## Apply the function to all states using amap\n",
    "dj_data.batch_size = 100\n",
    "dj_data = await dj_data.amap(get_daily_variation_percentage)\n",
    "\n",
    "for state in dj_data[:3]: \n",
    "    print(f\"Date: {state.date}, Daily Range: {state.daily_range}\")"
   ]
  },
  {
   "cell_type": "markdown",
   "id": "e0e2bdfd",
   "metadata": {},
   "source": [
    "## aReduce"
   ]
  },
  {
   "cell_type": "markdown",
   "id": "ecb8895e",
   "metadata": {},
   "source": [
    "Reduce functions enable executing operations on the entire list of elements (states) within an Agentics group. Although reduce operations are intrinsically synchronous—since they consider all states at once—they are defined as async functions to allow for internal async calls (such as fetching news or running LLMs).\n",
    "\n",
    "In the following example we will use a reduce function to analyze get the top 10 days with highest variation in the market"
   ]
  },
  {
   "cell_type": "code",
   "execution_count": null,
   "id": "9b73900d",
   "metadata": {},
   "outputs": [
    {
     "name": "stdout",
     "output_type": "stream",
     "text": [
      "Atype : <class '__main__.StockMarketState'>\n",
      "date: '2008-10-10'\n",
      "open: 8568.669922\n",
      "high: 8901.280273\n",
      "low: 7882.509766\n",
      "close: 8451.19043\n",
      "volume: 674920000.0\n",
      "daily_range: 12.924443321266926\n",
      "news: null\n",
      "explanation_report: null\n",
      "\n",
      "date: '2008-11-13'\n",
      "open: 8281.139648\n",
      "high: 8876.589844\n",
      "low: 7965.419922\n",
      "close: 8835.25\n",
      "volume: 476600000.0\n",
      "daily_range: 11.439069514507388\n",
      "news: null\n",
      "explanation_report: null\n",
      "\n",
      "date: '2008-10-13'\n",
      "open: 8462.419922\n",
      "high: 9427.990234\n",
      "low: 8462.179688\n",
      "close: 9387.610352\n",
      "volume: 399290000.0\n",
      "daily_range: 11.413259722782675\n",
      "news: null\n",
      "explanation_report: null\n",
      "\n",
      "date: '2008-10-28'\n",
      "open: 8178.720215\n",
      "high: 9082.080078\n",
      "low: 8174.72998\n",
      "close: 9065.120117\n",
      "volume: 372160000.0\n",
      "daily_range: 11.099450382090795\n",
      "news: null\n",
      "explanation_report: null\n",
      "\n",
      "date: '2010-05-06'\n",
      "open: 10868.120117\n",
      "high: 10879.759766\n",
      "low: 9869.620117\n",
      "close: 10520.320312\n",
      "volume: 459890000.0\n",
      "daily_range: 10.23483819058118\n",
      "news: null\n",
      "explanation_report: null\n",
      "\n",
      "date: '2008-10-09'\n",
      "open: 9261.69043\n",
      "high: 9448.139648\n",
      "low: 8579.19043\n",
      "close: 8579.19043\n",
      "volume: 436740000.0\n",
      "daily_range: 10.12856894936647\n",
      "news: null\n",
      "explanation_report: null\n",
      "\n",
      "date: '2008-10-16'\n",
      "open: 8577.040039\n",
      "high: 9013.269531\n",
      "low: 8197.669922\n",
      "close: 8979.259766\n",
      "volume: 422450000.0\n",
      "daily_range: 9.949163808257087\n",
      "news: null\n",
      "explanation_report: null\n",
      "\n",
      "date: '2008-10-15'\n",
      "open: 9301.910156\n",
      "high: 9308.759766\n",
      "low: 8530.120117\n",
      "close: 8577.910156\n",
      "volume: 374350000.0\n",
      "daily_range: 9.128120569465585\n",
      "news: null\n",
      "explanation_report: null\n",
      "\n",
      "date: '2008-11-20'\n",
      "open: 7995.529785\n",
      "high: 8187.399902\n",
      "low: 7506.970215\n",
      "close: 7552.290039\n",
      "volume: 528130000.0\n",
      "daily_range: 9.06397211541354\n",
      "news: null\n",
      "explanation_report: null\n",
      "\n",
      "date: '2008-12-01'\n",
      "open: 8826.889648\n",
      "high: 8827.049805\n",
      "low: 8141.359863\n",
      "close: 8149.089844\n",
      "volume: 321010000.0\n",
      "daily_range: 8.422302336938241\n",
      "news: null\n",
      "explanation_report: null\n",
      "\n",
      "\n"
     ]
    }
   ],
   "source": [
    "async def get_highest_volatility_days(states:list[StockMarketState]) -> list[StockMarketState]:\n",
    "    \n",
    "    # sort the states by volatility and return the top 10, define a new AG with these states\n",
    "    return sorted(states, \n",
    "                key=lambda x: abs(x.daily_range) if x.daily_range is not None else 0, \n",
    "                reverse=True)[:10]\n",
    "\n",
    "# apply the reduce function to get the top 10 days with highest volatility\n",
    "highest_volatility_days = await dj_data.areduce(get_highest_volatility_days)\n",
    "print(highest_volatility_days.pretty_print())"
   ]
  },
  {
   "cell_type": "markdown",
   "id": "26496816",
   "metadata": {},
   "source": [
    "## Complex AMAPs\n",
    "\n",
    "aMaps function can contain external API and LLM calls. This way we can use agentics as a scaleout frameworks for complex workflows. "
   ]
  },
  {
   "cell_type": "code",
   "execution_count": null,
   "id": "7f30733f",
   "metadata": {},
   "outputs": [
    {
     "name": "stderr",
     "output_type": "stream",
     "text": [
      "2025-09-11 11:16:29.927 | DEBUG    | agentics.core.agentics:amap:206 - Executing amap on function <function get_news at 0x313117420>\n",
      "2025-09-11 11:16:41.140 | DEBUG    | agentics.core.agentics:amap:231 - 10 states processed. 1.1212978124618531 seconds average per state in the last chunk ...\n"
     ]
    },
    {
     "name": "stdout",
     "output_type": "stream",
     "text": [
      "date='2008-10-10' open=8568.669922 high=8901.280273 low=7882.509766 close=8451.19043 volume=674920000.0 daily_range=12.924443321266926 news='[{\\'title\\': \\'Global financial crisis in October 2008 - Wikipedia\\', \\'href\\': \\'https://en.wikipedia.org/wiki/Global_financial_crisis_in_October_2008\\', \\'body\\': \\'The Dow ended the day losing only 128 points, or 1.49%. Trading on New York Stock Exchange closed for the week with the Dow at 8,451, down 1,874 points, or 18% for the week, and after 8 days of losses, 40% down from its record high October 9, 2007.\\'}, {\\'title\\': \\'Stock market crash\\', \\'href\\': \\'https://en.wikipedia.org/wiki/Stock_market_crash\\', \\'body\\': \\'From October 6–10, 2008, the Dow Jones Industrial Average (DJIA) closed lower in all five sessions. Volume levels were record-breaking.\\'}, {\\'title\\': \\'Panicky Sellers Darken Afternoon on Wall Street - The New ...\\', \\'href\\': \\'https://www.nytimes.com/2008/10/10/business/10markets.html\\', \\'body\\': \\'Oct 10 , 2008 · A late-day decline again pushed the markets down sharply, with the Dow falling more than 600 points a year to the day after hitting its record high.\\'}, {\\'title\\': \\'The Stock Market Crash of 2008 - The Balance 2008 Stock Market Crash Causes and Aftermath - Money Morning The Stock Market Crash of 2008 - Investopedia Panicky Sellers Darken Afternoon on Wall Street - The New ... Dow Logs Biggest One-Day Point Gain Ever - CNBC The Crash of 2008 - U.S. News 2008 Stock Market Crash Causes and Aftermath - Money Morning 2008 Stock Market Crash Causes and Aftermath - Money Morning 2008 Stock Market Crash Causes and Aftermath - Money Morning 2008 Stock Market Crash Causes and Aftermath - Money Morning 2008 Stock Market Crash Causes and Aftermath - Money Morning The Crash of 2008 - U.S. News\\', \\'href\\': \\'https://www.thebalancemoney.com/stock-market-crash-of-2008-3305535\\', \\'body\\': \\'The Dow opened the year at 12,474.52. It rose despite growing concerns about the subprime mortgage crisis. On December 19, 2006, the U.S. Department of Commerce warned that October\\\\\\'s new home permits were 28% fewer than the year before.But economists didn\\\\\\'t think the housing slowdown would affect the rest of the economy. In fact, they were relieved... See full list on thebalancemoney.com At the end of January, the BEA revised its fourth-quarter 2007 GDP growth estimate down. It said growth was only 0.6%. The economy lost 17,000 jobs, the first drop in employment since 2004. The Dow shrugged off the news and hovered between 12,000 and 13,000 until March. On March 17, the Federal Reserve intervened to save the failing investment bank,... See full list on thebalancemoney.com The month started with chilling news. On Monday, September 15, 2008 , Lehman Brothers declared bankruptcy. The Dow dropped more than 200 points. On Tuesday, September 16, 2008 , the Fed announced it was bailing out insurance giant American International Group Inc. It made an $85 billion loan in return for 79.9% equity, effectively taking ownership. A... See full list on thebalancemoney.com Congress finally passed the bailout bill in early October, but the damage had already been done. The Labor Department reported that the economy had lost a whopping 159,000 jobs in the prior month. On Monday, October 6, 2008 , the Dow dropped by 800 points, closing below 10 ,000 for the first time since 2004. The Fed tried to prop up banks by lending $... See full list on thebalancemoney.com The month began with more bad news. The Labor Department reported that the economy had lost a staggering 240,000 jobs in October. The AIG bailout grew to $150 billion. The Bush administration announced it was using part of the $700 billion bailouts to buy preferred stocks in the nation\\\\\\'s banks. The Big Three automakers asked for a federal bailout. B... See full list on thebalancemoney.com The Fed dropped the fed funds rate to 0%, its lowest level in history. The Dow ended the year at a sickening 8,776.39, down almost 34% for the year. See full list on thebalancemoney.com On January 2, 2009, the Dow climbed to 9,034.69.Investors believed the new Obama administration could tackle the recession with its team of economic advisers. But the bad economic news continued. On March 5, 2009, the Dow plummeted to its bottom of 6,594.44. Soon afterward, President Barack Obama\\\\\\'s economic stimulus plan instilled the confidence ne... See full list on thebalancemoney.com Investors bore the emotional scars from the crash for the next four years. On June 1, 2012, they panicked over a poor May jobs report and the eurozone debt crisis. The Dow dropped 275 points. The 10 -year benchmark Treasury yield dropped to 1.47. This yield was the lowest rate in more than 200 years.It signaled that the confidence that evaporated du... See full list on thebalancemoney.com The stock market crash of 2008 was a result of defaults on consolidated mortgage-backed securities . Subprime housing loans comprised most mortgage-backed securities. Banks offered these loans to almost everyone, even those who weren’t creditworthy. When the housing market fell, many homeowners defaulted on their loans. These defaults resounded all ... See full list on thebalancemoney.com Oct 6, 2008 · The Dow Jones Industrial Average fell from its high of 14,164.43 reached on Oct. 9, 2007, to 6,443.27 by March 6, 2009 - a 54% plunge in little under 18 months. Nov 21, 2024 · Between 2007 and 2009, U.S. households lost over $16 trillion in net worth, the value of the stock market fell by half, and unemployment reached 10 % as the crisis turned into the Great Recession. Oct 10 , 2008 · A late-day decline again pushed the markets down sharply, with the Dow falling more than 600 points a year to the day after hitting its record high. Oct 13, 2008 · Stocks bounced back from their worst week ever with one of their best performances in history as investors cheered a global cash infusion designed to unthaw the credit market and avoid a global ... What happened to the Dow Jones industrial average in September? During eight blustery trading days beginning in late September, horrified investors watched the Dow Jones industrial average tumble nearly 2,400 points , including a sickening 18 percent drop in a single week. How did the 2008 stock market crash affect Americans\\\\\\' retirement savings? The 2008 stock market crash destroyed $16.4 trillion of American households\\\\\\' net worth from 2007 through 2009. It wiped out more than $2 trillion of Americans\\\\\\' retirement savings. The Dow Jones Industrial Average fell from its high of 14,164.43 reached on Oct. 9, 2007, to 6,443.27 by March 6, 2009 - a 54% plunge in little under 18 months. How much money did the 2008 stock market crash destroy? Gordon Gekko, \"Wall Street II.\" The 2008 stock market crash destroyed $16.4 trillion of American households\\\\\\' net worth from 2007 through 2009. It wiped out more than $2 trillion of Americans\\\\\\' retirement savings. Who triggered the 2008 stock market crash? They earned millions in salary and commission, triggered the 2008 stock market crash, and left U.S. taxpayers to foot the bill. And these 10 people are the most responsible for causing the crisis... The 2008 stock market crash destroyed $16.4 trillion of American households\\\\\\' net worth. What was the biggest single-day crash in Dow Jones history? The biggest ever single-day crash in Dow Jones history occurred on Sept. 29, 2008 , when the U.S. House of Representatives rejected the government\\\\\\'s $700 billion bank bailout The Dow dropped 777.68 points (6.98%) -- obliterating $1.2 trillion in market value. The index\\\\\\'s second biggest single-day loss happened just six days later on Oct. 15, 2008. How much money was wiped out by the Dow? It wiped out more than $2 trillion of Americans\\\\\\' retirement savings. The Dow Jones Industrial Average fell from its high of 14,164.43 reached on Oct. 9, 2007, to 6,443.27 by March 6, 2009 - a 54% plunge in little under 18 months. During that time, the Dow hit these gloomy milestones: Oct 17, 2008 · During eight blustery trading days beginning in late September, horrified investors watched the Dow Jones industrial average tumble nearly 2,400 points, including a sickening 18 percent drop in a ...\\'}, {\\'title\\': \\'2008 Stock Market Crash Causes and Aftermath - Money Morning\\', \\'href\\': \\'https://moneymorning.com/2015/06/26/2008-stock-market-crash-causes-and-aftermath/\\', \\'body\\': \\'Oct 6, 2008 · The Dow Jones Industrial Average fell from its high of 14,164.43 reached on Oct. 9, 2007, to 6,443.27 by March 6, 2009 - a 54% plunge in little under 18 months.\\'}, {\\'title\\': \\'The Stock Market Crash of 2008 - Investopedia\\', \\'href\\': \\'https://www.investopedia.com/articles/economics/09/subprime-market-2008.asp\\', \\'body\\': \\'Nov 21, 2024 · Between 2007 and 2009, U.S. households lost over $16 trillion in net worth, the value of the stock market fell by half, and unemployment reached 10 % as the crisis turned into the Great Recession.\\'}, {\\'title\\': \\'Dow Logs Biggest One-Day Point Gain Ever - CNBC\\', \\'href\\': \\'https://www.cnbc.com/2008/10/13/dow-logs-biggest-oneday-point-gain-ever.html\\', \\'body\\': \\'Oct 13, 2008 · Stocks bounced back from their worst week ever with one of their best performances in history as investors cheered a global cash infusion designed to unthaw the credit market and avoid a global ...\\'}, {\\'title\\': \\'The Crash of 2008 - U.S. News\\', \\'href\\': \\'https://money.usnews.com/money/personal-finance/investing/articles/2008/10/17/the-crash-of-2008\\', \\'body\\': \\'Oct 17, 2008 · During eight blustery trading days beginning in late September, horrified investors watched the Dow Jones industrial average tumble nearly 2,400 points, including a sickening 18 percent drop in a ...\\'}, {\\'title\\': \\'Dow falls through 9000 and picks up speed\\', \\'href\\': \\'https://www.nbcnews.com/id/wbna27113447\\', \\'body\\': \\'Oct 10, 2008 — A runaway train of a sell-off turned the anniversary of the stock market peak into one of the darkest days in Wall Street history Thursday.\\'}, {\\'title\\': \\'October 10th - This Day in Stock Market History\\', \\'href\\': \\'https://www.begintoinvest.com/october-10/\\', \\'body\\': \\'October 10th, 2008 – The Dow Jones Industrial Average has its most volatile day in history (at the time), swinging 1019 points during the day.\\'}]' explanation_report=None\n"
     ]
    }
   ],
   "source": [
    "from ddgs import DDGS\n",
    "\n",
    "## Define a function to get news for a given date using the DDGS search engine\n",
    "## Note that the similar functionalities can be implemented using MCP tools in AGs\n",
    "async def get_news(state):\n",
    "    state.news=str(DDGS().text(f\"What happended to the stock market and dow jones on {state.date}\", max_results=10))\n",
    "    return state    \n",
    "\n",
    "## set the batch size for the amap function to 5 (only 10 states will be processed)\n",
    "highest_volatility_days.batch_size = 10\n",
    "\n",
    "# Now get news for the top 10 days with highest volatility using amap\n",
    "highest_volatility_days = await highest_volatility_days.amap(get_news)\n",
    "\n",
    "# print the first result for brevity\n",
    "print(highest_volatility_days[0])\n",
    "#print(f\"Date: {highest_volatility_days[0].date}, Daily Range: {highest_volatility_days[0].daily_range}, News: {highest_volatility_days[0].news[:200]}\")"
   ]
  },
  {
   "cell_type": "markdown",
   "id": "9cf39b3b",
   "metadata": {},
   "source": [
    "Now let's use self transduction to provide an explanation for the market volatility"
   ]
  },
  {
   "cell_type": "code",
   "execution_count": null,
   "id": "9ce555e2",
   "metadata": {},
   "outputs": [
    {
     "name": "stderr",
     "output_type": "stream",
     "text": [
      "2025-09-11 11:16:41.148 | DEBUG    | agentics.core.llm_connections:get_llm_provider:29 - No LLM provider specified. Using the first available provider.\n",
      "2025-09-11 11:16:41.149 | DEBUG    | agentics.core.llm_connections:get_llm_provider:31 - Available LLM providers: ['watsonx', 'gemini', 'openai']. Using 'watsonx'\n",
      "2025-09-11 11:16:41.150 | DEBUG    | agentics.core.agentics:__lshift__:518 - Executing task: Explain the reasons why the market went down or up \n",
      "given the high volatility in the stock market on this day based on the news provided. \n",
      "Provide a concise summary.\n",
      "10 states will be transduced\n",
      "2025-09-11 11:16:41.151 | DEBUG    | agentics.core.agentics:__lshift__:612 - transducer class: <class 'agentics.abstractions.pydantic_transducer.PydanticTransducerCrewAI'>\n",
      "2025-09-11 11:16:56.711 | DEBUG    | agentics.core.agentics:__lshift__:648 - Processed 10 states in 15.559389114379883 seconds\n",
      "2025-09-11 11:16:56.712 | DEBUG    | agentics.core.agentics:__lshift__:700 - 10 states processed in 1.5559389114379882 seconds average per state ...\n"
     ]
    },
    {
     "name": "stdout",
     "output_type": "stream",
     "text": [
      "Date: 2008-10-10, Daily Range: 12.924443321266926\n",
      "Explanation: The market went down on October 10, 2008, due to the global financial crisis. The Dow Jones Industrial Average fell by 128 points, or 1.49%, to close at 8,451. This was part of a larger decline, with the Dow losing 1,874 points, or 18%, for the week, and 40% down from its record high on October 9, 2007. The crisis was triggered by defaults on subprime mortgage-backed securities, which led to a loss of confidence in the financial markets. The news articles provided describe the events of the time, including the bankruptcy of Lehman Brothers, the bailout of American International Group, and the passage of the bailout bill by Congress. The crisis resulted in a significant loss of wealth for American households, with $16.4 trillion in net worth lost between 2007 and 2009, and a peak unemployment rate of 10%. The Dow Jones Industrial Average fell by 54% from its high in October 2007 to its low in March 2009....\n",
      "Date: 2008-11-13, Daily Range: 11.439069514507388\n",
      "Explanation: The market went up on this day, as evidenced by the high close price of 8835.25 compared to the open price of 8281.139648. The daily range of 11.439069514507388 also indicates high volatility. However, the news provided does not contain any relevant information about the stock market or economic events that could have caused the market to go up or down. The news articles are all related to the correct spelling of the word 'happened' and do not provide any insight into the stock market's performance on this day. Therefore, it is not possible to provide a logical explanation for the market's movement based on the given news....\n",
      "Date: 2008-10-13, Daily Range: 11.413259722782675\n",
      "Explanation: The market went up on October 13, 2008, with the Dow Jones industrial average showing a 400-point leap at the start of trading and closing up 936.42 points, a record climb, up 11.08%, closing above 9,000 at 9,387.61. This was due to a series of global initiatives announced over the last few days, which led investors to bet that the worst of the credit crisis is over. The rally was a result of the announcement in France of a 320 billion euro rescue package, as well as other global initiatives, which helped to restore investor confidence and led to a sharp increase in stock prices....\n",
      "Date: 2008-10-28, Daily Range: 11.099450382090795\n",
      "Explanation: The market went up on this day, October 28, 2008, due to a significant recovery in the U.S. stock market. The Dow Jones Industrial Average gained 889.35 points (10.88%), rising to 9,065.12. This rebound was likely triggered by expectations of a federal interest rate cut, which helped lure investors back into the market. Despite the overall trend of the 2008 global financial crisis, which saw major declines in stock markets worldwide, this particular day saw a notable upswing. The recovery was a welcome respite from the intense volatility and declines experienced in the preceding weeks, including the largest point drop in history on September 29, 2008, when the Dow Jones Industrial Average fell 777.68 points after Congress rejected the bank bailout bill. The global credit crisis and concurrent global market declines, including significant drops in Japan's Nikkei index and Hong Kong's Hang Seng index, had created a highly uncertain and risky investment environment. However, on October 28, 2008, bargain hunters and the possibility of federal intervention helped drive the market upward, leading to a substantial gain in the Dow Jones Industrial Average....\n",
      "Date: 2010-05-06, Daily Range: 10.23483819058118\n",
      "Explanation: The market went down on this day, as evidenced by the close price of 10520.320312 being lower than the open price of 10868.120117. The high volatility in the stock market is indicated by the daily range of 10.23483819058118. However, the provided news does not contain any information related to the stock market or economic events that could have caused the market to go down. The news articles are all related to the correct spelling of the word 'happened' and do not provide any relevant information for explaining the market's behavior. Therefore, it is not possible to provide a specific reason for the market's decline based on the given news....\n",
      "Date: 2008-10-09, Daily Range: 10.12856894936647\n",
      "Explanation: The market went down on October 9, 2008, due to a combination of factors that led to a significant decline in the stock market. The Dow Jones Industrial Average fell by 777.68 points, or 6.98%, to 10,365.45, its largest single-day point drop in history at the time. This decline was part of a larger trend of market volatility and decline that occurred in 2008, which was the worst year for the stock market since 1931. The S&P 500 lost approximately 50% of its value during this period. The main reasons for the market decline were the subprime mortgage crisis, which led to a housing market bubble burst, and the resulting financial crisis, which caused a credit crunch and a loss of confidence in the financial system. The crisis led to a significant increase in unemployment, a decline in consumer spending, and a reduction in business investment, which further exacerbated the market decline. The market volatility and decline were also fueled by the collapse of several major financial institutions, including Lehman Brothers, which filed for bankruptcy on September 15, 2008. The US government's response to the crisis, including the passage of the Troubled Asset Relief Program (TARP), helped to stabilize the financial system and prevent a complete collapse of the market. However, the market took several years to recover from the decline, and the effects of the crisis were still being felt in the years that followed....\n",
      "Date: 2008-10-16, Daily Range: 9.949163808257087\n",
      "Explanation: The market went up on the given date, October 16, 2008, as indicated by the 'close' value of 8979.259766 being higher than the 'open' value of 8577.040039. However, the news provided suggests that this was a period of high volatility in the stock market, with the US bear market of 2007–2009 ongoing and the 2008 financial crisis unfolding. The news articles mention record-breaking volume levels, the Dow Jones Industrial Average falling by over 1,874 points or 18% in its worst weekly decline ever, and major investment banking firm Lehman Brothers succumbing to its overexposure to the subprime mortgage market. Despite this, on October 16, 2008, the market closed higher, possibly due to some investors buying into the market after the significant declines in the preceding weeks. The 'daily_range' of 9.949163808257087 and the 'high' value of 9013.269531 being higher than the 'close' value suggest that there was significant fluctuation in the market on this day. Overall, the market's movement on this day was likely influenced by the ongoing financial crisis and the resulting high volatility....\n",
      "Date: 2008-10-15, Daily Range: 9.128120569465585\n",
      "Explanation: The market went down on October 15, 2008, due to the global financial crisis, recession fears, and a gloomy economic outlook. The Dow Jones industrials dropped 733 points, wiping out much of the previous day's gains, and all major indexes fell at least 7 percent. This significant decline was triggered by comments from Federal Reserve Chairman Ben Bernanke, which sent the already-rattled market to session lows. The market's despair was further exacerbated by the depth of the economic crisis, leading to a steep drop in stock prices. The news articles from various sources, including CNBC, NPR, and Wikipedia, confirm that the market's volatility was high on this day, resulting in one of the largest point losses in history....\n",
      "Date: 2008-11-20, Daily Range: 9.06397211541354\n",
      "Explanation: The market went down on this day, as indicated by the close price (7552.290039) being lower than the open price (7995.529785). The high volatility in the stock market is evident from the daily range (9.06397211541354), which shows a significant fluctuation in prices throughout the day. However, the provided news articles do not contain any relevant information that could logically deduce the reasons for the market's performance on this specific day (2008-11-20). The news articles are related to the correct spelling and usage of the words 'happened' and 'happend', and do not provide any insights into the stock market or economic events that may have influenced the market's behavior. Therefore, it is not possible to provide a concise summary of the reasons why the market went down based on the given news....\n",
      "Date: 2008-12-01, Daily Range: 8.422302336938241\n",
      "Explanation: The market went down on December 1, 2008, due to the global financial crisis. The Dow Jones Industrial Average closed at 8,149.09 with a drop of 679.95 points (7.70%). The S&P 500 fell 80.03 points to 816.21, down 8.93%. Financial stocks in the S&P 500 fell 17%. Oil fell below $50 a barrel in New York Trading. The General Accounting Office released a report that claims that the Oversight of the Troubled Assets Relief Program was inadequate. The 2008 stock market crash was one of the worst in history, with the Dow Jones Industrial Average falling from its high of 14,164.43 reached on October 9, 2007, to 6,443.27 by March 6, 2009, a 54% plunge in little under 18 months. The crash destroyed $16.4 trillion of American households' net worth from 2007 through 2009 and wiped out more than $2 trillion of Americans' retirement savings. The biggest single-day crash in Dow Jones history occurred on September 29, 2008, when the U.S. House of Representatives rejected the government's $700 billion bank bailout, resulting in a 777.68-point drop (6.98%) in the Dow Jones Industrial Average....\n"
     ]
    }
   ],
   "source": [
    "from agentics.core.llm_connections import get_llm_provider\n",
    "highest_volatility_days.instructions = \"\"\"Explain the reasons why the market went down or up \n",
    "given the high volatility in the stock market on this day based on the news provided. \n",
    "Provide a concise summary.\"\"\"\n",
    "highest_volatility_days.llm= get_llm_provider() ## You can choose between \"openai\", \"watsonx\", \"gemini\", \"vllm_crewai\"\n",
    "highest_volatility_explanations = await highest_volatility_days.self_transduction(\n",
    "[\"date\", \"open\", \"high\", \"low\", \"close\", \"volume\", \"daily_range\", \"news\"],[\"explanation_report\"])\n",
    "\n",
    "for state in highest_volatility_explanations: \n",
    "    print(f\"Date: {state.date}, Daily Range: {state.daily_range}\\nExplanation: {state.explanation_report}...\")"
   ]
  },
  {
   "cell_type": "markdown",
   "id": "00ae3253",
   "metadata": {},
   "source": [
    "## Well Done\n",
    "You are now fully equipped to work with agentics and apply it to your data.\n",
    "Congratulations and please contribute back to the community if you feel this is exciting. "
   ]
  }
 ],
 "metadata": {
  "kernelspec": {
   "display_name": ".venv",
   "language": "python",
   "name": "python3"
  },
  "language_info": {
   "codemirror_mode": {
    "name": "ipython",
    "version": 3
   },
   "file_extension": ".py",
   "mimetype": "text/x-python",
   "name": "python",
   "nbconvert_exporter": "python",
   "pygments_lexer": "ipython3",
   "version": "3.12.9"
  }
 },
 "nbformat": 4,
 "nbformat_minor": 5
}
