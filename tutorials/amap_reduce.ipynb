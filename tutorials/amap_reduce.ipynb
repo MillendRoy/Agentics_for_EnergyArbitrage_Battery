{
 "cells": [
  {
   "cell_type": "markdown",
   "id": "d14bfec4",
   "metadata": {},
   "source": [
    "# aMapReduce Framework\n",
    "\n",
    "Agentics enable scalable execution of LLM workflows by implementing a MapReduce framework which enable the async use of LLM blended with regular python code."
   ]
  },
  {
   "cell_type": "code",
   "execution_count": 2,
   "id": "d2c428a7",
   "metadata": {},
   "outputs": [
    {
     "name": "stdout",
     "output_type": "stream",
     "text": [
      "\u001b[2mUsing Python 3.12.9 environment at: /Users/gliozzo/Code/agentics911/agentics/.venv\u001b[0m\n",
      "\u001b[2mAudited \u001b[1m1 package\u001b[0m \u001b[2min 20ms\u001b[0m\u001b[0m\n",
      "In Colab: False\n"
     ]
    }
   ],
   "source": [
    "! uv pip install agentics-py\n",
    "\n",
    "\n",
    "import os\n",
    "from pathlib import Path\n",
    "import sys\n",
    "from getpass import getpass\n",
    "\n",
    "from dotenv import find_dotenv, load_dotenv\n",
    "\n",
    "CURRENT_PATH = \"\"\n",
    "\n",
    "IN_COLAB = \"google.colab\" in sys.modules\n",
    "print(\"In Colab:\", IN_COLAB)\n",
    "\n",
    "\n",
    "if IN_COLAB:\n",
    "    CURRENT_PATH = \"/content/drive/MyDrive/\"\n",
    "    # Mount your google drive\n",
    "    from google.colab import drive\n",
    "    drive.mount(\"/content/drive\")\n",
    "    load_dotenv(\"/content/drive/MyDrive/.env\")\n",
    "else:\n",
    "    \n",
    "    CURRENT_PATH=os.getcwd()\n",
    "    load_dotenv(find_dotenv())\n",
    "\n",
    "if not os.getenv(\"GEMINI_API_KEY\"):\n",
    "    os.environ[\"GEMINI_API_KEY\"] = getpass(\"Enter your GEMINI_API_KEY:\")\n",
    "\n",
    "base = Path(CURRENT_PATH)"
   ]
  },
  {
   "cell_type": "markdown",
   "id": "90dd4694",
   "metadata": {},
   "source": [
    "Let us first define an aType to represent StockMarket Data for the DowJones index, and populate it with historical data"
   ]
  },
  {
   "cell_type": "code",
   "execution_count": 3,
   "id": "d981012d",
   "metadata": {},
   "outputs": [
    {
     "name": "stderr",
     "output_type": "stream",
     "text": [
      "2025-09-16 15:48:14.841 | DEBUG    | agentics.core.llm_connections:<module>:121 - AGENTICS is connecting to the following LLM API providers:\n",
      "2025-09-16 15:48:14.841 | DEBUG    | agentics.core.llm_connections:<module>:124 - 0 - WatsonX\n",
      "2025-09-16 15:48:14.842 | DEBUG    | agentics.core.llm_connections:<module>:129 - 1 - Gemini\n",
      "2025-09-16 15:48:14.842 | DEBUG    | agentics.core.llm_connections:<module>:133 - 2 - OpenAI\n",
      "2025-09-16 15:48:14.842 | DEBUG    | agentics.core.llm_connections:<module>:135 - Please add API keys in .env file to add or disconnect providers.\n",
      "2025-09-16 15:48:14.849 | DEBUG    | agentics.core.llm_connections:get_llm_provider:29 - No LLM provider specified. Using the first available provider.\n",
      "2025-09-16 15:48:14.850 | DEBUG    | agentics.core.llm_connections:get_llm_provider:31 - Available LLM providers: ['watsonx', 'gemini', 'openai']. Using 'watsonx'\n",
      "2025-09-16 15:48:14.852 | DEBUG    | agentics.core.agentics:from_csv:313 - Importing Agentics of type StockMarketState from CSV /Users/gliozzo/Code/agentics911/agentics/tutorials/data/dow_jones.csv\n"
     ]
    },
    {
     "name": "stdout",
     "output_type": "stream",
     "text": [
      "date='2016-07-01' open=17924.240234 high=18002.380859 low=17916.910156 close=17949.369141 volume=82160000.0 daily_range=None news=None explanation_report=None\n",
      "date='2016-06-30' open=17712.759766 high=17930.609375 low=17711.800781 close=17929.990234 volume=133030000.0 daily_range=None news=None explanation_report=None\n",
      "date='2016-06-29' open=17456.019531 high=17704.509766 low=17456.019531 close=17694.679688 volume=106380000.0 daily_range=None news=None explanation_report=None\n"
     ]
    }
   ],
   "source": [
    "from agentics import Agentics as AG\n",
    "from typing import Optional\n",
    "from pydantic import BaseModel, Field\n",
    "from datetime import datetime\n",
    "## Define the data model for stock market data\n",
    "\n",
    "class StockMarketState(BaseModel):\n",
    "    date: Optional[str] = None\n",
    "    open: Optional[float] = None\n",
    "    high: Optional[float] = None\n",
    "    low: Optional[float] = None\n",
    "    close: Optional[float] = None\n",
    "    volume: Optional[float] = None\n",
    "    daily_range: Optional[float] = Field(None, \n",
    "        description=\"\"\"The difference between the high and low prices for the day.\"\"\")\n",
    "    news: Optional[str] = Field(None, \n",
    "        description=\"\"\"Text reporting a list of news headlines relevant to the stock for the day.\"\"\")\n",
    "    explanation_report: Optional[str] = Field(None,\n",
    "        description=\"A detailed explanation of the stock market state for the day.\")\n",
    "\n",
    "    \n",
    "## import the data\n",
    "dj_data = AG.from_csv(base / \"data/dow_jones.csv\", atype=StockMarketState)\n",
    "for state in dj_data[:3]: \n",
    "    print(state)"
   ]
  },
  {
   "cell_type": "markdown",
   "id": "ca61713d",
   "metadata": {},
   "source": [
    "## Amap\n",
    "\n",
    "Amap functions enable async execution of functions over all the states of an AG. Agentics supports 1:1 maps that maps all states of an AG into states of the same type.\n",
    "\n",
    "In the following example we define a simple function to compute the daily_range of the stock and we pass that to an amap fuction which applies that to all states asyncronously"
   ]
  },
  {
   "cell_type": "code",
   "execution_count": 4,
   "id": "fa1e862d",
   "metadata": {},
   "outputs": [
    {
     "name": "stderr",
     "output_type": "stream",
     "text": [
      "2025-09-16 15:48:14.864 | DEBUG    | agentics.core.agentics:amap:207 - Executing amap on function <function get_daily_variation_percentage at 0x14ce1af20>\n",
      "2025-09-16 15:48:14.866 | DEBUG    | agentics.core.agentics:amap:232 - 100 states processed. 9.889602661132812e-06 seconds average per state in the last chunk ...\n",
      "2025-09-16 15:48:14.867 | DEBUG    | agentics.core.agentics:amap:232 - 200 states processed. 7.779598236083985e-06 seconds average per state in the last chunk ...\n",
      "2025-09-16 15:48:14.868 | DEBUG    | agentics.core.agentics:amap:232 - 300 states processed. 6.310939788818359e-06 seconds average per state in the last chunk ...\n",
      "2025-09-16 15:48:14.869 | DEBUG    | agentics.core.agentics:amap:232 - 400 states processed. 7.669925689697266e-06 seconds average per state in the last chunk ...\n",
      "2025-09-16 15:48:14.870 | DEBUG    | agentics.core.agentics:amap:232 - 500 states processed. 6.82830810546875e-06 seconds average per state in the last chunk ...\n",
      "2025-09-16 15:48:14.870 | DEBUG    | agentics.core.agentics:amap:232 - 600 states processed. 6.458759307861328e-06 seconds average per state in the last chunk ...\n",
      "2025-09-16 15:48:14.871 | DEBUG    | agentics.core.agentics:amap:232 - 700 states processed. 5.288124084472656e-06 seconds average per state in the last chunk ...\n",
      "2025-09-16 15:48:14.872 | DEBUG    | agentics.core.agentics:amap:232 - 800 states processed. 5.650520324707031e-06 seconds average per state in the last chunk ...\n",
      "2025-09-16 15:48:14.873 | DEBUG    | agentics.core.agentics:amap:232 - 900 states processed. 6.670951843261719e-06 seconds average per state in the last chunk ...\n",
      "2025-09-16 15:48:14.874 | DEBUG    | agentics.core.agentics:amap:232 - 1000 states processed. 8.401870727539063e-06 seconds average per state in the last chunk ...\n",
      "2025-09-16 15:48:14.875 | DEBUG    | agentics.core.agentics:amap:232 - 1100 states processed. 5.7387351989746094e-06 seconds average per state in the last chunk ...\n",
      "2025-09-16 15:48:14.876 | DEBUG    | agentics.core.agentics:amap:232 - 1200 states processed. 6.420612335205078e-06 seconds average per state in the last chunk ...\n",
      "2025-09-16 15:48:14.877 | DEBUG    | agentics.core.agentics:amap:232 - 1300 states processed. 8.308887481689453e-06 seconds average per state in the last chunk ...\n",
      "2025-09-16 15:48:14.878 | DEBUG    | agentics.core.agentics:amap:232 - 1400 states processed. 7.920265197753906e-06 seconds average per state in the last chunk ...\n",
      "2025-09-16 15:48:14.879 | DEBUG    | agentics.core.agentics:amap:232 - 1500 states processed. 6.279945373535156e-06 seconds average per state in the last chunk ...\n",
      "2025-09-16 15:48:14.879 | DEBUG    | agentics.core.agentics:amap:232 - 1600 states processed. 5.98907470703125e-06 seconds average per state in the last chunk ...\n",
      "2025-09-16 15:48:14.880 | DEBUG    | agentics.core.agentics:amap:232 - 1700 states processed. 5.7387351989746094e-06 seconds average per state in the last chunk ...\n",
      "2025-09-16 15:48:14.881 | DEBUG    | agentics.core.agentics:amap:232 - 1800 states processed. 7.84158706665039e-06 seconds average per state in the last chunk ...\n",
      "2025-09-16 15:48:14.882 | DEBUG    | agentics.core.agentics:amap:232 - 1900 states processed. 5.462169647216797e-06 seconds average per state in the last chunk ...\n",
      "2025-09-16 15:48:14.883 | DEBUG    | agentics.core.agentics:amap:232 - 2000 states processed. 6.880760192871094e-06 seconds average per state in the last chunk ...\n"
     ]
    },
    {
     "name": "stdout",
     "output_type": "stream",
     "text": [
      "Date: 2016-07-01, Daily Range: 0.47703930117312493\n",
      "Date: 2016-06-30, Daily Range: 1.2353831025172834\n",
      "Date: 2016-06-29, Daily Range: 1.423521751672572\n"
     ]
    }
   ],
   "source": [
    "## Note that input and output are both StockMarketState objects\n",
    "async def get_daily_variation_percentage(state: StockMarketState) -> StockMarketState:\n",
    "    state.daily_range = (float(state.high) - float(state.low)) / float(state.low) * 100\n",
    "    return state\n",
    "\n",
    "## Apply the function to all states using amap\n",
    "dj_data.batch_size = 100\n",
    "dj_data = await dj_data.amap(get_daily_variation_percentage)\n",
    "\n",
    "for state in dj_data[:3]: \n",
    "    print(f\"Date: {state.date}, Daily Range: {state.daily_range}\")"
   ]
  },
  {
   "cell_type": "markdown",
   "id": "e0e2bdfd",
   "metadata": {},
   "source": [
    "## aReduce"
   ]
  },
  {
   "cell_type": "markdown",
   "id": "ecb8895e",
   "metadata": {},
   "source": [
    "Reduce functions enable executing operations on the entire list of elements (states) within an Agentics group. Although reduce operations are intrinsically synchronous—since they consider all states at once—they are defined as async functions to allow for internal async calls (such as fetching news or running LLMs).\n",
    "\n",
    "In the following example we will use a reduce function to analyze get the top 10 days with highest variation in the market"
   ]
  },
  {
   "cell_type": "code",
   "execution_count": 5,
   "id": "9b73900d",
   "metadata": {},
   "outputs": [
    {
     "name": "stdout",
     "output_type": "stream",
     "text": [
      "Atype : <class '__main__.StockMarketState'>\n",
      "date: '2008-10-10'\n",
      "open: 8568.669922\n",
      "high: 8901.280273\n",
      "low: 7882.509766\n",
      "close: 8451.19043\n",
      "volume: 674920000.0\n",
      "daily_range: 12.924443321266926\n",
      "news: null\n",
      "explanation_report: null\n",
      "\n",
      "date: '2008-11-13'\n",
      "open: 8281.139648\n",
      "high: 8876.589844\n",
      "low: 7965.419922\n",
      "close: 8835.25\n",
      "volume: 476600000.0\n",
      "daily_range: 11.439069514507388\n",
      "news: null\n",
      "explanation_report: null\n",
      "\n",
      "date: '2008-10-13'\n",
      "open: 8462.419922\n",
      "high: 9427.990234\n",
      "low: 8462.179688\n",
      "close: 9387.610352\n",
      "volume: 399290000.0\n",
      "daily_range: 11.413259722782675\n",
      "news: null\n",
      "explanation_report: null\n",
      "\n",
      "date: '2008-10-28'\n",
      "open: 8178.720215\n",
      "high: 9082.080078\n",
      "low: 8174.72998\n",
      "close: 9065.120117\n",
      "volume: 372160000.0\n",
      "daily_range: 11.099450382090795\n",
      "news: null\n",
      "explanation_report: null\n",
      "\n",
      "date: '2010-05-06'\n",
      "open: 10868.120117\n",
      "high: 10879.759766\n",
      "low: 9869.620117\n",
      "close: 10520.320312\n",
      "volume: 459890000.0\n",
      "daily_range: 10.23483819058118\n",
      "news: null\n",
      "explanation_report: null\n",
      "\n",
      "date: '2008-10-09'\n",
      "open: 9261.69043\n",
      "high: 9448.139648\n",
      "low: 8579.19043\n",
      "close: 8579.19043\n",
      "volume: 436740000.0\n",
      "daily_range: 10.12856894936647\n",
      "news: null\n",
      "explanation_report: null\n",
      "\n",
      "date: '2008-10-16'\n",
      "open: 8577.040039\n",
      "high: 9013.269531\n",
      "low: 8197.669922\n",
      "close: 8979.259766\n",
      "volume: 422450000.0\n",
      "daily_range: 9.949163808257087\n",
      "news: null\n",
      "explanation_report: null\n",
      "\n",
      "date: '2008-10-15'\n",
      "open: 9301.910156\n",
      "high: 9308.759766\n",
      "low: 8530.120117\n",
      "close: 8577.910156\n",
      "volume: 374350000.0\n",
      "daily_range: 9.128120569465585\n",
      "news: null\n",
      "explanation_report: null\n",
      "\n",
      "date: '2008-11-20'\n",
      "open: 7995.529785\n",
      "high: 8187.399902\n",
      "low: 7506.970215\n",
      "close: 7552.290039\n",
      "volume: 528130000.0\n",
      "daily_range: 9.06397211541354\n",
      "news: null\n",
      "explanation_report: null\n",
      "\n",
      "date: '2008-12-01'\n",
      "open: 8826.889648\n",
      "high: 8827.049805\n",
      "low: 8141.359863\n",
      "close: 8149.089844\n",
      "volume: 321010000.0\n",
      "daily_range: 8.422302336938241\n",
      "news: null\n",
      "explanation_report: null\n",
      "\n",
      "\n"
     ]
    }
   ],
   "source": [
    "async def get_highest_volatility_days(states:list[StockMarketState]) -> list[StockMarketState]:\n",
    "    \n",
    "    # sort the states by volatility and return the top 10, define a new AG with these states\n",
    "    return sorted(states, \n",
    "                key=lambda x: abs(x.daily_range) if x.daily_range is not None else 0, \n",
    "                reverse=True)[:10]\n",
    "\n",
    "# apply the reduce function to get the top 10 days with highest volatility\n",
    "highest_volatility_days = await dj_data.areduce(get_highest_volatility_days)\n",
    "print(highest_volatility_days.pretty_print())"
   ]
  },
  {
   "cell_type": "markdown",
   "id": "9cf39b3b",
   "metadata": {},
   "source": [
    "Now let's use self transduction to provide an explanation for the market volatility"
   ]
  },
  {
   "cell_type": "markdown",
   "id": "26496816",
   "metadata": {},
   "source": [
    "## Complex AMAPs\n",
    "\n",
    "aMaps function can contain external API and LLM calls. This way we can use agentics as a scaleout frameworks for complex workflows. "
   ]
  },
  {
   "cell_type": "code",
   "execution_count": null,
   "id": "7f30733f",
   "metadata": {},
   "outputs": [
    {
     "name": "stderr",
     "output_type": "stream",
     "text": [
      "2025-09-16 15:48:14.894 | DEBUG    | agentics.core.agentics:amap:207 - Executing amap on function <function get_news at 0x148121260>\n",
      "2025-09-16 15:48:31.086 | DEBUG    | agentics.core.agentics:amap:232 - 10 states processed. 1.6191984176635743 seconds average per state in the last chunk ...\n"
     ]
    },
    {
     "name": "stdout",
     "output_type": "stream",
     "text": [
      "date='2008-10-10' open=8568.669922 high=8901.280273 low=7882.509766 close=8451.19043 volume=674920000.0 daily_range=12.924443321266926 news='[{\\'title\\': \\'Global financial crisis in October 2008\\', \\'href\\': \\'https://en.wikipedia.org/wiki/Global_financial_crisis_in_October_2008\\', \\'body\\': \\'European stock markets showed mixed results. After suffering an initial drop, the Dow Jones Industrial Average was in slightly positive territory for much of ...\\'}, {\\'title\\': \\'Stock market crash\\', \\'href\\': \\'https://en.wikipedia.org/wiki/Stock_market_crash\\', \\'body\\': \\'From October 6–10, 2008, the Dow Jones Industrial Average (DJIA) closed lower in all five sessions. Volume levels were record-breaking.\\'}, {\\'title\\': \\'Explore the Vibrant Marché aux Poissons in Marseille\\', \\'href\\': \\'https://evendo.com/locations/france/marseille/attraction/marche-aux-poissons\\', \\'body\\': \"Head to \\'Quai du Port\\', which is a promenade along the water. Marché aux Poissons is located at 2 Quai du Port. You will see the market with its vibrant stalls as you approach the waterfront. Bus …\"}, {\\'title\\': \\'Dow falls through 9000 and picks up speed\\', \\'href\\': \\'https://www.nbcnews.com/id/wbna27113447\\', \\'body\\': \\'Oct 10, 2008 — A runaway train of a sell-off turned the anniversary of the stock market peak into one of the darkest days in Wall Street history Thursday.\\'}, {\\'title\\': \\'October 10th - This Day in Stock Market History\\', \\'href\\': \\'https://www.begintoinvest.com/october-10/\\', \\'body\\': \\'October 10th, 2008 – The Dow Jones Industrial Average has its most volatile day in history (at the time), swinging 1019 points during the day.\\'}, {\\'title\\': \\'Timeline: The U.S. Financial Crisis\\', \\'href\\': \\'https://www.cfr.org/timeline/us-financial-crisis\\', \\'body\\': \\'The Dow Jones Industrial Average suffers the worst week of losses in its history, dropping by more than 20 percent. During the course of the week, the Federal ...\\'}, {\\'title\\': \\'Markets crash: How panic spread around the globe\\', \\'href\\': \\'https://www.theguardian.com/business/2008/oct/10/marketturmoil-creditcrunch1\\', \\'body\\': \"Oct 10, 2008 — On Wall Street, the Dow Jones plummeted nearly 700 points in the first ten minutes of trading to 7882, a fall of 8%. Brazil Brazil\\'s main stock ...\"}, {\\'title\\': \\'The Stock Market Crash of 2008\\', \\'href\\': \\'https://moneyzine.com/investments/stock-market-crash-of-2008/\\', \\'body\\': \\'The table below shows the decline of the Dow Jones Industrial Average from October 1st through October 10th.\\'}, {\\'title\\': \\'The Light at the End of the Crisis\\', \\'href\\': \\'https://www.cnbc.com/2008/10/10/the-light-at-the-end-of-the-crisis.html\\', \\'body\\': \\'Oct 10, 2008 — The Dow Jones is down nearly 20 percent this week, its second worst week since December 1914. The S&P 500 dropped over 20 percent in what looks ...\\'}, {\\'title\\': \\'Dow hits five-year low\\', \\'href\\': \\'https://www.dailybreeze.com/general-news/20081010/dow-hits-five-year-low/\\', \\'body\\': \\'Sep 6, 2017 — Stocks lost more than 7 percent, $872 billion of investments evaporated, and the Dow fell to 8,579. When the average crashed through the 9,000 ...\\'}]' explanation_report=None\n"
     ]
    }
   ],
   "source": [
    "from ddgs import DDGS\n",
    "\n",
    "## Define a function to get news for a given date using the DDGS search engine\n",
    "## Note that the similar functionalities can be implemented using MCP tools in AGs\n",
    "async def get_news(state):\n",
    "    state.news=str(DDGS().text(f\"What happended to the stock market and dow jones on {state.date}\", max_results=10))\n",
    "    return state    \n",
    "\n",
    "## set the batch size for the amap function to 5 (only 10 states will be processed)\n",
    "highest_volatility_days.batch_size = 100\n",
    "\n",
    "# Now get news for the top 10 days with highest volatility using amap\n",
    "highest_volatility_days = await highest_volatility_days.amap(get_news)\n",
    "\n",
    "# print the first result for brevity\n",
    "print(highest_volatility_days[0])\n",
    "#print(f\"Date: {highest_volatility_days[0].date}, Daily Range: {highest_volatility_days[0].daily_range}, News: {highest_volatility_days[0].news[:200]}\")"
   ]
  },
  {
   "cell_type": "code",
   "execution_count": null,
   "id": "9ce555e2",
   "metadata": {},
   "outputs": [
    {
     "name": "stderr",
     "output_type": "stream",
     "text": [
      "2025-09-16 15:48:31.093 | DEBUG    | agentics.core.llm_connections:get_llm_provider:29 - No LLM provider specified. Using the first available provider.\n",
      "2025-09-16 15:48:31.093 | DEBUG    | agentics.core.llm_connections:get_llm_provider:31 - Available LLM providers: ['watsonx', 'gemini', 'openai']. Using 'watsonx'\n",
      "2025-09-16 15:48:31.095 | DEBUG    | agentics.core.agentics:__lshift__:519 - Executing task: Explain the reasons why the market went down or up \n",
      "given the high volatility in the stock market on this day based on the news provided. \n",
      "Provide a concise summary.\n",
      "10 states will be transduced\n",
      "2025-09-16 15:48:31.096 | DEBUG    | agentics.core.agentics:__lshift__:613 - transducer class: <class 'agentics.abstractions.pydantic_transducer.PydanticTransducerCrewAI'>\n"
     ]
    }
   ],
   "source": [
    "from agentics.core.llm_connections import get_llm_provider\n",
    "highest_volatility_days.instructions = \"\"\"Explain the reasons why the market went down or up \n",
    "given the high volatility in the stock market on this day based on the news provided. \n",
    "Provide a concise summary.\"\"\"\n",
    "highest_volatility_days.llm= get_llm_provider() ## You can choose between \"openai\", \"watsonx\", \"gemini\", \"vllm_crewai\"\n",
    "highest_volatility_explanations = await highest_volatility_days.self_transduction(\n",
    "[\"date\", \"open\", \"high\", \"low\", \"close\", \"volume\", \"daily_range\", \"news\"],[\"explanation_report\"])\n",
    "\n",
    "for state in highest_volatility_explanations: \n",
    "    print(f\"Date: {state.date}, Daily Range: {state.daily_range}\\nExplanation: {state.explanation_report}...\")"
   ]
  },
  {
   "cell_type": "markdown",
   "id": "00ae3253",
   "metadata": {},
   "source": [
    "## Well Done\n",
    "You are now fully equipped to work with agentics and apply it to your data.\n",
    "Congratulations and please contribute back to the community if you feel this is exciting. "
   ]
  }
 ],
 "metadata": {
  "kernelspec": {
   "display_name": ".venv",
   "language": "python",
   "name": "python3"
  },
  "language_info": {
   "codemirror_mode": {
    "name": "ipython",
    "version": 3
   },
   "file_extension": ".py",
   "mimetype": "text/x-python",
   "name": "python",
   "nbconvert_exporter": "python",
   "pygments_lexer": "ipython3",
   "version": "3.12.9"
  }
 },
 "nbformat": 4,
 "nbformat_minor": 5
}
