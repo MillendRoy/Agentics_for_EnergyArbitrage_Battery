{
 "cells": [
  {
   "cell_type": "markdown",
   "id": "0",
   "metadata": {},
   "source": [
    "# aMapReduce Framework\n",
    "\n",
    "Agentics enable scalable execution of LLM workflows by implementing a MapReduce framework which enable the async use of LLM blended with regular python code."
   ]
  },
  {
   "cell_type": "code",
   "execution_count": null,
   "id": "1",
   "metadata": {},
   "outputs": [],
   "source": [
    "! uv pip install agentics-py\n",
    "\n",
    "\n",
    "import os\n",
    "from pathlib import Path\n",
    "import sys\n",
    "from getpass import getpass\n",
    "\n",
    "from dotenv import find_dotenv, load_dotenv\n",
    "\n",
    "CURRENT_PATH = \"\"\n",
    "\n",
    "IN_COLAB = \"google.colab\" in sys.modules\n",
    "print(\"In Colab:\", IN_COLAB)\n",
    "\n",
    "\n",
    "if IN_COLAB:\n",
    "    CURRENT_PATH = \"/content/drive/MyDrive/\"\n",
    "    # Mount your google drive\n",
    "    from google.colab import drive\n",
    "    drive.mount(\"/content/drive\")\n",
    "    from google.colab import userdata\n",
    "\n",
    "    os.environ[\"GEMINI_API_KEY\"] = userdata.get(\"GEMINI_API_KEY\")\n",
    "else:\n",
    "    \n",
    "    CURRENT_PATH=os.getcwd()\n",
    "    load_dotenv(find_dotenv())\n",
    "\n",
    "if not os.getenv(\"GEMINI_API_KEY\"):\n",
    "    os.environ[\"GEMINI_API_KEY\"] = getpass(\"Enter your GEMINI_API_KEY:\")\n",
    "\n",
    "base = Path(CURRENT_PATH)"
   ]
  },
  {
   "cell_type": "markdown",
   "id": "2",
   "metadata": {},
   "source": [
    "Let us first define an aType to represent StockMarket Data for the DowJones index, and populate it with historical data"
   ]
  },
  {
   "cell_type": "code",
   "execution_count": null,
   "id": "3",
   "metadata": {},
   "outputs": [],
   "source": [
    "from agentics import AG\n",
    "from typing import Optional\n",
    "from pydantic import BaseModel, Field\n",
    "from datetime import datetime\n",
    "## Define the data model for stock market data\n",
    "\n",
    "class StockMarketState(BaseModel):\n",
    "    date: Optional[str] = None\n",
    "    open: Optional[float] = None\n",
    "    high: Optional[float] = None\n",
    "    low: Optional[float] = None\n",
    "    close: Optional[float] = None\n",
    "    volume: Optional[float] = None\n",
    "    daily_range: Optional[float] = Field(None, \n",
    "        description=\"\"\"The difference between the high and low prices for the day.\"\"\")\n",
    "    news: Optional[str] = Field(None, \n",
    "        description=\"\"\"Text reporting a list of news headlines relevant to the stock for the day.\"\"\")\n",
    "    explanation_report: Optional[str] = Field(None,\n",
    "        description=\"A detailed explanation of the stock market state for the day.\")\n",
    "\n",
    "\n",
    "    \n",
    "## import the data\n",
    "dj_data = AG.from_csv(base / \"data/dow_jones.csv\", atype=StockMarketState)\n",
    "for state in dj_data[:3]: \n",
    "    print(state)"
   ]
  },
  {
   "cell_type": "markdown",
   "id": "4",
   "metadata": {},
   "source": [
    "## Amap\n",
    "\n",
    "Amap functions enable async execution of functions over all the states of an AG. Agentics supports 1:1 maps that maps all states of an AG into states of the same type.\n",
    "\n",
    "In the following example we define a simple function to compute the daily_range of the stock and we pass that to an amap fuction which applies that to all states asyncronously"
   ]
  },
  {
   "cell_type": "code",
   "execution_count": 3,
   "id": "fa1e862d",
   "metadata": {},
   "outputs": [
    {
     "name": "stderr",
     "output_type": "stream",
     "text": [
      "2025-09-16 19:59:54.490 | DEBUG    | agentics.core.agentics:amap:172 - Executing amap on function <function get_daily_variation_percentage at 0x10722e480>\n",
      "2025-09-16 19:59:54.491 | DEBUG    | agentics.core.agentics:amap:194 - 100 states processed. 8.609294891357422e-06 seconds average per state in the last chunk ...\n",
      "2025-09-16 19:59:54.492 | DEBUG    | agentics.core.agentics:amap:194 - 200 states processed. 6.966590881347656e-06 seconds average per state in the last chunk ...\n",
      "2025-09-16 19:59:54.493 | DEBUG    | agentics.core.agentics:amap:194 - 300 states processed. 5.939006805419922e-06 seconds average per state in the last chunk ...\n",
      "2025-09-16 19:59:54.493 | DEBUG    | agentics.core.agentics:amap:194 - 400 states processed. 5.2285194396972656e-06 seconds average per state in the last chunk ...\n",
      "2025-09-16 19:59:54.494 | DEBUG    | agentics.core.agentics:amap:194 - 500 states processed. 5.872249603271484e-06 seconds average per state in the last chunk ...\n",
      "2025-09-16 19:59:54.495 | DEBUG    | agentics.core.agentics:amap:194 - 600 states processed. 6.010532379150391e-06 seconds average per state in the last chunk ...\n",
      "2025-09-16 19:59:54.496 | DEBUG    | agentics.core.agentics:amap:194 - 700 states processed. 5.9199333190917965e-06 seconds average per state in the last chunk ...\n",
      "2025-09-16 19:59:54.496 | DEBUG    | agentics.core.agentics:amap:194 - 800 states processed. 5.710124969482422e-06 seconds average per state in the last chunk ...\n",
      "2025-09-16 19:59:54.497 | DEBUG    | agentics.core.agentics:amap:194 - 900 states processed. 5.729198455810547e-06 seconds average per state in the last chunk ...\n",
      "2025-09-16 19:59:54.498 | DEBUG    | agentics.core.agentics:amap:194 - 1000 states processed. 5.800724029541015e-06 seconds average per state in the last chunk ...\n",
      "2025-09-16 19:59:54.498 | DEBUG    | agentics.core.agentics:amap:194 - 1100 states processed. 6.201267242431641e-06 seconds average per state in the last chunk ...\n",
      "2025-09-16 19:59:54.499 | DEBUG    | agentics.core.agentics:amap:194 - 1200 states processed. 6.158351898193359e-06 seconds average per state in the last chunk ...\n",
      "2025-09-16 19:59:54.500 | DEBUG    | agentics.core.agentics:amap:194 - 1300 states processed. 6.40869140625e-06 seconds average per state in the last chunk ...\n",
      "2025-09-16 19:59:54.501 | DEBUG    | agentics.core.agentics:amap:194 - 1400 states processed. 5.567073822021485e-06 seconds average per state in the last chunk ...\n",
      "2025-09-16 19:59:54.502 | DEBUG    | agentics.core.agentics:amap:194 - 1500 states processed. 5.550384521484375e-06 seconds average per state in the last chunk ...\n",
      "2025-09-16 19:59:54.502 | DEBUG    | agentics.core.agentics:amap:194 - 1600 states processed. 5.910396575927734e-06 seconds average per state in the last chunk ...\n",
      "2025-09-16 19:59:54.503 | DEBUG    | agentics.core.agentics:amap:194 - 1700 states processed. 6.129741668701172e-06 seconds average per state in the last chunk ...\n",
      "2025-09-16 19:59:54.504 | DEBUG    | agentics.core.agentics:amap:194 - 1800 states processed. 5.76019287109375e-06 seconds average per state in the last chunk ...\n",
      "2025-09-16 19:59:54.505 | DEBUG    | agentics.core.agentics:amap:194 - 1900 states processed. 5.8126449584960935e-06 seconds average per state in the last chunk ...\n",
      "2025-09-16 19:59:54.505 | DEBUG    | agentics.core.agentics:amap:194 - 2000 states processed. 4.978179931640625e-06 seconds average per state in the last chunk ...\n"
     ]
    },
    {
     "name": "stdout",
     "output_type": "stream",
     "text": [
      "Date: 2016-07-01, Daily Range: 0.47703930117312493\n",
      "Date: 2016-06-30, Daily Range: 1.2353831025172834\n",
      "Date: 2016-06-29, Daily Range: 1.423521751672572\n"
     ]
    }
   ],
   "source": [
    "## Note that input and output are both StockMarketState objects\n",
    "async def get_daily_variation_percentage(state: StockMarketState) -> StockMarketState:\n",
    "    state.daily_range = (float(state.high) - float(state.low)) / float(state.low) * 100\n",
    "    return state\n",
    "\n",
    "\n",
    "## Apply the function to all states using amap\n",
    "dj_data = await dj_data.amap(get_daily_variation_percentage)\n",
    "\n",
    "for state in dj_data[:3]: \n",
    "    print(f\"Date: {state.date}, Daily Range: {state.daily_range}\")"
   ]
  },
  {
   "cell_type": "markdown",
   "id": "6",
   "metadata": {},
   "source": [
    "## aReduce"
   ]
  },
  {
   "cell_type": "markdown",
   "id": "7",
   "metadata": {},
   "source": [
    "Reduce functions enable executing operations on the entire list of elements (states) within an Agentics group. Although reduce operations are intrinsically synchronous—since they consider all states at once—they are defined as async functions to allow for internal async calls (such as fetching news or running LLMs).\n",
    "\n",
    "In the following example we will use a reduce function to analyze get the top 10 days with highest variation in the market"
   ]
  },
  {
   "cell_type": "code",
   "execution_count": 4,
   "id": "9b73900d",
   "metadata": {},
   "outputs": [
    {
     "name": "stdout",
     "output_type": "stream",
     "text": [
      "Atype : <class '__main__.StockMarketState'>\n",
      "date: '2008-10-10'\n",
      "open: 8568.669922\n",
      "high: 8901.280273\n",
      "low: 7882.509766\n",
      "close: 8451.19043\n",
      "volume: 674920000.0\n",
      "daily_range: 12.924443321266926\n",
      "news: null\n",
      "explanation_report: null\n",
      "\n",
      "date: '2008-11-13'\n",
      "open: 8281.139648\n",
      "high: 8876.589844\n",
      "low: 7965.419922\n",
      "close: 8835.25\n",
      "volume: 476600000.0\n",
      "daily_range: 11.439069514507388\n",
      "news: null\n",
      "explanation_report: null\n",
      "\n",
      "date: '2008-10-13'\n",
      "open: 8462.419922\n",
      "high: 9427.990234\n",
      "low: 8462.179688\n",
      "close: 9387.610352\n",
      "volume: 399290000.0\n",
      "daily_range: 11.413259722782675\n",
      "news: null\n",
      "explanation_report: null\n",
      "\n",
      "date: '2008-10-28'\n",
      "open: 8178.720215\n",
      "high: 9082.080078\n",
      "low: 8174.72998\n",
      "close: 9065.120117\n",
      "volume: 372160000.0\n",
      "daily_range: 11.099450382090795\n",
      "news: null\n",
      "explanation_report: null\n",
      "\n",
      "date: '2010-05-06'\n",
      "open: 10868.120117\n",
      "high: 10879.759766\n",
      "low: 9869.620117\n",
      "close: 10520.320312\n",
      "volume: 459890000.0\n",
      "daily_range: 10.23483819058118\n",
      "news: null\n",
      "explanation_report: null\n",
      "\n",
      "date: '2008-10-09'\n",
      "open: 9261.69043\n",
      "high: 9448.139648\n",
      "low: 8579.19043\n",
      "close: 8579.19043\n",
      "volume: 436740000.0\n",
      "daily_range: 10.12856894936647\n",
      "news: null\n",
      "explanation_report: null\n",
      "\n",
      "date: '2008-10-16'\n",
      "open: 8577.040039\n",
      "high: 9013.269531\n",
      "low: 8197.669922\n",
      "close: 8979.259766\n",
      "volume: 422450000.0\n",
      "daily_range: 9.949163808257087\n",
      "news: null\n",
      "explanation_report: null\n",
      "\n",
      "date: '2008-10-15'\n",
      "open: 9301.910156\n",
      "high: 9308.759766\n",
      "low: 8530.120117\n",
      "close: 8577.910156\n",
      "volume: 374350000.0\n",
      "daily_range: 9.128120569465585\n",
      "news: null\n",
      "explanation_report: null\n",
      "\n",
      "date: '2008-11-20'\n",
      "open: 7995.529785\n",
      "high: 8187.399902\n",
      "low: 7506.970215\n",
      "close: 7552.290039\n",
      "volume: 528130000.0\n",
      "daily_range: 9.06397211541354\n",
      "news: null\n",
      "explanation_report: null\n",
      "\n",
      "date: '2008-12-01'\n",
      "open: 8826.889648\n",
      "high: 8827.049805\n",
      "low: 8141.359863\n",
      "close: 8149.089844\n",
      "volume: 321010000.0\n",
      "daily_range: 8.422302336938241\n",
      "news: null\n",
      "explanation_report: null\n",
      "\n",
      "\n"
     ]
    }
   ],
   "source": [
    "async def get_highest_volatility_days(\n",
    "    states: list[StockMarketState],\n",
    ") -> list[StockMarketState]:\n",
    "\n",
    "    # sort the states by volatility and return the top 10, define a new AG with these states\n",
    "    return sorted(\n",
    "        states,\n",
    "        key=lambda x: abs(x.daily_range) if x.daily_range is not None else 0,\n",
    "        reverse=True,\n",
    "    )[:10]\n",
    "\n",
    "\n",
    "# apply the reduce function to get the top 10 days with highest volatility\n",
    "highest_volatility_days = await dj_data.areduce(get_highest_volatility_days)\n",
    "print(highest_volatility_days.pretty_print())"
   ]
  },
  {
   "cell_type": "markdown",
   "id": "9cf39b3b",
   "metadata": {},
   "source": [
    "Now let's use self transduction to provide an explanation for the market volatility"
   ]
  },
  {
   "cell_type": "markdown",
   "id": "26496816",
   "metadata": {},
   "source": [
    "## Complex AMAPs\n",
    "\n",
    "aMaps function can contain external API and LLM calls. This way we can use agentics as a scaleout frameworks for complex workflows. "
   ]
  },
  {
   "cell_type": "code",
   "execution_count": 5,
   "id": "7f30733f",
   "metadata": {},
   "outputs": [
    {
     "name": "stderr",
     "output_type": "stream",
     "text": [
      "2025-09-16 19:59:54.534 | DEBUG    | agentics.core.agentics:amap:172 - Executing amap on function <function get_news at 0x10722e840>\n",
      "2025-09-16 20:00:04.950 | DEBUG    | agentics.core.agentics:amap:194 - 10 states processed. 1.0415197372436524 seconds average per state in the last chunk ...\n"
     ]
    },
    {
     "name": "stdout",
     "output_type": "stream",
     "text": [
      "date='2008-10-10' open=8568.669922 high=8901.280273 low=7882.509766 close=8451.19043 volume=674920000.0 daily_range=12.924443321266926 news='[{\\'title\\': \\'Wikipedia United States bear market of 2007–2009 - Wikipedia\\', \\'href\\': \\'https://en.wikipedia.org/wiki/United_States_bear_market_of_2007–2009\\', \\'body\\': \\'August 4, 2025 - The US bear market of 2007–2009 was a bear market that lasted from October 9, 2007 to March 9, 2009, encompassing the 2008 financial crisis. The S&P 500 lost approximately 50% of its value , but the duration of the bear market was just below average. The bear market was confirmed in June 2008 ...\\'}, {\\'title\\': \\'Wikipedia Stock market crash - Wikipedia\\', \\'href\\': \\'https://en.wikipedia.org/wiki/Stock_market_crash\\', \\'body\\': \\'1 day ago - From October 6–10, 2008, the Dow Jones Industrial Average (DJIA) closed lower in all five sessions . Volume levels were record-breaking. The DJIA fell over 1,874 points, or 18%, in its worst weekly decline ever on both a points and percentage basis.\\'}, {\\'title\\': \\'Wikipedia 2008 financial crisis - Wikipedia\\', \\'href\\': \\'https://en.wikipedia.org/wiki/2008_financial_crisis\\', \\'body\\': \\'3 weeks ago - October 6–10, 2008: From October 6–10, 2008, the Dow Jones Industrial Average (DJIA) closed lower in all five sessions . Volume levels were record-breaking. The DJIA fell 1,874.19 points, or 18.2%, in its worst weekly decline ever on both a points and percentage basis.\\'}, {\\'title\\': \\'Wikipedia Global financial crisis in October 2008 - Wikipedia\\', \\'href\\': \\'https://en.wikipedia.org/wiki/Global_financial_crisis_in_October_2008\\', \\'body\\': \\'August 4, 2025 - On October 13 stock markets worldwide rose with the Dow Jones industrial average showing a 400-point leap at the start of trading . At the close of trading the average was up 936.42 points, a record climb, up 11.08%, closing above 9,000 at 9,387.61. After announcement in France of a 320 billion ...\\'}, {\\'title\\': \\'Investopedia The Stock Market Crash of 2008\\', \\'href\\': \\'https://www.investopedia.com/articles/economics/09/subprime-market-2008.asp\\', \\'body\\': \\'November 21, 2024 - While many Americans recall watching in horror as the Dow Jones Industrial Average plummeted nearly 780 points in a single day in October of that year—then its biggest one-day drop in history—the seeds of a crisis that would cost the global economy more than $2 trillion of economic growth ...\\'}, {\\'title\\': \\'The Balance When and Why Did the Stock Market Crash in 2008?\\', \\'href\\': \\'https://www.thebalancemoney.com/stock-market-crash-of-2008-3305535\\', \\'body\\': \\'June 8, 2024 - It took roughly five years for stocks to recover from the market decline that included the 2008 crash. The Dow Jones Industrial Average recovered to its October 2007 highs in March 2013.\\'}, {\\'title\\': \\'Investopedia Timeline of US Stock Market Crashes\\', \\'href\\': \\'https://www.investopedia.com/timeline-of-stock-market-crashes-5217820\\', \\'body\\': \"February 28, 2022 - Sept. 16, 2008: The government bails out insurance company AIG by buying 80% of it . It doesn\\'t bail out Lehman Brothers. On March 5, 2009, the Dow Jones closed at 6,926, a drop of more than 50% from its pre-recession high.\"}, {\\'title\\': \\'PubMed Central STOCK MARKET CRASH AND EXPECTATIONS OF AMERICAN HOUSEHOLDS - PMC\\', \\'href\\': \\'https://pmc.ncbi.nlm.nih.gov/articles/PMC3086799/\\', \\'body\\': \\'See, for example, Kezdi and Willis (2008) about American households and Hurd, Rooij and Winter (2009) about Dutch households. According to Kezdi and Willis (2008), it took a five hundred point gain in the Dow Jones to generate a one percentage point gain in expected yearly returns in 2002.\\'}, {\\'title\\': \\'NYTimes For Stocks, Worst Single-Day Drop in Two Decades - The New York Times\\', \\'href\\': \\'https://www.nytimes.com/2008/09/30/business/30markets.html\\', \\'body\\': \\'September 30, 2008 - What had started 24 hours earlier, ... plunged almost 9 percent, its third-biggest decline since World War II. The Dow Jones industrial average fell nearly 778 points, or 6.98 percent, to 10,365.45. ...\\'}, {\\'title\\': \\'HISTORY Dow suffers record-breaking single-day drop | September 29, 2008 | HISTORY\\', \\'href\\': \\'https://www.history.com/this-day-in-history/september-29/dow-suffers-largest-single-day-drop-great-recession\\', \\'body\\': \\'Congress’s inability to pass the Bush administration’s bill led to fears that the nearly frozen credit markets wouldn’t be able to rebound quickly, causing sellers to shed their stocks. The Dow drop equaled a whopping $1.2 trillion loss in market value , contributing to the 18-month-long ...\\'}]' explanation_report=None\n"
     ]
    }
   ],
   "source": [
    "from ddgs import DDGS\n",
    "\n",
    "\n",
    "## Define a function to get news for a given date using the DDGS search engine\n",
    "## Note that the similar functionalities can be implemented using MCP tools in AGs\n",
    "async def get_news(state):\n",
    "    state.news=str(DDGS().text(f\"What happended to the stock market and dow jones on {state.date}\", max_results=10))\n",
    "    return state   \n",
    "\n",
    "\n",
    "# Now get news for the top 10 days with highest volatility using amap\n",
    "highest_volatility_days = await highest_volatility_days.amap(get_news)\n",
    "\n",
    "# print the first result for brevity\n",
    "print(highest_volatility_days[0])\n",
    "#print(f\"Date: {highest_volatility_days[0].date}, Daily Range: {highest_volatility_days[0].daily_range}, News: {highest_volatility_days[0].news[:200]}\")"
   ]
  },
  {
   "cell_type": "code",
   "execution_count": 6,
   "id": "9ce555e2",
   "metadata": {},
   "outputs": [
    {
     "name": "stderr",
     "output_type": "stream",
     "text": [
      "2025-09-16 20:00:04.956 | DEBUG    | agentics.core.llm_connections:get_llm_provider:29 - No LLM provider specified. Using the first available provider.\n",
      "2025-09-16 20:00:04.957 | DEBUG    | agentics.core.llm_connections:get_llm_provider:31 - Available LLM providers: ['watsonx', 'gemini', 'openai']. Using 'watsonx'\n",
      "2025-09-16 20:00:04.958 | DEBUG    | agentics.core.agentics:__lshift__:477 - Executing task: Explain the reasons why the market went down or up \n",
      "given the high volatility in the stock market on this day based on the news provided. \n",
      "Provide a concise summary.\n",
      "10 states will be transduced\n",
      "2025-09-16 20:00:04.958 | DEBUG    | agentics.core.agentics:__lshift__:571 - transducer class: <class 'agentics.abstractions.pydantic_transducer.PydanticTransducerCrewAI'>\n",
      "2025-09-16 20:00:13.514 | DEBUG    | agentics.core.agentics:__lshift__:607 - Processed 10 states in 8.554999113082886 seconds\n",
      "2025-09-16 20:00:13.514 | DEBUG    | agentics.core.agentics:__lshift__:659 - 10 states processed in 0.8554999113082886 seconds average per state ...\n"
     ]
    },
    {
     "name": "stdout",
     "output_type": "stream",
     "text": [
      "Date: 2008-10-10, Daily Range: 12.924443321266926\n",
      "Explanation: The market went down on this day due to the high volatility in the stock market, which was caused by the 2008 financial crisis. The Dow Jones Industrial Average closed lower in all five sessions from October 6-10, 2008, with a record-breaking decline of 1,874 points, or 18%, in its worst weekly decline ever on both a points and percentage basis. This was a result of the global financial crisis, which was triggered by the subprime mortgage crisis and the subsequent collapse of the housing market. The crisis led to a loss of confidence in the financial markets, causing investors to sell their stocks and leading to a sharp decline in the market. The news articles provided confirm this, with reports of the Dow Jones Industrial Average plummeting nearly 780 points in a single day in October 2008, and the S&P 500 losing approximately 50% of its value during the bear market that lasted from October 2007 to March 2009. The high volatility in the stock market on this day was also driven by the record-breaking volume levels, with the Dow Jones Industrial Average falling over 1,874 points, or 18%, in its worst weekly decline ever on both a points and percentage basis....\n",
      "Date: 2008-11-13, Daily Range: 11.439069514507388\n",
      "Explanation: There is no clear reason why the market went up or down based on the provided news. The news articles are related to Microsoft Word tutorials and guides, and do not contain any information about the stock market or economic events that could have affected the market. The market's high volatility on this day cannot be explained by the provided news....\n",
      "Date: 2008-10-13, Daily Range: 11.413259722782675\n",
      "Explanation: The market went up on October 13, 2008, due to the announcement of aid to banks and a bank rescue plan, which led to a significant increase in the Dow Jones industrial average. The Dow Jones industrial average showed a 400-point leap at the start of trading and closed at 9,387.61, up 11.1 percent. This was a historic rally on Wall Street, with the S&P financial index shooting up 10.23 percent. The market was expected to rebound after eight days of precipitous losses that took the Dow down nearly 2,400 points, but the extent of the rebound was unexpected. The news of the bank rescue plan and the aid to banks helped to boost investor confidence, leading to the significant increase in the stock market. The Dow Jones industrial average rose 936.42 points, or 11.08 percent, to 9,387.61, making it one of the largest daily changes in the Dow Jones Industrial Average....\n",
      "Date: 2008-10-28, Daily Range: 11.099450382090795\n",
      "Explanation: The market went up on October 28, 2008, as stocks rose dramatically worldwide in anticipation of rate cuts by central banks. The Dow Industrial Average rose 10.88%, closing at over 9,000. This surge in the stock market was a significant event during a period of high volatility, and it occurred despite the ongoing 2008 financial crisis. The crisis, which was triggered by a housing market bubble burst and a subsequent subprime mortgage crisis, led to a global recession and a significant decline in stock markets. However, on this particular day, investors' expectations of central banks' interventions and rate cuts led to a rally in the stock market. The news articles provided suggest that the market's upward movement was a response to the potential for monetary policy easing, which would help to stabilize the financial system and boost economic growth. Overall, the market's rise on October 28, 2008, was a notable event during a tumultuous period in the global economy....\n",
      "Date: 2010-05-06, Daily Range: 10.23483819058118\n",
      "Explanation: The market went down on May 6, 2010, due to high volatility caused by worries about the debt crisis in Greece. The Dow Jones Industrial Average (DJIA) declined by nearly 1,000 points in afternoon trading, then recovered much of its losses within minutes. This event is known as the 2010 Flash Crash. The market's decline was triggered by a combination of factors, including concerns about the Greek debt crisis, which led to a rapid decline in stock prices. The DJIA began a rapid decline at around 2:30 p.m., ultimately shaving nearly 1000 points off of its value. The flash crash had a lasting impact on the market, inciting intense scrutiny that's still being felt years later. The event highlighted the importance of liquidity and the potential for rapid price movements in the market. According to news reports, the Dow Jones Industrial Average fell nearly 1,000 points, then rebounded, and the S&P 500 and other leading US stock indices also experienced significant declines. The 2010 Flash Crash was a major event in the history of the stock market, and its causes and effects are still being studied and analyzed today....\n",
      "Date: 2008-10-09, Daily Range: 10.12856894936647\n",
      "Explanation: The market went down on October 9, 2008, due to the global financial crisis. The Dow Jones industrial average dropped 679 points, or 7.3 percent, closing below 9,000 for the first time in more than five years. This was one of the worst days in the stock market, reflecting the severity of the financial crisis at the time. The cost of short-term credit rose, and there were heavy losses in the United States stock market. The market's decline was also attributed to the rejection of the bank bailout bill by Congress on September 29, 2008, which led to a loss of investor confidence. The high volatility in the stock market on this day was a result of the unprecedented U.S. stock market panic, with panicky sellers contributing to the rout in the afternoon. The market's performance on October 9, 2008, was one of the largest daily changes in the Dow Jones Industrial Average, with a drop of 7.62 percent....\n",
      "Date: 2008-10-16, Daily Range: 9.949163808257087\n",
      "Explanation: The market went up on this day, as evidenced by the close price of 8979.259766 being higher than the open price of 8577.040039. The high volatility in the stock market on this day can be attributed to the 2008 financial crisis, which was triggered by the subprime mortgage market and led to a series of events including the bankruptcy of Lehman Brothers and the bailout of insurance giant American International Group Inc. The news articles provided indicate that the Dow Jones Industrial Average experienced a record-breaking single-day drop on September 29, 2008, and suffered its worst weekly decline ever on both a points and percentage basis from October 6-10, 2008. However, on the specific date of October 16, 2008, the market showed a positive trend, with the close price being higher than the open price. The daily range of 9.949163808257087 also indicates a significant fluctuation in the market, but ultimately, the market ended the day on a positive note....\n",
      "Date: 2008-10-15, Daily Range: 9.128120569465585\n",
      "Explanation: The market went down on October 15, 2008, due to the global financial crisis. The Dow Jones Industrial Average dropped 733 points, which was its second-largest point loss ever, and the major indexes all lost at least 7 percent. The S&P 500 index plunged 9%, while the Dow Jones Industrial average lost nearly 8%. The market's despair was propelled by worries about the depth of a recession and the gloomy economic outlook. The news articles from various sources, including Wikipedia, Hartford Funds, NBC News, CNBC, and NPR, all reported on the significant declines in the stock market on this day, citing the global financial crisis and recession fears as the primary reasons for the downturn. The London stock exchange FTSE 100 also fell substantially, surrendering 314 points to slip down 7.16 percent. Overall, the high volatility in the stock market on this day was driven by the widespread concern about the state of the global economy and the potential for a deep and prolonged recession....\n",
      "Date: 2008-11-20, Daily Range: 9.06397211541354\n",
      "Explanation: The market went down on November 20, 2008, due to the global financial crisis. The Dow Jones Industrial Average dropped 445 points in the last minutes of the trading session, closing at 7,552, the lowest point in six years. Shares in Citigroup plummeted another 26%, and shares of other major US financial institutions dropped by more than 10%. This was caused by the rejection of the bank bailout bill by Congress, which led to a loss of investor confidence and a subsequent decline in stock prices. The crisis was characterized by a significant decline in the value of stocks, with the Dow Jones Industrial Average falling by over 33% in 2008, and the S&P 500 falling by nearly 38%. The crisis also had a significant impact on the US economy, with a loss of over $16 trillion in net worth and more than $2 trillion in retirement savings. The reasons for the market decline include the subprime mortgage crisis, the failure of financial institutions, and the resulting loss of investor confidence....\n",
      "Date: 2008-12-01, Daily Range: 8.422302336938241\n",
      "Explanation: The market went down on December 1, 2008, due to the global financial crisis. The Dow Jones Industrial Average closed at 8,149.09 with a drop of 679.95 points (7.70%). The S&P 500 fell 80.03 points to 816.21, down 8.93%. Financial stocks in the S&P 500 fell 17%. Oil fell below $50 a barrel in New York Trading. The General Accounting Office released a report that claims that the Oversight of the Troubled Assets Relief Program was inadequate. The 2008 stock market crash destroyed $16.4 trillion of American households' net worth from 2007 through 2009 and wiped out more than $2 trillion of Americans' retirement savings. The Dow Jones Industrial Average fell from its high of 14,164.43 reached on Oct. 9, 2007, to 6,443.27 by March 6, 2009 - a 54% plunge in little under 18 months. The biggest single-day crash in Dow Jones history occurred on Sept. 29, 2008, when the U.S. House of Representatives rejected the government's $700 billion bank bailout. The Dow dropped 777.68 points (6.98%) -- obliterating $1.2 trillion in market value....\n"
     ]
    }
   ],
   "source": [
    "from agentics.core.llm_connections import get_llm_provider\n",
    "\n",
    "highest_volatility_days.instructions = \"\"\"Explain the reasons why the market went down or up \n",
    "given the high volatility in the stock market on this day based on the news provided. \n",
    "Provide a concise summary.\"\"\"\n",
    "highest_volatility_days.llm = (\n",
    "    get_llm_provider()\n",
    ")  ## You can choose between \"openai\", \"watsonx\", \"gemini\", \"vllm_crewai\"\n",
    "highest_volatility_explanations = await highest_volatility_days.self_transduction(\n",
    "[\"date\", \"open\", \"high\", \"low\", \"close\", \"volume\", \"daily_range\", \"news\"],[\"explanation_report\"])\n",
    "\n",
    "for state in highest_volatility_explanations: \n",
    "    print(f\"Date: {state.date}, Daily Range: {state.daily_range}\\nExplanation: {state.explanation_report}...\")"
   ]
  },
  {
   "cell_type": "markdown",
   "id": "13",
   "metadata": {},
   "source": [
    "## Well Done\n",
    "You are now fully equipped to work with agentics and apply it to your data.\n",
    "Congratulations and please contribute back to the community if you feel this is exciting. "
   ]
  }
 ],
 "metadata": {
  "kernelspec": {
   "display_name": ".venv",
   "language": "python",
   "name": "python3"
  },
  "language_info": {
   "codemirror_mode": {
    "name": "ipython",
    "version": 3
   },
   "file_extension": ".py",
   "mimetype": "text/x-python",
   "name": "python",
   "nbconvert_exporter": "python",
   "pygments_lexer": "ipython3",
   "version": "3.12.9"
  }
 },
 "nbformat": 4,
 "nbformat_minor": 5
}
