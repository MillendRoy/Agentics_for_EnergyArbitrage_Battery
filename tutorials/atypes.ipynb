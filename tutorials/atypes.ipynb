{
 "cells": [
  {
   "cell_type": "markdown",
   "id": "349106d1",
   "metadata": {},
   "source": [
    "## Atypes\n",
    "\n",
    "Agentic types (Atypes) are pydantic models , i.e. subclasses of BaseModel. \n",
    "Agentics provide useful functionalities to dynamically modify and combine Atypes and rebind their instances. "
   ]
  },
  {
   "cell_type": "markdown",
   "id": "bfaf4dc4",
   "metadata": {},
   "source": [
    "### Defining atypes\n",
    "\n",
    "Atypes are utilized by the LLM to constrain the decoding of transduced information. Therefore, it is crucial to apply knowledge engineering best practices when defining them. Meaningful slot names should be used, and descriptions should be added as needed to clarify the purpose and expected data type for each field.\n",
    "\n",
    "Best practices for defining Atypes:\n",
    "- Make all slots optional and assign default values (often None). This helps prevent errors if the LLM output is unexpectedly empty.\n",
    "- Only provide concise descriptions for slots when necessary. If the slot names are self-explanatory, descriptions can be omitted.\n",
    "- Avoid logical constraints on slots beyond type annotations (e.g., do not use le, ge on quantities), as LLMs may frequently violate them, leading to bugs. Instead, express requirements in the description if needed."
   ]
  }
 ],
 "metadata": {
  "kernelspec": {
   "display_name": ".venv",
   "language": "python",
   "name": "python3"
  },
  "language_info": {
   "name": "python",
   "version": "3.12.11"
  }
 },
 "nbformat": 4,
 "nbformat_minor": 5
}
