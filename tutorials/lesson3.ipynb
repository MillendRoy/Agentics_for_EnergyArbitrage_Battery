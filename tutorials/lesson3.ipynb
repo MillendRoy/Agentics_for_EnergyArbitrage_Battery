{
 "cells": [
  {
   "cell_type": "markdown",
   "id": "ac25a395",
   "metadata": {},
   "source": [
    "# Agentics Mini Tutorial\n",
    "\n",
    "Agentics provides the implementation of **AG**, a powerful datatype that connects\n",
    "LLMs to Pydantic objects and enables **logical transduction**.\n",
    "\n",
    "---\n",
    "\n",
    "## Installation\n",
    "\n",
    "```bash\n",
    "!uv pip install agentics-py"
   ]
  },
  {
   "cell_type": "code",
   "execution_count": 1,
   "id": "dfb79bd4",
   "metadata": {},
   "outputs": [
    {
     "name": "stdout",
     "output_type": "stream",
     "text": [
      "\u001b[2mUsing Python 3.12.9 environment at: /Users/gliozzo/Code/agentics911/agentics/.venv\u001b[0m\n",
      "\u001b[2mAudited \u001b[1m1 package\u001b[0m \u001b[2min 16ms\u001b[0m\u001b[0m\n",
      "In Colab: False\n"
     ]
    }
   ],
   "source": [
    "! uv pip install agentics-py\n",
    "\n",
    "\n",
    "import os\n",
    "from pathlib import Path\n",
    "import sys\n",
    "from getpass import getpass\n",
    "\n",
    "from dotenv import find_dotenv, load_dotenv\n",
    "\n",
    "CURRENT_PATH = \"\"\n",
    "\n",
    "IN_COLAB = \"google.colab\" in sys.modules\n",
    "print(\"In Colab:\", IN_COLAB)\n",
    "\n",
    "\n",
    "if IN_COLAB:\n",
    "    CURRENT_PATH = \"/content/drive/MyDrive/\"\n",
    "    # Mount your google drive\n",
    "    from google.colab import drive\n",
    "    drive.mount(\"/content/drive\")\n",
    "    from google.colab import userdata\n",
    "\n",
    "    os.environ[\"GEMINI_API_KEY\"] = userdata.get(\"GEMINI_API_KEY\")\n",
    "else:\n",
    "    \n",
    "    CURRENT_PATH=os.getcwd()\n",
    "    load_dotenv(find_dotenv())\n",
    "\n",
    "if not os.getenv(\"GEMINI_API_KEY\"):\n",
    "    os.environ[\"GEMINI_API_KEY\"] = getpass(\"Enter your GEMINI_API_KEY:\")\n",
    "\n",
    "base = Path(CURRENT_PATH)"
   ]
  },
  {
   "cell_type": "markdown",
   "id": "b8341824",
   "metadata": {},
   "source": [
    "## Use Agentics as Lists\n",
    "\n",
    "Agentics objects (`AG`) can be used similarly to Python lists, allowing you to store and manage collections of states. You can append new elements using the `.append()` method, and access all states via the `.states` attribute.\n",
    "\n",
    "For example, after creating an empty `AG` object, you can add elements:"
   ]
  },
  {
   "cell_type": "code",
   "execution_count": 2,
   "id": "dda356ed",
   "metadata": {},
   "outputs": [
    {
     "name": "stderr",
     "output_type": "stream",
     "text": [
      "2025-09-29 06:38:45.144 | DEBUG    | agentics.core.llm_connections:get_llm_provider:30 - Available LLM providers: ['watsonx', 'gemini', 'openai']. None specified, defaulting to 'watsonx'\n"
     ]
    },
    {
     "name": "stdout",
     "output_type": "stream",
     "text": [
      "The agentics is empty : 0\n",
      "The agentics now has more instances : 3\n",
      "this triggers an error\n",
      "This is the right way to concetenate two agentics. Be careful, the states should be instances of the same atype\n",
      "Atype : None\n",
      "Alfio\n",
      "...\n",
      "\n",
      "Naweed\n",
      "...\n",
      "\n",
      "Junkyuu\n",
      "...\n",
      "\n",
      "Alfio\n",
      "...\n",
      "\n",
      "Naweed\n",
      "...\n",
      "\n",
      "Junkyuu\n",
      "...\n",
      "\n",
      "\n",
      "Atype : None\n",
      "Alfio\n",
      "...\n",
      "\n",
      "Naweed\n",
      "...\n",
      "\n",
      "Junkyuu\n",
      "...\n",
      "\n",
      "Alfio\n",
      "...\n",
      "\n",
      "Naweed\n",
      "...\n",
      "\n",
      "Junkyuu\n",
      "...\n",
      "\n",
      "\n",
      "Iterating over agentics:\n",
      "Alfio\n",
      "Naweed\n",
      "Junkyuu\n",
      "Alfio\n",
      "Naweed\n",
      "Junkyuu\n",
      "Be careful, the AG itself is not a list : atype=None crew_prompt_params={'role': 'Task Executor', 'goal': 'You execute tasks', 'backstory': 'You are always faithful and provide only fact based answers.', 'expected_output': 'Described by Pydantic Type'} instructions='Generate an object of the specified type from the following input.' llm=<crewai.llm.LLM object at 0x13fb080e0> max_iter=3 prompt_template=None reasoning=None skip_intentional_definition=False states=['Alfio', 'Naweed', 'Junkyuu', 'Alfio', 'Naweed', 'Junkyuu'] tools=None transduce_fields=None transduction_logs_path=None transduction_timeout=None verbose_transduction=True verbose_agent=False\n"
     ]
    }
   ],
   "source": [
    "from agentics import AG\n",
    "my_first_agentics = AG()\n",
    "\n",
    "print(\"The agentics is empty :\", len(my_first_agentics))\n",
    "\n",
    " ## Add elements to the list\n",
    "my_first_agentics.append(\"Alfio\")\n",
    "## internally, agentics stores the elements in the attribute states\n",
    "my_first_agentics.states += [\"Naweed\" , \"Junkyuu\"] \n",
    "\n",
    "print(\"The agentics now has more instances :\",len(my_first_agentics))\n",
    "\n",
    "try:\n",
    "    print(\"this triggers an error\")\n",
    "    my_first_agentics = my_first_agentics + my_first_agentics\n",
    "except:\n",
    "    my_first_agentics.states= my_first_agentics.states + my_first_agentics.states\n",
    "    print(\"This is the right way to concetenate two agentics. Be careful, the states should be instances of the same atype\")\n",
    "    print(my_first_agentics.pretty_print())\n",
    "\n",
    "print(\"Iterating over agentics:\") \n",
    "for state in  my_first_agentics:\n",
    "    print(state)\n",
    "\n",
    "print(\"Be careful, the AG itself is not a list :\" , my_first_agentics) \n",
    "\n"
   ]
  },
  {
   "cell_type": "markdown",
   "id": "334b3dbd",
   "metadata": {},
   "source": [
    "## Atypes\n",
    "\n",
    "Agentics supports **typed AGs** using Pydantic models, enabling you to enforce schema validation and structure on the states stored in an AG. This is useful when you want all elements in your AG to follow a specific format or contain certain fields.\n",
    "\n",
    "To define a typed AG:\n",
    "\n",
    "1. **Create a Pydantic model** that describes the schema for your states.\n",
    "2. **Instantiate an AG** with the `atype` parameter set to your Pydantic model.\n",
    "3. **Add instances** of your model to the AG. Only objects matching the schema will be accepted.\n",
    "\n",
    "This approach ensures data consistency and allows you to leverage Pydantic's validation features within Agentics workflows.\n",
    "\n",
    "For example, you can define a `Movie` type and create an AG that only accepts `Movie` instances as its states. See the next cell for a practical demonstration."
   ]
  },
  {
   "cell_type": "code",
   "execution_count": 3,
   "id": "51bc332c",
   "metadata": {},
   "outputs": [
    {
     "name": "stderr",
     "output_type": "stream",
     "text": [
      "2025-09-29 06:38:45.152 | DEBUG    | agentics.core.llm_connections:get_llm_provider:30 - Available LLM providers: ['watsonx', 'gemini', 'openai']. None specified, defaulting to 'watsonx'\n"
     ]
    },
    {
     "name": "stdout",
     "output_type": "stream",
     "text": [
      "Atype : <class '__main__.Movie'>\n",
      "movie_name: La dolce vita\n",
      "genre: null\n",
      "description: null\n",
      "\n",
      "\n",
      "Atype : <class '__main__.Movie'>\n",
      "movie_name: La dolce vita\n",
      "genre: null\n",
      "description: null\n",
      "\n",
      "\n"
     ]
    }
   ],
   "source": [
    "from pydantic import BaseModel\n",
    "from typing import Optional\n",
    "\n",
    "# Define the Movie Pydantic model for use with Agentics AG\n",
    "class Movie(BaseModel):\n",
    "    movie_name: Optional[str] = None\n",
    "    genre: Optional[str] = None\n",
    "    description: Optional[str] = None\n",
    "\n",
    "\n",
    "movies = AG(atype=Movie)\n",
    "movies.append(Movie(movie_name=\"La dolce vita\"))\n",
    "print(movies.pretty_print())\n"
   ]
  },
  {
   "cell_type": "markdown",
   "id": "86058b3e",
   "metadata": {},
   "source": [
    "## Extending and Merging AGs\n",
    "AGs can evolve by adding new fields or combining with other AGs to form richer schemas.\n",
    "\n",
    "### Add attributes\n",
    "Use `.add_attribute()` to dynamically extend the schema of an AG.  \n",
    "This operation mutates the AG in place."
   ]
  },
  {
   "cell_type": "code",
   "execution_count": 4,
   "id": "93272247",
   "metadata": {},
   "outputs": [
    {
     "name": "stderr",
     "output_type": "stream",
     "text": [
      "2025-09-29 06:38:45.167 | DEBUG    | agentics.core.llm_connections:get_llm_provider:30 - Available LLM providers: ['watsonx', 'gemini', 'openai']. None specified, defaulting to 'watsonx'\n"
     ]
    },
    {
     "name": "stdout",
     "output_type": "stream",
     "text": [
      "Atype : <class '__main__.Movie'>\n",
      "movie_name: La dolce vita\n",
      "genre: null\n",
      "description: null\n",
      "\n",
      "\n",
      "adding a new attribute to the type and rebinding the object\n",
      "Atype : <class '__main__.Movie'>\n",
      "movie_name: La dolce vita\n",
      "genre: null\n",
      "description: null\n",
      "\n",
      "\n",
      "Atype : <class '__main__.Movie'>\n",
      "movie_name: La dolce vita\n",
      "genre: null\n",
      "description: null\n",
      "\n",
      "\n",
      "Note that the AG changed\n"
     ]
    }
   ],
   "source": [
    "movies = AG(atype=Movie)\n",
    "movies.append(Movie(movie_name=\"La dolce vita\"))\n",
    "movies.pretty_print()\n",
    "\n",
    "print(\"adding a new attribute to the type and rebinding the object\")\n",
    "movies.add_attribute(\"email\", \n",
    "                     description=\"Write an email to tell a fried about this movie\")\n",
    "\n",
    "print(movies.pretty_print())\n",
    "print(\"Note that the AG changed\")\n"
   ]
  },
  {
   "cell_type": "markdown",
   "id": "fccb667d",
   "metadata": {},
   "source": [
    "### Subtypes\n",
    "You can project an AG onto a subset of its fields, e.g. `movies(\"title\", \"genre\")`.  \n",
    "This creates a new AG without modifying the original."
   ]
  },
  {
   "cell_type": "code",
   "execution_count": 5,
   "id": "e824689b",
   "metadata": {},
   "outputs": [
    {
     "name": "stdout",
     "output_type": "stream",
     "text": [
      "This is a subtype\n",
      "Atype : <class 'agentics.core.agentics.movie_name_genre'>\n",
      "movie_name: La dolce vita\n",
      "genre: null\n",
      "\n",
      "\n",
      "This is the original type.\n",
      "Note that the AG didn't change after subtype\n",
      "Atype : <class '__main__.Movie'>\n",
      "movie_name: La dolce vita\n",
      "genre: null\n",
      "description: null\n",
      "\n",
      "\n",
      "Atype : <class '__main__.Movie'>\n",
      "movie_name: La dolce vita\n",
      "genre: null\n",
      "description: null\n",
      "\n",
      "\n",
      "Note that the AG didn't change after subtyping it\n"
     ]
    }
   ],
   "source": [
    "movies_subtype = movies(\"movie_name\", \"genre\")\n",
    "print(\"This is a subtype\")\n",
    "movies_subtype.pretty_print()\n",
    "\n",
    "print(\"This is the original type.\\nNote that the AG didn't change after subtype\")\n",
    "print(movies.pretty_print())\n",
    "print(\"Note that the AG didn't change after subtyping it\")"
   ]
  },
  {
   "cell_type": "markdown",
   "id": "878bc43f",
   "metadata": {},
   "source": [
    "### Merge AGs\n",
    "You can merge AGs of different types (e.g., `Movie` with `Director`), combining their states into a new AG with a union of fields.  \n",
    "On field conflicts, values from the right-hand AG’s states take precedence."
   ]
  },
  {
   "cell_type": "code",
   "execution_count": 6,
   "id": "e1cdc248",
   "metadata": {},
   "outputs": [
    {
     "name": "stderr",
     "output_type": "stream",
     "text": [
      "2025-09-29 06:38:45.183 | DEBUG    | agentics.core.llm_connections:get_llm_provider:30 - Available LLM providers: ['watsonx', 'gemini', 'openai']. None specified, defaulting to 'watsonx'\n",
      "2025-09-29 06:38:45.184 | DEBUG    | agentics.core.llm_connections:get_llm_provider:30 - Available LLM providers: ['watsonx', 'gemini', 'openai']. None specified, defaulting to 'watsonx'\n",
      "2025-09-29 06:38:45.184 | DEBUG    | agentics.core.llm_connections:get_llm_provider:30 - Available LLM providers: ['watsonx', 'gemini', 'openai']. None specified, defaulting to 'watsonx'\n",
      "2025-09-29 06:38:45.185 | DEBUG    | agentics.core.llm_connections:get_llm_provider:30 - Available LLM providers: ['watsonx', 'gemini', 'openai']. None specified, defaulting to 'watsonx'\n",
      "2025-09-29 06:38:45.186 | DEBUG    | agentics.core.llm_connections:get_llm_provider:30 - Available LLM providers: ['watsonx', 'gemini', 'openai']. None specified, defaulting to 'watsonx'\n",
      "2025-09-29 06:38:45.187 | DEBUG    | agentics.core.llm_connections:get_llm_provider:30 - Available LLM providers: ['watsonx', 'gemini', 'openai']. None specified, defaulting to 'watsonx'\n"
     ]
    },
    {
     "name": "stdout",
     "output_type": "stream",
     "text": [
      "Merging AGs will combine states:\n",
      "Atype : <class 'agentics.core.agentics.Movie__merge__Director'>\n",
      "movie_name: La dolce vita\n",
      "genre: null\n",
      "description: null\n",
      "director_name: Fellini\n",
      "\n",
      "movie_name: Superman\n",
      "genre: null\n",
      "description: null\n",
      "director_name: null\n",
      "\n",
      "\n",
      "Atype : <class 'agentics.core.agentics.Movie__merge__Director'>\n",
      "movie_name: La dolce vita\n",
      "genre: null\n",
      "description: null\n",
      "director_name: Fellini\n",
      "\n",
      "movie_name: Superman\n",
      "genre: null\n",
      "description: null\n",
      "director_name: Donner\n",
      "\n",
      "\n",
      "Atype : <class 'agentics.core.agentics.Movie__merge__Director'>\n",
      "movie_name: La dolce vita\n",
      "genre: null\n",
      "description: null\n",
      "director_name: Fellini\n",
      "\n",
      "movie_name: Superman\n",
      "genre: null\n",
      "description: null\n",
      "director_name: Donner\n",
      "\n",
      "\n"
     ]
    }
   ],
   "source": [
    "# Define a new Pydantic type for directors\n",
    "class Director(BaseModel):\n",
    "    director_name: Optional[str] = None\n",
    "\n",
    "# Merge movies (Movie type) with directors (Director type)\n",
    "# The result AG will have fields from both Movie and Director\n",
    "prod_movies = movies.merge(\n",
    "    AG(atype=Director, states=[Director(director_name=\"Fellini\")])\n",
    ")\n",
    "\n",
    "# Add another movie to the original AG\n",
    "movies.append(Movie(movie_name=\"Superman\"))\n",
    "\n",
    "print(\"Merging AGs will combine states:\")\n",
    "\n",
    "# Merge with one director state; the single director is aligned with each movie\n",
    "movies.merge(\n",
    "    AG(atype=Director, states=[Director(director_name=\"Fellini\")])\n",
    ").pretty_print()\n",
    "\n",
    "# Merge with two director states; directors are aligned by index with movies\n",
    "# If the AGs are different lengths, extra states are still included\n",
    "print(movies.merge(\n",
    "    AG(atype=Director, states=[\n",
    "        Director(director_name=\"Fellini\"),\n",
    "        Director(director_name=\"Donner\")\n",
    "    ])\n",
    ").pretty_print())"
   ]
  },
  {
   "cell_type": "markdown",
   "id": "aee180d8",
   "metadata": {},
   "source": [
    "## Import Agentics for Json and CSV \n",
    "\n",
    "Agentics AG objects can be easily imported from and exported to CSV and JSONL formats. This enables seamless integration with tabular and structured data workflows.\n",
    "\n",
    "- **CSV Import/Export:**  \n",
    "    Use `AG.from_csv(\"path/to/file.csv\")` to create an AG from a CSV file. The schema (`atype`) can be inferred automatically or provided explicitly.\n",
    "- **JSONL Import/Export:**  \n",
    "    Use `AG.to_jsonl(\"path/to/file.jsonl\")` to export, and `AG.from_jsonl(\"path/to/file.jsonl\")` to import AG objects in JSON Lines format.\n",
    "\n",
    "This functionality allows you to move data between Agentics and other tools with minimal effort."
   ]
  },
  {
   "cell_type": "code",
   "execution_count": null,
   "id": "10c0450a",
   "metadata": {},
   "outputs": [
    {
     "name": "stderr",
     "output_type": "stream",
     "text": [
      "2025-09-29 06:38:45.194 | DEBUG    | agentics.core.llm_connections:get_llm_provider:30 - Available LLM providers: ['watsonx', 'gemini', 'openai']. None specified, defaulting to 'watsonx'\n",
      "2025-09-29 06:38:45.194 | DEBUG    | agentics.core.agentics:from_csv:303 - Importing Agentics of type Movie from CSV /Users/gliozzo/Code/agentics911/agentics/tutorials/data/movies.csv\n",
      "2025-09-29 06:38:45.196 | DEBUG    | agentics.core.llm_connections:get_llm_provider:30 - Available LLM providers: ['watsonx', 'gemini', 'openai']. None specified, defaulting to 'watsonx'\n",
      "2025-09-29 06:38:45.196 | DEBUG    | agentics.core.agentics:to_jsonl:409 - Exporting 100 states or atype <class '__main__.Movie'> to /Users/gliozzo/Code/agentics911/agentics/tutorials/data/movies.jsonl\n",
      "2025-09-29 06:38:45.200 | DEBUG    | agentics.core.llm_connections:get_llm_provider:30 - Available LLM providers: ['watsonx', 'gemini', 'openai']. None specified, defaulting to 'watsonx'\n"
     ]
    },
    {
     "name": "stdout",
     "output_type": "stream",
     "text": [
      "Atype : <class 'agentics.core.atype.AType#movie_name:genre:descriptionOptional'>\n",
      "movie_name: The Shawshank Redemption\n",
      "genre: Drama, Crime\n",
      "description: Imprisoned in the 1940s for the double murder of his wife and her lover,\n",
      "  upstanding banker Andy Dufresne begins a new life at the Shawshank prison, where\n",
      "  he puts his accounting skills to work for an amoral warden. During his long stretch\n",
      "  in prison, Dufresne comes to be admired by the other inmates -- including an older\n",
      "  prisoner named Red -- for his integrity and unquenchable sense of hope.\n",
      "\n",
      "movie_name: The Godfather\n",
      "genre: Drama, Crime\n",
      "description: Spanning the years 1945 to 1955, a chronicle of the fictional Italian-American\n",
      "  Corleone crime family. When organized crime family patriarch, Vito Corleone barely\n",
      "  survives an attempt on his life, his youngest son, Michael steps in to take care\n",
      "  of the would-be killers, launching a campaign of bloody revenge.\n",
      "\n",
      "movie_name: The Godfather Part II\n",
      "genre: Drama, Crime\n",
      "description: In the continuing saga of the Corleone crime family, a young Vito Corleone\n",
      "  grows up in Sicily and in 1910s New York. In the 1950s, Michael Corleone attempts\n",
      "  to expand the family business into Las Vegas, Hollywood and Cuba.\n",
      "\n",
      "\n",
      "Imported Type <class 'agentics.core.atype.AType#movie_name:genre:descriptionOptional'>\n",
      "Provided Type <class '__main__.Movie'>\n",
      "Imported atype from jsonl:  <class 'agentics.core.atype.AType#movie_name:genre:description'>\n"
     ]
    }
   ],
   "source": [
    "# Create a new AG object from the provided csv file\n",
    "movies = AG.from_csv(base / \"data/movies.csv\", max_rows=3)\n",
    "movies.pretty_print()\n",
    "\n",
    "# Note that the atype has been automatically inffered\n",
    "print(\"Imported Type\", movies.atype)\n",
    "\n",
    "# Reloading same file by providing atype\n",
    "movies = AG.from_csv(base /\"data/movies.csv\", atype=Movie)\n",
    "\n",
    "# Note that just a subset of the attributes have been imported\n",
    "print(\"Provided Type\" , movies.atype)\n",
    "\n",
    "# agentics can be exported and imported from jsonl objects\n",
    "movies.to_jsonl(base /\"data/movies.jsonl\")\n",
    "movies= AG.from_jsonl(base / \"data/movies.jsonl\")\n",
    "\n",
    "# note this type is different from what imported from csv\n",
    "print(\"Imported atype from jsonl: \", movies.atype)"
   ]
  },
  {
   "cell_type": "markdown",
   "id": "e103fc4e",
   "metadata": {},
   "source": [
    "## Logical Transduction\n",
    "\n",
    "Once an AG is initialized with an atype, Agentics can **transduce** any string of text and/or pydantic object into that type.  If a list of strings is provided, they are processed asynchronously."
   ]
  },
  {
   "cell_type": "markdown",
   "id": "49d199ab",
   "metadata": {},
   "source": [
    "## Untyped transduction\n",
    "\n",
    "If no target atype is provided, transduction works as a regular llm call, where the input text or pydantic object is given to the LLM and the output is the LLM response. In this use case, agentics provides an off the shelp **async scale-out framework for LLM calls**. \n",
    "\n",
    "Note that no AType is specified, the output of transduction is alist of strings. So it is not recommended to use this notation for transduction algebra. In addition, Unconstrained trnasduction tends to me less efficient as it requires the LLM to guess the type of output required, often resulting in verbose and unecessary information . "
   ]
  },
  {
   "cell_type": "code",
   "execution_count": 8,
   "id": "926e741f",
   "metadata": {},
   "outputs": [
    {
     "name": "stderr",
     "output_type": "stream",
     "text": [
      "2025-09-29 06:38:45.208 | DEBUG    | agentics.core.llm_connections:get_llm_provider:30 - Available LLM providers: ['watsonx', 'gemini', 'openai']. None specified, defaulting to 'watsonx'\n",
      "2025-09-29 06:38:45.209 | DEBUG    | agentics.core.llm_connections:get_llm_provider:30 - Available LLM providers: ['watsonx', 'gemini', 'openai']. None specified, defaulting to 'watsonx'\n"
     ]
    },
    {
     "data": {
      "application/vnd.jupyter.widget-view+json": {
       "model_id": "64512b7fc06140fdb458f02343463316",
       "version_major": 2,
       "version_minor": 0
      },
      "text/plain": [
       "Output()"
      ]
     },
     "metadata": {},
     "output_type": "display_data"
    },
    {
     "data": {
      "text/html": [
       "<pre style=\"white-space:pre;overflow-x:auto;line-height:normal;font-family:Menlo,'DejaVu Sans Mono',consolas,'Courier New',monospace\"></pre>\n"
      ],
      "text/plain": []
     },
     "metadata": {},
     "output_type": "display_data"
    },
    {
     "name": "stdout",
     "output_type": "stream",
     "text": [
      "## Why Agentic AI Is a Game‑Changer for Data Workflows\n",
      "\n",
      "| Benefit | What It Means for Your Data Pipe\n",
      "**Short answer:** AI has the potential to improve many aspects of middle‑class work—productivity, sa\n",
      "## Agentic AI — What It Is\n",
      "\n",
      "**Agentic AI** refers to autonomous, goal‑driven software agents that ca\n",
      "## Risks Companies Should Consider When Deploying AI Agents  \n",
      "\n",
      "Below is a structured overview of the\n",
      "**Short answer:** Yes—AG objects are designed to be pluggable, so they can be woven into most modern\n",
      "The most recent FIFA World Cup that has been completed is the **2022 men’s tournament** held in Qata\n",
      "Uncostrained transduction done in 33.36398386955261 seconds\n"
     ]
    }
   ],
   "source": [
    "from agentics import AG\n",
    "import time\n",
    "\n",
    "\n",
    "questions= [\n",
    "    \"What are the benefits of using Agentic AI for data workflows?\",\n",
    "    \"Will AI improve working conditions for the middle class?\",\n",
    "    \"How can Agentic AI enhance decision-making in finance?\",\n",
    "    \"What risks should companies consider when adopting AI agents?\",\n",
    "    \"Can AG objects integrate with existing data pipelines?\",\n",
    "    \"Who won the latest FIFA worldcup\"\n",
    "]\n",
    "start= time.time()\n",
    "answers = await (AG() << questions)\n",
    "end= time.time()\n",
    "\n",
    "for answer in answers: print(answer[:100])\n",
    "print(f\"Uncostrained transduction done in {end-start} seconds\")\n",
    "\n"
   ]
  },
  {
   "cell_type": "markdown",
   "id": "2758bd63",
   "metadata": {},
   "source": [
    "### Transduction into Atype\n",
    "\n",
    "You can define a target schema with Pydantic (e.g., `Answer`) and transduce text into it.  \n",
    "The LLM output is parsed and validated into the fields `answer`, `justification`, and `confidence`.  \n",
    "Note that the output is more clean and organized, and the time required to execute the transduction is one order of magnitude lower. "
   ]
  },
  {
   "cell_type": "code",
   "execution_count": null,
   "id": "e223405c",
   "metadata": {},
   "outputs": [
    {
     "name": "stderr",
     "output_type": "stream",
     "text": [
      "2025-09-29 06:39:18.592 | DEBUG    | agentics.core.llm_connections:get_llm_provider:30 - Available LLM providers: ['watsonx', 'gemini', 'openai']. None specified, defaulting to 'watsonx'\n"
     ]
    },
    {
     "data": {
      "application/vnd.jupyter.widget-view+json": {
       "model_id": "cee72c209ecd4c2a964121ccd1c4f410",
       "version_major": 2,
       "version_minor": 0
      },
      "text/plain": [
       "Output()"
      ]
     },
     "metadata": {},
     "output_type": "display_data"
    },
    {
     "data": {
      "text/html": [
       "<pre style=\"white-space:pre;overflow-x:auto;line-height:normal;font-family:Menlo,'DejaVu Sans Mono',consolas,'Courier New',monospace\"></pre>\n"
      ],
      "text/plain": []
     },
     "metadata": {},
     "output_type": "display_data"
    },
    {
     "name": "stdout",
     "output_type": "stream",
     "text": [
      "Typed transduction done in 2.990898847579956 seconds\n",
      "Atype : <class '__main__.Answer'>\n",
      "answer: \"Agentic AI can boost financial decision\\u2011making by autonomously gathering\\\n",
      "  \\ and integrating real\\u2011time market, economic, and alternative data; continuously\\\n",
      "  \\ analyzing this information with advanced models; running rapid scenario simulations\\\n",
      "  \\ to forecast outcomes under different assumptions; providing personalized, goal\\u2011\\\n",
      "  aligned investment or risk\\u2011management recommendations; monitoring compliance\\\n",
      "  \\ and regulatory changes; and learning from outcomes to refine its strategies over\\\n",
      "  \\ time. This end\\u2011to\\u2011end, self\\u2011directed capability enables faster,\\\n",
      "  \\ more data\\u2011driven, and adaptive decisions than traditional static models.\"\n",
      "justification: \"Agentic AI combines goal\\u2011oriented autonomy, tool use, and continual\\\n",
      "  \\ learning, allowing it to act as an independent analyst that can fetch data, run\\\n",
      "  \\ complex models, and adjust its behavior based on feedback. In finance, where data\\\n",
      "  \\ volume, speed, and regulatory constraints are high, these traits translate into\\\n",
      "  \\ real\\u2011time insight generation, scenario planning, risk assessment, and compliance\\\n",
      "  \\ monitoring, all of which directly enhance decision quality and speed.\"\n",
      "confidence: 0.96\n",
      "\n",
      "answer: Potentially, but the outcome is uncertain\n",
      "justification: \"AI can automate repetitive tasks, provide decision\\u2011support tools,\\\n",
      "  \\ and enable more flexible work arrangements, which could improve safety, reduce\\\n",
      "  \\ physical strain, and increase productivity for middle\\u2011class workers. However,\\\n",
      "  \\ AI may also displace certain jobs, create new skill requirements, and exacerbate\\\n",
      "  \\ wage pressure if not accompanied by supportive policies, training programs, and\\\n",
      "  \\ labor protections. Therefore, whether working conditions improve depends on how\\\n",
      "  \\ AI is implemented and regulated.\"\n",
      "confidence: 0.63\n",
      "\n",
      "answer: Yes, AG objects can be integrated with existing data pipelines, typically\n",
      "  through APIs, connectors, or custom adapters that allow them to ingest, process,\n",
      "  and output data in formats compatible with the pipeline.\n",
      "justification: AG objects are designed to be modular and interoperable. Most data\n",
      "  pipelines rely on standard data exchange mechanisms (e.g., REST APIs, message queues,\n",
      "  file formats). By exposing appropriate interfaces, AG objects can plug into these\n",
      "  mechanisms, enabling seamless data flow. Integration may require configuration of\n",
      "  data schemas, authentication, and handling of data latency, but the core capability\n",
      "  exists.\n",
      "confidence: 0.78\n",
      "\n",
      "answer: \"Agentic AI can boost financial decision\\u2011making by autonomously gathering\\\n",
      "  \\ and integrating real\\u2011time market, economic, and alternative data; using advanced\\\n",
      "  \\ predictive models to forecast asset prices, credit risk, and macro trends; simulating\\\n",
      "  \\ multiple market scenarios to evaluate strategy robustness; optimizing portfolios\\\n",
      "  \\ through continuous goal\\u2011directed learning and reinforcement\\u2011based adjustments;\\\n",
      "  \\ monitoring regulatory changes and ensuring compliance via self\\u2011updating rule\\\n",
      "  \\ sets; reducing human bias by grounding recommendations in data\\u2011driven evidence;\\\n",
      "  \\ and providing transparent, explainable rationales for its actions, allowing analysts\\\n",
      "  \\ to trust and act on its insights more quickly and accurately.\"\n",
      "justification: \"These capabilities stem from the core attributes of Agentic AI\\u2014\\\n",
      "  goal\\u2011oriented autonomy, self\\u2011improvement, and reasoning\\u2014combined\\\n",
      "  \\ with finance\\u2019s need for rapid data processing, risk assessment, and regulatory\\\n",
      "  \\ adherence. By automating data synthesis, predictive analytics, scenario planning,\\\n",
      "  \\ and compliance monitoring, Agentic AI directly addresses key pain points in financial\\\n",
      "  \\ decision\\u2011making, leading to more informed, timely, and resilient outcomes.\"\n",
      "confidence: 0.96\n",
      "\n",
      "answer: AI has the potential to improve working conditions for the middle class, but\n",
      "  the outcome will depend on how it is implemented, regulated, and adopted across\n",
      "  industries.\n",
      "justification: \"AI can automate repetitive and hazardous tasks, enable more flexible\\\n",
      "  \\ work arrangements, and provide tools that increase productivity, which could lead\\\n",
      "  \\ to better work\\u2011life balance and higher wages for middle\\u2011class workers.\\\n",
      "  \\ However, without proper policy safeguards, there is a risk of job displacement,\\\n",
      "  \\ wage stagnation, and increased surveillance, which could negate these benefits.\\\n",
      "  \\ The net effect will therefore hinge on factors such as government regulation,\\\n",
      "  \\ corporate responsibility, reskilling programs, and the distribution of AI-driven\\\n",
      "  \\ productivity gains.\"\n",
      "confidence: 0.73\n",
      "\n",
      "answer: AI has the potential to improve working conditions for the middle class, but\n",
      "  outcomes are uncertain.\n",
      "justification: \"AI can automate repetitive tasks, increase productivity, and enable\\\n",
      "  \\ more flexible work arrangements, which could enhance job quality and wages for\\\n",
      "  \\ middle\\u2011class workers. However, it may also lead to job displacement, wage\\\n",
      "  \\ pressure, and unequal benefit distribution, making the overall impact dependent\\\n",
      "  \\ on policy, implementation, and industry-specific factors.\"\n",
      "confidence: 0.65\n",
      "\n",
      "\n",
      "Atype : <class '__main__.Answer'>\n",
      "answer: \"Agentic AI can boost financial decision\\u2011making by autonomously gathering\\\n",
      "  \\ and integrating real\\u2011time market, economic, and alternative data; continuously\\\n",
      "  \\ analyzing this information with advanced models; running rapid scenario simulations\\\n",
      "  \\ to forecast outcomes under different assumptions; providing personalized, goal\\u2011\\\n",
      "  aligned investment or risk\\u2011management recommendations; monitoring compliance\\\n",
      "  \\ and regulatory changes; and learning from outcomes to refine its strategies over\\\n",
      "  \\ time. This end\\u2011to\\u2011end, self\\u2011directed capability enables faster,\\\n",
      "  \\ more data\\u2011driven, and adaptive decisions than traditional static models.\"\n",
      "justification: \"Agentic AI combines goal\\u2011oriented autonomy, tool use, and continual\\\n",
      "  \\ learning, allowing it to act as an independent analyst that can fetch data, run\\\n",
      "  \\ complex models, and adjust its behavior based on feedback. In finance, where data\\\n",
      "  \\ volume, speed, and regulatory constraints are high, these traits translate into\\\n",
      "  \\ real\\u2011time insight generation, scenario planning, risk assessment, and compliance\\\n",
      "  \\ monitoring, all of which directly enhance decision quality and speed.\"\n",
      "confidence: 0.96\n",
      "\n",
      "answer: Potentially, but the outcome is uncertain\n",
      "justification: \"AI can automate repetitive tasks, provide decision\\u2011support tools,\\\n",
      "  \\ and enable more flexible work arrangements, which could improve safety, reduce\\\n",
      "  \\ physical strain, and increase productivity for middle\\u2011class workers. However,\\\n",
      "  \\ AI may also displace certain jobs, create new skill requirements, and exacerbate\\\n",
      "  \\ wage pressure if not accompanied by supportive policies, training programs, and\\\n",
      "  \\ labor protections. Therefore, whether working conditions improve depends on how\\\n",
      "  \\ AI is implemented and regulated.\"\n",
      "confidence: 0.63\n",
      "\n",
      "answer: Yes, AG objects can be integrated with existing data pipelines, typically\n",
      "  through APIs, connectors, or custom adapters that allow them to ingest, process,\n",
      "  and output data in formats compatible with the pipeline.\n",
      "justification: AG objects are designed to be modular and interoperable. Most data\n",
      "  pipelines rely on standard data exchange mechanisms (e.g., REST APIs, message queues,\n",
      "  file formats). By exposing appropriate interfaces, AG objects can plug into these\n",
      "  mechanisms, enabling seamless data flow. Integration may require configuration of\n",
      "  data schemas, authentication, and handling of data latency, but the core capability\n",
      "  exists.\n",
      "confidence: 0.78\n",
      "\n",
      "answer: \"Agentic AI can boost financial decision\\u2011making by autonomously gathering\\\n",
      "  \\ and integrating real\\u2011time market, economic, and alternative data; using advanced\\\n",
      "  \\ predictive models to forecast asset prices, credit risk, and macro trends; simulating\\\n",
      "  \\ multiple market scenarios to evaluate strategy robustness; optimizing portfolios\\\n",
      "  \\ through continuous goal\\u2011directed learning and reinforcement\\u2011based adjustments;\\\n",
      "  \\ monitoring regulatory changes and ensuring compliance via self\\u2011updating rule\\\n",
      "  \\ sets; reducing human bias by grounding recommendations in data\\u2011driven evidence;\\\n",
      "  \\ and providing transparent, explainable rationales for its actions, allowing analysts\\\n",
      "  \\ to trust and act on its insights more quickly and accurately.\"\n",
      "justification: \"These capabilities stem from the core attributes of Agentic AI\\u2014\\\n",
      "  goal\\u2011oriented autonomy, self\\u2011improvement, and reasoning\\u2014combined\\\n",
      "  \\ with finance\\u2019s need for rapid data processing, risk assessment, and regulatory\\\n",
      "  \\ adherence. By automating data synthesis, predictive analytics, scenario planning,\\\n",
      "  \\ and compliance monitoring, Agentic AI directly addresses key pain points in financial\\\n",
      "  \\ decision\\u2011making, leading to more informed, timely, and resilient outcomes.\"\n",
      "confidence: 0.96\n",
      "\n",
      "answer: AI has the potential to improve working conditions for the middle class, but\n",
      "  the outcome will depend on how it is implemented, regulated, and adopted across\n",
      "  industries.\n",
      "justification: \"AI can automate repetitive and hazardous tasks, enable more flexible\\\n",
      "  \\ work arrangements, and provide tools that increase productivity, which could lead\\\n",
      "  \\ to better work\\u2011life balance and higher wages for middle\\u2011class workers.\\\n",
      "  \\ However, without proper policy safeguards, there is a risk of job displacement,\\\n",
      "  \\ wage stagnation, and increased surveillance, which could negate these benefits.\\\n",
      "  \\ The net effect will therefore hinge on factors such as government regulation,\\\n",
      "  \\ corporate responsibility, reskilling programs, and the distribution of AI-driven\\\n",
      "  \\ productivity gains.\"\n",
      "confidence: 0.73\n",
      "\n",
      "answer: AI has the potential to improve working conditions for the middle class, but\n",
      "  outcomes are uncertain.\n",
      "justification: \"AI can automate repetitive tasks, increase productivity, and enable\\\n",
      "  \\ more flexible work arrangements, which could enhance job quality and wages for\\\n",
      "  \\ middle\\u2011class workers. However, it may also lead to job displacement, wage\\\n",
      "  \\ pressure, and unequal benefit distribution, making the overall impact dependent\\\n",
      "  \\ on policy, implementation, and industry-specific factors.\"\n",
      "confidence: 0.65\n",
      "\n",
      "\n"
     ]
    }
   ],
   "source": [
    "# Define a Pydantic model for a structured answer\n",
    "class Answer(BaseModel):\n",
    "    # The main response text\n",
    "    answer: Optional[str] = None\n",
    "    # An explanation or reasoning behind the answer\n",
    "    justification: Optional[str] = None\n",
    "    # A numeric confidence score (e.g. from 0.0 to 1.0)\n",
    "    confidence: Optional[float] = None\n",
    "\n",
    "# Transduce a natural language question into the structured Answer schema\n",
    "start= time.time()\n",
    "answers = await (AG(atype=Answer) << questions)\n",
    "end= time.time()\n",
    "print(f\"Typed transduction done in {end-start} seconds\")\n",
    "print(answers.pretty_print())"
   ]
  },
  {
   "cell_type": "markdown",
   "id": "12651794",
   "metadata": {},
   "source": [
    "### Transduction Between AGs\n",
    "\n",
    "You can control transduction more precisely by converting **from one AG to another**:\n",
    "- The **source AG** provides the input states (rendered via the prompt).\n",
    "- The **target AG** defines the output schema and validation.\n",
    "- Agentics renders each source state → sends it to the LLM → parses into the target type.\n",
    "\n",
    "This pattern is ideal when you want consistent, structured outputs from heterogeneous inputs while keeping prompts and schema separate."
   ]
  },
  {
   "cell_type": "markdown",
   "id": "db533ce4",
   "metadata": {},
   "source": [
    "### Transduction Between AGs  \n",
    "Here we convert product reviews (`ProductReview`) into sentiment summaries (`SentimentSummary`).  \n",
    "The source AG provides the reviews, and the target AG enforces structured outputs (positive/neutral/negative with a reason).  "
   ]
  },
  {
   "cell_type": "code",
   "execution_count": 10,
   "id": "ddc0261e",
   "metadata": {},
   "outputs": [
    {
     "name": "stderr",
     "output_type": "stream",
     "text": [
      "2025-09-29 06:39:21.593 | DEBUG    | agentics.core.llm_connections:get_llm_provider:30 - Available LLM providers: ['watsonx', 'gemini', 'openai']. None specified, defaulting to 'watsonx'\n",
      "2025-09-29 06:39:21.594 | DEBUG    | agentics.core.llm_connections:get_llm_provider:30 - Available LLM providers: ['watsonx', 'gemini', 'openai']. None specified, defaulting to 'watsonx'\n"
     ]
    },
    {
     "data": {
      "application/vnd.jupyter.widget-view+json": {
       "model_id": "3006be0d8443483e801a282590aa06d6",
       "version_major": 2,
       "version_minor": 0
      },
      "text/plain": [
       "Output()"
      ]
     },
     "metadata": {},
     "output_type": "display_data"
    },
    {
     "data": {
      "text/html": [
       "<pre style=\"white-space:pre;overflow-x:auto;line-height:normal;font-family:Menlo,'DejaVu Sans Mono',consolas,'Courier New',monospace\"></pre>\n"
      ],
      "text/plain": []
     },
     "metadata": {},
     "output_type": "display_data"
    },
    {
     "name": "stdout",
     "output_type": "stream",
     "text": [
      "Atype : <class '__main__.SentimentSummary'>\n",
      "customer_sentiment: positive\n",
      "reason: Excellent quality and fast delivery\n",
      "\n",
      "customer_sentiment: neutral\n",
      "reason: Packaging was damaged\n",
      "\n",
      "customer_sentiment: negative\n",
      "reason: broke after one use\n",
      "\n",
      "\n",
      "Atype : <class '__main__.SentimentSummary'>\n",
      "customer_sentiment: positive\n",
      "reason: Excellent quality and fast delivery\n",
      "\n",
      "customer_sentiment: neutral\n",
      "reason: Packaging was damaged\n",
      "\n",
      "customer_sentiment: negative\n",
      "reason: broke after one use\n",
      "\n",
      "\n"
     ]
    }
   ],
   "source": [
    "from typing import Optional, Literal\n",
    "from pydantic import BaseModel\n",
    "from agentics import AG\n",
    "\n",
    "# Source schema: product reviews\n",
    "class ProductReview(BaseModel):\n",
    "    reviewer: Optional[str] = None\n",
    "    text: Optional[str] = None\n",
    "    stars: Optional[int] = None\n",
    "\n",
    "# Target schema: summarized sentiment\n",
    "class SentimentSummary(BaseModel):\n",
    "    customer_sentiment: Optional[Literal[\"positive\", \"neutral\", \"negative\"]] = None\n",
    "    reason: Optional[str] = None\n",
    "\n",
    "# Example reviews\n",
    "reviews = [\n",
    "    ProductReview(reviewer=\"Alice\", text=\"Excellent quality and fast delivery!\", stars=5),\n",
    "    ProductReview(reviewer=\"Bob\", text=\"Okay, but packaging was damaged\", stars=3),\n",
    "    ProductReview(reviewer=\"Carol\", text=\"Terrible, broke after one use\", stars=1),\n",
    "]\n",
    "\n",
    "# Create source and target AGs\n",
    "source = AG(atype=ProductReview, states=reviews)\n",
    "target = AG(atype=SentimentSummary)\n",
    "\n",
    "# Transduce reviews into sentiment summaries\n",
    "sentiments = await (target << source)\n",
    "print(sentiments.pretty_print())"
   ]
  },
  {
   "cell_type": "markdown",
   "id": "4c9bd197",
   "metadata": {},
   "source": [
    "### Self-Transduction  \n",
    "\n",
    "You can transduce within the same AG type by selecting different subsets of fields.  \n",
    "This is useful for projecting, comparing, or enriching dataframes and state graphs without changing the original AG.  "
   ]
  },
  {
   "cell_type": "code",
   "execution_count": 11,
   "id": "26539ef1",
   "metadata": {},
   "outputs": [
    {
     "name": "stderr",
     "output_type": "stream",
     "text": [
      "2025-09-29 06:39:23.207 | DEBUG    | agentics.core.agentics:from_csv:303 - Importing Agentics of type Movie from CSV /Users/gliozzo/Code/agentics911/agentics/tutorials/data/movies.csv\n",
      "2025-09-29 06:39:23.208 | DEBUG    | agentics.core.llm_connections:get_llm_provider:30 - Available LLM providers: ['watsonx', 'gemini', 'openai']. None specified, defaulting to 'watsonx'\n"
     ]
    },
    {
     "data": {
      "application/vnd.jupyter.widget-view+json": {
       "model_id": "6242f0e33d80470784671a059c961cf3",
       "version_major": 2,
       "version_minor": 0
      },
      "text/plain": [
       "Output()"
      ]
     },
     "metadata": {},
     "output_type": "display_data"
    },
    {
     "data": {
      "text/html": [
       "<pre style=\"white-space:pre;overflow-x:auto;line-height:normal;font-family:Menlo,'DejaVu Sans Mono',consolas,'Courier New',monospace\"></pre>\n"
      ],
      "text/plain": []
     },
     "metadata": {},
     "output_type": "display_data"
    },
    {
     "name": "stdout",
     "output_type": "stream",
     "text": [
      "Atype : <class '__main__.Movie'>\n",
      "movie_name: The Shawshank Redemption\n",
      "genre: Drama, Romance, Comedy\n",
      "description: Imprisoned in the 1940s for the double murder of his wife and her lover,\n",
      "  upstanding banker Andy Dufresne begins a new life at the Shawshank prison, where\n",
      "  he puts his accounting skills to work for an amoral warden. During his long stretch\n",
      "  in prison, Dufresne comes to be admired by the other inmates -- including an older\n",
      "  prisoner named Red -- for his integrity and unquenchable sense of hope.\n",
      "\n",
      "movie_name: The Godfather\n",
      "genre: Drama, Romance, Comedy\n",
      "description: Spanning the years 1945 to 1955, a chronicle of the fictional Italian-American\n",
      "  Corleone crime family. When organized crime family patriarch, Vito Corleone barely\n",
      "  survives an attempt on his life, his youngest son, Michael steps in to take care\n",
      "  of the would-be killers, launching a campaign of bloody revenge.\n",
      "\n",
      "movie_name: The Godfather Part II\n",
      "genre: Drama, Crime\n",
      "description: In the continuing saga of the Corleone crime family, a young Vito Corleone\n",
      "  grows up in Sicily and in 1910s New York. In the 1950s, Michael Corleone attempts\n",
      "  to expand the family business into Las Vegas, Hollywood and Cuba.\n",
      "\n",
      "movie_name: Schindler's List\n",
      "genre: Western, Adventure\n",
      "description: The true story of how businessman Oskar Schindler saved over a thousand\n",
      "  Jewish lives from the Nazis while they worked as slaves in his factory during World\n",
      "  War II.\n",
      "\n",
      "movie_name: 12 Angry Men\n",
      "genre: Western, Adventure\n",
      "description: The defense and the prosecution have rested and the jury is filing into\n",
      "  the jury room to decide if a young Spanish-American is guilty or innocent of murdering\n",
      "  his father. What begins as an open and shut case soon becomes a mini-drama of each\n",
      "  of the jurors' prejudices and preconceptions about the trial, the accused, and each\n",
      "  other.\n",
      "\n",
      "movie_name: Spirited Away\n",
      "genre: Animation, Family, Fantasy\n",
      "description: A young girl, Chihiro, becomes trapped in a strange new world of spirits.\n",
      "  When her parents undergo a mysterious transformation, she must call upon the courage\n",
      "  she never knew she had to free her family.\n",
      "\n",
      "movie_name: The Dark Knight\n",
      "genre: Drama, Romance, Comedy\n",
      "description: Batman raises the stakes in his war on crime. With the help of Lt. Jim\n",
      "  Gordon and District Attorney Harvey Dent, Batman sets out to dismantle the remaining\n",
      "  criminal organizations that plague the streets. The partnership proves to be effective,\n",
      "  but they soon find themselves prey to a reign of chaos unleashed by a rising criminal\n",
      "  mastermind known to the terrified citizens of Gotham as the Joker.\n",
      "\n",
      "movie_name: Dilwale Dulhania Le Jayenge\n",
      "genre: Drama, Action, Crime, Thriller\n",
      "description: \"Raj is a rich, carefree, happy-go-lucky second generation NRI. Simran\\\n",
      "  \\ is the daughter of Chaudhary Baldev Singh, who in spite of being an NRI is very\\\n",
      "  \\ strict about adherence to Indian values. Simran has left for India to be married\\\n",
      "  \\ to her childhood fianc\\xE9. Raj leaves for India with a mission at his hands,\\\n",
      "  \\ to claim his lady love under the noses of her whole family. Thus begins a saga.\"\n",
      "\n",
      "movie_name: The Green Mile\n",
      "genre: Comedy, Drama, Romance, War, History\n",
      "description: A supernatural tale set on death row in a Southern prison, where gentle\n",
      "  giant John Coffey possesses the mysterious power to heal people's ailments. When\n",
      "  the cell block's head guard, Paul Edgecomb, recognizes Coffey's miraculous gift,\n",
      "  he tries desperately to help stave off the condemned man's execution.\n",
      "\n",
      "movie_name: Parasite\n",
      "genre: Drama, Thriller, Comedy\n",
      "description: All unemployed, Ki-taek's family takes peculiar interest in the wealthy\n",
      "  and glamorous Parks for their livelihood until they get entangled in an unexpected\n",
      "  incident.\n",
      "\n",
      "movie_name: Pulp Fiction\n",
      "genre: Comedy, Drama, Romance\n",
      "description: A burger-loving hit man, his philosophical partner, a drug-addled gangster's\n",
      "  moll and a washed-up boxer converge in this sprawling, comedic crime caper. Their\n",
      "  adventures unfurl in three stories that ingeniously trip back and forth in time.\n",
      "\n",
      "movie_name: Your Name.\n",
      "genre: Comedy, Drama, Romance, War\n",
      "description: \"High schoolers Mitsuha and Taki are complete strangers living separate\\\n",
      "  \\ lives. But one night, they suddenly switch places. Mitsuha wakes up in Taki\\u2019\\\n",
      "  s body, and he in hers. This bizarre occurrence continues to happen randomly, and\\\n",
      "  \\ the two must adjust their lives around each other.\"\n",
      "\n",
      "movie_name: 'The Lord of the Rings: The Return of the King'\n",
      "genre: Comedy, Drama, Romance\n",
      "description: \"As armies mass for a final battle that will decide the fate of the world--and\\\n",
      "  \\ powerful, ancient forces of Light and Dark compete to determine the outcome--one\\\n",
      "  \\ member of the Fellowship of the Ring is revealed as the noble heir to the throne\\\n",
      "  \\ of the Kings of Men. Yet, the sole hope for triumph over evil lies with a brave\\\n",
      "  \\ hobbit, Frodo, who, accompanied by his loyal friend Sam and the hideous, wretched\\\n",
      "  \\ Gollum, ventures deep into the very dark heart of Mordor on his seemingly impossible\\\n",
      "  \\ quest to destroy the Ring of Power.\\u200B\"\n",
      "\n",
      "movie_name: Forrest Gump\n",
      "genre: Drama, Romance, Comedy\n",
      "description: \"A man with a low IQ has accomplished great things in his life and been\\\n",
      "  \\ present during significant historic events\\u2014in each case, far exceeding what\\\n",
      "  \\ anyone imagined he could do. But despite all he has achieved, his one true love\\\n",
      "  \\ eludes him.\"\n",
      "\n",
      "movie_name: The Good, the Bad and the Ugly\n",
      "genre: Drama, Crime\n",
      "description: \"While the Civil War rages on between the Union and the Confederacy,\\\n",
      "  \\ three men \\u2013 a quiet loner, a ruthless hitman, and a Mexican bandit \\u2013\\\n",
      "  \\ comb the American Southwest in search of a strongbox containing $200,000 in stolen\\\n",
      "  \\ gold.\"\n",
      "\n",
      "movie_name: Seven Samurai\n",
      "genre: Drama, Crime\n",
      "description: A samurai answers a village's request for protection after he falls on\n",
      "  hard times. The town needs protection from bandits, so the samurai gathers six others\n",
      "  to help him teach the people how to defend themselves, and the villagers provide\n",
      "  the soldiers with food.\n",
      "\n",
      "movie_name: GoodFellas\n",
      "genre: Drama\n",
      "description: The true story of Henry Hill, a half-Irish, half-Sicilian Brooklyn kid\n",
      "  who is adopted by neighbourhood gangsters at an early age and climbs the ranks of\n",
      "  a Mafia family under the guidance of Jimmy Conway.\n",
      "\n",
      "movie_name: Interstellar\n",
      "genre: Adventure, Drama, Sci-Fi\n",
      "description: The adventures of a group of explorers who make use of a newly discovered\n",
      "  wormhole to surpass the limitations on human space travel and conquer the vast distances\n",
      "  involved in an interstellar voyage.\n",
      "\n",
      "movie_name: Grave of the Fireflies\n",
      "genre: Drama, Action, Crime, Thriller\n",
      "description: In the final months of World War II, 14-year-old Seita and his sister\n",
      "  Setsuko are orphaned when their mother is killed during an air raid in Kobe, Japan.\n",
      "  After a falling out with their aunt, they move into an abandoned bomb shelter. With\n",
      "  no surviving relatives and their emergency rations depleted, Seita and Setsuko struggle\n",
      "  to survive.\n",
      "\n",
      "movie_name: Life Is Beautiful\n",
      "genre: Adventure, Drama, Fantasy\n",
      "description: A touching story of an Italian book seller of Jewish ancestry who lives\n",
      "  in his own little fairy tale. His creative and happy life would come to an abrupt\n",
      "  halt when his entire family is deported to a concentration camp during World War\n",
      "  II. While locked up he tries to convince his son that the whole thing is just a\n",
      "  game.\n",
      "\n",
      "\n",
      "Atype : <class '__main__.Movie'>\n",
      "movie_name: The Shawshank Redemption\n",
      "genre: Drama, Romance, Comedy\n",
      "description: Imprisoned in the 1940s for the double murder of his wife and her lover,\n",
      "  upstanding banker Andy Dufresne begins a new life at the Shawshank prison, where\n",
      "  he puts his accounting skills to work for an amoral warden. During his long stretch\n",
      "  in prison, Dufresne comes to be admired by the other inmates -- including an older\n",
      "  prisoner named Red -- for his integrity and unquenchable sense of hope.\n",
      "\n",
      "movie_name: The Godfather\n",
      "genre: Drama, Romance, Comedy\n",
      "description: Spanning the years 1945 to 1955, a chronicle of the fictional Italian-American\n",
      "  Corleone crime family. When organized crime family patriarch, Vito Corleone barely\n",
      "  survives an attempt on his life, his youngest son, Michael steps in to take care\n",
      "  of the would-be killers, launching a campaign of bloody revenge.\n",
      "\n",
      "movie_name: The Godfather Part II\n",
      "genre: Drama, Crime\n",
      "description: In the continuing saga of the Corleone crime family, a young Vito Corleone\n",
      "  grows up in Sicily and in 1910s New York. In the 1950s, Michael Corleone attempts\n",
      "  to expand the family business into Las Vegas, Hollywood and Cuba.\n",
      "\n",
      "movie_name: Schindler's List\n",
      "genre: Western, Adventure\n",
      "description: The true story of how businessman Oskar Schindler saved over a thousand\n",
      "  Jewish lives from the Nazis while they worked as slaves in his factory during World\n",
      "  War II.\n",
      "\n",
      "movie_name: 12 Angry Men\n",
      "genre: Western, Adventure\n",
      "description: The defense and the prosecution have rested and the jury is filing into\n",
      "  the jury room to decide if a young Spanish-American is guilty or innocent of murdering\n",
      "  his father. What begins as an open and shut case soon becomes a mini-drama of each\n",
      "  of the jurors' prejudices and preconceptions about the trial, the accused, and each\n",
      "  other.\n",
      "\n",
      "movie_name: Spirited Away\n",
      "genre: Animation, Family, Fantasy\n",
      "description: A young girl, Chihiro, becomes trapped in a strange new world of spirits.\n",
      "  When her parents undergo a mysterious transformation, she must call upon the courage\n",
      "  she never knew she had to free her family.\n",
      "\n",
      "movie_name: The Dark Knight\n",
      "genre: Drama, Romance, Comedy\n",
      "description: Batman raises the stakes in his war on crime. With the help of Lt. Jim\n",
      "  Gordon and District Attorney Harvey Dent, Batman sets out to dismantle the remaining\n",
      "  criminal organizations that plague the streets. The partnership proves to be effective,\n",
      "  but they soon find themselves prey to a reign of chaos unleashed by a rising criminal\n",
      "  mastermind known to the terrified citizens of Gotham as the Joker.\n",
      "\n",
      "movie_name: Dilwale Dulhania Le Jayenge\n",
      "genre: Drama, Action, Crime, Thriller\n",
      "description: \"Raj is a rich, carefree, happy-go-lucky second generation NRI. Simran\\\n",
      "  \\ is the daughter of Chaudhary Baldev Singh, who in spite of being an NRI is very\\\n",
      "  \\ strict about adherence to Indian values. Simran has left for India to be married\\\n",
      "  \\ to her childhood fianc\\xE9. Raj leaves for India with a mission at his hands,\\\n",
      "  \\ to claim his lady love under the noses of her whole family. Thus begins a saga.\"\n",
      "\n",
      "movie_name: The Green Mile\n",
      "genre: Comedy, Drama, Romance, War, History\n",
      "description: A supernatural tale set on death row in a Southern prison, where gentle\n",
      "  giant John Coffey possesses the mysterious power to heal people's ailments. When\n",
      "  the cell block's head guard, Paul Edgecomb, recognizes Coffey's miraculous gift,\n",
      "  he tries desperately to help stave off the condemned man's execution.\n",
      "\n",
      "movie_name: Parasite\n",
      "genre: Drama, Thriller, Comedy\n",
      "description: All unemployed, Ki-taek's family takes peculiar interest in the wealthy\n",
      "  and glamorous Parks for their livelihood until they get entangled in an unexpected\n",
      "  incident.\n",
      "\n",
      "movie_name: Pulp Fiction\n",
      "genre: Comedy, Drama, Romance\n",
      "description: A burger-loving hit man, his philosophical partner, a drug-addled gangster's\n",
      "  moll and a washed-up boxer converge in this sprawling, comedic crime caper. Their\n",
      "  adventures unfurl in three stories that ingeniously trip back and forth in time.\n",
      "\n",
      "movie_name: Your Name.\n",
      "genre: Comedy, Drama, Romance, War\n",
      "description: \"High schoolers Mitsuha and Taki are complete strangers living separate\\\n",
      "  \\ lives. But one night, they suddenly switch places. Mitsuha wakes up in Taki\\u2019\\\n",
      "  s body, and he in hers. This bizarre occurrence continues to happen randomly, and\\\n",
      "  \\ the two must adjust their lives around each other.\"\n",
      "\n",
      "movie_name: 'The Lord of the Rings: The Return of the King'\n",
      "genre: Comedy, Drama, Romance\n",
      "description: \"As armies mass for a final battle that will decide the fate of the world--and\\\n",
      "  \\ powerful, ancient forces of Light and Dark compete to determine the outcome--one\\\n",
      "  \\ member of the Fellowship of the Ring is revealed as the noble heir to the throne\\\n",
      "  \\ of the Kings of Men. Yet, the sole hope for triumph over evil lies with a brave\\\n",
      "  \\ hobbit, Frodo, who, accompanied by his loyal friend Sam and the hideous, wretched\\\n",
      "  \\ Gollum, ventures deep into the very dark heart of Mordor on his seemingly impossible\\\n",
      "  \\ quest to destroy the Ring of Power.\\u200B\"\n",
      "\n",
      "movie_name: Forrest Gump\n",
      "genre: Drama, Romance, Comedy\n",
      "description: \"A man with a low IQ has accomplished great things in his life and been\\\n",
      "  \\ present during significant historic events\\u2014in each case, far exceeding what\\\n",
      "  \\ anyone imagined he could do. But despite all he has achieved, his one true love\\\n",
      "  \\ eludes him.\"\n",
      "\n",
      "movie_name: The Good, the Bad and the Ugly\n",
      "genre: Drama, Crime\n",
      "description: \"While the Civil War rages on between the Union and the Confederacy,\\\n",
      "  \\ three men \\u2013 a quiet loner, a ruthless hitman, and a Mexican bandit \\u2013\\\n",
      "  \\ comb the American Southwest in search of a strongbox containing $200,000 in stolen\\\n",
      "  \\ gold.\"\n",
      "\n",
      "movie_name: Seven Samurai\n",
      "genre: Drama, Crime\n",
      "description: A samurai answers a village's request for protection after he falls on\n",
      "  hard times. The town needs protection from bandits, so the samurai gathers six others\n",
      "  to help him teach the people how to defend themselves, and the villagers provide\n",
      "  the soldiers with food.\n",
      "\n",
      "movie_name: GoodFellas\n",
      "genre: Drama\n",
      "description: The true story of Henry Hill, a half-Irish, half-Sicilian Brooklyn kid\n",
      "  who is adopted by neighbourhood gangsters at an early age and climbs the ranks of\n",
      "  a Mafia family under the guidance of Jimmy Conway.\n",
      "\n",
      "movie_name: Interstellar\n",
      "genre: Adventure, Drama, Sci-Fi\n",
      "description: The adventures of a group of explorers who make use of a newly discovered\n",
      "  wormhole to surpass the limitations on human space travel and conquer the vast distances\n",
      "  involved in an interstellar voyage.\n",
      "\n",
      "movie_name: Grave of the Fireflies\n",
      "genre: Drama, Action, Crime, Thriller\n",
      "description: In the final months of World War II, 14-year-old Seita and his sister\n",
      "  Setsuko are orphaned when their mother is killed during an air raid in Kobe, Japan.\n",
      "  After a falling out with their aunt, they move into an abandoned bomb shelter. With\n",
      "  no surviving relatives and their emergency rations depleted, Seita and Setsuko struggle\n",
      "  to survive.\n",
      "\n",
      "movie_name: Life Is Beautiful\n",
      "genre: Adventure, Drama, Fantasy\n",
      "description: A touching story of an Italian book seller of Jewish ancestry who lives\n",
      "  in his own little fairy tale. His creative and happy life would come to an abrupt\n",
      "  halt when his entire family is deported to a concentration camp during World War\n",
      "  II. While locked up he tries to convince his son that the whole thing is just a\n",
      "  game.\n",
      "\n",
      "\n"
     ]
    }
   ],
   "source": [
    "movies = AG.from_csv(base / \"data/movies.csv\",atype=Movie, max_rows=20)\n",
    "self_transductions = await movies.self_transduction([\"movie_name\",\"description\"],[\"genre\"])\n",
    "print(self_transductions.pretty_print())"
   ]
  },
  {
   "cell_type": "markdown",
   "id": "24dacd95",
   "metadata": {},
   "source": [
    "### Customizing Transduction  \n",
    "\n",
    "You can fine-tune how logical transduction works by configuring:  \n",
    "\n",
    "- **LLMs** – choose the underlying language model to run the transduction.  \n",
    "- **Instructions** – add task-specific guidance for the LLM.  \n",
    "- **Prompt Templates** – control how inputs are rendered into prompts.  \n",
    "- **Few-Shot Examples** – provide examples to steer the model’s behavior.  \n",
    "- **Verbose Options** – enable detailed logging and debug outputs.  "
   ]
  },
  {
   "cell_type": "markdown",
   "id": "35f475de",
   "metadata": {},
   "source": [
    "#### Task instructions\n",
    "The example below illustrate how to provide a llm and task specific instructions to transduction"
   ]
  },
  {
   "cell_type": "code",
   "execution_count": 12,
   "id": "e1b354b2",
   "metadata": {},
   "outputs": [
    {
     "data": {
      "application/vnd.jupyter.widget-view+json": {
       "model_id": "df338b02a93f44bfaccc2914f270d96a",
       "version_major": 2,
       "version_minor": 0
      },
      "text/plain": [
       "Output()"
      ]
     },
     "metadata": {},
     "output_type": "display_data"
    },
    {
     "data": {
      "text/html": [
       "<pre style=\"white-space:pre;overflow-x:auto;line-height:normal;font-family:Menlo,'DejaVu Sans Mono',consolas,'Courier New',monospace\"></pre>\n"
      ],
      "text/plain": []
     },
     "metadata": {},
     "output_type": "display_data"
    },
    {
     "name": "stdout",
     "output_type": "stream",
     "text": [
      "Atype : <class '__main__.Answer'>\n",
      "answer: \"L'Agentic AI pu\\xF2 migliorare il processo decisionale in ambito finanziario\\\n",
      "  \\ fornendo analisi predittive pi\\xF9 accurate, automatizzando la valutazione di\\\n",
      "  \\ scenari complessi e adattando le strategie in tempo reale. Grazie alla capacit\\xE0\\\n",
      "  \\ di agire autonomamente, questi sistemi possono monitorare continuamente i mercati,\\\n",
      "  \\ identificare opportunit\\xE0 di investimento, gestire i rischi e ottimizzare i\\\n",
      "  \\ portafogli, riducendo i tempi di risposta e gli errori umani.\"\n",
      "justification: \"Le tecnologie Agentic AI combinano apprendimento automatico avanzato,\\\n",
      "  \\ ragionamento basato su obiettivi e capacit\\xE0 di esecuzione autonoma. Questo\\\n",
      "  \\ permette di elaborare grandi volumi di dati finanziari (prezzi, notizie, indicatori\\\n",
      "  \\ macroeconomici) in modo pi\\xF9 rapido rispetto agli analisti umani, di simulare\\\n",
      "  \\ molteplici scenari di mercato e di adattare le decisioni in base a feedback continui.\\\n",
      "  \\ Inoltre, l'automazione delle operazioni riduce i bias cognitivi e consente una\\\n",
      "  \\ gestione pi\\xF9 disciplinata del rischio, migliorando la coerenza e l'efficacia\\\n",
      "  \\ delle strategie di investimento.\"\n",
      "confidence: 0.96\n",
      "\n",
      "answer: \"S\\xEC, gli oggetti AG possono essere integrati nei pipeline di dati esistenti.\"\n",
      "justification: \"Gli oggetti AG sono progettati per essere compatibili con formati\\\n",
      "  \\ di dati comuni e offrono API/connector per collegarsi a sistemi di ingestione,\\\n",
      "  \\ trasformazione e archiviazione gi\\xE0 in uso, consentendo un'integrazione fluida\\\n",
      "  \\ senza richiedere modifiche sostanziali al flusso di lavoro corrente.\"\n",
      "confidence: 0.93\n",
      "\n",
      "answer: \"L'Agentic AI pu\\xF2 potenziare il processo decisionale in ambito finanziario\\\n",
      "  \\ fornendo analisi predittive pi\\xF9 accurate, automatizzando la valutazione di\\\n",
      "  \\ scenari complessi e adattando le strategie in tempo reale. Grazie alla sua capacit\\xE0\\\n",
      "  \\ di agire autonomamente, pu\\xF2 monitorare continuamente i mercati, identificare\\\n",
      "  \\ pattern nascosti nei dati, ottimizzare portafogli e suggerire interventi tempestivi,\\\n",
      "  \\ riducendo i bias umani e accelerando la risposta a eventi imprevisti.\"\n",
      "justification: \"Le tecnologie Agentic AI combinano apprendimento automatico avanzato,\\\n",
      "  \\ ragionamento basato su obiettivi e capacit\\xE0 di esecuzione autonoma. Questo\\\n",
      "  \\ permette di elaborare grandi volumi di dati finanziari (prezzi, notizie, indicatori\\\n",
      "  \\ macro) con velocit\\xE0 superiore a quella umana, di simulare molteplici scenari\\\n",
      "  \\ di rischio e di aggiornare le decisioni in base a nuove informazioni. Inoltre,\\\n",
      "  \\ l'automazione riduce gli errori di calcolo e i pregiudizi cognitivi, mentre l'adattivit\\xE0\\\n",
      "  \\ garantisce che le strategie rimangano allineate agli obiettivi di rendimento e\\\n",
      "  \\ di gestione del rischio dell'investitore.\"\n",
      "confidence: 0.96\n",
      "\n",
      "answer: \"L'Agentic AI pu\\xF2 migliorare il processo decisionale in ambito finanziario\\\n",
      "  \\ attraverso diversi meccanismi: \\n1. **Analisi predittiva avanzata**: utilizza\\\n",
      "  \\ modelli di machine learning per prevedere trend di mercato, volatilit\\xE0 e rischi,\\\n",
      "  \\ fornendo previsioni pi\\xF9 accurate rispetto ai metodi tradizionali. \\n2. **Automazione\\\n",
      "  \\ delle decisioni operative**: grazie alla sua capacit\\xE0 di agire autonomamente,\\\n",
      "  \\ pu\\xF2 eseguire operazioni di trading, ribilanciamento di portafogli o gestione\\\n",
      "  \\ del rischio in tempo reale, riducendo i tempi di risposta. \\n3. **Personalizzazione\\\n",
      "  \\ delle strategie**: apprende dalle preferenze e dagli obiettivi dell'investitore,\\\n",
      "  \\ adattando le raccomandazioni di investimento in modo dinamico. \\n4. **Integrazione\\\n",
      "  \\ di dati eterogenei**: combina informazioni da fonti diverse (dati di mercato,\\\n",
      "  \\ notizie, sentiment sui social, indicatori macroeconomici) per fornire una visione\\\n",
      "  \\ pi\\xF9 completa e contestualizzata. \\n5. **Miglioramento della trasparenza e della\\\n",
      "  \\ spiegabilit\\xE0**: fornisce ragionamenti e motivazioni dietro le decisioni, facilitando\\\n",
      "  \\ la verifica da parte di analisti umani e la conformit\\xE0 normativa. \\n6. **Gestione\\\n",
      "  \\ proattiva del rischio**: rileva segnali di allarme precoce e suggerisce misure\\\n",
      "  \\ di mitigazione prima che i problemi si concretizzino, contribuendo a proteggere\\\n",
      "  \\ il capitale.\"\n",
      "justification: \"Le affermazioni sono basate sulle capacit\\xE0 note dell'Intelligenza\\\n",
      "  \\ Artificiale agentica, che combina apprendimento automatico, autonomia operativa\\\n",
      "  \\ e capacit\\xE0 di integrazione di dati complessi. Queste caratteristiche sono state\\\n",
      "  \\ ampiamente documentate nella letteratura finanziaria e tecnologica come fattori\\\n",
      "  \\ chiave per migliorare l'accuratezza, la velocit\\xE0 e la personalizzazione delle\\\n",
      "  \\ decisioni di investimento, oltre a garantire maggiore trasparenza e gestione del\\\n",
      "  \\ rischio.\"\n",
      "confidence: 0.96\n",
      "\n",
      "answer: \"L'Agentic AI pu\\xF2 migliorare il processo decisionale in ambito finanziario\\\n",
      "  \\ attraverso diverse leve: \\n1. Analisi in tempo reale di grandi volumi di dati\\\n",
      "  \\ di mercato, macroeconomici e alternativi, consentendo di rilevare pattern e segnali\\\n",
      "  \\ emergenti pi\\xF9 rapidamente rispetto ai metodi tradizionali. \\n2. Modellazione\\\n",
      "  \\ predittiva avanzata, con capacit\\xE0 di apprendere continuamente da nuovi dati\\\n",
      "  \\ e di aggiornare le previsioni di prezzo, volatilit\\xE0 o default dei crediti.\\\n",
      "  \\ \\n3. Valutazione automatizzata del rischio, integrando metriche di rischio di\\\n",
      "  \\ mercato, credito e operazionale in un unico framework decisionale. \\n4. Simulazione\\\n",
      "  \\ di scenari e ottimizzazione di portafogli, dove l'AI pu\\xF2 generare e valutare\\\n",
      "  \\ rapidamente migliaia di combinazioni di asset per identificare la migliore allocazione\\\n",
      "  \\ rispetto a obiettivi di rendimento e tolleranza al rischio. \\n5. Automazione di\\\n",
      "  \\ processi decisionali ripetitivi, come la gestione degli ordini, il monitoraggio\\\n",
      "  \\ della conformit\\xE0 normativa e la segnalazione di anomalie, liberando gli analisti\\\n",
      "  \\ per attivit\\xE0 a pi\\xF9 alto valore aggiunto. \\n6. Personalizzazione delle raccomandazioni\\\n",
      "  \\ per clienti istituzionali o retail, basata sul profilo di rischio, gli obiettivi\\\n",
      "  \\ di investimento e le preferenze individuali. \\nIn sintesi, l'Agentic AI combina\\\n",
      "  \\ capacit\\xE0 di percezione, ragionamento e azione autonoma per fornire insight\\\n",
      "  \\ pi\\xF9 rapidi, accurati e contestualizzati, migliorando l'efficienza, la precisione\\\n",
      "  \\ e la resilienza delle decisioni finanziarie.\"\n",
      "justification: \"Le affermazioni sono basate sulle caratteristiche note dell'Intelligenza\\\n",
      "  \\ Artificiale agentica, che include percezione dei dati, apprendimento continuo,\\\n",
      "  \\ capacit\\xE0 di ragionamento e azione autonoma. Queste capacit\\xE0 sono direttamente\\\n",
      "  \\ applicabili ai processi finanziari, dove la velocit\\xE0 di analisi, la precisione\\\n",
      "  \\ predittiva, la gestione del rischio e l'automazione sono fattori chiave per decisioni\\\n",
      "  \\ pi\\xF9 informate e tempestive.\"\n",
      "confidence: 0.96\n",
      "\n",
      "answer: L'Argentina\n",
      "justification: L'Argentina ha vinto l'ultima Coppa del Mondo FIFA (2022) sconfiggendo\n",
      "  la Francia ai rigori nella finale del 18 dicembre 2022.\n",
      "confidence: 0.99\n",
      "\n",
      "\n",
      "Atype : <class '__main__.Answer'>\n",
      "answer: \"L'Agentic AI pu\\xF2 migliorare il processo decisionale in ambito finanziario\\\n",
      "  \\ fornendo analisi predittive pi\\xF9 accurate, automatizzando la valutazione di\\\n",
      "  \\ scenari complessi e adattando le strategie in tempo reale. Grazie alla capacit\\xE0\\\n",
      "  \\ di agire autonomamente, questi sistemi possono monitorare continuamente i mercati,\\\n",
      "  \\ identificare opportunit\\xE0 di investimento, gestire i rischi e ottimizzare i\\\n",
      "  \\ portafogli, riducendo i tempi di risposta e gli errori umani.\"\n",
      "justification: \"Le tecnologie Agentic AI combinano apprendimento automatico avanzato,\\\n",
      "  \\ ragionamento basato su obiettivi e capacit\\xE0 di esecuzione autonoma. Questo\\\n",
      "  \\ permette di elaborare grandi volumi di dati finanziari (prezzi, notizie, indicatori\\\n",
      "  \\ macroeconomici) in modo pi\\xF9 rapido rispetto agli analisti umani, di simulare\\\n",
      "  \\ molteplici scenari di mercato e di adattare le decisioni in base a feedback continui.\\\n",
      "  \\ Inoltre, l'automazione delle operazioni riduce i bias cognitivi e consente una\\\n",
      "  \\ gestione pi\\xF9 disciplinata del rischio, migliorando la coerenza e l'efficacia\\\n",
      "  \\ delle strategie di investimento.\"\n",
      "confidence: 0.96\n",
      "\n",
      "answer: \"S\\xEC, gli oggetti AG possono essere integrati nei pipeline di dati esistenti.\"\n",
      "justification: \"Gli oggetti AG sono progettati per essere compatibili con formati\\\n",
      "  \\ di dati comuni e offrono API/connector per collegarsi a sistemi di ingestione,\\\n",
      "  \\ trasformazione e archiviazione gi\\xE0 in uso, consentendo un'integrazione fluida\\\n",
      "  \\ senza richiedere modifiche sostanziali al flusso di lavoro corrente.\"\n",
      "confidence: 0.93\n",
      "\n",
      "answer: \"L'Agentic AI pu\\xF2 potenziare il processo decisionale in ambito finanziario\\\n",
      "  \\ fornendo analisi predittive pi\\xF9 accurate, automatizzando la valutazione di\\\n",
      "  \\ scenari complessi e adattando le strategie in tempo reale. Grazie alla sua capacit\\xE0\\\n",
      "  \\ di agire autonomamente, pu\\xF2 monitorare continuamente i mercati, identificare\\\n",
      "  \\ pattern nascosti nei dati, ottimizzare portafogli e suggerire interventi tempestivi,\\\n",
      "  \\ riducendo i bias umani e accelerando la risposta a eventi imprevisti.\"\n",
      "justification: \"Le tecnologie Agentic AI combinano apprendimento automatico avanzato,\\\n",
      "  \\ ragionamento basato su obiettivi e capacit\\xE0 di esecuzione autonoma. Questo\\\n",
      "  \\ permette di elaborare grandi volumi di dati finanziari (prezzi, notizie, indicatori\\\n",
      "  \\ macro) con velocit\\xE0 superiore a quella umana, di simulare molteplici scenari\\\n",
      "  \\ di rischio e di aggiornare le decisioni in base a nuove informazioni. Inoltre,\\\n",
      "  \\ l'automazione riduce gli errori di calcolo e i pregiudizi cognitivi, mentre l'adattivit\\xE0\\\n",
      "  \\ garantisce che le strategie rimangano allineate agli obiettivi di rendimento e\\\n",
      "  \\ di gestione del rischio dell'investitore.\"\n",
      "confidence: 0.96\n",
      "\n",
      "answer: \"L'Agentic AI pu\\xF2 migliorare il processo decisionale in ambito finanziario\\\n",
      "  \\ attraverso diversi meccanismi: \\n1. **Analisi predittiva avanzata**: utilizza\\\n",
      "  \\ modelli di machine learning per prevedere trend di mercato, volatilit\\xE0 e rischi,\\\n",
      "  \\ fornendo previsioni pi\\xF9 accurate rispetto ai metodi tradizionali. \\n2. **Automazione\\\n",
      "  \\ delle decisioni operative**: grazie alla sua capacit\\xE0 di agire autonomamente,\\\n",
      "  \\ pu\\xF2 eseguire operazioni di trading, ribilanciamento di portafogli o gestione\\\n",
      "  \\ del rischio in tempo reale, riducendo i tempi di risposta. \\n3. **Personalizzazione\\\n",
      "  \\ delle strategie**: apprende dalle preferenze e dagli obiettivi dell'investitore,\\\n",
      "  \\ adattando le raccomandazioni di investimento in modo dinamico. \\n4. **Integrazione\\\n",
      "  \\ di dati eterogenei**: combina informazioni da fonti diverse (dati di mercato,\\\n",
      "  \\ notizie, sentiment sui social, indicatori macroeconomici) per fornire una visione\\\n",
      "  \\ pi\\xF9 completa e contestualizzata. \\n5. **Miglioramento della trasparenza e della\\\n",
      "  \\ spiegabilit\\xE0**: fornisce ragionamenti e motivazioni dietro le decisioni, facilitando\\\n",
      "  \\ la verifica da parte di analisti umani e la conformit\\xE0 normativa. \\n6. **Gestione\\\n",
      "  \\ proattiva del rischio**: rileva segnali di allarme precoce e suggerisce misure\\\n",
      "  \\ di mitigazione prima che i problemi si concretizzino, contribuendo a proteggere\\\n",
      "  \\ il capitale.\"\n",
      "justification: \"Le affermazioni sono basate sulle capacit\\xE0 note dell'Intelligenza\\\n",
      "  \\ Artificiale agentica, che combina apprendimento automatico, autonomia operativa\\\n",
      "  \\ e capacit\\xE0 di integrazione di dati complessi. Queste caratteristiche sono state\\\n",
      "  \\ ampiamente documentate nella letteratura finanziaria e tecnologica come fattori\\\n",
      "  \\ chiave per migliorare l'accuratezza, la velocit\\xE0 e la personalizzazione delle\\\n",
      "  \\ decisioni di investimento, oltre a garantire maggiore trasparenza e gestione del\\\n",
      "  \\ rischio.\"\n",
      "confidence: 0.96\n",
      "\n",
      "answer: \"L'Agentic AI pu\\xF2 migliorare il processo decisionale in ambito finanziario\\\n",
      "  \\ attraverso diverse leve: \\n1. Analisi in tempo reale di grandi volumi di dati\\\n",
      "  \\ di mercato, macroeconomici e alternativi, consentendo di rilevare pattern e segnali\\\n",
      "  \\ emergenti pi\\xF9 rapidamente rispetto ai metodi tradizionali. \\n2. Modellazione\\\n",
      "  \\ predittiva avanzata, con capacit\\xE0 di apprendere continuamente da nuovi dati\\\n",
      "  \\ e di aggiornare le previsioni di prezzo, volatilit\\xE0 o default dei crediti.\\\n",
      "  \\ \\n3. Valutazione automatizzata del rischio, integrando metriche di rischio di\\\n",
      "  \\ mercato, credito e operazionale in un unico framework decisionale. \\n4. Simulazione\\\n",
      "  \\ di scenari e ottimizzazione di portafogli, dove l'AI pu\\xF2 generare e valutare\\\n",
      "  \\ rapidamente migliaia di combinazioni di asset per identificare la migliore allocazione\\\n",
      "  \\ rispetto a obiettivi di rendimento e tolleranza al rischio. \\n5. Automazione di\\\n",
      "  \\ processi decisionali ripetitivi, come la gestione degli ordini, il monitoraggio\\\n",
      "  \\ della conformit\\xE0 normativa e la segnalazione di anomalie, liberando gli analisti\\\n",
      "  \\ per attivit\\xE0 a pi\\xF9 alto valore aggiunto. \\n6. Personalizzazione delle raccomandazioni\\\n",
      "  \\ per clienti istituzionali o retail, basata sul profilo di rischio, gli obiettivi\\\n",
      "  \\ di investimento e le preferenze individuali. \\nIn sintesi, l'Agentic AI combina\\\n",
      "  \\ capacit\\xE0 di percezione, ragionamento e azione autonoma per fornire insight\\\n",
      "  \\ pi\\xF9 rapidi, accurati e contestualizzati, migliorando l'efficienza, la precisione\\\n",
      "  \\ e la resilienza delle decisioni finanziarie.\"\n",
      "justification: \"Le affermazioni sono basate sulle caratteristiche note dell'Intelligenza\\\n",
      "  \\ Artificiale agentica, che include percezione dei dati, apprendimento continuo,\\\n",
      "  \\ capacit\\xE0 di ragionamento e azione autonoma. Queste capacit\\xE0 sono direttamente\\\n",
      "  \\ applicabili ai processi finanziari, dove la velocit\\xE0 di analisi, la precisione\\\n",
      "  \\ predittiva, la gestione del rischio e l'automazione sono fattori chiave per decisioni\\\n",
      "  \\ pi\\xF9 informate e tempestive.\"\n",
      "confidence: 0.96\n",
      "\n",
      "answer: L'Argentina\n",
      "justification: L'Argentina ha vinto l'ultima Coppa del Mondo FIFA (2022) sconfiggendo\n",
      "  la Francia ai rigori nella finale del 18 dicembre 2022.\n",
      "confidence: 0.99\n",
      "\n",
      "\n"
     ]
    }
   ],
   "source": [
    "questions_answering_ag=AG(atype=Answer,\n",
    "                          llm=AG.get_llm_provider(\"watsonx\"),\n",
    "                          instructions= \"Answer in italian\")\n",
    "\n",
    "print((await (questions_answering_ag << questions)).pretty_print())\n"
   ]
  },
  {
   "cell_type": "markdown",
   "id": "4279f5e4",
   "metadata": {},
   "source": [
    "#### Prompt templates\n",
    "\n",
    "Prompt templates enable greater customization of your transductions by providing a langchain style abstraction to render pydantic objects into input prompts for the agent. \n",
    "\n"
   ]
  },
  {
   "cell_type": "code",
   "execution_count": 13,
   "id": "1dd88de5",
   "metadata": {},
   "outputs": [
    {
     "name": "stderr",
     "output_type": "stream",
     "text": [
      "2025-09-29 06:39:32.206 | DEBUG    | agentics.core.llm_connections:get_llm_provider:30 - Available LLM providers: ['watsonx', 'gemini', 'openai']. None specified, defaulting to 'watsonx'\n",
      "2025-09-29 06:39:32.222 | DEBUG    | agentics.core.llm_connections:get_llm_provider:30 - Available LLM providers: ['watsonx', 'gemini', 'openai']. None specified, defaulting to 'watsonx'\n"
     ]
    },
    {
     "data": {
      "application/vnd.jupyter.widget-view+json": {
       "model_id": "2084fdd8a31d4038b3c0d5cd7bf1f420",
       "version_major": 2,
       "version_minor": 0
      },
      "text/plain": [
       "Output()"
      ]
     },
     "metadata": {},
     "output_type": "display_data"
    },
    {
     "data": {
      "text/html": [
       "<pre style=\"white-space:pre;overflow-x:auto;line-height:normal;font-family:Menlo,'DejaVu Sans Mono',consolas,'Courier New',monospace\"></pre>\n"
      ],
      "text/plain": []
     },
     "metadata": {},
     "output_type": "display_data"
    },
    {
     "name": "stderr",
     "output_type": "stream",
     "text": [
      "2025-09-29 06:39:38.238 | DEBUG    | agentics.core.async_executor:execute:65 - retrying 1 state(s), attempt 1\n"
     ]
    },
    {
     "name": "stdout",
     "output_type": "stream",
     "text": [
      "Atype : <class '__main__.Answer'>\n",
      "answer: \"On May 27, 2009, U.S. equity markets continued their post\\u2011crisis recovery.\\\n",
      "  \\ The Dow Jones Industrial Average closed at 8,500.31, up about 0.5% on the day;\\\n",
      "  \\ the S&P 500 finished at 822.30, up roughly 0.6%; and the Nasdaq Composite rose\\\n",
      "  \\ about 0.7% to near 1,800. The modest gains were driven by growing optimism about\\\n",
      "  \\ fiscal stimulus, improving economic indicators, and the easing of the credit crunch.\"\n",
      "justification: Historical market data for that date shows all three major U.S. indices\n",
      "  posting gains, reflecting investor confidence as the recession eased and stimulus\n",
      "  measures began to show effect.\n",
      "confidence: 0.78\n",
      "\n",
      "answer: On February 6, 2012, global equity markets posted modest gains. In the United\n",
      "  States, the Dow Jones Industrial Average rose about 0.5% and the S&P 500 increased\n",
      "  roughly 0.6%, while European markets also edged higher. The rally was driven by\n",
      "  positive economic data, easing concerns over the Eurozone debt crisis, and expectations\n",
      "  that central banks would maintain accommodative monetary policies.\n",
      "justification: \"Financial news reports from early February 2012 indicate that investors\\\n",
      "  \\ were reacting to a mix of better\\u2011than\\u2011expected U.S. economic indicators\\\n",
      "  \\ (such as retail sales and manufacturing data) and a temporary easing of tension\\\n",
      "  \\ in the Eurozone after Greece\\u2019s debt\\u2011restructuring talks. These factors\\\n",
      "  \\ contributed to a broad-based rise in stock indices on that day.\"\n",
      "confidence: 0.78\n",
      "\n",
      "answer: \"On December 29, 2011, U.S. equity markets closed the year with modest gains.\\\n",
      "  \\ The Dow Jones Industrial Average finished at 12,217.56, up about 0.5% for the\\\n",
      "  \\ day; the S&P 500 ended at 1,257.79, up roughly 0.2%; and the Nasdaq Composite\\\n",
      "  \\ closed at 2,735.68, also up about 0.2%. Treasury yields fell, with the 10\\u2011\\\n",
      "  year note yielding around 2.0%, reflecting continued demand for safe\\u2011haven\\\n",
      "  \\ assets. Commodity prices, especially oil, rose modestly, with WTI crude trading\\\n",
      "  \\ near $84 per barrel. Overall, the market\\u2019s performance on that day marked\\\n",
      "  \\ a small positive finish to a year that had been marked by volatility and concerns\\\n",
      "  \\ over European sovereign debt.\"\n",
      "justification: The answer is derived from historical market closing data for December\n",
      "  29, 2011, as recorded by major financial exchanges and reported in financial news\n",
      "  archives (e.g., Bloomberg, Reuters, and historical price databases). The movements\n",
      "  in equity indices, Treasury yields, and commodity prices are consistent across these\n",
      "  sources.\n",
      "confidence: 0.88\n",
      "\n",
      "\n",
      "Atype : <class '__main__.Answer'>\n",
      "answer: \"On May 27, 2009, U.S. equity markets continued their post\\u2011crisis recovery.\\\n",
      "  \\ The Dow Jones Industrial Average closed at 8,500.31, up about 0.5% on the day;\\\n",
      "  \\ the S&P 500 finished at 822.30, up roughly 0.6%; and the Nasdaq Composite rose\\\n",
      "  \\ about 0.7% to near 1,800. The modest gains were driven by growing optimism about\\\n",
      "  \\ fiscal stimulus, improving economic indicators, and the easing of the credit crunch.\"\n",
      "justification: Historical market data for that date shows all three major U.S. indices\n",
      "  posting gains, reflecting investor confidence as the recession eased and stimulus\n",
      "  measures began to show effect.\n",
      "confidence: 0.78\n",
      "\n",
      "answer: On February 6, 2012, global equity markets posted modest gains. In the United\n",
      "  States, the Dow Jones Industrial Average rose about 0.5% and the S&P 500 increased\n",
      "  roughly 0.6%, while European markets also edged higher. The rally was driven by\n",
      "  positive economic data, easing concerns over the Eurozone debt crisis, and expectations\n",
      "  that central banks would maintain accommodative monetary policies.\n",
      "justification: \"Financial news reports from early February 2012 indicate that investors\\\n",
      "  \\ were reacting to a mix of better\\u2011than\\u2011expected U.S. economic indicators\\\n",
      "  \\ (such as retail sales and manufacturing data) and a temporary easing of tension\\\n",
      "  \\ in the Eurozone after Greece\\u2019s debt\\u2011restructuring talks. These factors\\\n",
      "  \\ contributed to a broad-based rise in stock indices on that day.\"\n",
      "confidence: 0.78\n",
      "\n",
      "answer: \"On December 29, 2011, U.S. equity markets closed the year with modest gains.\\\n",
      "  \\ The Dow Jones Industrial Average finished at 12,217.56, up about 0.5% for the\\\n",
      "  \\ day; the S&P 500 ended at 1,257.79, up roughly 0.2%; and the Nasdaq Composite\\\n",
      "  \\ closed at 2,735.68, also up about 0.2%. Treasury yields fell, with the 10\\u2011\\\n",
      "  year note yielding around 2.0%, reflecting continued demand for safe\\u2011haven\\\n",
      "  \\ assets. Commodity prices, especially oil, rose modestly, with WTI crude trading\\\n",
      "  \\ near $84 per barrel. Overall, the market\\u2019s performance on that day marked\\\n",
      "  \\ a small positive finish to a year that had been marked by volatility and concerns\\\n",
      "  \\ over European sovereign debt.\"\n",
      "justification: The answer is derived from historical market closing data for December\n",
      "  29, 2011, as recorded by major financial exchanges and reported in financial news\n",
      "  archives (e.g., Bloomberg, Reuters, and historical price databases). The movements\n",
      "  in equity indices, Treasury yields, and commodity prices are consistent across these\n",
      "  sources.\n",
      "confidence: 0.88\n",
      "\n",
      "\n"
     ]
    }
   ],
   "source": [
    "questions_answering_ag=AG(atype=Answer)\n",
    "\n",
    "dow_jones_data=AG.from_csv(\"data/dow_jones.csv\")\n",
    "dow_jones_data =dow_jones_data.get_random_sample(0.002)\n",
    "dow_jones_data.prompt_template=\"what happened to the financial markets in {date}?\"\n",
    "answers = await (questions_answering_ag << dow_jones_data)\n",
    "print(answers.pretty_print())\n",
    "\n"
   ]
  },
  {
   "cell_type": "markdown",
   "id": "d704b0b8",
   "metadata": {},
   "source": []
  },
  {
   "cell_type": "markdown",
   "id": "a6eb0ebd",
   "metadata": {},
   "source": [
    "## Tool Usage  \n",
    "\n",
    "Agentics integrates seamlessly with the **MCP ecosystem**, allowing AGs to call external tools during transduction.  In addition to that, they also allows the use of CrewAI tools, as the underlying transduction framework is currently based on crewAI agents. \n",
    "\n",
    "This makes it easy to fetch, process, or enrich data dynamically while keeping results structured. \n",
    "\n",
    "In the following example we illustrate the use of Duck Duck Go search to improve the information gathering of historical market data. "
   ]
  },
  {
   "cell_type": "code",
   "execution_count": null,
   "id": "78356292",
   "metadata": {},
   "outputs": [
    {
     "data": {
      "text/html": [
       "<pre style=\"white-space:pre;overflow-x:auto;line-height:normal;font-family:Menlo,'DejaVu Sans Mono',consolas,'Courier New',monospace\"><span style=\"color: #008080; text-decoration-color: #008080\">╭──────────────────────────────────────────── Crew Execution Started ─────────────────────────────────────────────╮</span>\n",
       "<span style=\"color: #008080; text-decoration-color: #008080\">│</span>                                                                                                                 <span style=\"color: #008080; text-decoration-color: #008080\">│</span>\n",
       "<span style=\"color: #008080; text-decoration-color: #008080\">│</span>  <span style=\"color: #008080; text-decoration-color: #008080; font-weight: bold\">Crew Execution Started</span>                                                                                         <span style=\"color: #008080; text-decoration-color: #008080\">│</span>\n",
       "<span style=\"color: #008080; text-decoration-color: #008080\">│</span>  <span style=\"color: #c0c0c0; text-decoration-color: #c0c0c0\">Name: </span><span style=\"color: #008080; text-decoration-color: #008080\">crew</span>                                                                                                     <span style=\"color: #008080; text-decoration-color: #008080\">│</span>\n",
       "<span style=\"color: #008080; text-decoration-color: #008080\">│</span>  <span style=\"color: #c0c0c0; text-decoration-color: #c0c0c0\">ID: </span><span style=\"color: #008080; text-decoration-color: #008080\">df446bc0-4f93-4310-89aa-165d30fc577e</span>                                                                       <span style=\"color: #008080; text-decoration-color: #008080\">│</span>\n",
       "<span style=\"color: #008080; text-decoration-color: #008080\">│</span>  <span style=\"color: #c0c0c0; text-decoration-color: #c0c0c0\">Tool Args: </span>                                                                                                    <span style=\"color: #008080; text-decoration-color: #008080\">│</span>\n",
       "<span style=\"color: #008080; text-decoration-color: #008080\">│</span>                                                                                                                 <span style=\"color: #008080; text-decoration-color: #008080\">│</span>\n",
       "<span style=\"color: #008080; text-decoration-color: #008080\">│</span>                                                                                                                 <span style=\"color: #008080; text-decoration-color: #008080\">│</span>\n",
       "<span style=\"color: #008080; text-decoration-color: #008080\">╰─────────────────────────────────────────────────────────────────────────────────────────────────────────────────╯</span>\n",
       "</pre>\n"
      ],
      "text/plain": [
       "\u001b[36m╭─\u001b[0m\u001b[36m───────────────────────────────────────────\u001b[0m\u001b[36m Crew Execution Started \u001b[0m\u001b[36m────────────────────────────────────────────\u001b[0m\u001b[36m─╮\u001b[0m\n",
       "\u001b[36m│\u001b[0m                                                                                                                 \u001b[36m│\u001b[0m\n",
       "\u001b[36m│\u001b[0m  \u001b[1;36mCrew Execution Started\u001b[0m                                                                                         \u001b[36m│\u001b[0m\n",
       "\u001b[36m│\u001b[0m  \u001b[37mName: \u001b[0m\u001b[36mcrew\u001b[0m                                                                                                     \u001b[36m│\u001b[0m\n",
       "\u001b[36m│\u001b[0m  \u001b[37mID: \u001b[0m\u001b[36mdf446bc0-4f93-4310-89aa-165d30fc577e\u001b[0m                                                                       \u001b[36m│\u001b[0m\n",
       "\u001b[36m│\u001b[0m  \u001b[37mTool Args: \u001b[0m                                                                                                    \u001b[36m│\u001b[0m\n",
       "\u001b[36m│\u001b[0m                                                                                                                 \u001b[36m│\u001b[0m\n",
       "\u001b[36m│\u001b[0m                                                                                                                 \u001b[36m│\u001b[0m\n",
       "\u001b[36m╰─────────────────────────────────────────────────────────────────────────────────────────────────────────────────╯\u001b[0m\n"
      ]
     },
     "metadata": {},
     "output_type": "display_data"
    },
    {
     "data": {
      "text/html": [
       "<pre style=\"white-space:pre;overflow-x:auto;line-height:normal;font-family:Menlo,'DejaVu Sans Mono',consolas,'Courier New',monospace\">\n",
       "</pre>\n"
      ],
      "text/plain": [
       "\n"
      ]
     },
     "metadata": {},
     "output_type": "display_data"
    },
    {
     "data": {
      "text/html": [
       "<pre style=\"white-space:pre;overflow-x:auto;line-height:normal;font-family:Menlo,'DejaVu Sans Mono',consolas,'Courier New',monospace\"></pre>\n"
      ],
      "text/plain": []
     },
     "metadata": {},
     "output_type": "display_data"
    },
    {
     "data": {
      "text/html": [
       "<pre style=\"white-space:pre;overflow-x:auto;line-height:normal;font-family:Menlo,'DejaVu Sans Mono',consolas,'Courier New',monospace\"><span style=\"color: #800080; text-decoration-color: #800080\">╭─────────────────────────────────────────────── 🤖 Agent Started ────────────────────────────────────────────────╮</span>\n",
       "<span style=\"color: #800080; text-decoration-color: #800080\">│</span>                                                                                                                 <span style=\"color: #800080; text-decoration-color: #800080\">│</span>\n",
       "<span style=\"color: #800080; text-decoration-color: #800080\">│</span>  <span style=\"color: #c0c0c0; text-decoration-color: #c0c0c0\">Agent: </span><span style=\"color: #00ff00; text-decoration-color: #00ff00; font-weight: bold\">Task Executor</span>                                                                                           <span style=\"color: #800080; text-decoration-color: #800080\">│</span>\n",
       "<span style=\"color: #800080; text-decoration-color: #800080\">│</span>                                                                                                                 <span style=\"color: #800080; text-decoration-color: #800080\">│</span>\n",
       "<span style=\"color: #800080; text-decoration-color: #800080\">│</span>  <span style=\"color: #c0c0c0; text-decoration-color: #c0c0c0\">Task: </span>                                                                                                         <span style=\"color: #800080; text-decoration-color: #800080\">│</span>\n",
       "<span style=\"color: #800080; text-decoration-color: #800080\">│</span>  <span style=\"color: #00ff00; text-decoration-color: #00ff00\">Your task is to transduce a source Pydantic Object into the specified Output type. Generate only slots that </span>   <span style=\"color: #800080; text-decoration-color: #800080\">│</span>\n",
       "<span style=\"color: #800080; text-decoration-color: #800080\">│</span>  <span style=\"color: #00ff00; text-decoration-color: #00ff00\">are logically deduced from the input information, otherwise live then null.</span>                                    <span style=\"color: #800080; text-decoration-color: #800080\">│</span>\n",
       "<span style=\"color: #800080; text-decoration-color: #800080\">│</span>                                                                                                                 <span style=\"color: #800080; text-decoration-color: #800080\">│</span>\n",
       "<span style=\"color: #800080; text-decoration-color: #800080\">│</span>  <span style=\"color: #00ff00; text-decoration-color: #00ff00\">Read carefully the following instructions for executing your task:</span>                                             <span style=\"color: #800080; text-decoration-color: #800080\">│</span>\n",
       "<span style=\"color: #800080; text-decoration-color: #800080\">│</span>  <span style=\"color: #00ff00; text-decoration-color: #00ff00\">Generate an object of the specified type from the following input. SOURCE:</span>                                     <span style=\"color: #800080; text-decoration-color: #800080\">│</span>\n",
       "<span style=\"color: #800080; text-decoration-color: #800080\">│</span>  <span style=\"color: #00ff00; text-decoration-color: #00ff00\">what happened to the financial markets in 2009-05-27?</span>                                                          <span style=\"color: #800080; text-decoration-color: #800080\">│</span>\n",
       "<span style=\"color: #800080; text-decoration-color: #800080\">│</span>                                                                                                                 <span style=\"color: #800080; text-decoration-color: #800080\">│</span>\n",
       "<span style=\"color: #800080; text-decoration-color: #800080\">╰─────────────────────────────────────────────────────────────────────────────────────────────────────────────────╯</span>\n",
       "</pre>\n"
      ],
      "text/plain": [
       "\u001b[35m╭─\u001b[0m\u001b[35m──────────────────────────────────────────────\u001b[0m\u001b[35m 🤖 Agent Started \u001b[0m\u001b[35m───────────────────────────────────────────────\u001b[0m\u001b[35m─╮\u001b[0m\n",
       "\u001b[35m│\u001b[0m                                                                                                                 \u001b[35m│\u001b[0m\n",
       "\u001b[35m│\u001b[0m  \u001b[37mAgent: \u001b[0m\u001b[1;92mTask Executor\u001b[0m                                                                                           \u001b[35m│\u001b[0m\n",
       "\u001b[35m│\u001b[0m                                                                                                                 \u001b[35m│\u001b[0m\n",
       "\u001b[35m│\u001b[0m  \u001b[37mTask: \u001b[0m                                                                                                         \u001b[35m│\u001b[0m\n",
       "\u001b[35m│\u001b[0m  \u001b[92mYour task is to transduce a source Pydantic Object into the specified Output type. Generate only slots that \u001b[0m   \u001b[35m│\u001b[0m\n",
       "\u001b[35m│\u001b[0m  \u001b[92mare logically deduced from the input information, otherwise live then null.\u001b[0m                                    \u001b[35m│\u001b[0m\n",
       "\u001b[35m│\u001b[0m                                                                                                                 \u001b[35m│\u001b[0m\n",
       "\u001b[35m│\u001b[0m  \u001b[92mRead carefully the following instructions for executing your task:\u001b[0m                                             \u001b[35m│\u001b[0m\n",
       "\u001b[35m│\u001b[0m  \u001b[92mGenerate an object of the specified type from the following input. SOURCE:\u001b[0m                                     \u001b[35m│\u001b[0m\n",
       "\u001b[35m│\u001b[0m  \u001b[92mwhat happened to the financial markets in 2009-05-27?\u001b[0m                                                          \u001b[35m│\u001b[0m\n",
       "\u001b[35m│\u001b[0m                                                                                                                 \u001b[35m│\u001b[0m\n",
       "\u001b[35m╰─────────────────────────────────────────────────────────────────────────────────────────────────────────────────╯\u001b[0m\n"
      ]
     },
     "metadata": {},
     "output_type": "display_data"
    },
    {
     "data": {
      "text/html": [
       "<pre style=\"white-space:pre;overflow-x:auto;line-height:normal;font-family:Menlo,'DejaVu Sans Mono',consolas,'Courier New',monospace\">\n",
       "</pre>\n"
      ],
      "text/plain": [
       "\n"
      ]
     },
     "metadata": {},
     "output_type": "display_data"
    },
    {
     "data": {
      "application/vnd.jupyter.widget-view+json": {
       "model_id": "ae9289313d0e4debac585d0a469217c9",
       "version_major": 2,
       "version_minor": 0
      },
      "text/plain": [
       "Output()"
      ]
     },
     "metadata": {},
     "output_type": "display_data"
    },
    {
     "data": {
      "text/html": [
       "<pre style=\"white-space:pre;overflow-x:auto;line-height:normal;font-family:Menlo,'DejaVu Sans Mono',consolas,'Courier New',monospace\"><span style=\"color: #ff0000; text-decoration-color: #ff0000\"> Received None or empty response from LLM call.</span>\n",
       "</pre>\n"
      ],
      "text/plain": [
       "\u001b[91m Received None or empty response from LLM call.\u001b[0m\n"
      ]
     },
     "metadata": {},
     "output_type": "display_data"
    },
    {
     "data": {
      "text/html": [
       "<pre style=\"white-space:pre;overflow-x:auto;line-height:normal;font-family:Menlo,'DejaVu Sans Mono',consolas,'Courier New',monospace\"><span style=\"color: #ff0000; text-decoration-color: #ff0000\"> An unknown error occurred. Please check the details below.</span>\n",
       "</pre>\n"
      ],
      "text/plain": [
       "\u001b[91m An unknown error occurred. Please check the details below.\u001b[0m\n"
      ]
     },
     "metadata": {},
     "output_type": "display_data"
    },
    {
     "data": {
      "text/html": [
       "<pre style=\"white-space:pre;overflow-x:auto;line-height:normal;font-family:Menlo,'DejaVu Sans Mono',consolas,'Courier New',monospace\"><span style=\"color: #ff0000; text-decoration-color: #ff0000\"> Error details: Invalid response from LLM call - None or empty.</span>\n",
       "</pre>\n"
      ],
      "text/plain": [
       "\u001b[91m Error details: Invalid response from LLM call - None or empty.\u001b[0m\n"
      ]
     },
     "metadata": {},
     "output_type": "display_data"
    },
    {
     "data": {
      "text/html": [
       "<pre style=\"white-space:pre;overflow-x:auto;line-height:normal;font-family:Menlo,'DejaVu Sans Mono',consolas,'Courier New',monospace\"><span style=\"color: #ff0000; text-decoration-color: #ff0000\"> An unknown error occurred. Please check the details below.</span>\n",
       "</pre>\n"
      ],
      "text/plain": [
       "\u001b[91m An unknown error occurred. Please check the details below.\u001b[0m\n"
      ]
     },
     "metadata": {},
     "output_type": "display_data"
    },
    {
     "data": {
      "text/html": [
       "<pre style=\"white-space:pre;overflow-x:auto;line-height:normal;font-family:Menlo,'DejaVu Sans Mono',consolas,'Courier New',monospace\"><span style=\"color: #ff0000; text-decoration-color: #ff0000\"> Error details: Invalid response from LLM call - None or empty.</span>\n",
       "</pre>\n"
      ],
      "text/plain": [
       "\u001b[91m Error details: Invalid response from LLM call - None or empty.\u001b[0m\n"
      ]
     },
     "metadata": {},
     "output_type": "display_data"
    },
    {
     "data": {
      "text/html": [
       "<pre style=\"white-space:pre;overflow-x:auto;line-height:normal;font-family:Menlo,'DejaVu Sans Mono',consolas,'Courier New',monospace\"></pre>\n"
      ],
      "text/plain": []
     },
     "metadata": {},
     "output_type": "display_data"
    },
    {
     "data": {
      "text/html": [
       "<pre style=\"white-space:pre;overflow-x:auto;line-height:normal;font-family:Menlo,'DejaVu Sans Mono',consolas,'Courier New',monospace\"><span style=\"color: #800080; text-decoration-color: #800080\">╭─────────────────────────────────────────────── 🤖 Agent Started ────────────────────────────────────────────────╮</span>\n",
       "<span style=\"color: #800080; text-decoration-color: #800080\">│</span>                                                                                                                 <span style=\"color: #800080; text-decoration-color: #800080\">│</span>\n",
       "<span style=\"color: #800080; text-decoration-color: #800080\">│</span>  <span style=\"color: #c0c0c0; text-decoration-color: #c0c0c0\">Agent: </span><span style=\"color: #00ff00; text-decoration-color: #00ff00; font-weight: bold\">Task Executor</span>                                                                                           <span style=\"color: #800080; text-decoration-color: #800080\">│</span>\n",
       "<span style=\"color: #800080; text-decoration-color: #800080\">│</span>                                                                                                                 <span style=\"color: #800080; text-decoration-color: #800080\">│</span>\n",
       "<span style=\"color: #800080; text-decoration-color: #800080\">│</span>  <span style=\"color: #c0c0c0; text-decoration-color: #c0c0c0\">Task: </span>                                                                                                         <span style=\"color: #800080; text-decoration-color: #800080\">│</span>\n",
       "<span style=\"color: #800080; text-decoration-color: #800080\">│</span>  <span style=\"color: #00ff00; text-decoration-color: #00ff00\">Your task is to transduce a source Pydantic Object into the specified Output type. Generate only slots that </span>   <span style=\"color: #800080; text-decoration-color: #800080\">│</span>\n",
       "<span style=\"color: #800080; text-decoration-color: #800080\">│</span>  <span style=\"color: #00ff00; text-decoration-color: #00ff00\">are logically deduced from the input information, otherwise live then null.</span>                                    <span style=\"color: #800080; text-decoration-color: #800080\">│</span>\n",
       "<span style=\"color: #800080; text-decoration-color: #800080\">│</span>                                                                                                                 <span style=\"color: #800080; text-decoration-color: #800080\">│</span>\n",
       "<span style=\"color: #800080; text-decoration-color: #800080\">│</span>  <span style=\"color: #00ff00; text-decoration-color: #00ff00\">Read carefully the following instructions for executing your task:</span>                                             <span style=\"color: #800080; text-decoration-color: #800080\">│</span>\n",
       "<span style=\"color: #800080; text-decoration-color: #800080\">│</span>  <span style=\"color: #00ff00; text-decoration-color: #00ff00\">Generate an object of the specified type from the following input. SOURCE:</span>                                     <span style=\"color: #800080; text-decoration-color: #800080\">│</span>\n",
       "<span style=\"color: #800080; text-decoration-color: #800080\">│</span>  <span style=\"color: #00ff00; text-decoration-color: #00ff00\">what happened to the financial markets in 2009-05-27?</span>                                                          <span style=\"color: #800080; text-decoration-color: #800080\">│</span>\n",
       "<span style=\"color: #800080; text-decoration-color: #800080\">│</span>                                                                                                                 <span style=\"color: #800080; text-decoration-color: #800080\">│</span>\n",
       "<span style=\"color: #800080; text-decoration-color: #800080\">╰─────────────────────────────────────────────────────────────────────────────────────────────────────────────────╯</span>\n",
       "</pre>\n"
      ],
      "text/plain": [
       "\u001b[35m╭─\u001b[0m\u001b[35m──────────────────────────────────────────────\u001b[0m\u001b[35m 🤖 Agent Started \u001b[0m\u001b[35m───────────────────────────────────────────────\u001b[0m\u001b[35m─╮\u001b[0m\n",
       "\u001b[35m│\u001b[0m                                                                                                                 \u001b[35m│\u001b[0m\n",
       "\u001b[35m│\u001b[0m  \u001b[37mAgent: \u001b[0m\u001b[1;92mTask Executor\u001b[0m                                                                                           \u001b[35m│\u001b[0m\n",
       "\u001b[35m│\u001b[0m                                                                                                                 \u001b[35m│\u001b[0m\n",
       "\u001b[35m│\u001b[0m  \u001b[37mTask: \u001b[0m                                                                                                         \u001b[35m│\u001b[0m\n",
       "\u001b[35m│\u001b[0m  \u001b[92mYour task is to transduce a source Pydantic Object into the specified Output type. Generate only slots that \u001b[0m   \u001b[35m│\u001b[0m\n",
       "\u001b[35m│\u001b[0m  \u001b[92mare logically deduced from the input information, otherwise live then null.\u001b[0m                                    \u001b[35m│\u001b[0m\n",
       "\u001b[35m│\u001b[0m                                                                                                                 \u001b[35m│\u001b[0m\n",
       "\u001b[35m│\u001b[0m  \u001b[92mRead carefully the following instructions for executing your task:\u001b[0m                                             \u001b[35m│\u001b[0m\n",
       "\u001b[35m│\u001b[0m  \u001b[92mGenerate an object of the specified type from the following input. SOURCE:\u001b[0m                                     \u001b[35m│\u001b[0m\n",
       "\u001b[35m│\u001b[0m  \u001b[92mwhat happened to the financial markets in 2009-05-27?\u001b[0m                                                          \u001b[35m│\u001b[0m\n",
       "\u001b[35m│\u001b[0m                                                                                                                 \u001b[35m│\u001b[0m\n",
       "\u001b[35m╰─────────────────────────────────────────────────────────────────────────────────────────────────────────────────╯\u001b[0m\n"
      ]
     },
     "metadata": {},
     "output_type": "display_data"
    },
    {
     "data": {
      "text/html": [
       "<pre style=\"white-space:pre;overflow-x:auto;line-height:normal;font-family:Menlo,'DejaVu Sans Mono',consolas,'Courier New',monospace\">\n",
       "</pre>\n"
      ],
      "text/plain": [
       "\n"
      ]
     },
     "metadata": {},
     "output_type": "display_data"
    },
    {
     "data": {
      "application/vnd.jupyter.widget-view+json": {
       "model_id": "3567fcaa332d4074a4dbc058615d661f",
       "version_major": 2,
       "version_minor": 0
      },
      "text/plain": [
       "Output()"
      ]
     },
     "metadata": {},
     "output_type": "display_data"
    },
    {
     "data": {
      "text/html": [
       "<pre style=\"white-space:pre;overflow-x:auto;line-height:normal;font-family:Menlo,'DejaVu Sans Mono',consolas,'Courier New',monospace\"></pre>\n"
      ],
      "text/plain": []
     },
     "metadata": {},
     "output_type": "display_data"
    },
    {
     "data": {
      "text/html": [
       "<pre style=\"white-space:pre;overflow-x:auto;line-height:normal;font-family:Menlo,'DejaVu Sans Mono',consolas,'Courier New',monospace\"><span style=\"color: #800080; text-decoration-color: #800080\">╭──────────────────────────────────────────── 🔧 Agent Tool Execution ────────────────────────────────────────────╮</span>\n",
       "<span style=\"color: #800080; text-decoration-color: #800080\">│</span>                                                                                                                 <span style=\"color: #800080; text-decoration-color: #800080\">│</span>\n",
       "<span style=\"color: #800080; text-decoration-color: #800080\">│</span>  <span style=\"color: #c0c0c0; text-decoration-color: #c0c0c0\">Agent: </span><span style=\"color: #00ff00; text-decoration-color: #00ff00; font-weight: bold\">Task Executor</span>                                                                                           <span style=\"color: #800080; text-decoration-color: #800080\">│</span>\n",
       "<span style=\"color: #800080; text-decoration-color: #800080\">│</span>                                                                                                                 <span style=\"color: #800080; text-decoration-color: #800080\">│</span>\n",
       "<span style=\"color: #800080; text-decoration-color: #800080\">│</span>  <span style=\"color: #c0c0c0; text-decoration-color: #c0c0c0\">Thought: </span><span style=\"color: #00ff00; text-decoration-color: #00ff00\">Action: fetch_data_async</span>                                                                              <span style=\"color: #800080; text-decoration-color: #800080\">│</span>\n",
       "<span style=\"color: #800080; text-decoration-color: #800080\">│</span>                                                                                                                 <span style=\"color: #800080; text-decoration-color: #800080\">│</span>\n",
       "<span style=\"color: #800080; text-decoration-color: #800080\">│</span>  <span style=\"color: #c0c0c0; text-decoration-color: #c0c0c0\">Using Tool: </span><span style=\"color: #00ff00; text-decoration-color: #00ff00; font-weight: bold\">fetch_data_async</span>                                                                                   <span style=\"color: #800080; text-decoration-color: #800080\">│</span>\n",
       "<span style=\"color: #800080; text-decoration-color: #800080\">│</span>                                                                                                                 <span style=\"color: #800080; text-decoration-color: #800080\">│</span>\n",
       "<span style=\"color: #800080; text-decoration-color: #800080\">╰─────────────────────────────────────────────────────────────────────────────────────────────────────────────────╯</span>\n",
       "</pre>\n"
      ],
      "text/plain": [
       "\u001b[35m╭─\u001b[0m\u001b[35m───────────────────────────────────────────\u001b[0m\u001b[35m 🔧 Agent Tool Execution \u001b[0m\u001b[35m───────────────────────────────────────────\u001b[0m\u001b[35m─╮\u001b[0m\n",
       "\u001b[35m│\u001b[0m                                                                                                                 \u001b[35m│\u001b[0m\n",
       "\u001b[35m│\u001b[0m  \u001b[37mAgent: \u001b[0m\u001b[1;92mTask Executor\u001b[0m                                                                                           \u001b[35m│\u001b[0m\n",
       "\u001b[35m│\u001b[0m                                                                                                                 \u001b[35m│\u001b[0m\n",
       "\u001b[35m│\u001b[0m  \u001b[37mThought: \u001b[0m\u001b[92mAction: fetch_data_async\u001b[0m                                                                              \u001b[35m│\u001b[0m\n",
       "\u001b[35m│\u001b[0m                                                                                                                 \u001b[35m│\u001b[0m\n",
       "\u001b[35m│\u001b[0m  \u001b[37mUsing Tool: \u001b[0m\u001b[1;92mfetch_data_async\u001b[0m                                                                                   \u001b[35m│\u001b[0m\n",
       "\u001b[35m│\u001b[0m                                                                                                                 \u001b[35m│\u001b[0m\n",
       "\u001b[35m╰─────────────────────────────────────────────────────────────────────────────────────────────────────────────────╯\u001b[0m\n"
      ]
     },
     "metadata": {},
     "output_type": "display_data"
    },
    {
     "data": {
      "text/html": [
       "<pre style=\"white-space:pre;overflow-x:auto;line-height:normal;font-family:Menlo,'DejaVu Sans Mono',consolas,'Courier New',monospace\"><span style=\"color: #000080; text-decoration-color: #000080\">╭────────────────────────────────────────────────── Tool Input ───────────────────────────────────────────────────╮</span>\n",
       "<span style=\"color: #000080; text-decoration-color: #000080\">│</span>                                                                                                                 <span style=\"color: #000080; text-decoration-color: #000080\">│</span>\n",
       "<span style=\"color: #000080; text-decoration-color: #000080\">│</span>  <span style=\"color: #e6db74; text-decoration-color: #e6db74; background-color: #ffffff\">\"{\\\"query\\\": \\\"May 27 2009 financial markets news\\\"}\"</span>                                                          <span style=\"color: #000080; text-decoration-color: #000080\">│</span>\n",
       "<span style=\"color: #000080; text-decoration-color: #000080\">│</span>                                                                                                                 <span style=\"color: #000080; text-decoration-color: #000080\">│</span>\n",
       "<span style=\"color: #000080; text-decoration-color: #000080\">╰─────────────────────────────────────────────────────────────────────────────────────────────────────────────────╯</span>\n",
       "</pre>\n"
      ],
      "text/plain": [
       "\u001b[34m╭─\u001b[0m\u001b[34m─────────────────────────────────────────────────\u001b[0m\u001b[34m Tool Input \u001b[0m\u001b[34m──────────────────────────────────────────────────\u001b[0m\u001b[34m─╮\u001b[0m\n",
       "\u001b[34m│\u001b[0m                                                                                                                 \u001b[34m│\u001b[0m\n",
       "\u001b[34m│\u001b[0m  \u001b[38;2;230;219;116;49m\"{\\\"query\\\": \\\"May 27 2009 financial markets news\\\"}\"\u001b[0m                                                          \u001b[34m│\u001b[0m\n",
       "\u001b[34m│\u001b[0m                                                                                                                 \u001b[34m│\u001b[0m\n",
       "\u001b[34m╰─────────────────────────────────────────────────────────────────────────────────────────────────────────────────╯\u001b[0m\n"
      ]
     },
     "metadata": {},
     "output_type": "display_data"
    },
    {
     "data": {
      "text/html": [
       "<pre style=\"white-space:pre;overflow-x:auto;line-height:normal;font-family:Menlo,'DejaVu Sans Mono',consolas,'Courier New',monospace\"><span style=\"color: #008000; text-decoration-color: #008000\">╭────────────────────────────────────────────────── Tool Output ──────────────────────────────────────────────────╮</span>\n",
       "<span style=\"color: #008000; text-decoration-color: #008000\">│</span>                                                                                                                 <span style=\"color: #008000; text-decoration-color: #008000\">│</span>\n",
       "<span style=\"color: #008000; text-decoration-color: #008000\">│</span>  <span style=\"color: #00ff00; text-decoration-color: #00ff00\">[{'title': 'may，maybe和may be的区别 - 百度知道', 'href': </span>                                                     <span style=\"color: #008000; text-decoration-color: #008000\">│</span>\n",
       "<span style=\"color: #008000; text-decoration-color: #008000\">│</span>  <span style=\"color: #00ff00; text-decoration-color: #00ff00\">'https://zhidao.baidu.com/question/713307842659436085.html', 'body': 'may, maybe和may </span>                         <span style=\"color: #008000; text-decoration-color: #008000\">│</span>\n",
       "<span style=\"color: #008000; text-decoration-color: #008000\">│</span>  <span style=\"color: #00ff00; text-decoration-color: #00ff00\">be都有推测的意思,不过在句子中的使用作用用不同。 1、may是情态动词表推测, 后面接动词原形, 意思是: 可以, 会, </span>     <span style=\"color: #008000; text-decoration-color: #008000\">│</span>\n",
       "<span style=\"color: #008000; text-decoration-color: #008000\">│</span>  <span style=\"color: #00ff00; text-decoration-color: #00ff00\">也许。 2、maybe是副词, 作状语；意思是: 也许, 可能, …'}, {'title': 'Jan、Mar、Feb、Apr、May、Jun是什么意思 - </span>   <span style=\"color: #008000; text-decoration-color: #008000\">│</span>\n",
       "<span style=\"color: #008000; text-decoration-color: #008000\">│</span>  <span style=\"color: #00ff00; text-decoration-color: #00ff00\">百度知道', 'href': 'https://zhidao.baidu.com/question/454731822230820805.html', 'body': </span>                       <span style=\"color: #008000; text-decoration-color: #008000\">│</span>\n",
       "<span style=\"color: #008000; text-decoration-color: #008000\">│</span>  <span style=\"color: #00ff00; text-decoration-color: #00ff00\">'Jan、Mar、Feb、Apr、May、Jun是什么意思Jan、Feb、Mar、Apr、May、Jun </span>                                           <span style=\"color: #008000; text-decoration-color: #008000\">│</span>\n",
       "<span style=\"color: #008000; text-decoration-color: #008000\">│</span>  <span style=\"color: #00ff00; text-decoration-color: #00ff00\">是一些缩写的月份名称，分别对应一年中的1月、2月、3月、4月、5月和6月。它们来自于英语的月份名称缩写：'}, </span>         <span style=\"color: #008000; text-decoration-color: #008000\">│</span>\n",
       "<span style=\"color: #008000; text-decoration-color: #008000\">│</span>  <span style=\"color: #00ff00; text-decoration-color: #00ff00\">{'title': 'May 和 might 有什么差别？ - 知乎', 'href': 'https://www.zhihu.com/question/306934681', 'body': </span>     <span style=\"color: #008000; text-decoration-color: #008000\">│</span>\n",
       "<span style=\"color: #008000; text-decoration-color: #008000\">│</span>  <span style=\"color: #00ff00; text-decoration-color: #00ff00\">'一、may和might 引言 语法： may和might为情态动词。 第三人称单数不加-s。 疑问句和否定句不用do。 </span>                <span style=\"color: #008000; text-decoration-color: #008000\">│</span>\n",
       "<span style=\"color: #008000; text-decoration-color: #008000\">│</span>  <span style=\"color: #00ff00; text-decoration-color: #00ff00\">在may和might之后使用其他动词的不定式时不带to。 may和might没有动词不定式形 …'}, {'title': </span>                      <span style=\"color: #008000; text-decoration-color: #008000\">│</span>\n",
       "<span style=\"color: #008000; text-decoration-color: #008000\">│</span>  <span style=\"color: #00ff00; text-decoration-color: #00ff00\">'May是几月？_百度知道', 'href': 'https://zhidao.baidu.com/question/7459920.html', 'body': '能can, may </span>         <span style=\"color: #008000; text-decoration-color: #008000\">│</span>\n",
       "<span style=\"color: #008000; text-decoration-color: #008000\">│</span>  <span style=\"color: #00ff00; text-decoration-color: #00ff00\">堪endure, can, bear, may 扩展资料： 一月:January 二月:February 三月:March 四月:April 五月:May 六月:June </span>       <span style=\"color: #008000; text-decoration-color: #008000\">│</span>\n",
       "<span style=\"color: #008000; text-decoration-color: #008000\">│</span>  <span style=\"color: #00ff00; text-decoration-color: #00ff00\">七月:July 八月:August 九月:September 十月:October 十一 …'}, {'title': '“maybe”和“may </span>                          <span style=\"color: #008000; text-decoration-color: #008000\">│</span>\n",
       "<span style=\"color: #008000; text-decoration-color: #008000\">│</span>  <span style=\"color: #00ff00; text-decoration-color: #00ff00\">be”有什么区别？_百度知道', 'href': 'https://zhidao.baidu.com/question/44062785.html', 'body': 'It may be just</span>  <span style=\"color: #008000; text-decoration-color: #008000\">│</span>\n",
       "<span style=\"color: #008000; text-decoration-color: #008000\">│</span>  <span style=\"color: #00ff00; text-decoration-color: #00ff00\">a joke. </span>                                                                                                       <span style=\"color: #008000; text-decoration-color: #008000\">│</span>\n",
       "<span style=\"color: #008000; text-decoration-color: #008000\">│</span>  <span style=\"color: #00ff00; text-decoration-color: #00ff00\">句子1中，我们给原句里加了一个副词maybe，如果把剩下的部分去掉句子依然完整；而句子2中，我们给原句加的则是一个情</span>  <span style=\"color: #008000; text-decoration-color: #008000\">│</span>\n",
       "<span style=\"color: #008000; text-decoration-color: #008000\">│</span>  <span style=\"color: #00ff00; text-decoration-color: #00ff00\">态动词may，情态动词后要用动词原形，所 …'}, {'title': 'may 和 </span>                                                  <span style=\"color: #008000; text-decoration-color: #008000\">│</span>\n",
       "<span style=\"color: #008000; text-decoration-color: #008000\">│</span>  <span style=\"color: #00ff00; text-decoration-color: #00ff00\">can对于初学者来说，有没有必要区别？是否可以全部视 …', 'href': 'https://www.zhihu.com/question/68678584', </span>      <span style=\"color: #008000; text-decoration-color: #008000\">│</span>\n",
       "<span style=\"color: #008000; text-decoration-color: #008000\">│</span>  <span style=\"color: #00ff00; text-decoration-color: #00ff00\">'body': 'Nov 26, 2017 · </span>                                                                                       <span style=\"color: #008000; text-decoration-color: #008000\">│</span>\n",
       "<span style=\"color: #008000; text-decoration-color: #008000\">│</span>  <span style=\"color: #00ff00; text-decoration-color: #00ff00\">May含有possibly的意思，相当于‘’可能‘’；它和can的关系可以理解成：在某些时候或某种情况下can的意思。'}, </span>          <span style=\"color: #008000; text-decoration-color: #008000\">│</span>\n",
       "<span style=\"color: #008000; text-decoration-color: #008000\">│</span>  <span style=\"color: #00ff00; text-decoration-color: #00ff00\">{'title': '英语的1~12月的缩写是什么？_百度知道', 'href': 'https://zhidao.baidu.com/question/23608682.html', </span>   <span style=\"color: #008000; text-decoration-color: #008000\">│</span>\n",
       "<span style=\"color: #008000; text-decoration-color: #008000\">│</span>  <span style=\"color: #00ff00; text-decoration-color: #00ff00\">'body': '英语的1~12月的缩写是： 1、Jan. January 一月； 2、Feb. February 二月； 3、Mar. March 三月； 4、Apr. </span>   <span style=\"color: #008000; text-decoration-color: #008000\">│</span>\n",
       "<span style=\"color: #008000; text-decoration-color: #008000\">│</span>  <span style=\"color: #00ff00; text-decoration-color: #00ff00\">April 四月； 5、May无缩写 五月； 6、Jun. June 六月； 7、Jul. July 七月； 8、Aug. …'}, {'title': </span>               <span style=\"color: #008000; text-decoration-color: #008000\">│</span>\n",
       "<span style=\"color: #008000; text-decoration-color: #008000\">│</span>  <span style=\"color: #00ff00; text-decoration-color: #00ff00\">'月份的英文缩写及全名 - 百度知道', 'href': 'https://zhidao.baidu.com/question/262978139347913405.html', </span>       <span style=\"color: #008000; text-decoration-color: #008000\">│</span>\n",
       "<span style=\"color: #008000; text-decoration-color: #008000\">│</span>  <span style=\"color: #00ff00; text-decoration-color: #00ff00\">'body': '月份的英文缩写及全名1. 一月 January （Jan）2. 二月 February （Feb）3. 三月 March （Mar） 4. 四月 </span>     <span style=\"color: #008000; text-decoration-color: #008000\">│</span>\n",
       "<span style=\"color: #008000; text-decoration-color: #008000\">│</span>  <span style=\"color: #00ff00; text-decoration-color: #00ff00\">April （Apr）5. 五月 May （May）6. 六月 June （Jun）7. 七月 July （Jul）8. 八月 …'}, {'title': </span>                <span style=\"color: #008000; text-decoration-color: #008000\">│</span>\n",
       "<span style=\"color: #008000; text-decoration-color: #008000\">│</span>  <span style=\"color: #00ff00; text-decoration-color: #00ff00\">'十二个月的英文 - 百度知道', 'href': 'https://zhidao.baidu.com/question/339419825.html', 'body': </span>              <span style=\"color: #008000; text-decoration-color: #008000\">│</span>\n",
       "<span style=\"color: #008000; text-decoration-color: #008000\">│</span>  <span style=\"color: #00ff00; text-decoration-color: #00ff00\">'十二个月的英文分别是：January，一月；February，二月；March，三月；April，四月；May，五月；June，六月；July，</span>  <span style=\"color: #008000; text-decoration-color: #008000\">│</span>\n",
       "<span style=\"color: #008000; text-decoration-color: #008000\">│</span>  <span style=\"color: #00ff00; text-decoration-color: #00ff00\">七月；August，八...</span>                                                                                            <span style=\"color: #008000; text-decoration-color: #008000\">│</span>\n",
       "<span style=\"color: #008000; text-decoration-color: #008000\">│</span>                                                                                                                 <span style=\"color: #008000; text-decoration-color: #008000\">│</span>\n",
       "<span style=\"color: #008000; text-decoration-color: #008000\">╰─────────────────────────────────────────────────────────────────────────────────────────────────────────────────╯</span>\n",
       "</pre>\n"
      ],
      "text/plain": [
       "\u001b[32m╭─\u001b[0m\u001b[32m─────────────────────────────────────────────────\u001b[0m\u001b[32m Tool Output \u001b[0m\u001b[32m─────────────────────────────────────────────────\u001b[0m\u001b[32m─╮\u001b[0m\n",
       "\u001b[32m│\u001b[0m                                                                                                                 \u001b[32m│\u001b[0m\n",
       "\u001b[32m│\u001b[0m  \u001b[92m[{'title': 'may，maybe和may be的区别 - 百度知道', 'href': \u001b[0m                                                     \u001b[32m│\u001b[0m\n",
       "\u001b[32m│\u001b[0m  \u001b[92m'https://zhidao.baidu.com/question/713307842659436085.html', 'body': 'may, maybe和may \u001b[0m                         \u001b[32m│\u001b[0m\n",
       "\u001b[32m│\u001b[0m  \u001b[92mbe都有推测的意思,不过在句子中的使用作用用不同。 1、may是情态动词表推测, 后面接动词原形, 意思是: 可以, 会, \u001b[0m     \u001b[32m│\u001b[0m\n",
       "\u001b[32m│\u001b[0m  \u001b[92m也许。 2、maybe是副词, 作状语；意思是: 也许, 可能, …'}, {'title': 'Jan、Mar、Feb、Apr、May、Jun是什么意思 - \u001b[0m   \u001b[32m│\u001b[0m\n",
       "\u001b[32m│\u001b[0m  \u001b[92m百度知道', 'href': 'https://zhidao.baidu.com/question/454731822230820805.html', 'body': \u001b[0m                       \u001b[32m│\u001b[0m\n",
       "\u001b[32m│\u001b[0m  \u001b[92m'Jan、Mar、Feb、Apr、May、Jun是什么意思Jan、Feb、Mar、Apr、May、Jun \u001b[0m                                           \u001b[32m│\u001b[0m\n",
       "\u001b[32m│\u001b[0m  \u001b[92m是一些缩写的月份名称，分别对应一年中的1月、2月、3月、4月、5月和6月。它们来自于英语的月份名称缩写：'}, \u001b[0m         \u001b[32m│\u001b[0m\n",
       "\u001b[32m│\u001b[0m  \u001b[92m{'title': 'May 和 might 有什么差别？ - 知乎', 'href': 'https://www.zhihu.com/question/306934681', 'body': \u001b[0m     \u001b[32m│\u001b[0m\n",
       "\u001b[32m│\u001b[0m  \u001b[92m'一、may和might 引言 语法： may和might为情态动词。 第三人称单数不加-s。 疑问句和否定句不用do。 \u001b[0m                \u001b[32m│\u001b[0m\n",
       "\u001b[32m│\u001b[0m  \u001b[92m在may和might之后使用其他动词的不定式时不带to。 may和might没有动词不定式形 …'}, {'title': \u001b[0m                      \u001b[32m│\u001b[0m\n",
       "\u001b[32m│\u001b[0m  \u001b[92m'May是几月？_百度知道', 'href': 'https://zhidao.baidu.com/question/7459920.html', 'body': '能can, may \u001b[0m         \u001b[32m│\u001b[0m\n",
       "\u001b[32m│\u001b[0m  \u001b[92m堪endure, can, bear, may 扩展资料： 一月:January 二月:February 三月:March 四月:April 五月:May 六月:June \u001b[0m       \u001b[32m│\u001b[0m\n",
       "\u001b[32m│\u001b[0m  \u001b[92m七月:July 八月:August 九月:September 十月:October 十一 …'}, {'title': '“maybe”和“may \u001b[0m                          \u001b[32m│\u001b[0m\n",
       "\u001b[32m│\u001b[0m  \u001b[92mbe”有什么区别？_百度知道', 'href': 'https://zhidao.baidu.com/question/44062785.html', 'body': 'It may be just\u001b[0m  \u001b[32m│\u001b[0m\n",
       "\u001b[32m│\u001b[0m  \u001b[92ma joke. \u001b[0m                                                                                                       \u001b[32m│\u001b[0m\n",
       "\u001b[32m│\u001b[0m  \u001b[92m句子1中，我们给原句里加了一个副词maybe，如果把剩下的部分去掉句子依然完整；而句子2中，我们给原句加的则是一个情\u001b[0m  \u001b[32m│\u001b[0m\n",
       "\u001b[32m│\u001b[0m  \u001b[92m态动词may，情态动词后要用动词原形，所 …'}, {'title': 'may 和 \u001b[0m                                                  \u001b[32m│\u001b[0m\n",
       "\u001b[32m│\u001b[0m  \u001b[92mcan对于初学者来说，有没有必要区别？是否可以全部视 …', 'href': 'https://www.zhihu.com/question/68678584', \u001b[0m      \u001b[32m│\u001b[0m\n",
       "\u001b[32m│\u001b[0m  \u001b[92m'body': 'Nov 26, 2017 · \u001b[0m                                                                                       \u001b[32m│\u001b[0m\n",
       "\u001b[32m│\u001b[0m  \u001b[92mMay含有possibly的意思，相当于‘’可能‘’；它和can的关系可以理解成：在某些时候或某种情况下can的意思。'}, \u001b[0m          \u001b[32m│\u001b[0m\n",
       "\u001b[32m│\u001b[0m  \u001b[92m{'title': '英语的1~12月的缩写是什么？_百度知道', 'href': 'https://zhidao.baidu.com/question/23608682.html', \u001b[0m   \u001b[32m│\u001b[0m\n",
       "\u001b[32m│\u001b[0m  \u001b[92m'body': '英语的1~12月的缩写是： 1、Jan. January 一月； 2、Feb. February 二月； 3、Mar. March 三月； 4、Apr. \u001b[0m   \u001b[32m│\u001b[0m\n",
       "\u001b[32m│\u001b[0m  \u001b[92mApril 四月； 5、May无缩写 五月； 6、Jun. June 六月； 7、Jul. July 七月； 8、Aug. …'}, {'title': \u001b[0m               \u001b[32m│\u001b[0m\n",
       "\u001b[32m│\u001b[0m  \u001b[92m'月份的英文缩写及全名 - 百度知道', 'href': 'https://zhidao.baidu.com/question/262978139347913405.html', \u001b[0m       \u001b[32m│\u001b[0m\n",
       "\u001b[32m│\u001b[0m  \u001b[92m'body': '月份的英文缩写及全名1. 一月 January （Jan）2. 二月 February （Feb）3. 三月 March （Mar） 4. 四月 \u001b[0m     \u001b[32m│\u001b[0m\n",
       "\u001b[32m│\u001b[0m  \u001b[92mApril （Apr）5. 五月 May （May）6. 六月 June （Jun）7. 七月 July （Jul）8. 八月 …'}, {'title': \u001b[0m                \u001b[32m│\u001b[0m\n",
       "\u001b[32m│\u001b[0m  \u001b[92m'十二个月的英文 - 百度知道', 'href': 'https://zhidao.baidu.com/question/339419825.html', 'body': \u001b[0m              \u001b[32m│\u001b[0m\n",
       "\u001b[32m│\u001b[0m  \u001b[92m'十二个月的英文分别是：January，一月；February，二月；March，三月；April，四月；May，五月；June，六月；July，\u001b[0m  \u001b[32m│\u001b[0m\n",
       "\u001b[32m│\u001b[0m  \u001b[92m七月；August，八...\u001b[0m                                                                                            \u001b[32m│\u001b[0m\n",
       "\u001b[32m│\u001b[0m                                                                                                                 \u001b[32m│\u001b[0m\n",
       "\u001b[32m╰─────────────────────────────────────────────────────────────────────────────────────────────────────────────────╯\u001b[0m\n"
      ]
     },
     "metadata": {},
     "output_type": "display_data"
    },
    {
     "data": {
      "text/html": [
       "<pre style=\"white-space:pre;overflow-x:auto;line-height:normal;font-family:Menlo,'DejaVu Sans Mono',consolas,'Courier New',monospace\">\n",
       "</pre>\n"
      ],
      "text/plain": [
       "\n"
      ]
     },
     "metadata": {},
     "output_type": "display_data"
    },
    {
     "data": {
      "application/vnd.jupyter.widget-view+json": {
       "model_id": "1b85bef0003d441fabcf717abb67ec3a",
       "version_major": 2,
       "version_minor": 0
      },
      "text/plain": [
       "Output()"
      ]
     },
     "metadata": {},
     "output_type": "display_data"
    },
    {
     "data": {
      "text/html": [
       "<pre style=\"white-space:pre;overflow-x:auto;line-height:normal;font-family:Menlo,'DejaVu Sans Mono',consolas,'Courier New',monospace\"></pre>\n"
      ],
      "text/plain": []
     },
     "metadata": {},
     "output_type": "display_data"
    },
    {
     "data": {
      "text/html": [
       "<pre style=\"white-space:pre;overflow-x:auto;line-height:normal;font-family:Menlo,'DejaVu Sans Mono',consolas,'Courier New',monospace\"><span style=\"color: #800080; text-decoration-color: #800080\">╭──────────────────────────────────────────── 🔧 Agent Tool Execution ────────────────────────────────────────────╮</span>\n",
       "<span style=\"color: #800080; text-decoration-color: #800080\">│</span>                                                                                                                 <span style=\"color: #800080; text-decoration-color: #800080\">│</span>\n",
       "<span style=\"color: #800080; text-decoration-color: #800080\">│</span>  <span style=\"color: #c0c0c0; text-decoration-color: #c0c0c0\">Agent: </span><span style=\"color: #00ff00; text-decoration-color: #00ff00; font-weight: bold\">Task Executor</span>                                                                                           <span style=\"color: #800080; text-decoration-color: #800080\">│</span>\n",
       "<span style=\"color: #800080; text-decoration-color: #800080\">│</span>                                                                                                                 <span style=\"color: #800080; text-decoration-color: #800080\">│</span>\n",
       "<span style=\"color: #800080; text-decoration-color: #800080\">│</span>  <span style=\"color: #c0c0c0; text-decoration-color: #c0c0c0\">Thought: </span><span style=\"color: #00ff00; text-decoration-color: #00ff00\">Action: fetch_data_async</span>                                                                              <span style=\"color: #800080; text-decoration-color: #800080\">│</span>\n",
       "<span style=\"color: #800080; text-decoration-color: #800080\">│</span>                                                                                                                 <span style=\"color: #800080; text-decoration-color: #800080\">│</span>\n",
       "<span style=\"color: #800080; text-decoration-color: #800080\">│</span>  <span style=\"color: #c0c0c0; text-decoration-color: #c0c0c0\">Using Tool: </span><span style=\"color: #00ff00; text-decoration-color: #00ff00; font-weight: bold\">fetch_data_async</span>                                                                                   <span style=\"color: #800080; text-decoration-color: #800080\">│</span>\n",
       "<span style=\"color: #800080; text-decoration-color: #800080\">│</span>                                                                                                                 <span style=\"color: #800080; text-decoration-color: #800080\">│</span>\n",
       "<span style=\"color: #800080; text-decoration-color: #800080\">╰─────────────────────────────────────────────────────────────────────────────────────────────────────────────────╯</span>\n",
       "</pre>\n"
      ],
      "text/plain": [
       "\u001b[35m╭─\u001b[0m\u001b[35m───────────────────────────────────────────\u001b[0m\u001b[35m 🔧 Agent Tool Execution \u001b[0m\u001b[35m───────────────────────────────────────────\u001b[0m\u001b[35m─╮\u001b[0m\n",
       "\u001b[35m│\u001b[0m                                                                                                                 \u001b[35m│\u001b[0m\n",
       "\u001b[35m│\u001b[0m  \u001b[37mAgent: \u001b[0m\u001b[1;92mTask Executor\u001b[0m                                                                                           \u001b[35m│\u001b[0m\n",
       "\u001b[35m│\u001b[0m                                                                                                                 \u001b[35m│\u001b[0m\n",
       "\u001b[35m│\u001b[0m  \u001b[37mThought: \u001b[0m\u001b[92mAction: fetch_data_async\u001b[0m                                                                              \u001b[35m│\u001b[0m\n",
       "\u001b[35m│\u001b[0m                                                                                                                 \u001b[35m│\u001b[0m\n",
       "\u001b[35m│\u001b[0m  \u001b[37mUsing Tool: \u001b[0m\u001b[1;92mfetch_data_async\u001b[0m                                                                                   \u001b[35m│\u001b[0m\n",
       "\u001b[35m│\u001b[0m                                                                                                                 \u001b[35m│\u001b[0m\n",
       "\u001b[35m╰─────────────────────────────────────────────────────────────────────────────────────────────────────────────────╯\u001b[0m\n"
      ]
     },
     "metadata": {},
     "output_type": "display_data"
    },
    {
     "data": {
      "text/html": [
       "<pre style=\"white-space:pre;overflow-x:auto;line-height:normal;font-family:Menlo,'DejaVu Sans Mono',consolas,'Courier New',monospace\"><span style=\"color: #000080; text-decoration-color: #000080\">╭────────────────────────────────────────────────── Tool Input ───────────────────────────────────────────────────╮</span>\n",
       "<span style=\"color: #000080; text-decoration-color: #000080\">│</span>                                                                                                                 <span style=\"color: #000080; text-decoration-color: #000080\">│</span>\n",
       "<span style=\"color: #000080; text-decoration-color: #000080\">│</span>  <span style=\"color: #e6db74; text-decoration-color: #e6db74; background-color: #ffffff\">\"{\\\"query\\\": \\\"May 27 2009 stock market news\\\"}\"</span>                                                               <span style=\"color: #000080; text-decoration-color: #000080\">│</span>\n",
       "<span style=\"color: #000080; text-decoration-color: #000080\">│</span>                                                                                                                 <span style=\"color: #000080; text-decoration-color: #000080\">│</span>\n",
       "<span style=\"color: #000080; text-decoration-color: #000080\">╰─────────────────────────────────────────────────────────────────────────────────────────────────────────────────╯</span>\n",
       "</pre>\n"
      ],
      "text/plain": [
       "\u001b[34m╭─\u001b[0m\u001b[34m─────────────────────────────────────────────────\u001b[0m\u001b[34m Tool Input \u001b[0m\u001b[34m──────────────────────────────────────────────────\u001b[0m\u001b[34m─╮\u001b[0m\n",
       "\u001b[34m│\u001b[0m                                                                                                                 \u001b[34m│\u001b[0m\n",
       "\u001b[34m│\u001b[0m  \u001b[38;2;230;219;116;49m\"{\\\"query\\\": \\\"May 27 2009 stock market news\\\"}\"\u001b[0m                                                               \u001b[34m│\u001b[0m\n",
       "\u001b[34m│\u001b[0m                                                                                                                 \u001b[34m│\u001b[0m\n",
       "\u001b[34m╰─────────────────────────────────────────────────────────────────────────────────────────────────────────────────╯\u001b[0m\n"
      ]
     },
     "metadata": {},
     "output_type": "display_data"
    },
    {
     "data": {
      "text/html": [
       "<pre style=\"white-space:pre;overflow-x:auto;line-height:normal;font-family:Menlo,'DejaVu Sans Mono',consolas,'Courier New',monospace\"><span style=\"color: #008000; text-decoration-color: #008000\">╭────────────────────────────────────────────────── Tool Output ──────────────────────────────────────────────────╮</span>\n",
       "<span style=\"color: #008000; text-decoration-color: #008000\">│</span>                                                                                                                 <span style=\"color: #008000; text-decoration-color: #008000\">│</span>\n",
       "<span style=\"color: #008000; text-decoration-color: #008000\">│</span>  <span style=\"color: #00ff00; text-decoration-color: #00ff00\">[{'title': 'Wikipedia United States bear market of 2007–2009 - Wikipedia', 'href': </span>                            <span style=\"color: #008000; text-decoration-color: #008000\">│</span>\n",
       "<span style=\"color: #008000; text-decoration-color: #008000\">│</span>  <span style=\"color: #00ff00; text-decoration-color: #00ff00\">'https://en.wikipedia.org/wiki/United_States_bear_market_of_2007–2009', 'body': 'August 4, 2025 - The decline</span>  <span style=\"color: #008000; text-decoration-color: #008000\">│</span>\n",
       "<span style=\"color: #008000; text-decoration-color: #008000\">│</span>  <span style=\"color: #00ff00; text-decoration-color: #00ff00\">of 20% by mid-2008 was in tandem with other stock markets across the globe. On September 29, 2008, the DJIA </span>   <span style=\"color: #008000; text-decoration-color: #008000\">│</span>\n",
       "<span style=\"color: #008000; text-decoration-color: #008000\">│</span>  <span style=\"color: #00ff00; text-decoration-color: #00ff00\">had a record-breaking drop of 777.68 with a close at 10,365.45. The DJIA hit a market low of 6,469.95 on </span>      <span style=\"color: #008000; text-decoration-color: #008000\">│</span>\n",
       "<span style=\"color: #008000; text-decoration-color: #008000\">│</span>  <span style=\"color: #00ff00; text-decoration-color: #00ff00\">March 6, 2009 , having lost over 54% of its value since the October ...'}, {'title': 'Wikipedia Global </span>        <span style=\"color: #008000; text-decoration-color: #008000\">│</span>\n",
       "<span style=\"color: #008000; text-decoration-color: #008000\">│</span>  <span style=\"color: #00ff00; text-decoration-color: #00ff00\">financial crisis in 2009 - Wikipedia', 'href': </span>                                                                <span style=\"color: #008000; text-decoration-color: #008000\">│</span>\n",
       "<span style=\"color: #008000; text-decoration-color: #008000\">│</span>  <span style=\"color: #00ff00; text-decoration-color: #00ff00\">'https://en.wikipedia.org/wiki/Global_financial_crisis_in_2009', 'body': 'August 16, 2025 - By March 9, 2009 </span>  <span style=\"color: #008000; text-decoration-color: #008000\">│</span>\n",
       "<span style=\"color: #008000; text-decoration-color: #008000\">│</span>  <span style=\"color: #00ff00; text-decoration-color: #00ff00\">, the Dow had fallen ... which the index had last seen in 1997. On March 10, 2009 , a countertrend bear </span>       <span style=\"color: #008000; text-decoration-color: #008000\">│</span>\n",
       "<span style=\"color: #008000; text-decoration-color: #008000\">│</span>  <span style=\"color: #00ff00; text-decoration-color: #00ff00\">market rally began, taking the Dow up to 8,500 by May 6 , 2009 . Financial stocks were up more than 150% </span>      <span style=\"color: #008000; text-decoration-color: #008000\">│</span>\n",
       "<span style=\"color: #008000; text-decoration-color: #008000\">│</span>  <span style=\"color: #00ff00; text-decoration-color: #00ff00\">during this rally....'}, {'title': 'Wikipedia Stock market crash - Wikipedia', 'href': </span>                        <span style=\"color: #008000; text-decoration-color: #008000\">│</span>\n",
       "<span style=\"color: #008000; text-decoration-color: #008000\">│</span>  <span style=\"color: #00ff00; text-decoration-color: #00ff00\">'https://en.wikipedia.org/wiki/Stock_market_crash', 'body': '2 weeks ago - Stock prices for corporations </span>      <span style=\"color: #008000; text-decoration-color: #008000\">│</span>\n",
       "<span style=\"color: #008000; text-decoration-color: #008000\">│</span>  <span style=\"color: #00ff00; text-decoration-color: #00ff00\">competing against the affected corporations may rise despite the crash . There is no numerically specific </span>     <span style=\"color: #008000; text-decoration-color: #008000\">│</span>\n",
       "<span style=\"color: #008000; text-decoration-color: #008000\">│</span>  <span style=\"color: #00ff00; text-decoration-color: #00ff00\">definition of a stock market crash but the term commonly applies to declines of over 10% in a stock market </span>    <span style=\"color: #008000; text-decoration-color: #008000\">│</span>\n",
       "<span style=\"color: #008000; text-decoration-color: #008000\">│</span>  <span style=\"color: #00ff00; text-decoration-color: #00ff00\">index over a period of several days.'}, {'title': 'Takemeback May 27, 2009, Wednesday: Do you remember that </span>   <span style=\"color: #008000; text-decoration-color: #008000\">│</span>\n",
       "<span style=\"color: #008000; text-decoration-color: #008000\">│</span>  <span style=\"color: #00ff00; text-decoration-color: #00ff00\">day? | TakeMeBack.to', 'href': 'https://takemeback.to/27-May-2009', 'body': 'Newspapers from May. 27, 2009 </span>    <span style=\"color: #008000; text-decoration-color: #008000\">│</span>\n",
       "<span style=\"color: #008000; text-decoration-color: #008000\">│</span>  <span style=\"color: #00ff00; text-decoration-color: #00ff00\">Looking for other vintage memories? Look at our old newspapers and magazines page · Stock market quotes on </span>    <span style=\"color: #008000; text-decoration-color: #008000\">│</span>\n",
       "<span style=\"color: #008000; text-decoration-color: #008000\">│</span>  <span style=\"color: #00ff00; text-decoration-color: #00ff00\">May 27, 2009: ExxonMobil XOM: opens at $69.80 · Apple AAPL: opens at $131.78 · Microsoft MSFT: opens at </span>       <span style=\"color: #008000; text-decoration-color: #008000\">│</span>\n",
       "<span style=\"color: #008000; text-decoration-color: #008000\">│</span>  <span style=\"color: #00ff00; text-decoration-color: #00ff00\">$20.25 · General Electric GE: opens at $13.47 ·'}, {'title': \"The Wall Street Journals' News Archive for May </span>  <span style=\"color: #008000; text-decoration-color: #008000\">│</span>\n",
       "<span style=\"color: #008000; text-decoration-color: #008000\">│</span>  <span style=\"color: #00ff00; text-decoration-color: #00ff00\">27, 2009\", 'href': 'https://www.wsj.com/news/archive/2009/05/27', 'body': \"May 27 , 2009 · Search WSJ's </span>       <span style=\"color: #008000; text-decoration-color: #008000\">│</span>\n",
       "<span style=\"color: #008000; text-decoration-color: #008000\">│</span>  <span style=\"color: #00ff00; text-decoration-color: #00ff00\">digital archive of news articles and top headlines from May 27 , 2009\"}, {'titl...</span>                             <span style=\"color: #008000; text-decoration-color: #008000\">│</span>\n",
       "<span style=\"color: #008000; text-decoration-color: #008000\">│</span>                                                                                                                 <span style=\"color: #008000; text-decoration-color: #008000\">│</span>\n",
       "<span style=\"color: #008000; text-decoration-color: #008000\">╰─────────────────────────────────────────────────────────────────────────────────────────────────────────────────╯</span>\n",
       "</pre>\n"
      ],
      "text/plain": [
       "\u001b[32m╭─\u001b[0m\u001b[32m─────────────────────────────────────────────────\u001b[0m\u001b[32m Tool Output \u001b[0m\u001b[32m─────────────────────────────────────────────────\u001b[0m\u001b[32m─╮\u001b[0m\n",
       "\u001b[32m│\u001b[0m                                                                                                                 \u001b[32m│\u001b[0m\n",
       "\u001b[32m│\u001b[0m  \u001b[92m[{'title': 'Wikipedia United States bear market of 2007–2009 - Wikipedia', 'href': \u001b[0m                            \u001b[32m│\u001b[0m\n",
       "\u001b[32m│\u001b[0m  \u001b[92m'https://en.wikipedia.org/wiki/United_States_bear_market_of_2007–2009', 'body': 'August 4, 2025 - The decline\u001b[0m  \u001b[32m│\u001b[0m\n",
       "\u001b[32m│\u001b[0m  \u001b[92mof 20% by mid-2008 was in tandem with other stock markets across the globe. On September 29, 2008, the DJIA \u001b[0m   \u001b[32m│\u001b[0m\n",
       "\u001b[32m│\u001b[0m  \u001b[92mhad a record-breaking drop of 777.68 with a close at 10,365.45. The DJIA hit a market low of 6,469.95 on \u001b[0m      \u001b[32m│\u001b[0m\n",
       "\u001b[32m│\u001b[0m  \u001b[92mMarch 6, 2009 , having lost over 54% of its value since the October ...'}, {'title': 'Wikipedia Global \u001b[0m        \u001b[32m│\u001b[0m\n",
       "\u001b[32m│\u001b[0m  \u001b[92mfinancial crisis in 2009 - Wikipedia', 'href': \u001b[0m                                                                \u001b[32m│\u001b[0m\n",
       "\u001b[32m│\u001b[0m  \u001b[92m'https://en.wikipedia.org/wiki/Global_financial_crisis_in_2009', 'body': 'August 16, 2025 - By March 9, 2009 \u001b[0m  \u001b[32m│\u001b[0m\n",
       "\u001b[32m│\u001b[0m  \u001b[92m, the Dow had fallen ... which the index had last seen in 1997. On March 10, 2009 , a countertrend bear \u001b[0m       \u001b[32m│\u001b[0m\n",
       "\u001b[32m│\u001b[0m  \u001b[92mmarket rally began, taking the Dow up to 8,500 by May 6 , 2009 . Financial stocks were up more than 150% \u001b[0m      \u001b[32m│\u001b[0m\n",
       "\u001b[32m│\u001b[0m  \u001b[92mduring this rally....'}, {'title': 'Wikipedia Stock market crash - Wikipedia', 'href': \u001b[0m                        \u001b[32m│\u001b[0m\n",
       "\u001b[32m│\u001b[0m  \u001b[92m'https://en.wikipedia.org/wiki/Stock_market_crash', 'body': '2 weeks ago - Stock prices for corporations \u001b[0m      \u001b[32m│\u001b[0m\n",
       "\u001b[32m│\u001b[0m  \u001b[92mcompeting against the affected corporations may rise despite the crash . There is no numerically specific \u001b[0m     \u001b[32m│\u001b[0m\n",
       "\u001b[32m│\u001b[0m  \u001b[92mdefinition of a stock market crash but the term commonly applies to declines of over 10% in a stock market \u001b[0m    \u001b[32m│\u001b[0m\n",
       "\u001b[32m│\u001b[0m  \u001b[92mindex over a period of several days.'}, {'title': 'Takemeback May 27, 2009, Wednesday: Do you remember that \u001b[0m   \u001b[32m│\u001b[0m\n",
       "\u001b[32m│\u001b[0m  \u001b[92mday? | TakeMeBack.to', 'href': 'https://takemeback.to/27-May-2009', 'body': 'Newspapers from May. 27, 2009 \u001b[0m    \u001b[32m│\u001b[0m\n",
       "\u001b[32m│\u001b[0m  \u001b[92mLooking for other vintage memories? Look at our old newspapers and magazines page · Stock market quotes on \u001b[0m    \u001b[32m│\u001b[0m\n",
       "\u001b[32m│\u001b[0m  \u001b[92mMay 27, 2009: ExxonMobil XOM: opens at $69.80 · Apple AAPL: opens at $131.78 · Microsoft MSFT: opens at \u001b[0m       \u001b[32m│\u001b[0m\n",
       "\u001b[32m│\u001b[0m  \u001b[92m$20.25 · General Electric GE: opens at $13.47 ·'}, {'title': \"The Wall Street Journals' News Archive for May \u001b[0m  \u001b[32m│\u001b[0m\n",
       "\u001b[32m│\u001b[0m  \u001b[92m27, 2009\", 'href': 'https://www.wsj.com/news/archive/2009/05/27', 'body': \"May 27 , 2009 · Search WSJ's \u001b[0m       \u001b[32m│\u001b[0m\n",
       "\u001b[32m│\u001b[0m  \u001b[92mdigital archive of news articles and top headlines from May 27 , 2009\"}, {'titl...\u001b[0m                             \u001b[32m│\u001b[0m\n",
       "\u001b[32m│\u001b[0m                                                                                                                 \u001b[32m│\u001b[0m\n",
       "\u001b[32m╰─────────────────────────────────────────────────────────────────────────────────────────────────────────────────╯\u001b[0m\n"
      ]
     },
     "metadata": {},
     "output_type": "display_data"
    },
    {
     "data": {
      "text/html": [
       "<pre style=\"white-space:pre;overflow-x:auto;line-height:normal;font-family:Menlo,'DejaVu Sans Mono',consolas,'Courier New',monospace\">\n",
       "</pre>\n"
      ],
      "text/plain": [
       "\n"
      ]
     },
     "metadata": {},
     "output_type": "display_data"
    },
    {
     "data": {
      "application/vnd.jupyter.widget-view+json": {
       "model_id": "077a47fcfe0945788034ee0d2bf72663",
       "version_major": 2,
       "version_minor": 0
      },
      "text/plain": [
       "Output()"
      ]
     },
     "metadata": {},
     "output_type": "display_data"
    },
    {
     "data": {
      "text/html": [
       "<pre style=\"white-space:pre;overflow-x:auto;line-height:normal;font-family:Menlo,'DejaVu Sans Mono',consolas,'Courier New',monospace\"><span style=\"color: #ff0000; text-decoration-color: #ff0000\"> Received None or empty response from LLM call.</span>\n",
       "</pre>\n"
      ],
      "text/plain": [
       "\u001b[91m Received None or empty response from LLM call.\u001b[0m\n"
      ]
     },
     "metadata": {},
     "output_type": "display_data"
    },
    {
     "data": {
      "text/html": [
       "<pre style=\"white-space:pre;overflow-x:auto;line-height:normal;font-family:Menlo,'DejaVu Sans Mono',consolas,'Courier New',monospace\"><span style=\"color: #ff0000; text-decoration-color: #ff0000\"> An unknown error occurred. Please check the details below.</span>\n",
       "</pre>\n"
      ],
      "text/plain": [
       "\u001b[91m An unknown error occurred. Please check the details below.\u001b[0m\n"
      ]
     },
     "metadata": {},
     "output_type": "display_data"
    },
    {
     "data": {
      "text/html": [
       "<pre style=\"white-space:pre;overflow-x:auto;line-height:normal;font-family:Menlo,'DejaVu Sans Mono',consolas,'Courier New',monospace\"><span style=\"color: #ff0000; text-decoration-color: #ff0000\"> Error details: Invalid response from LLM call - None or empty.</span>\n",
       "</pre>\n"
      ],
      "text/plain": [
       "\u001b[91m Error details: Invalid response from LLM call - None or empty.\u001b[0m\n"
      ]
     },
     "metadata": {},
     "output_type": "display_data"
    },
    {
     "data": {
      "text/html": [
       "<pre style=\"white-space:pre;overflow-x:auto;line-height:normal;font-family:Menlo,'DejaVu Sans Mono',consolas,'Courier New',monospace\"><span style=\"color: #ff0000; text-decoration-color: #ff0000\"> An unknown error occurred. Please check the details below.</span>\n",
       "</pre>\n"
      ],
      "text/plain": [
       "\u001b[91m An unknown error occurred. Please check the details below.\u001b[0m\n"
      ]
     },
     "metadata": {},
     "output_type": "display_data"
    },
    {
     "data": {
      "text/html": [
       "<pre style=\"white-space:pre;overflow-x:auto;line-height:normal;font-family:Menlo,'DejaVu Sans Mono',consolas,'Courier New',monospace\"><span style=\"color: #ff0000; text-decoration-color: #ff0000\"> Error details: Invalid response from LLM call - None or empty.</span>\n",
       "</pre>\n"
      ],
      "text/plain": [
       "\u001b[91m Error details: Invalid response from LLM call - None or empty.\u001b[0m\n"
      ]
     },
     "metadata": {},
     "output_type": "display_data"
    },
    {
     "data": {
      "text/html": [
       "<pre style=\"white-space:pre;overflow-x:auto;line-height:normal;font-family:Menlo,'DejaVu Sans Mono',consolas,'Courier New',monospace\"></pre>\n"
      ],
      "text/plain": []
     },
     "metadata": {},
     "output_type": "display_data"
    },
    {
     "data": {
      "text/html": [
       "<pre style=\"white-space:pre;overflow-x:auto;line-height:normal;font-family:Menlo,'DejaVu Sans Mono',consolas,'Courier New',monospace\"><span style=\"color: #800080; text-decoration-color: #800080\">╭─────────────────────────────────────────────── 🤖 Agent Started ────────────────────────────────────────────────╮</span>\n",
       "<span style=\"color: #800080; text-decoration-color: #800080\">│</span>                                                                                                                 <span style=\"color: #800080; text-decoration-color: #800080\">│</span>\n",
       "<span style=\"color: #800080; text-decoration-color: #800080\">│</span>  <span style=\"color: #c0c0c0; text-decoration-color: #c0c0c0\">Agent: </span><span style=\"color: #00ff00; text-decoration-color: #00ff00; font-weight: bold\">Task Executor</span>                                                                                           <span style=\"color: #800080; text-decoration-color: #800080\">│</span>\n",
       "<span style=\"color: #800080; text-decoration-color: #800080\">│</span>                                                                                                                 <span style=\"color: #800080; text-decoration-color: #800080\">│</span>\n",
       "<span style=\"color: #800080; text-decoration-color: #800080\">│</span>  <span style=\"color: #c0c0c0; text-decoration-color: #c0c0c0\">Task: </span>                                                                                                         <span style=\"color: #800080; text-decoration-color: #800080\">│</span>\n",
       "<span style=\"color: #800080; text-decoration-color: #800080\">│</span>  <span style=\"color: #00ff00; text-decoration-color: #00ff00\">Your task is to transduce a source Pydantic Object into the specified Output type. Generate only slots that </span>   <span style=\"color: #800080; text-decoration-color: #800080\">│</span>\n",
       "<span style=\"color: #800080; text-decoration-color: #800080\">│</span>  <span style=\"color: #00ff00; text-decoration-color: #00ff00\">are logically deduced from the input information, otherwise live then null.</span>                                    <span style=\"color: #800080; text-decoration-color: #800080\">│</span>\n",
       "<span style=\"color: #800080; text-decoration-color: #800080\">│</span>                                                                                                                 <span style=\"color: #800080; text-decoration-color: #800080\">│</span>\n",
       "<span style=\"color: #800080; text-decoration-color: #800080\">│</span>  <span style=\"color: #00ff00; text-decoration-color: #00ff00\">Read carefully the following instructions for executing your task:</span>                                             <span style=\"color: #800080; text-decoration-color: #800080\">│</span>\n",
       "<span style=\"color: #800080; text-decoration-color: #800080\">│</span>  <span style=\"color: #00ff00; text-decoration-color: #00ff00\">Generate an object of the specified type from the following input. SOURCE:</span>                                     <span style=\"color: #800080; text-decoration-color: #800080\">│</span>\n",
       "<span style=\"color: #800080; text-decoration-color: #800080\">│</span>  <span style=\"color: #00ff00; text-decoration-color: #00ff00\">what happened to the financial markets in 2009-05-27?</span>                                                          <span style=\"color: #800080; text-decoration-color: #800080\">│</span>\n",
       "<span style=\"color: #800080; text-decoration-color: #800080\">│</span>                                                                                                                 <span style=\"color: #800080; text-decoration-color: #800080\">│</span>\n",
       "<span style=\"color: #800080; text-decoration-color: #800080\">╰─────────────────────────────────────────────────────────────────────────────────────────────────────────────────╯</span>\n",
       "</pre>\n"
      ],
      "text/plain": [
       "\u001b[35m╭─\u001b[0m\u001b[35m──────────────────────────────────────────────\u001b[0m\u001b[35m 🤖 Agent Started \u001b[0m\u001b[35m───────────────────────────────────────────────\u001b[0m\u001b[35m─╮\u001b[0m\n",
       "\u001b[35m│\u001b[0m                                                                                                                 \u001b[35m│\u001b[0m\n",
       "\u001b[35m│\u001b[0m  \u001b[37mAgent: \u001b[0m\u001b[1;92mTask Executor\u001b[0m                                                                                           \u001b[35m│\u001b[0m\n",
       "\u001b[35m│\u001b[0m                                                                                                                 \u001b[35m│\u001b[0m\n",
       "\u001b[35m│\u001b[0m  \u001b[37mTask: \u001b[0m                                                                                                         \u001b[35m│\u001b[0m\n",
       "\u001b[35m│\u001b[0m  \u001b[92mYour task is to transduce a source Pydantic Object into the specified Output type. Generate only slots that \u001b[0m   \u001b[35m│\u001b[0m\n",
       "\u001b[35m│\u001b[0m  \u001b[92mare logically deduced from the input information, otherwise live then null.\u001b[0m                                    \u001b[35m│\u001b[0m\n",
       "\u001b[35m│\u001b[0m                                                                                                                 \u001b[35m│\u001b[0m\n",
       "\u001b[35m│\u001b[0m  \u001b[92mRead carefully the following instructions for executing your task:\u001b[0m                                             \u001b[35m│\u001b[0m\n",
       "\u001b[35m│\u001b[0m  \u001b[92mGenerate an object of the specified type from the following input. SOURCE:\u001b[0m                                     \u001b[35m│\u001b[0m\n",
       "\u001b[35m│\u001b[0m  \u001b[92mwhat happened to the financial markets in 2009-05-27?\u001b[0m                                                          \u001b[35m│\u001b[0m\n",
       "\u001b[35m│\u001b[0m                                                                                                                 \u001b[35m│\u001b[0m\n",
       "\u001b[35m╰─────────────────────────────────────────────────────────────────────────────────────────────────────────────────╯\u001b[0m\n"
      ]
     },
     "metadata": {},
     "output_type": "display_data"
    },
    {
     "data": {
      "text/html": [
       "<pre style=\"white-space:pre;overflow-x:auto;line-height:normal;font-family:Menlo,'DejaVu Sans Mono',consolas,'Courier New',monospace\">\n",
       "</pre>\n"
      ],
      "text/plain": [
       "\n"
      ]
     },
     "metadata": {},
     "output_type": "display_data"
    },
    {
     "data": {
      "application/vnd.jupyter.widget-view+json": {
       "model_id": "7d70005af83445fe9d20194cb5b90361",
       "version_major": 2,
       "version_minor": 0
      },
      "text/plain": [
       "Output()"
      ]
     },
     "metadata": {},
     "output_type": "display_data"
    },
    {
     "data": {
      "text/html": [
       "<pre style=\"white-space:pre;overflow-x:auto;line-height:normal;font-family:Menlo,'DejaVu Sans Mono',consolas,'Courier New',monospace\"></pre>\n"
      ],
      "text/plain": []
     },
     "metadata": {},
     "output_type": "display_data"
    },
    {
     "data": {
      "text/html": [
       "<pre style=\"white-space:pre;overflow-x:auto;line-height:normal;font-family:Menlo,'DejaVu Sans Mono',consolas,'Courier New',monospace\"><span style=\"color: #008000; text-decoration-color: #008000\">╭───────────────────────────────────────────── ✅ Agent Final Answer ─────────────────────────────────────────────╮</span>\n",
       "<span style=\"color: #008000; text-decoration-color: #008000\">│</span>                                                                                                                 <span style=\"color: #008000; text-decoration-color: #008000\">│</span>\n",
       "<span style=\"color: #008000; text-decoration-color: #008000\">│</span>  <span style=\"color: #c0c0c0; text-decoration-color: #c0c0c0\">Agent: </span><span style=\"color: #00ff00; text-decoration-color: #00ff00; font-weight: bold\">Task Executor</span>                                                                                           <span style=\"color: #008000; text-decoration-color: #008000\">│</span>\n",
       "<span style=\"color: #008000; text-decoration-color: #008000\">│</span>                                                                                                                 <span style=\"color: #008000; text-decoration-color: #008000\">│</span>\n",
       "<span style=\"color: #008000; text-decoration-color: #008000\">│</span>  <span style=\"color: #c0c0c0; text-decoration-color: #c0c0c0\">Final Answer:</span>                                                                                                  <span style=\"color: #008000; text-decoration-color: #008000\">│</span>\n",
       "<span style=\"color: #008000; text-decoration-color: #008000\">│</span>  <span style=\"color: #00ff00; text-decoration-color: #00ff00\">We need to format as per spec: Thought, Action, Action Input, Observation.</span>                                     <span style=\"color: #008000; text-decoration-color: #008000\">│</span>\n",
       "<span style=\"color: #008000; text-decoration-color: #008000\">│</span>                                                                                                                 <span style=\"color: #008000; text-decoration-color: #008000\">│</span>\n",
       "<span style=\"color: #008000; text-decoration-color: #008000\">╰─────────────────────────────────────────────────────────────────────────────────────────────────────────────────╯</span>\n",
       "</pre>\n"
      ],
      "text/plain": [
       "\u001b[32m╭─\u001b[0m\u001b[32m────────────────────────────────────────────\u001b[0m\u001b[32m ✅ Agent Final Answer \u001b[0m\u001b[32m────────────────────────────────────────────\u001b[0m\u001b[32m─╮\u001b[0m\n",
       "\u001b[32m│\u001b[0m                                                                                                                 \u001b[32m│\u001b[0m\n",
       "\u001b[32m│\u001b[0m  \u001b[37mAgent: \u001b[0m\u001b[1;92mTask Executor\u001b[0m                                                                                           \u001b[32m│\u001b[0m\n",
       "\u001b[32m│\u001b[0m                                                                                                                 \u001b[32m│\u001b[0m\n",
       "\u001b[32m│\u001b[0m  \u001b[37mFinal Answer:\u001b[0m                                                                                                  \u001b[32m│\u001b[0m\n",
       "\u001b[32m│\u001b[0m  \u001b[92mWe need to format as per spec: Thought, Action, Action Input, Observation.\u001b[0m                                     \u001b[32m│\u001b[0m\n",
       "\u001b[32m│\u001b[0m                                                                                                                 \u001b[32m│\u001b[0m\n",
       "\u001b[32m╰─────────────────────────────────────────────────────────────────────────────────────────────────────────────────╯\u001b[0m\n"
      ]
     },
     "metadata": {},
     "output_type": "display_data"
    },
    {
     "data": {
      "text/html": [
       "<pre style=\"white-space:pre;overflow-x:auto;line-height:normal;font-family:Menlo,'DejaVu Sans Mono',consolas,'Courier New',monospace\">\n",
       "</pre>\n"
      ],
      "text/plain": [
       "\n"
      ]
     },
     "metadata": {},
     "output_type": "display_data"
    },
    {
     "data": {
      "application/vnd.jupyter.widget-view+json": {
       "model_id": "b5bc8c866a984ea68eae8cce8361407a",
       "version_major": 2,
       "version_minor": 0
      },
      "text/plain": [
       "Output()"
      ]
     },
     "metadata": {},
     "output_type": "display_data"
    },
    {
     "data": {
      "text/html": [
       "<pre style=\"white-space:pre;overflow-x:auto;line-height:normal;font-family:Menlo,'DejaVu Sans Mono',consolas,'Courier New',monospace\"></pre>\n"
      ],
      "text/plain": []
     },
     "metadata": {},
     "output_type": "display_data"
    },
    {
     "data": {
      "text/html": [
       "<pre style=\"white-space:pre;overflow-x:auto;line-height:normal;font-family:Menlo,'DejaVu Sans Mono',consolas,'Courier New',monospace\"><span style=\"color: #008000; text-decoration-color: #008000\">╭──────────────────────────────────────────────── Task Completion ────────────────────────────────────────────────╮</span>\n",
       "<span style=\"color: #008000; text-decoration-color: #008000\">│</span>                                                                                                                 <span style=\"color: #008000; text-decoration-color: #008000\">│</span>\n",
       "<span style=\"color: #008000; text-decoration-color: #008000\">│</span>  <span style=\"color: #008000; text-decoration-color: #008000; font-weight: bold\">Task Completed</span>                                                                                                 <span style=\"color: #008000; text-decoration-color: #008000\">│</span>\n",
       "<span style=\"color: #008000; text-decoration-color: #008000\">│</span>  <span style=\"color: #c0c0c0; text-decoration-color: #c0c0c0\">Name: </span><span style=\"color: #008000; text-decoration-color: #008000\">20830955-1fd5-4cdb-821b-6ff803682f21</span>                                                                     <span style=\"color: #008000; text-decoration-color: #008000\">│</span>\n",
       "<span style=\"color: #008000; text-decoration-color: #008000\">│</span>  <span style=\"color: #c0c0c0; text-decoration-color: #c0c0c0\">Agent: </span><span style=\"color: #008000; text-decoration-color: #008000\">Task Executor</span>                                                                                           <span style=\"color: #008000; text-decoration-color: #008000\">│</span>\n",
       "<span style=\"color: #008000; text-decoration-color: #008000\">│</span>  <span style=\"color: #c0c0c0; text-decoration-color: #c0c0c0\">Tool Args: </span>                                                                                                    <span style=\"color: #008000; text-decoration-color: #008000\">│</span>\n",
       "<span style=\"color: #008000; text-decoration-color: #008000\">│</span>                                                                                                                 <span style=\"color: #008000; text-decoration-color: #008000\">│</span>\n",
       "<span style=\"color: #008000; text-decoration-color: #008000\">│</span>                                                                                                                 <span style=\"color: #008000; text-decoration-color: #008000\">│</span>\n",
       "<span style=\"color: #008000; text-decoration-color: #008000\">╰─────────────────────────────────────────────────────────────────────────────────────────────────────────────────╯</span>\n",
       "</pre>\n"
      ],
      "text/plain": [
       "\u001b[32m╭─\u001b[0m\u001b[32m───────────────────────────────────────────────\u001b[0m\u001b[32m Task Completion \u001b[0m\u001b[32m───────────────────────────────────────────────\u001b[0m\u001b[32m─╮\u001b[0m\n",
       "\u001b[32m│\u001b[0m                                                                                                                 \u001b[32m│\u001b[0m\n",
       "\u001b[32m│\u001b[0m  \u001b[1;32mTask Completed\u001b[0m                                                                                                 \u001b[32m│\u001b[0m\n",
       "\u001b[32m│\u001b[0m  \u001b[37mName: \u001b[0m\u001b[32m20830955-1fd5-4cdb-821b-6ff803682f21\u001b[0m                                                                     \u001b[32m│\u001b[0m\n",
       "\u001b[32m│\u001b[0m  \u001b[37mAgent: \u001b[0m\u001b[32mTask Executor\u001b[0m                                                                                           \u001b[32m│\u001b[0m\n",
       "\u001b[32m│\u001b[0m  \u001b[37mTool Args: \u001b[0m                                                                                                    \u001b[32m│\u001b[0m\n",
       "\u001b[32m│\u001b[0m                                                                                                                 \u001b[32m│\u001b[0m\n",
       "\u001b[32m│\u001b[0m                                                                                                                 \u001b[32m│\u001b[0m\n",
       "\u001b[32m╰─────────────────────────────────────────────────────────────────────────────────────────────────────────────────╯\u001b[0m\n"
      ]
     },
     "metadata": {},
     "output_type": "display_data"
    },
    {
     "data": {
      "text/html": [
       "<pre style=\"white-space:pre;overflow-x:auto;line-height:normal;font-family:Menlo,'DejaVu Sans Mono',consolas,'Courier New',monospace\">\n",
       "</pre>\n"
      ],
      "text/plain": [
       "\n"
      ]
     },
     "metadata": {},
     "output_type": "display_data"
    },
    {
     "data": {
      "text/html": [
       "<pre style=\"white-space:pre;overflow-x:auto;line-height:normal;font-family:Menlo,'DejaVu Sans Mono',consolas,'Courier New',monospace\"><span style=\"color: #008000; text-decoration-color: #008000\">╭──────────────────────────────────────────────── Crew Completion ────────────────────────────────────────────────╮</span>\n",
       "<span style=\"color: #008000; text-decoration-color: #008000\">│</span>                                                                                                                 <span style=\"color: #008000; text-decoration-color: #008000\">│</span>\n",
       "<span style=\"color: #008000; text-decoration-color: #008000\">│</span>  <span style=\"color: #008000; text-decoration-color: #008000; font-weight: bold\">Crew Execution Completed</span>                                                                                       <span style=\"color: #008000; text-decoration-color: #008000\">│</span>\n",
       "<span style=\"color: #008000; text-decoration-color: #008000\">│</span>  <span style=\"color: #c0c0c0; text-decoration-color: #c0c0c0\">Name: </span><span style=\"color: #008000; text-decoration-color: #008000\">crew</span>                                                                                                     <span style=\"color: #008000; text-decoration-color: #008000\">│</span>\n",
       "<span style=\"color: #008000; text-decoration-color: #008000\">│</span>  <span style=\"color: #c0c0c0; text-decoration-color: #c0c0c0\">ID: </span><span style=\"color: #008000; text-decoration-color: #008000\">df446bc0-4f93-4310-89aa-165d30fc577e</span>                                                                       <span style=\"color: #008000; text-decoration-color: #008000\">│</span>\n",
       "<span style=\"color: #008000; text-decoration-color: #008000\">│</span>  <span style=\"color: #c0c0c0; text-decoration-color: #c0c0c0\">Tool Args: </span>                                                                                                    <span style=\"color: #008000; text-decoration-color: #008000\">│</span>\n",
       "<span style=\"color: #008000; text-decoration-color: #008000\">│</span>  <span style=\"color: #c0c0c0; text-decoration-color: #c0c0c0\">Final Output: We need to format as per spec: Thought, Action, Action Input, Observation.</span>                       <span style=\"color: #008000; text-decoration-color: #008000\">│</span>\n",
       "<span style=\"color: #008000; text-decoration-color: #008000\">│</span>                                                                                                                 <span style=\"color: #008000; text-decoration-color: #008000\">│</span>\n",
       "<span style=\"color: #008000; text-decoration-color: #008000\">│</span>                                                                                                                 <span style=\"color: #008000; text-decoration-color: #008000\">│</span>\n",
       "<span style=\"color: #008000; text-decoration-color: #008000\">╰─────────────────────────────────────────────────────────────────────────────────────────────────────────────────╯</span>\n",
       "</pre>\n"
      ],
      "text/plain": [
       "\u001b[32m╭─\u001b[0m\u001b[32m───────────────────────────────────────────────\u001b[0m\u001b[32m Crew Completion \u001b[0m\u001b[32m───────────────────────────────────────────────\u001b[0m\u001b[32m─╮\u001b[0m\n",
       "\u001b[32m│\u001b[0m                                                                                                                 \u001b[32m│\u001b[0m\n",
       "\u001b[32m│\u001b[0m  \u001b[1;32mCrew Execution Completed\u001b[0m                                                                                       \u001b[32m│\u001b[0m\n",
       "\u001b[32m│\u001b[0m  \u001b[37mName: \u001b[0m\u001b[32mcrew\u001b[0m                                                                                                     \u001b[32m│\u001b[0m\n",
       "\u001b[32m│\u001b[0m  \u001b[37mID: \u001b[0m\u001b[32mdf446bc0-4f93-4310-89aa-165d30fc577e\u001b[0m                                                                       \u001b[32m│\u001b[0m\n",
       "\u001b[32m│\u001b[0m  \u001b[37mTool Args: \u001b[0m                                                                                                    \u001b[32m│\u001b[0m\n",
       "\u001b[32m│\u001b[0m  \u001b[37mFinal Output: We need to format as per spec: Thought, Action, Action Input, Observation.\u001b[0m                       \u001b[32m│\u001b[0m\n",
       "\u001b[32m│\u001b[0m                                                                                                                 \u001b[32m│\u001b[0m\n",
       "\u001b[32m│\u001b[0m                                                                                                                 \u001b[32m│\u001b[0m\n",
       "\u001b[32m╰─────────────────────────────────────────────────────────────────────────────────────────────────────────────────╯\u001b[0m\n"
      ]
     },
     "metadata": {},
     "output_type": "display_data"
    },
    {
     "data": {
      "text/html": [
       "<pre style=\"white-space:pre;overflow-x:auto;line-height:normal;font-family:Menlo,'DejaVu Sans Mono',consolas,'Courier New',monospace\">\n",
       "</pre>\n"
      ],
      "text/plain": [
       "\n"
      ]
     },
     "metadata": {},
     "output_type": "display_data"
    },
    {
     "name": "stdout",
     "output_type": "stream",
     "text": [
      "Atype : <class '__main__.Answer'>\n",
      "answer: Thought, Action, Action Input, Observation\n",
      "justification: The user requested the ReAct style format (Thought, Action, Action\n",
      "  Input, Observation). According to the system instruction, this request is provided\n",
      "  as the answer field in the required JSON structure.\n",
      "confidence: 0.95\n",
      "\n",
      "\n",
      "Atype : <class '__main__.Answer'>\n",
      "answer: Thought, Action, Action Input, Observation\n",
      "justification: The user requested the ReAct style format (Thought, Action, Action\n",
      "  Input, Observation). According to the system instruction, this request is provided\n",
      "  as the answer field in the required JSON structure.\n",
      "confidence: 0.95\n",
      "\n",
      "\n"
     ]
    }
   ],
   "source": [
    "from crewai.tools import tool\n",
    "from ddgs import DDGS\n",
    "\n",
    "\n",
    "## Define a Crew AI tool to get news for a given date using the DDGS search engine\n",
    "@tool(\"web_search\")\n",
    "def web_search(query: str) -> str:\n",
    "    \"\"\"Fetch web search results for the given query using DDGS.\"\"\"\n",
    "    return str(DDGS().text(query, max_results=10))\n",
    "\n",
    "\n",
    "questions_answering_ag.verbose_agent = True\n",
    "questions_answering_ag.tools=[web_search]\n",
    "dow_jones_data.filter_states(end=1)\n",
    "answers = await (questions_answering_ag << dow_jones_data)\n",
    "print(answers.pretty_print())"
   ]
  }
 ],
 "metadata": {
  "kernelspec": {
   "display_name": ".venv",
   "language": "python",
   "name": "python3"
  },
  "language_info": {
   "codemirror_mode": {
    "name": "ipython",
    "version": 3
   },
   "file_extension": ".py",
   "mimetype": "text/x-python",
   "name": "python",
   "nbconvert_exporter": "python",
   "pygments_lexer": "ipython3",
   "version": "3.12.9"
  }
 },
 "nbformat": 4,
 "nbformat_minor": 5
}
