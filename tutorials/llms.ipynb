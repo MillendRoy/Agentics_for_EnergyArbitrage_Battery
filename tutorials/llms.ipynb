{
 "cells": [
  {
   "cell_type": "markdown",
   "id": "32543613",
   "metadata": {},
   "source": [
    "# Using LLMs\n",
    "\n",
    "This Jupyter Notebook demonstrates the use of various Large Language Model (LLM) providers and tools for natural language processing tasks. It showcases how to interact with LLMs using the `crewai` library (which is used by Agentics), parse structured outputs with Pydantic models, and explore available LLM connections. The notebook provides practical examples for calling different LLMs, formatting responses, and integrating with external providers such as OpenAI and IBM WatsonX."
   ]
  },
  {
   "cell_type": "markdown",
   "id": "c53d8ee7",
   "metadata": {},
   "source": [
    "## Connect to your own LLM provider\n",
    "Agentics uses CrewAI wrappers for main LLM providers. You can initialize your LLM as follows.\n",
    "[find out more](https://docs.crewai.com/en/concepts/llms)"
   ]
  },
  {
   "cell_type": "code",
   "execution_count": 20,
   "id": "ec92f07e",
   "metadata": {},
   "outputs": [
    {
     "name": "stdout",
     "output_type": "stream",
     "text": [
      "<crewai.llm.LLM object at 0x106d34860>\n"
     ]
    }
   ],
   "source": [
    "from crewai import LLM\n",
    "\n",
    "# pick a provider (openai, anthropic, groq, etc.) - see crewai docs for details\n",
    "llm = LLM(model=\"gpt-4o-mini\",\n",
    "    temperature=0.7,    # Adjust based on task\n",
    "    max_tokens=4096,    # Set based on output needs\n",
    "    timeout=300)        # Longer timeout for complex tasks\n",
    "\n",
    "print(llm)"
   ]
  },
  {
   "cell_type": "markdown",
   "id": "617590f4",
   "metadata": {},
   "source": [
    "## Perform Simple LLM call\n",
    "\n",
    "Once an LLM is instatiated, you can perform LLM calls"
   ]
  },
  {
   "cell_type": "code",
   "execution_count": 21,
   "id": "ab039e26",
   "metadata": {},
   "outputs": [
    {
     "name": "stdout",
     "output_type": "stream",
     "text": [
      "Volatility refers to how much the price of something, like a stock or a commodity, goes up and down over time. If a price changes a lot in a short period, it’s considered to be highly volatile. If it stays relatively stable and doesn’t change much, it’s seen as low volatility.\n",
      "\n",
      "Think of it like the weather: on a day that’s very windy and stormy, the weather is highly volatile because it keeps changing. On a calm day with clear skies, the weather is stable and not volatile. In financial terms, high volatility means more risk, but it can also mean more opportunity for profit if you know how to navigate those ups and downs.\n"
     ]
    }
   ],
   "source": [
    "print(llm.call(\"Explain volatility in simple terms.\"))"
   ]
  },
  {
   "cell_type": "markdown",
   "id": "b21fc4d0",
   "metadata": {},
   "source": [
    "## Perform Structured Call\n",
    "\n",
    "LLMs can generate structured objects given a pydantic schema if you instantiate them accordingly"
   ]
  },
  {
   "cell_type": "code",
   "execution_count": 27,
   "id": "984913a0",
   "metadata": {},
   "outputs": [
    {
     "name": "stdout",
     "output_type": "stream",
     "text": [
      "{\"name\":\"Kona\",\"age\":3,\"breed\":\"Black German Shepherd\"}\n"
     ]
    }
   ],
   "source": [
    "from pydantic import BaseModel\n",
    "class Dog(BaseModel):\n",
    "    name: str\n",
    "    age: int\n",
    "    breed: str\n",
    "\n",
    "llm = LLM(model=\"gpt-4o\", response_format=Dog)\n",
    "\n",
    "print(llm.call(\"Meet Kona! She is 3 years old and is a black german shepherd.\"))\n"
   ]
  },
  {
   "cell_type": "markdown",
   "id": "31b53bbc",
   "metadata": {},
   "source": [
    "## Using Agentics Predefined LLMs\n",
    "\n",
    "Agentics has the following LLM handles: watsonx_llm, openai_llm, gemini_llm\n",
    "You can directly import and use them as defaults"
   ]
  },
  {
   "cell_type": "code",
   "execution_count": 28,
   "id": "e4b95374",
   "metadata": {},
   "outputs": [
    {
     "name": "stdout",
     "output_type": "stream",
     "text": [
      "Rome is the capital city of Italy, located in the central part of the country, within the Lazio region. It is situated on the Tiber River and is home to numerous historical landmarks, including the Colosseum and the Roman Forum. Rome is a major tourist destination and an important cultural and economic center in Italy.\n"
     ]
    }
   ],
   "source": [
    "from agentics.core.llm_connections import watsonx_llm, openai_llm, gemini_llm\n",
    "answer = watsonx_llm.call(\"Where is Rome?\")\n",
    "print(answer)"
   ]
  },
  {
   "cell_type": "markdown",
   "id": "c995ba27",
   "metadata": {},
   "source": [
    "Agentics automatically recognizes available LLMs based on their API keys"
   ]
  },
  {
   "cell_type": "code",
   "execution_count": 29,
   "id": "67ebdfbe",
   "metadata": {},
   "outputs": [
    {
     "name": "stdout",
     "output_type": "stream",
     "text": [
      "{'watsonx': <crewai.llm.LLM object at 0x136f17050>, 'gemini': <crewai.llm.LLM object at 0x136f16db0>, 'openai': <crewai.llm.LLM object at 0x136f17560>}\n",
      "Paris, the capital of France, is located in Western Europe. It is situated in the northern part of the country, in the Île-de-France region, which is surrounded by the Seine-et-Marne, Yvelines, Essonne, Hauts-de-Seine, Seine-Saint-Denis, and Val-de-Marne departments. Paris is positioned at the heart of the Île-de-France region, about 277 miles (446 km) west of the French-German border and 214 miles (344 km) south of the English Channel. The city is nestled in a north-bending arc of the Seine River, which plays a significant role in its geography and history.\n"
     ]
    }
   ],
   "source": [
    "from agentics.core.llm_connections import available_llms\n",
    "print(available_llms)\n",
    "\n",
    "print(available_llms[\"watsonx\"].call(\"Where is Paris?\"))"
   ]
  },
  {
   "cell_type": "markdown",
   "id": "211a8a36",
   "metadata": {},
   "source": []
  }
 ],
 "metadata": {
  "kernelspec": {
   "display_name": ".venv",
   "language": "python",
   "name": "python3"
  },
  "language_info": {
   "codemirror_mode": {
    "name": "ipython",
    "version": 3
   },
   "file_extension": ".py",
   "mimetype": "text/x-python",
   "name": "python",
   "nbconvert_exporter": "python",
   "pygments_lexer": "ipython3",
   "version": "3.12.9"
  }
 },
 "nbformat": 4,
 "nbformat_minor": 5
}
