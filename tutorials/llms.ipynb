{
 "cells": [
  {
   "cell_type": "markdown",
   "id": "32543613",
   "metadata": {},
   "source": [
    "# Using LLMs\n",
    "\n",
    "This Jupyter Notebook demonstrates the use of various Large Language Model (LLM) providers and tools for natural language processing tasks. It showcases how to interact with LLMs using the `crewai` library (which is used by Agentics), parse structured outputs with Pydantic models, and explore available LLM connections. The notebook provides practical examples for calling different LLMs, formatting responses, and integrating with external providers such as OpenAI and IBM WatsonX."
   ]
  },
  {
   "cell_type": "code",
   "execution_count": null,
   "id": "62180815",
   "metadata": {},
   "outputs": [
    {
     "name": "stdout",
     "output_type": "stream",
     "text": [
      "\u001b[2mUsing Python 3.12.9 environment at: /Users/gliozzo/Code/agentics911/agentics/.venv\u001b[0m\n",
      "\u001b[2mAudited \u001b[1m1 package\u001b[0m \u001b[2min 15ms\u001b[0m\u001b[0m\n",
      "In Colab: False\n"
     ]
    }
   ],
   "source": [
    "! uv pip install agentics-py\n",
    "\n",
    "\n",
    "import os\n",
    "import sys\n",
    "from getpass import getpass\n",
    "\n",
    "from dotenv import find_dotenv, load_dotenv\n",
    "\n",
    "CURRENT_PATH = \"\"\n",
    "\n",
    "IN_COLAB = \"google.colab\" in sys.modules\n",
    "print(\"In Colab:\", IN_COLAB)\n",
    "\n",
    "\n",
    "if IN_COLAB:\n",
    "    CURRENT_PATH = \"/content/drive/MyDrive/\"\n",
    "    # Mount your google drive\n",
    "    from google.colab import drive\n",
    "    drive.mount(\"/content/drive\")\n",
    "    load_dotenv(\"/content/drive/MyDrive/.env\")\n",
    "else:\n",
    "    load_dotenv(find_dotenv())\n",
    "\n",
    "if not os.getenv(\"GEMINI_API_KEY\"):\n",
    "    os.environ[\"GEMINI_API_KEY\"] = getpass(\"Enter your GEMINI_API_KEY:\")"
   ]
  },
  {
   "cell_type": "markdown",
   "id": "c53d8ee7",
   "metadata": {},
   "source": [
    "## Connect to your own LLM provider\n",
    "Agentics uses CrewAI wrappers for main LLM providers. You can initialize your LLM as follows.\n",
    "[find out more](https://docs.crewai.com/en/concepts/llms)"
   ]
  },
  {
   "cell_type": "code",
   "execution_count": 2,
   "id": "ec92f07e",
   "metadata": {},
   "outputs": [
    {
     "name": "stdout",
     "output_type": "stream",
     "text": [
      "<crewai.llm.LLM object at 0x1104ba1b0>\n"
     ]
    }
   ],
   "source": [
    "from crewai import LLM\n",
    "\n",
    "# pick a provider (openai, anthropic, groq, etc.) - see crewai docs for details\n",
    "llm = LLM(model=\"gemini/gemini-2.0-flash\",\n",
    "    temperature=0.7,    # Adjust based on task\n",
    "    max_tokens=4096,    # Set based on output needs\n",
    "    timeout=300)        # Longer timeout for complex tasks\n",
    "\n",
    "print(llm)"
   ]
  },
  {
   "cell_type": "markdown",
   "id": "617590f4",
   "metadata": {},
   "source": [
    "## Perform Simple LLM call\n",
    "\n",
    "Once an LLM is instatiated, you can perform LLM calls"
   ]
  },
  {
   "cell_type": "code",
   "execution_count": 3,
   "id": "ab039e26",
   "metadata": {},
   "outputs": [
    {
     "name": "stdout",
     "output_type": "stream",
     "text": [
      "The Eiffel Tower is located in **Paris, France**.\n",
      "\n"
     ]
    }
   ],
   "source": [
    "print(llm.call(\"where is the Eiffel Tower?\"))"
   ]
  },
  {
   "cell_type": "markdown",
   "id": "b21fc4d0",
   "metadata": {},
   "source": [
    "## Perform Structured Call\n",
    "\n",
    "LLMs can generate structured objects given a pydantic schema if you instantiate them accordingly"
   ]
  },
  {
   "cell_type": "code",
   "execution_count": 4,
   "id": "984913a0",
   "metadata": {},
   "outputs": [
    {
     "name": "stdout",
     "output_type": "stream",
     "text": [
      "{\n",
      "  \"short_answer\": \"The sky is blue due to a phenomenon called Rayleigh scattering.\",\n",
      "  \"detailed_answer\": \"Sunlight is made up of all the colors of the rainbow. When sunlight enters the Earth's atmosphere, it is scattered in different directions by air molecules and other small particles. Blue and violet light have shorter wavelengths and are scattered more than other colors. Because our eyes are more sensitive to blue than violet, we perceive the sky as blue. At sunrise and sunset, the sunlight travels through more of the atmosphere, so more of the blue light is scattered away, leaving the longer wavelengths like red and orange to be more visible.\",\n",
      "  \"confidence\": 0.95\n",
      "}\n"
     ]
    }
   ],
   "source": [
    "from pydantic import BaseModel\n",
    "class Answer(BaseModel):\n",
    "    short_answer: str\n",
    "    detailed_answer: str\n",
    "    confidence: float\n",
    "\n",
    "struct_llm = LLM(model=\"gemini/gemini-2.0-flash\", response_format=Answer)\n",
    "\n",
    "print(struct_llm.call(\"Why is the sky blue?\"))\n"
   ]
  },
  {
   "cell_type": "markdown",
   "id": "ca4834b1",
   "metadata": {},
   "source": [
    "## You can also use structured decoding for information extraction"
   ]
  },
  {
   "cell_type": "code",
   "execution_count": 5,
   "id": "bc8c2ab0",
   "metadata": {},
   "outputs": [
    {
     "name": "stdout",
     "output_type": "stream",
     "text": [
      "{\n",
      "  \"books\": [\n",
      "    {\n",
      "      \"title\": \"Tractatus Logico-Philosophicus\",\n",
      "      \"publisher\": \"Routledge and Kegan Paul\",\n",
      "      \"year\": 1961,\n",
      "      \"author\": {\n",
      "        \"name\": \"Ludwig Wittgenstein\",\n",
      "        \"city\": \"Vienna\",\n",
      "        \"occupation\": \"Philosopher\"\n",
      "      }\n",
      "    },\n",
      "    {\n",
      "      \"title\": \"The Blue and Brown Books\",\n",
      "      \"publisher\": \"Basil Blackwell\",\n",
      "      \"year\": 1969,\n",
      "      \"author\": {\n",
      "        \"name\": \"Ludwig Wittgenstein\",\n",
      "        \"city\": \"Vienna\",\n",
      "        \"occupation\": \"Philosopher\"\n",
      "      }\n",
      "    },\n",
      "    {\n",
      "      \"title\": \"Philosophical Investigations\",\n",
      "      \"publisher\": \"Basil Blackwell\",\n",
      "      \"year\": 1963,\n",
      "      \"author\": {\n",
      "        \"name\": \"Ludwig Wittgenstein\",\n",
      "        \"city\": \"Vienna\",\n",
      "        \"occupation\": \"Philosopher\"\n",
      "      }\n",
      "    },\n",
      "    {\n",
      "      \"title\": \"On Certainty\",\n",
      "      \"publisher\": \"Basil Blackwell\",\n",
      "      \"year\": 1979,\n",
      "      \"author\": {\n",
      "        \"name\": \"Ludwig Wittgenstein\",\n",
      "        \"city\": \"Vienna\",\n",
      "        \"occupation\": \"Philosopher\"\n",
      "      }\n",
      "    },\n",
      "    {\n",
      "      \"title\": \"Culture and Value\",\n",
      "      \"publisher\": \"Basil Blackwell\",\n",
      "      \"year\": 1980,\n",
      "      \"author\": {\n",
      "        \"name\": \"Ludwig Wittgenstein\",\n",
      "        \"city\": \"Vienna\",\n",
      "        \"occupation\": \"Philosopher\"\n",
      "      }\n",
      "    },\n",
      "    {\n",
      "      \"title\": \"Lectures and Conversations on Aesthetics, Psychology and Religious Belief\",\n",
      "      \"publisher\": \"Basil Blackwell\",\n",
      "      \"year\": 1966,\n",
      "      \"author\": {\n",
      "        \"name\": \"Ludwig Wittgenstein\",\n",
      "        \"city\": \"Vienna\",\n",
      "        \"occupation\": \"Philosopher\"\n",
      "      }\n",
      "    },\n",
      "    {\n",
      "      \"title\": \"Ludwig Wittgenstein: The Duty of Genius\",\n",
      "      \"publisher\": \"Jonathan Cape\",\n",
      "      \"year\": 1990,\n",
      "      \"author\": {\n",
      "        \"name\": \"Ray Monk\",\n",
      "        \"city\": \"London\",\n",
      "        \"occupation\": \"Biographer\"\n",
      "      }\n",
      "    },\n",
      "    {\n",
      "      \"title\": \"Ludwig Wittgenstein: A Memoir\",\n",
      "      \"publisher\": \"Oxford University Press\",\n",
      "      \"year\": 1984,\n",
      "      \"author\": {\n",
      "        \"name\": \"Norman Malcolm\",\n",
      "        \"city\": \"Oxford\",\n",
      "        \"occupation\": \"Philosopher\"\n",
      "      }\n",
      "    },\n",
      "    {\n",
      "      \"title\": \"An Introduction to Wittgenstein's Tractatus\",\n",
      "      \"publisher\": \"University of Pennsylvania Press\",\n",
      "      \"year\": 1971,\n",
      "      \"author\": {\n",
      "        \"name\": \"G.E.M. Anscombe\",\n",
      "        \"city\": \"Philadelphia\",\n",
      "        \"occupation\": \"Philosopher\"\n",
      "      }\n",
      "    },\n",
      "    {\n",
      "      \"title\": \"Wittgenstein's Tractatus: An Introduction\",\n",
      "      \"publisher\": \"Basil Blackwell\",\n",
      "      \"year\": 1981,\n",
      "      \"author\": {\n",
      "        \"name\": \"H.O. Mounce\",\n",
      "        \"city\": \"Oxford\",\n",
      "        \"occupation\": \"Philosopher\"\n",
      "      }\n",
      "    },\n",
      "    {\n",
      "      \"title\": \"Wittgenstein: Conversations 1949-1951\",\n",
      "      \"publisher\": \"Hackett\",\n",
      "      \"year\": 1986,\n",
      "      \"author\": {\n",
      "        \"name\": \"O.K. Bouwsma\",\n",
      "        \"city\": \"Indianapolis\",\n",
      "        \"occupation\": \"Philosopher\"\n",
      "      }\n",
      "    },\n",
      "    {\n",
      "      \"title\": \"The Claim of Reason: Wittgenstein, Skepticism, Morality, and Tragedy\",\n",
      "      \"publisher\": \"Oxford University Press\",\n",
      "      \"year\": 1979,\n",
      "      \"author\": {\n",
      "        \"name\": \"Stanley Cavell\",\n",
      "        \"city\": \"Oxford\",\n",
      "        \"occupation\": \"Philosopher\"\n",
      "      }\n",
      "    },\n",
      "    {\n",
      "      \"title\": \"The Realistic Spirit: Wittgenstein, Philosophy, and the Mind\",\n",
      "      \"publisher\": \"MIT\",\n",
      "      \"year\": 1991,\n",
      "      \"author\": {\n",
      "        \"name\": \"Cora Diamond\",\n",
      "        \"city\": \"Cambridge\",\n",
      "        \"occupation\": \"Philosopher\"\n",
      "      }\n",
      "    },\n",
      "    {\n",
      "      \"title\": \"The Danger of Words\",\n",
      "      \"publisher\": \"Thoemmes Press\",\n",
      "      \"year\": 1996,\n",
      "      \"author\": {\n",
      "        \"name\": \"M.O'C. Drury\",\n",
      "        \"city\": \"Bristol\",\n",
      "        \"occupation\": \"Psychiatrist\"\n",
      "      }\n",
      "    },\n",
      "    {\n",
      "      \"title\": \"Letters from Wittgenstein with a memoir\",\n",
      "      \"publisher\": \"Basil Blackwell\",\n",
      "      \"year\": 1967,\n",
      "      \"author\": {\n",
      "        \"name\": \"Paul Engelmann\",\n",
      "        \"city\": \"Oxford\",\n",
      "        \"occupation\": \"Architect\"\n",
      "      }\n",
      "    },\n",
      "    {\n",
      "      \"title\": \"Wittgenstein on Rules and Private Language\",\n",
      "      \"publisher\": \"Harvard University Press\",\n",
      "      \"year\": 1982,\n",
      "      \"author\": {\n",
      "        \"name\": \"Saul A. Kripke\",\n",
      "        \"city\": \"Cambridge\",\n",
      "        \"occupation\": \"Philosopher\"\n",
      "      }\n",
      "    },\n",
      "    {\n",
      "      \"title\": \"Wittgenstein: Nothing is Hidden\",\n",
      "      \"publisher\": \"Basil Blackwell\",\n",
      "      \"year\": 1986,\n",
      "      \"author\": {\n",
      "        \"name\": \"Norman Malcolm\",\n",
      "        \"city\": \"Oxford\",\n",
      "        \"occupation\": \"Philosopher\"\n",
      "      }\n",
      "    },\n",
      "    {\n",
      "      \"title\": \"Wittgenstein: A Religious Point of View?\",\n",
      "      \"publisher\": \"Cornell University Press\",\n",
      "      \"year\": 1994,\n",
      "      \"author\": {\n",
      "        \"name\": \"Norman Malcolm\",\n",
      "        \"city\": \"Ithaca\",\n",
      "        \"occupation\": \"Philosopher\"\n",
      "      }\n",
      "    }\n",
      "  ],\n",
      "  \"people\": [\n",
      "    {\n",
      "      \"name\": \"Ludwig Wittgenstein\",\n",
      "      \"city\": \"Vienna\",\n",
      "      \"occupation\": \"Philosopher\"\n",
      "    },\n",
      "    {\n",
      "      \"name\": \"Arthur Schopenhauer\",\n",
      "      \"city\": \"Gdańsk\",\n",
      "      \"occupation\": \"Philosopher\"\n",
      "    },\n",
      "    {\n",
      "      \"name\": \"Bertrand Russell\",\n",
      "      \"city\": \"Trellech\",\n",
      "      \"occupation\": \"Philosopher\"\n",
      "    },\n",
      "    {\n",
      "      \"name\": \"Gottlob Frege\",\n",
      "      \"city\": \"Wismar\",\n",
      "      \"occupation\": \"Philosopher\"\n",
      "    },\n",
      "    {\n",
      "      \"name\": \"Immanuel Kant\",\n",
      "      \"city\": \"Königsberg\",\n",
      "      \"occupation\": \"Philosopher\"\n",
      "    },\n",
      "        {\n",
      "      \"name\": \"Ray Monk\",\n",
      "      \"city\": \"London\",\n",
      "      \"occupation\": \"Biographer\"\n",
      "    },\n",
      "    {\n",
      "      \"name\": \"Norman Malcolm\",\n",
      "      \"city\": \"Oxford\",\n",
      "      \"occupation\": \"Philosopher\"\n",
      "    },\n",
      "    {\n",
      "      \"name\": \"G.E.M. Anscombe\",\n",
      "      \"city\": \"Philadelphia\",\n",
      "      \"occupation\": \"Philosopher\"\n",
      "    },\n",
      "    {\n",
      "      \"name\": \"H.O. Mounce\",\n",
      "      \"city\": \"Oxford\",\n",
      "      \"occupation\": \"Philosopher\"\n",
      "    },\n",
      "    {\n",
      "      \"name\": \"O.K. Bouwsma\",\n",
      "      \"city\": \"Indianapolis\",\n",
      "      \"occupation\": \"Philosopher\"\n",
      "    },\n",
      "    {\n",
      "      \"name\": \"Stanley Cavell\",\n",
      "      \"city\": \"Oxford\",\n",
      "      \"occupation\": \"Philosopher\"\n",
      "    },\n",
      "    {\n",
      "      \"name\": \"Cora Diamond\",\n",
      "      \"city\": \"Cambridge\",\n",
      "      \"occupation\": \"Philosopher\"\n",
      "    },\n",
      "    {\n",
      "      \"name\": \"M.O'C. Drury\",\n",
      "      \"city\": \"Bristol\",\n",
      "      \"occupation\": \"Psychiatrist\"\n",
      "    },\n",
      "    {\n",
      "      \"name\": \"Paul Engelmann\",\n",
      "      \"city\": \"Oxford\",\n",
      "      \"occupation\": \"Architect\"\n",
      "    },\n",
      "    {\n",
      "      \"name\": \"Saul A. Kripke\",\n",
      "      \"city\": \"Cambridge\",\n",
      "      \"occupation\": \"Philosopher\"\n",
      "    }\n",
      "  ]\n",
      "}\n"
     ]
    }
   ],
   "source": [
    "import requests\n",
    "class Person(BaseModel):\n",
    "    name: str\n",
    "    city: str\n",
    "    occupation: str\n",
    "\n",
    "class Book(BaseModel):\n",
    "    title: str\n",
    "    publisher: str\n",
    "    year: int\n",
    "    author: Person\n",
    "\n",
    "class InformationExtraction(BaseModel):\n",
    "    books: list[Book]\n",
    "    people: list[Person]\n",
    "    \n",
    "person_llm = LLM(model=\"gemini/gemini-2.0-flash\", response_format=InformationExtraction)\n",
    "print(person_llm.call(requests.get(\"https://iep.utm.edu/wittgens/\").text))\n",
    "\n"
   ]
  },
  {
   "cell_type": "markdown",
   "id": "31b53bbc",
   "metadata": {},
   "source": [
    "## Using Agentics Predefined LLMs\n",
    "\n",
    "Agentics has the following LLM handles: watsonx_llm, openai_llm, gemini_llm\n",
    "You can directly import and use them as defaults"
   ]
  },
  {
   "cell_type": "code",
   "execution_count": 6,
   "id": "e4b95374",
   "metadata": {},
   "outputs": [
    {
     "name": "stderr",
     "output_type": "stream",
     "text": [
      "2025-09-11 11:17:27.220 | DEBUG    | agentics.core.llm_connections:<module>:121 - AGENTICS is connecting to the following LLM API providers:\n",
      "2025-09-11 11:17:27.221 | DEBUG    | agentics.core.llm_connections:<module>:124 - 0 - WatsonX\n",
      "2025-09-11 11:17:27.221 | DEBUG    | agentics.core.llm_connections:<module>:129 - 1 - Gemini\n",
      "2025-09-11 11:17:27.221 | DEBUG    | agentics.core.llm_connections:<module>:133 - 2 - OpenAI\n",
      "2025-09-11 11:17:27.221 | DEBUG    | agentics.core.llm_connections:<module>:135 - Please add API keys in .env file to add or disconnect providers.\n",
      "2025-09-11 11:17:27.228 | DEBUG    | agentics.core.llm_connections:get_llm_provider:29 - No LLM provider specified. Using the first available provider.\n",
      "2025-09-11 11:17:27.228 | DEBUG    | agentics.core.llm_connections:get_llm_provider:31 - Available LLM providers: ['watsonx', 'gemini', 'openai']. Using 'watsonx'\n",
      "2025-09-11 11:17:27.229 | DEBUG    | agentics.core.llm_connections:get_llm_provider:29 - No LLM provider specified. Using the first available provider.\n",
      "2025-09-11 11:17:27.229 | DEBUG    | agentics.core.llm_connections:get_llm_provider:31 - Available LLM providers: ['watsonx', 'gemini', 'openai']. Using 'watsonx'\n"
     ]
    },
    {
     "name": "stdout",
     "output_type": "stream",
     "text": [
      "{'watsonx': <crewai.llm.LLM object at 0x157c16b40>, 'gemini': <crewai.llm.LLM object at 0x168a51be0>, 'openai': <crewai.llm.LLM object at 0x168a51d60>}\n"
     ]
    },
    {
     "name": "stderr",
     "output_type": "stream",
     "text": [
      "2025-09-11 11:17:32.066 | DEBUG    | agentics.core.llm_connections:get_llm_provider:42 - Using specified LLM provider: gemini\n"
     ]
    },
    {
     "name": "stdout",
     "output_type": "stream",
     "text": [
      "Rome is the capital city of Italy, located in the central part of the country, within the Lazio region. It is situated on the Tiber River and is home to many historic landmarks, including the Colosseum and the Vatican City.\n",
      "Rome is the capital city of **Italy**. It's located in the central-western part of the Italian Peninsula, along the Tiber River.\n",
      "\n"
     ]
    }
   ],
   "source": [
    "from agentics.core.llm_connections import available_llms, get_llm_provider\n",
    "print(available_llms)\n",
    "\n",
    "llm=get_llm_provider() ## get the default LLM provider from the available ones\n",
    "print(llm.call(\"Where is Rome?\"))\n",
    "\n",
    "llm=get_llm_provider(\"gemini\") ## get a specific LLM provider from the available ones,change \"gemini\" with \"openai\", \"watsonx\", etc. as needed\n",
    "print(llm.call(\"Where is Rome?\"))"
   ]
  },
  {
   "cell_type": "markdown",
   "id": "76c44e41",
   "metadata": {},
   "source": [
    "## Homework\n",
    "\n",
    "Play with different data models on your favourite domain (e.g. stocks) providing relevant data. Enjoy tructured decoding magic."
   ]
  }
 ],
 "metadata": {
  "kernelspec": {
   "display_name": ".venv",
   "language": "python",
   "name": "python3"
  },
  "language_info": {
   "codemirror_mode": {
    "name": "ipython",
    "version": 3
   },
   "file_extension": ".py",
   "mimetype": "text/x-python",
   "name": "python",
   "nbconvert_exporter": "python",
   "pygments_lexer": "ipython3",
   "version": "3.12.9"
  }
 },
 "nbformat": 4,
 "nbformat_minor": 5
}
