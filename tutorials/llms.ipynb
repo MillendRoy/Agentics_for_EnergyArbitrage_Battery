{
 "cells": [
  {
   "cell_type": "markdown",
   "id": "32543613",
   "metadata": {},
   "source": [
    "# Using LLMs\n",
    "\n",
    "This Jupyter Notebook demonstrates the use of various Large Language Model (LLM) providers and tools for natural language processing tasks. It showcases how to interact with LLMs using the `crewai` library (which is used by Agentics), parse structured outputs with Pydantic models, and explore available LLM connections. The notebook provides practical examples for calling different LLMs, formatting responses, and integrating with external providers such as OpenAI and IBM WatsonX."
   ]
  },
  {
   "cell_type": "markdown",
   "id": "c53d8ee7",
   "metadata": {},
   "source": [
    "## Connect to your own LLM provider\n",
    "Agentics uses CrewAI wrappers for main LLM providers. You can initialize your LLM as follows.\n",
    "[find out more](https://docs.crewai.com/en/concepts/llms)"
   ]
  },
  {
   "cell_type": "code",
   "execution_count": 6,
   "id": "ec92f07e",
   "metadata": {},
   "outputs": [
    {
     "name": "stdout",
     "output_type": "stream",
     "text": [
      "<crewai.llm.LLM object at 0x319f1da30>\n"
     ]
    }
   ],
   "source": [
    "from crewai import LLM\n",
    "\n",
    "# pick a provider (openai, anthropic, groq, etc.) - see crewai docs for details\n",
    "llm = LLM(model=\"gpt-4o-mini\",\n",
    "    temperature=0.7,    # Adjust based on task\n",
    "    max_tokens=4096,    # Set based on output needs\n",
    "    timeout=300)        # Longer timeout for complex tasks\n",
    "\n",
    "print(llm)"
   ]
  },
  {
   "cell_type": "markdown",
   "id": "617590f4",
   "metadata": {},
   "source": [
    "## Perform Simple LLM call\n",
    "\n",
    "Once an LLM is instatiated, you can perform LLM calls"
   ]
  },
  {
   "cell_type": "code",
   "execution_count": 7,
   "id": "ab039e26",
   "metadata": {},
   "outputs": [
    {
     "name": "stdout",
     "output_type": "stream",
     "text": [
      "The Eiffel Tower is located in Paris, France. It is situated on the Champ de Mars near the Seine River and is one of the most iconic landmarks in the city.\n"
     ]
    }
   ],
   "source": [
    "print(llm.call(\"where is the eiffel tower located?\"))"
   ]
  },
  {
   "cell_type": "markdown",
   "id": "b21fc4d0",
   "metadata": {},
   "source": [
    "## Perform Structured Call\n",
    "\n",
    "LLMs can generate structured objects given a pydantic schema if you instantiate them accordingly"
   ]
  },
  {
   "cell_type": "code",
   "execution_count": 8,
   "id": "984913a0",
   "metadata": {},
   "outputs": [
    {
     "name": "stdout",
     "output_type": "stream",
     "text": [
      "{\"short_answer\":\"Pikachu\",\"detailed_answer\":\"### The Iconic Pikachu\\nPikachu, a petite Electric-type Pokémon, is recognized globally and is arguably the most popular Pokémon. This popularity stems from its constant presence throughout the Pokémon series, serving as the primary companion of Ash Ketchum, the main character of the Pokémon animated series. \\n\\n### Factors Contributing to Pikachu’s Popularity:\\n1. **Universal Recognition**: Pikachu is not just a mascot for the Pokémon franchise but an icon for global pop culture, bridging age groups and cultures. \\n2. **Anime Influence**: The animated series has enjoyed massive international success, and Pikachu, as a constant companion to Ash, has become synonymous with the essence of the Pokémon world.\\n3. **Game Representation**: In Pokémon video games, especially in Pokémon Yellow, Pikachu follows the player throughout the game, offering a unique emotional bond with players.\\n4. **Merchandise**: Pikachu’s image is one of the most profitable in Pokémon merchandise, from toys to apparel.\\n5. **Electric Mouse Charm**: Pikachu's design is simplistic yet appealing, with its bright yellow color and lightning bolt-shaped tail, it captures hearts easily.\\n6. **Role in Promotions**: Pikachu frequently appears in promotional activities and events related to Pokémon, cementing its place in the public eye.\\n\\n### Beyond Pikachu\\nWhile Pikachu is the most globally renowned Pokémon, other Pokémon like **Charizard, Eevee**, and **Jigglypuff** also boast significant fan followings. Charizard's powerful dragon-like appearance, Eevee's evolutionary versatility, and Jigglypuff’s quirky personality contribute to their respective fan bases.*\",\"confidence\":0.95}\n"
     ]
    }
   ],
   "source": [
    "from pydantic import BaseModel\n",
    "class Answer(BaseModel):\n",
    "    short_answer: str\n",
    "    detailed_answer: str\n",
    "    confidence: float\n",
    "\n",
    "struct_llm = LLM(model=\"gpt-4o\", response_format=Answer)\n",
    "\n",
    "print(struct_llm.call(\"Who is the most popular pokemon?\"))\n"
   ]
  },
  {
   "cell_type": "markdown",
   "id": "31b53bbc",
   "metadata": {},
   "source": [
    "## Using Agentics Predefined LLMs\n",
    "\n",
    "Agentics has the following LLM handles: watsonx_llm, openai_llm, gemini_llm\n",
    "You can directly import and use them as defaults"
   ]
  },
  {
   "cell_type": "code",
   "execution_count": 4,
   "id": "e4b95374",
   "metadata": {},
   "outputs": [
    {
     "name": "stderr",
     "output_type": "stream",
     "text": [
      "2025-09-02 09:14:31.667 | DEBUG    | agentics.core.llm_connections:<module>:89 - AGENTICS is connecting to the following LLM API providers:\n",
      "2025-09-02 09:14:31.667 | DEBUG    | agentics.core.llm_connections:<module>:92 - 0 - WatsonX\n",
      "2025-09-02 09:14:31.667 | DEBUG    | agentics.core.llm_connections:<module>:97 - 1 - Gemini\n",
      "2025-09-02 09:14:31.668 | DEBUG    | agentics.core.llm_connections:<module>:101 - 2 - OpenAI\n",
      "2025-09-02 09:14:31.668 | DEBUG    | agentics.core.llm_connections:<module>:103 - Please add API keys in .env file to add or disconnect providers.\n",
      "2025-09-02 09:14:31.674 | DEBUG    | agentics.core.llm_connections:get_llm_provider:28 - No LLM provider specified. Using the first available provider.\n",
      "2025-09-02 09:14:31.675 | DEBUG    | agentics.core.llm_connections:get_llm_provider:30 - Available LLM providers: ['watsonx', 'gemini', 'openai']. Using 'watsonx'\n",
      "2025-09-02 09:14:31.676 | DEBUG    | agentics.core.llm_connections:get_llm_provider:28 - No LLM provider specified. Using the first available provider.\n",
      "2025-09-02 09:14:31.676 | DEBUG    | agentics.core.llm_connections:get_llm_provider:30 - Available LLM providers: ['watsonx', 'gemini', 'openai']. Using 'watsonx'\n"
     ]
    },
    {
     "name": "stdout",
     "output_type": "stream",
     "text": [
      "{'watsonx': <crewai.llm.LLM object at 0x31a960f80>, 'gemini': <crewai.llm.LLM object at 0x31a7d7200>, 'openai': <crewai.llm.LLM object at 0x31a960e60>}\n"
     ]
    },
    {
     "name": "stderr",
     "output_type": "stream",
     "text": [
      "2025-09-02 09:14:33.177 | DEBUG    | agentics.core.llm_connections:get_llm_provider:37 - Using specified LLM provider: watsonx\n"
     ]
    },
    {
     "name": "stdout",
     "output_type": "stream",
     "text": [
      "Rome is the capital city of Italy, located in the central part of the country, within the Lazio region. It is situated on the Tiber River and is home to many historical landmarks, including the Colosseum and the Vatican City.\n",
      "Rome is the capital city of Italy, located in the central region of the country, within the Lazio region. It is situated on the Tiber River and is home to many historical landmarks, including the Colosseum and the Vatican City.\n"
     ]
    }
   ],
   "source": [
    "from agentics.core.llm_connections import available_llms, get_llm_provider\n",
    "print(available_llms)\n",
    "\n",
    "llm=get_llm_provider() ## get the default LLM provider from the available ones\n",
    "print(llm.call(\"Where is Rome?\"))\n",
    "\n",
    "llm=get_llm_provider(\"watsonx\") ## get a specific LLM provider from the available ones,change \"watsonx\" with \"openai\", \"gemini\", etc. as needed\n",
    "print(llm.call(\"Where is Rome?\"))"
   ]
  },
  {
   "cell_type": "markdown",
   "id": "211a8a36",
   "metadata": {},
   "source": []
  }
 ],
 "metadata": {
  "kernelspec": {
   "display_name": ".venv",
   "language": "python",
   "name": "python3"
  },
  "language_info": {
   "codemirror_mode": {
    "name": "ipython",
    "version": 3
   },
   "file_extension": ".py",
   "mimetype": "text/x-python",
   "name": "python",
   "nbconvert_exporter": "python",
   "pygments_lexer": "ipython3",
   "version": "3.12.9"
  }
 },
 "nbformat": 4,
 "nbformat_minor": 5
}
