{
 "cells": [
  {
   "cell_type": "markdown",
   "id": "82835cd5",
   "metadata": {},
   "source": [
    "## Using tools in Agentics\n",
    "\n",
    "Agents are embedded into the AGs to support logical transduction. \n",
    "\n",
    "Those agents can be optionally making use of externally provided tools to gather additional information needed to execute the transductions. \n",
    "\n",
    "Agentics support the use of the MCP protocol to provide agents with externally provided functionalities, such as executing web search or use a calculator."
   ]
  },
  {
   "cell_type": "markdown",
   "id": "2ff8552a",
   "metadata": {},
   "source": [
    "### Activate exiting MCP server\n",
    "\n",
    "To use an existing MCP server, open a shell and run the server code in background.\n",
    "\n",
    "```bash\n",
    "poetry run python mcp/DDG_search_tool_mcp.py > /tmp/mcp_server.log 2>&1 &\n",
    "```"
   ]
  },
  {
   "cell_type": "code",
   "execution_count": null,
   "id": "4e90108b",
   "metadata": {},
   "outputs": [],
   "source": []
  },
  {
   "cell_type": "markdown",
   "id": "4b99fecf",
   "metadata": {},
   "source": [
    "### Set server parameters\n",
    "\n",
    "If the server has been correctly activated, the execution will return a HTTP/1.1 200 OK message\n",
    "\n"
   ]
  },
  {
   "cell_type": "code",
   "execution_count": 5,
   "id": "ff5476e4",
   "metadata": {},
   "outputs": [
    {
     "data": {
      "text/html": [
       "<pre style=\"white-space:pre;overflow-x:auto;line-height:normal;font-family:Menlo,'DejaVu Sans Mono',consolas,'Courier New',monospace\"><span style=\"color: #7fbfbf; text-decoration-color: #7fbfbf\">[08/30/25 18:41:25] </span><span style=\"color: #000080; text-decoration-color: #000080\">INFO    </span> HTTP Request: <span style=\"color: #808000; text-decoration-color: #808000; font-weight: bold\">GET</span>                                                      <a href=\"file:///Users/gliozzo/Code/agentics0.0.6/Agentics/.venv/lib/python3.12/site-packages/httpx/_client.py\" target=\"_blank\"><span style=\"color: #7f7f7f; text-decoration-color: #7f7f7f\">_client.py</span></a><span style=\"color: #7f7f7f; text-decoration-color: #7f7f7f\">:</span><a href=\"file:///Users/gliozzo/Code/agentics0.0.6/Agentics/.venv/lib/python3.12/site-packages/httpx/_client.py#1025\" target=\"_blank\"><span style=\"color: #7f7f7f; text-decoration-color: #7f7f7f\">1025</span></a>\n",
       "<span style=\"color: #7fbfbf; text-decoration-color: #7fbfbf\">                    </span>         <span style=\"color: #0000ff; text-decoration-color: #0000ff; text-decoration: underline\">https://raw.githubusercontent.com/BerriAI/litellm/main/model_prices_an</span> <span style=\"color: #7f7f7f; text-decoration-color: #7f7f7f\">               </span>\n",
       "<span style=\"color: #7fbfbf; text-decoration-color: #7fbfbf\">                    </span>         <span style=\"color: #0000ff; text-decoration-color: #0000ff; text-decoration: underline\">d_context_window.json</span> <span style=\"color: #008000; text-decoration-color: #008000\">\"HTTP/1.1 200 OK\"</span>                                <span style=\"color: #7f7f7f; text-decoration-color: #7f7f7f\">               </span>\n",
       "</pre>\n"
      ],
      "text/plain": [
       "\u001b[2;36m[08/30/25 18:41:25]\u001b[0m\u001b[2;36m \u001b[0m\u001b[34mINFO    \u001b[0m HTTP Request: \u001b[1;33mGET\u001b[0m                                                      \u001b]8;id=226428;file:///Users/gliozzo/Code/agentics0.0.6/Agentics/.venv/lib/python3.12/site-packages/httpx/_client.py\u001b\\\u001b[2m_client.py\u001b[0m\u001b]8;;\u001b\\\u001b[2m:\u001b[0m\u001b]8;id=155387;file:///Users/gliozzo/Code/agentics0.0.6/Agentics/.venv/lib/python3.12/site-packages/httpx/_client.py#1025\u001b\\\u001b[2m1025\u001b[0m\u001b]8;;\u001b\\\n",
       "\u001b[2;36m                    \u001b[0m         \u001b[4;94mhttps://raw.githubusercontent.com/BerriAI/litellm/main/model_prices_an\u001b[0m \u001b[2m               \u001b[0m\n",
       "\u001b[2;36m                    \u001b[0m         \u001b[4;94md_context_window.json\u001b[0m \u001b[32m\"HTTP/1.1 200 OK\"\u001b[0m                                \u001b[2m               \u001b[0m\n"
      ]
     },
     "metadata": {},
     "output_type": "display_data"
    },
    {
     "name": "stderr",
     "output_type": "stream",
     "text": [
      "/Users/gliozzo/Code/agentics0.0.6/Agentics/.venv/lib/python3.12/site-packages/pydantic/_internal/_config.py:323: PydanticDeprecatedSince20: Support for class-based `config` is deprecated, use ConfigDict instead. Deprecated in Pydantic V2.0 to be removed in V3.0. See Pydantic V2 Migration Guide at https://errors.pydantic.dev/2.11/migration/\n",
      "  warnings.warn(DEPRECATION_MESSAGE, DeprecationWarning)\n"
     ]
    }
   ],
   "source": [
    "from crewai_tools import MCPServerAdapter\n",
    "from mcp import StdioServerParameters \n",
    "import os\n",
    "\n",
    "server_params=StdioServerParameters(\n",
    "    command=\"python3\",\n",
    "    args=[\"mcp/DDG_search_tool_mcp.py\"],\n",
    "    env={\"UV_PYTHON\": \"3.12\", **os.environ},\n",
    ")"
   ]
  },
  {
   "cell_type": "markdown",
   "id": "1e3a7a07",
   "metadata": {},
   "source": [
    "### Use MCP server adapters\n",
    "\n"
   ]
  },
  {
   "cell_type": "code",
   "execution_count": null,
   "id": "0941e4c8",
   "metadata": {},
   "outputs": [],
   "source": [
    "    print(f\"Available tools from Stdio MCP server: {[tool.name for tool in server_tools]}\")\n"
   ]
  }
 ],
 "metadata": {
  "kernelspec": {
   "display_name": ".venv",
   "language": "python",
   "name": "python3"
  },
  "language_info": {
   "codemirror_mode": {
    "name": "ipython",
    "version": 3
   },
   "file_extension": ".py",
   "mimetype": "text/x-python",
   "name": "python",
   "nbconvert_exporter": "python",
   "pygments_lexer": "ipython3",
   "version": "3.12.9"
  }
 },
 "nbformat": 4,
 "nbformat_minor": 5
}
