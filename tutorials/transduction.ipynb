{
 "cells": [
  {
   "cell_type": "markdown",
   "id": "0",
   "metadata": {
    "id": "08fccf46"
   },
   "source": [
    "# Logical Transduction\n",
    "\n",
    "Agentics objects are capable of performing logical transduction between their states by using the provied LLMs. The logical transduction operator << can be applied between any two agentics of any type.\n",
    "\n",
    "Transduction is done between a source and a target AG when connected by the << operator.\n",
    "\n",
    "The follwing example transduces a Question into an Answer."
   ]
  },
  {
   "cell_type": "code",
   "execution_count": 1,
   "id": "1",
   "metadata": {
    "colab": {
     "base_uri": "https://localhost:8080/"
    },
    "executionInfo": {
     "elapsed": 3284,
     "status": "ok",
     "timestamp": 1757074891021,
     "user": {
      "displayName": "",
      "userId": ""
     },
     "user_tz": -180
    },
    "id": "069407b8",
    "outputId": "df336c0c-62bb-40f9-9132-2bb38f6c0c2a"
   },
   "outputs": [
    {
     "name": "stdout",
     "output_type": "stream",
     "text": [
      "\u001b[2mUsing Python 3.12.9 environment at: /Users/gliozzo/Code/agentics911/agentics/.venv\u001b[0m\n",
      "\u001b[2mAudited \u001b[1m1 package\u001b[0m \u001b[2min 60ms\u001b[0m\u001b[0m\n",
      "In Colab: False\n",
      "In Colab: False\n"
     ]
    }
   ],
   "source": [
    "! uv pip install agentics-py\n",
    "\n",
    "\n",
    "import os\n",
    "import sys\n",
    "\n",
    "from dotenv import find_dotenv, load_dotenv\n",
    "\n",
    "CURRENT_PATH = \"\"\n",
    "\n",
    "IN_COLAB = \"google.colab\" in sys.modules\n",
    "print(\"In Colab:\", IN_COLAB)\n",
    "\n",
    "IN_COLAB = \"google.colab\" in sys.modules\n",
    "print(\"In Colab:\", IN_COLAB)\n",
    "\n",
    "if IN_COLAB:\n",
    "    CURRENT_PATH = \"/content/drive/MyDrive/\"\n",
    "    from google.colab import drive\n",
    "    drive.mount(\"/content/drive\")\n",
    "    load_dotenv(\"/content/drive/MyDrive/.env\")\n",
    "else:\n",
    "    load_dotenv(find_dotenv())\n",
    "\n",
    "if not os.getenv(\"GEMINI_API_KEY\"):\n",
    "    os.environ[\"GEMINI_API_KEY\"] = input(\"Enter your GEMINI_API_KEY:\")"
   ]
  },
  {
   "cell_type": "code",
   "execution_count": null,
   "id": "2",
   "metadata": {
    "colab": {
     "base_uri": "https://localhost:8080/",
     "height": 1000,
     "referenced_widgets": [
      "333bba1a5012475a946a9d10ae2525fc",
      "958824c60e6a422cbe77d7dc95cbed16"
     ]
    },
    "executionInfo": {
     "elapsed": 14872,
     "status": "ok",
     "timestamp": 1757074905896,
     "user": {
      "displayName": "",
      "userId": ""
     },
     "user_tz": -180
    },
    "id": "7b080d14",
    "outputId": "5d7382b0-6357-4a97-f7cd-d362152e0fd1"
   },
   "outputs": [
    {
     "name": "stderr",
     "output_type": "stream",
     "text": [
      "2025-09-23 15:35:58.682 | DEBUG    | agentics.core.llm_connections:get_llm_provider:30 - Available LLM providers: ['watsonx', 'gemini', 'openai']. None specified, defaulting to 'watsonx'\n"
     ]
    },
    {
     "data": {
      "text/html": [
       "<pre style=\"white-space:pre;overflow-x:auto;line-height:normal;font-family:Menlo,'DejaVu Sans Mono',consolas,'Courier New',monospace\"><span style=\"color: #008080; text-decoration-color: #008080\">╭──────────────────────────────────────────── Crew Execution Started ─────────────────────────────────────────────╮</span>\n",
       "<span style=\"color: #008080; text-decoration-color: #008080\">│</span>                                                                                                                 <span style=\"color: #008080; text-decoration-color: #008080\">│</span>\n",
       "<span style=\"color: #008080; text-decoration-color: #008080\">│</span>  <span style=\"color: #008080; text-decoration-color: #008080; font-weight: bold\">Crew Execution Started</span>                                                                                         <span style=\"color: #008080; text-decoration-color: #008080\">│</span>\n",
       "<span style=\"color: #008080; text-decoration-color: #008080\">│</span>  <span style=\"color: #c0c0c0; text-decoration-color: #c0c0c0\">Name: </span><span style=\"color: #008080; text-decoration-color: #008080\">crew</span>                                                                                                     <span style=\"color: #008080; text-decoration-color: #008080\">│</span>\n",
       "<span style=\"color: #008080; text-decoration-color: #008080\">│</span>  <span style=\"color: #c0c0c0; text-decoration-color: #c0c0c0\">ID: </span><span style=\"color: #008080; text-decoration-color: #008080\">0f916d0c-36d0-40b3-aa44-660c455f4d76</span>                                                                       <span style=\"color: #008080; text-decoration-color: #008080\">│</span>\n",
       "<span style=\"color: #008080; text-decoration-color: #008080\">│</span>  <span style=\"color: #c0c0c0; text-decoration-color: #c0c0c0\">Tool Args: </span>                                                                                                    <span style=\"color: #008080; text-decoration-color: #008080\">│</span>\n",
       "<span style=\"color: #008080; text-decoration-color: #008080\">│</span>                                                                                                                 <span style=\"color: #008080; text-decoration-color: #008080\">│</span>\n",
       "<span style=\"color: #008080; text-decoration-color: #008080\">│</span>                                                                                                                 <span style=\"color: #008080; text-decoration-color: #008080\">│</span>\n",
       "<span style=\"color: #008080; text-decoration-color: #008080\">╰─────────────────────────────────────────────────────────────────────────────────────────────────────────────────╯</span>\n",
       "</pre>\n"
      ],
      "text/plain": [
       "\u001b[36m╭─\u001b[0m\u001b[36m───────────────────────────────────────────\u001b[0m\u001b[36m Crew Execution Started \u001b[0m\u001b[36m────────────────────────────────────────────\u001b[0m\u001b[36m─╮\u001b[0m\n",
       "\u001b[36m│\u001b[0m                                                                                                                 \u001b[36m│\u001b[0m\n",
       "\u001b[36m│\u001b[0m  \u001b[1;36mCrew Execution Started\u001b[0m                                                                                         \u001b[36m│\u001b[0m\n",
       "\u001b[36m│\u001b[0m  \u001b[37mName: \u001b[0m\u001b[36mcrew\u001b[0m                                                                                                     \u001b[36m│\u001b[0m\n",
       "\u001b[36m│\u001b[0m  \u001b[37mID: \u001b[0m\u001b[36m0f916d0c-36d0-40b3-aa44-660c455f4d76\u001b[0m                                                                       \u001b[36m│\u001b[0m\n",
       "\u001b[36m│\u001b[0m  \u001b[37mTool Args: \u001b[0m                                                                                                    \u001b[36m│\u001b[0m\n",
       "\u001b[36m│\u001b[0m                                                                                                                 \u001b[36m│\u001b[0m\n",
       "\u001b[36m│\u001b[0m                                                                                                                 \u001b[36m│\u001b[0m\n",
       "\u001b[36m╰─────────────────────────────────────────────────────────────────────────────────────────────────────────────────╯\u001b[0m\n"
      ]
     },
     "metadata": {},
     "output_type": "display_data"
    },
    {
     "data": {
      "text/html": [
       "<pre style=\"white-space:pre;overflow-x:auto;line-height:normal;font-family:Menlo,'DejaVu Sans Mono',consolas,'Courier New',monospace\">\n",
       "</pre>\n"
      ],
      "text/plain": [
       "\n"
      ]
     },
     "metadata": {},
     "output_type": "display_data"
    },
    {
     "data": {
      "text/html": [
       "<pre style=\"white-space:pre;overflow-x:auto;line-height:normal;font-family:Menlo,'DejaVu Sans Mono',consolas,'Courier New',monospace\"></pre>\n"
      ],
      "text/plain": []
     },
     "metadata": {},
     "output_type": "display_data"
    },
    {
     "data": {
      "text/html": [
       "<pre style=\"white-space:pre;overflow-x:auto;line-height:normal;font-family:Menlo,'DejaVu Sans Mono',consolas,'Courier New',monospace\"><span style=\"color: #800080; text-decoration-color: #800080\">╭─────────────────────────────────────────────── 🤖 Agent Started ────────────────────────────────────────────────╮</span>\n",
       "<span style=\"color: #800080; text-decoration-color: #800080\">│</span>                                                                                                                 <span style=\"color: #800080; text-decoration-color: #800080\">│</span>\n",
       "<span style=\"color: #800080; text-decoration-color: #800080\">│</span>  <span style=\"color: #c0c0c0; text-decoration-color: #c0c0c0\">Agent: </span><span style=\"color: #00ff00; text-decoration-color: #00ff00; font-weight: bold\">Task Executor</span>                                                                                           <span style=\"color: #800080; text-decoration-color: #800080\">│</span>\n",
       "<span style=\"color: #800080; text-decoration-color: #800080\">│</span>                                                                                                                 <span style=\"color: #800080; text-decoration-color: #800080\">│</span>\n",
       "<span style=\"color: #800080; text-decoration-color: #800080\">│</span>  <span style=\"color: #c0c0c0; text-decoration-color: #c0c0c0\">Task: </span>                                                                                                         <span style=\"color: #800080; text-decoration-color: #800080\">│</span>\n",
       "<span style=\"color: #800080; text-decoration-color: #800080\">│</span>  <span style=\"color: #00ff00; text-decoration-color: #00ff00\">Your task is to transduce a source Pydantic Object into the specified Output type. Generate only slots that </span>   <span style=\"color: #800080; text-decoration-color: #800080\">│</span>\n",
       "<span style=\"color: #800080; text-decoration-color: #800080\">│</span>  <span style=\"color: #00ff00; text-decoration-color: #00ff00\">are logically deduced from the input information, otherwise live then null.</span>                                    <span style=\"color: #800080; text-decoration-color: #800080\">│</span>\n",
       "<span style=\"color: #800080; text-decoration-color: #800080\">│</span>                                                                                                                 <span style=\"color: #800080; text-decoration-color: #800080\">│</span>\n",
       "<span style=\"color: #800080; text-decoration-color: #800080\">│</span>  <span style=\"color: #00ff00; text-decoration-color: #00ff00\">Read carefully the following instructions for executing your task:</span>                                             <span style=\"color: #800080; text-decoration-color: #800080\">│</span>\n",
       "<span style=\"color: #800080; text-decoration-color: #800080\">│</span>  <span style=\"color: #00ff00; text-decoration-color: #00ff00\">Generate an object of the specified type from the following input. SOURCE:</span>                                     <span style=\"color: #800080; text-decoration-color: #800080\">│</span>\n",
       "<span style=\"color: #800080; text-decoration-color: #800080\">│</span>  <span style=\"color: #00ff00; text-decoration-color: #00ff00\">{\"question\": \"What is the capital of Italy?\"}</span>                                                                  <span style=\"color: #800080; text-decoration-color: #800080\">│</span>\n",
       "<span style=\"color: #800080; text-decoration-color: #800080\">│</span>                                                                                                                 <span style=\"color: #800080; text-decoration-color: #800080\">│</span>\n",
       "<span style=\"color: #800080; text-decoration-color: #800080\">╰─────────────────────────────────────────────────────────────────────────────────────────────────────────────────╯</span>\n",
       "</pre>\n"
      ],
      "text/plain": [
       "\u001b[35m╭─\u001b[0m\u001b[35m──────────────────────────────────────────────\u001b[0m\u001b[35m 🤖 Agent Started \u001b[0m\u001b[35m───────────────────────────────────────────────\u001b[0m\u001b[35m─╮\u001b[0m\n",
       "\u001b[35m│\u001b[0m                                                                                                                 \u001b[35m│\u001b[0m\n",
       "\u001b[35m│\u001b[0m  \u001b[37mAgent: \u001b[0m\u001b[1;92mTask Executor\u001b[0m                                                                                           \u001b[35m│\u001b[0m\n",
       "\u001b[35m│\u001b[0m                                                                                                                 \u001b[35m│\u001b[0m\n",
       "\u001b[35m│\u001b[0m  \u001b[37mTask: \u001b[0m                                                                                                         \u001b[35m│\u001b[0m\n",
       "\u001b[35m│\u001b[0m  \u001b[92mYour task is to transduce a source Pydantic Object into the specified Output type. Generate only slots that \u001b[0m   \u001b[35m│\u001b[0m\n",
       "\u001b[35m│\u001b[0m  \u001b[92mare logically deduced from the input information, otherwise live then null.\u001b[0m                                    \u001b[35m│\u001b[0m\n",
       "\u001b[35m│\u001b[0m                                                                                                                 \u001b[35m│\u001b[0m\n",
       "\u001b[35m│\u001b[0m  \u001b[92mRead carefully the following instructions for executing your task:\u001b[0m                                             \u001b[35m│\u001b[0m\n",
       "\u001b[35m│\u001b[0m  \u001b[92mGenerate an object of the specified type from the following input. SOURCE:\u001b[0m                                     \u001b[35m│\u001b[0m\n",
       "\u001b[35m│\u001b[0m  \u001b[92m{\"question\": \"What is the capital of Italy?\"}\u001b[0m                                                                  \u001b[35m│\u001b[0m\n",
       "\u001b[35m│\u001b[0m                                                                                                                 \u001b[35m│\u001b[0m\n",
       "\u001b[35m╰─────────────────────────────────────────────────────────────────────────────────────────────────────────────────╯\u001b[0m\n"
      ]
     },
     "metadata": {},
     "output_type": "display_data"
    },
    {
     "data": {
      "text/html": [
       "<pre style=\"white-space:pre;overflow-x:auto;line-height:normal;font-family:Menlo,'DejaVu Sans Mono',consolas,'Courier New',monospace\">\n",
       "</pre>\n"
      ],
      "text/plain": [
       "\n"
      ]
     },
     "metadata": {},
     "output_type": "display_data"
    },
    {
     "data": {
      "application/vnd.jupyter.widget-view+json": {
       "model_id": "68c026754f3a46aa8fffce3156790ee8",
       "version_major": 2,
       "version_minor": 0
      },
      "text/plain": [
       "Output()"
      ]
     },
     "metadata": {},
     "output_type": "display_data"
    },
    {
     "data": {
      "text/html": [
       "<pre style=\"white-space:pre;overflow-x:auto;line-height:normal;font-family:Menlo,'DejaVu Sans Mono',consolas,'Courier New',monospace\"></pre>\n"
      ],
      "text/plain": []
     },
     "metadata": {},
     "output_type": "display_data"
    },
    {
     "data": {
      "text/html": [
       "<pre style=\"white-space:pre;overflow-x:auto;line-height:normal;font-family:Menlo,'DejaVu Sans Mono',consolas,'Courier New',monospace\"><span style=\"color: #008000; text-decoration-color: #008000\">╭───────────────────────────────────────────── ✅ Agent Final Answer ─────────────────────────────────────────────╮</span>\n",
       "<span style=\"color: #008000; text-decoration-color: #008000\">│</span>                                                                                                                 <span style=\"color: #008000; text-decoration-color: #008000\">│</span>\n",
       "<span style=\"color: #008000; text-decoration-color: #008000\">│</span>  <span style=\"color: #c0c0c0; text-decoration-color: #c0c0c0\">Agent: </span><span style=\"color: #00ff00; text-decoration-color: #00ff00; font-weight: bold\">Task Executor</span>                                                                                           <span style=\"color: #008000; text-decoration-color: #008000\">│</span>\n",
       "<span style=\"color: #008000; text-decoration-color: #008000\">│</span>                                                                                                                 <span style=\"color: #008000; text-decoration-color: #008000\">│</span>\n",
       "<span style=\"color: #008000; text-decoration-color: #008000\">│</span>  <span style=\"color: #c0c0c0; text-decoration-color: #c0c0c0\">Final Answer:</span>                                                                                                  <span style=\"color: #008000; text-decoration-color: #008000\">│</span>\n",
       "<span style=\"color: #008000; text-decoration-color: #008000\">│</span>  <span style=\"color: #00ff00; text-decoration-color: #00ff00\">{</span>                                                                                                              <span style=\"color: #008000; text-decoration-color: #008000\">│</span>\n",
       "<span style=\"color: #008000; text-decoration-color: #008000\">│</span>  <span style=\"color: #00ff00; text-decoration-color: #00ff00\">  \"answer\": \"Rome\",</span>                                                                                            <span style=\"color: #008000; text-decoration-color: #008000\">│</span>\n",
       "<span style=\"color: #008000; text-decoration-color: #008000\">│</span>  <span style=\"color: #00ff00; text-decoration-color: #00ff00\">  \"justification\": \"Rome is widely recognized as the capital of Italy.\",</span>                                       <span style=\"color: #008000; text-decoration-color: #008000\">│</span>\n",
       "<span style=\"color: #008000; text-decoration-color: #008000\">│</span>  <span style=\"color: #00ff00; text-decoration-color: #00ff00\">  \"confidence\": 0.99</span>                                                                                           <span style=\"color: #008000; text-decoration-color: #008000\">│</span>\n",
       "<span style=\"color: #008000; text-decoration-color: #008000\">│</span>  <span style=\"color: #00ff00; text-decoration-color: #00ff00\">}</span>                                                                                                              <span style=\"color: #008000; text-decoration-color: #008000\">│</span>\n",
       "<span style=\"color: #008000; text-decoration-color: #008000\">│</span>                                                                                                                 <span style=\"color: #008000; text-decoration-color: #008000\">│</span>\n",
       "<span style=\"color: #008000; text-decoration-color: #008000\">╰─────────────────────────────────────────────────────────────────────────────────────────────────────────────────╯</span>\n",
       "</pre>\n"
      ],
      "text/plain": [
       "\u001b[32m╭─\u001b[0m\u001b[32m────────────────────────────────────────────\u001b[0m\u001b[32m ✅ Agent Final Answer \u001b[0m\u001b[32m────────────────────────────────────────────\u001b[0m\u001b[32m─╮\u001b[0m\n",
       "\u001b[32m│\u001b[0m                                                                                                                 \u001b[32m│\u001b[0m\n",
       "\u001b[32m│\u001b[0m  \u001b[37mAgent: \u001b[0m\u001b[1;92mTask Executor\u001b[0m                                                                                           \u001b[32m│\u001b[0m\n",
       "\u001b[32m│\u001b[0m                                                                                                                 \u001b[32m│\u001b[0m\n",
       "\u001b[32m│\u001b[0m  \u001b[37mFinal Answer:\u001b[0m                                                                                                  \u001b[32m│\u001b[0m\n",
       "\u001b[32m│\u001b[0m  \u001b[92m{\u001b[0m                                                                                                              \u001b[32m│\u001b[0m\n",
       "\u001b[32m│\u001b[0m  \u001b[92m  \"answer\": \"Rome\",\u001b[0m                                                                                            \u001b[32m│\u001b[0m\n",
       "\u001b[32m│\u001b[0m  \u001b[92m  \"justification\": \"Rome is widely recognized as the capital of Italy.\",\u001b[0m                                       \u001b[32m│\u001b[0m\n",
       "\u001b[32m│\u001b[0m  \u001b[92m  \"confidence\": 0.99\u001b[0m                                                                                           \u001b[32m│\u001b[0m\n",
       "\u001b[32m│\u001b[0m  \u001b[92m}\u001b[0m                                                                                                              \u001b[32m│\u001b[0m\n",
       "\u001b[32m│\u001b[0m                                                                                                                 \u001b[32m│\u001b[0m\n",
       "\u001b[32m╰─────────────────────────────────────────────────────────────────────────────────────────────────────────────────╯\u001b[0m\n"
      ]
     },
     "metadata": {},
     "output_type": "display_data"
    },
    {
     "data": {
      "text/html": [
       "<pre style=\"white-space:pre;overflow-x:auto;line-height:normal;font-family:Menlo,'DejaVu Sans Mono',consolas,'Courier New',monospace\">\n",
       "</pre>\n"
      ],
      "text/plain": [
       "\n"
      ]
     },
     "metadata": {},
     "output_type": "display_data"
    },
    {
     "data": {
      "text/html": [
       "<pre style=\"white-space:pre;overflow-x:auto;line-height:normal;font-family:Menlo,'DejaVu Sans Mono',consolas,'Courier New',monospace\"></pre>\n"
      ],
      "text/plain": []
     },
     "metadata": {},
     "output_type": "display_data"
    },
    {
     "data": {
      "text/html": [
       "<pre style=\"white-space:pre;overflow-x:auto;line-height:normal;font-family:Menlo,'DejaVu Sans Mono',consolas,'Courier New',monospace\"><span style=\"color: #008000; text-decoration-color: #008000\">╭──────────────────────────────────────────────── Task Completion ────────────────────────────────────────────────╮</span>\n",
       "<span style=\"color: #008000; text-decoration-color: #008000\">│</span>                                                                                                                 <span style=\"color: #008000; text-decoration-color: #008000\">│</span>\n",
       "<span style=\"color: #008000; text-decoration-color: #008000\">│</span>  <span style=\"color: #008000; text-decoration-color: #008000; font-weight: bold\">Task Completed</span>                                                                                                 <span style=\"color: #008000; text-decoration-color: #008000\">│</span>\n",
       "<span style=\"color: #008000; text-decoration-color: #008000\">│</span>  <span style=\"color: #c0c0c0; text-decoration-color: #c0c0c0\">Name: </span><span style=\"color: #008000; text-decoration-color: #008000\">b00638c4-92e1-4fae-8007-9c1c20214e14</span>                                                                     <span style=\"color: #008000; text-decoration-color: #008000\">│</span>\n",
       "<span style=\"color: #008000; text-decoration-color: #008000\">│</span>  <span style=\"color: #c0c0c0; text-decoration-color: #c0c0c0\">Agent: </span><span style=\"color: #008000; text-decoration-color: #008000\">Task Executor</span>                                                                                           <span style=\"color: #008000; text-decoration-color: #008000\">│</span>\n",
       "<span style=\"color: #008000; text-decoration-color: #008000\">│</span>  <span style=\"color: #c0c0c0; text-decoration-color: #c0c0c0\">Tool Args: </span>                                                                                                    <span style=\"color: #008000; text-decoration-color: #008000\">│</span>\n",
       "<span style=\"color: #008000; text-decoration-color: #008000\">│</span>                                                                                                                 <span style=\"color: #008000; text-decoration-color: #008000\">│</span>\n",
       "<span style=\"color: #008000; text-decoration-color: #008000\">│</span>                                                                                                                 <span style=\"color: #008000; text-decoration-color: #008000\">│</span>\n",
       "<span style=\"color: #008000; text-decoration-color: #008000\">╰─────────────────────────────────────────────────────────────────────────────────────────────────────────────────╯</span>\n",
       "</pre>\n"
      ],
      "text/plain": [
       "\u001b[32m╭─\u001b[0m\u001b[32m───────────────────────────────────────────────\u001b[0m\u001b[32m Task Completion \u001b[0m\u001b[32m───────────────────────────────────────────────\u001b[0m\u001b[32m─╮\u001b[0m\n",
       "\u001b[32m│\u001b[0m                                                                                                                 \u001b[32m│\u001b[0m\n",
       "\u001b[32m│\u001b[0m  \u001b[1;32mTask Completed\u001b[0m                                                                                                 \u001b[32m│\u001b[0m\n",
       "\u001b[32m│\u001b[0m  \u001b[37mName: \u001b[0m\u001b[32mb00638c4-92e1-4fae-8007-9c1c20214e14\u001b[0m                                                                     \u001b[32m│\u001b[0m\n",
       "\u001b[32m│\u001b[0m  \u001b[37mAgent: \u001b[0m\u001b[32mTask Executor\u001b[0m                                                                                           \u001b[32m│\u001b[0m\n",
       "\u001b[32m│\u001b[0m  \u001b[37mTool Args: \u001b[0m                                                                                                    \u001b[32m│\u001b[0m\n",
       "\u001b[32m│\u001b[0m                                                                                                                 \u001b[32m│\u001b[0m\n",
       "\u001b[32m│\u001b[0m                                                                                                                 \u001b[32m│\u001b[0m\n",
       "\u001b[32m╰─────────────────────────────────────────────────────────────────────────────────────────────────────────────────╯\u001b[0m\n"
      ]
     },
     "metadata": {},
     "output_type": "display_data"
    },
    {
     "data": {
      "text/html": [
       "<pre style=\"white-space:pre;overflow-x:auto;line-height:normal;font-family:Menlo,'DejaVu Sans Mono',consolas,'Courier New',monospace\">\n",
       "</pre>\n"
      ],
      "text/plain": [
       "\n"
      ]
     },
     "metadata": {},
     "output_type": "display_data"
    },
    {
     "data": {
      "text/html": [
       "<pre style=\"white-space:pre;overflow-x:auto;line-height:normal;font-family:Menlo,'DejaVu Sans Mono',consolas,'Courier New',monospace\"><span style=\"color: #008000; text-decoration-color: #008000\">╭──────────────────────────────────────────────── Crew Completion ────────────────────────────────────────────────╮</span>\n",
       "<span style=\"color: #008000; text-decoration-color: #008000\">│</span>                                                                                                                 <span style=\"color: #008000; text-decoration-color: #008000\">│</span>\n",
       "<span style=\"color: #008000; text-decoration-color: #008000\">│</span>  <span style=\"color: #008000; text-decoration-color: #008000; font-weight: bold\">Crew Execution Completed</span>                                                                                       <span style=\"color: #008000; text-decoration-color: #008000\">│</span>\n",
       "<span style=\"color: #008000; text-decoration-color: #008000\">│</span>  <span style=\"color: #c0c0c0; text-decoration-color: #c0c0c0\">Name: </span><span style=\"color: #008000; text-decoration-color: #008000\">crew</span>                                                                                                     <span style=\"color: #008000; text-decoration-color: #008000\">│</span>\n",
       "<span style=\"color: #008000; text-decoration-color: #008000\">│</span>  <span style=\"color: #c0c0c0; text-decoration-color: #c0c0c0\">ID: </span><span style=\"color: #008000; text-decoration-color: #008000\">0f916d0c-36d0-40b3-aa44-660c455f4d76</span>                                                                       <span style=\"color: #008000; text-decoration-color: #008000\">│</span>\n",
       "<span style=\"color: #008000; text-decoration-color: #008000\">│</span>  <span style=\"color: #c0c0c0; text-decoration-color: #c0c0c0\">Tool Args: </span>                                                                                                    <span style=\"color: #008000; text-decoration-color: #008000\">│</span>\n",
       "<span style=\"color: #008000; text-decoration-color: #008000\">│</span>  <span style=\"color: #c0c0c0; text-decoration-color: #c0c0c0\">Final Output: {</span>                                                                                                <span style=\"color: #008000; text-decoration-color: #008000\">│</span>\n",
       "<span style=\"color: #008000; text-decoration-color: #008000\">│</span>  <span style=\"color: #c0c0c0; text-decoration-color: #c0c0c0\">  \"answer\": \"Rome\",</span>                                                                                            <span style=\"color: #008000; text-decoration-color: #008000\">│</span>\n",
       "<span style=\"color: #008000; text-decoration-color: #008000\">│</span>  <span style=\"color: #c0c0c0; text-decoration-color: #c0c0c0\">  \"justification\": \"Rome is widely recognized as the capital of Italy.\",</span>                                       <span style=\"color: #008000; text-decoration-color: #008000\">│</span>\n",
       "<span style=\"color: #008000; text-decoration-color: #008000\">│</span>  <span style=\"color: #c0c0c0; text-decoration-color: #c0c0c0\">  \"confidence\": 0.99</span>                                                                                           <span style=\"color: #008000; text-decoration-color: #008000\">│</span>\n",
       "<span style=\"color: #008000; text-decoration-color: #008000\">│</span>  <span style=\"color: #c0c0c0; text-decoration-color: #c0c0c0\">}</span>                                                                                                              <span style=\"color: #008000; text-decoration-color: #008000\">│</span>\n",
       "<span style=\"color: #008000; text-decoration-color: #008000\">│</span>                                                                                                                 <span style=\"color: #008000; text-decoration-color: #008000\">│</span>\n",
       "<span style=\"color: #008000; text-decoration-color: #008000\">│</span>                                                                                                                 <span style=\"color: #008000; text-decoration-color: #008000\">│</span>\n",
       "<span style=\"color: #008000; text-decoration-color: #008000\">╰─────────────────────────────────────────────────────────────────────────────────────────────────────────────────╯</span>\n",
       "</pre>\n"
      ],
      "text/plain": [
       "\u001b[32m╭─\u001b[0m\u001b[32m───────────────────────────────────────────────\u001b[0m\u001b[32m Crew Completion \u001b[0m\u001b[32m───────────────────────────────────────────────\u001b[0m\u001b[32m─╮\u001b[0m\n",
       "\u001b[32m│\u001b[0m                                                                                                                 \u001b[32m│\u001b[0m\n",
       "\u001b[32m│\u001b[0m  \u001b[1;32mCrew Execution Completed\u001b[0m                                                                                       \u001b[32m│\u001b[0m\n",
       "\u001b[32m│\u001b[0m  \u001b[37mName: \u001b[0m\u001b[32mcrew\u001b[0m                                                                                                     \u001b[32m│\u001b[0m\n",
       "\u001b[32m│\u001b[0m  \u001b[37mID: \u001b[0m\u001b[32m0f916d0c-36d0-40b3-aa44-660c455f4d76\u001b[0m                                                                       \u001b[32m│\u001b[0m\n",
       "\u001b[32m│\u001b[0m  \u001b[37mTool Args: \u001b[0m                                                                                                    \u001b[32m│\u001b[0m\n",
       "\u001b[32m│\u001b[0m  \u001b[37mFinal Output: {\u001b[0m                                                                                                \u001b[32m│\u001b[0m\n",
       "\u001b[32m│\u001b[0m  \u001b[37m  \"answer\": \"Rome\",\u001b[0m                                                                                            \u001b[32m│\u001b[0m\n",
       "\u001b[32m│\u001b[0m  \u001b[37m  \"justification\": \"Rome is widely recognized as the capital of Italy.\",\u001b[0m                                       \u001b[32m│\u001b[0m\n",
       "\u001b[32m│\u001b[0m  \u001b[37m  \"confidence\": 0.99\u001b[0m                                                                                           \u001b[32m│\u001b[0m\n",
       "\u001b[32m│\u001b[0m  \u001b[37m}\u001b[0m                                                                                                              \u001b[32m│\u001b[0m\n",
       "\u001b[32m│\u001b[0m                                                                                                                 \u001b[32m│\u001b[0m\n",
       "\u001b[32m│\u001b[0m                                                                                                                 \u001b[32m│\u001b[0m\n",
       "\u001b[32m╰─────────────────────────────────────────────────────────────────────────────────────────────────────────────────╯\u001b[0m\n"
      ]
     },
     "metadata": {},
     "output_type": "display_data"
    },
    {
     "data": {
      "text/html": [
       "<pre style=\"white-space:pre;overflow-x:auto;line-height:normal;font-family:Menlo,'DejaVu Sans Mono',consolas,'Courier New',monospace\">\n",
       "</pre>\n"
      ],
      "text/plain": [
       "\n"
      ]
     },
     "metadata": {},
     "output_type": "display_data"
    },
    {
     "ename": "IndexError",
     "evalue": "list index out of range",
     "output_type": "error",
     "traceback": [
      "\u001b[31m---------------------------------------------------------------------------\u001b[39m",
      "\u001b[31mIndexError\u001b[39m                                Traceback (most recent call last)",
      "\u001b[36mCell\u001b[39m\u001b[36m \u001b[39m\u001b[32mIn[3]\u001b[39m\u001b[32m, line 30\u001b[39m\n\u001b[32m     24\u001b[39m target = AG(\n\u001b[32m     25\u001b[39m     atype=Answer,  \u001b[38;5;66;03m## You can choose between \"openai\", \"watsonx\", \"gemini\", \"vllm_crewai\"\u001b[39;00m\n\u001b[32m     26\u001b[39m     verbose_agent=\u001b[38;5;28;01mTrue\u001b[39;00m,\n\u001b[32m     27\u001b[39m )  \u001b[38;5;66;03m## set verbose to true to see the internal agents log\u001b[39;00m\n\u001b[32m     29\u001b[39m \u001b[38;5;66;03m# Execute logical transduction by using the << operator between source and target AG\u001b[39;00m\n\u001b[32m---> \u001b[39m\u001b[32m30\u001b[39m answer = \u001b[38;5;28;01mawait\u001b[39;00m (\n\u001b[32m     31\u001b[39m     target << source\n\u001b[32m     32\u001b[39m )  \u001b[38;5;66;03m## Note that << operator is asyncronus and the results should be awaited\u001b[39;00m\n\u001b[32m     34\u001b[39m \u001b[38;5;66;03m# Print the results of the transduction\u001b[39;00m\n\u001b[32m     35\u001b[39m \u001b[38;5;28mprint\u001b[39m(\n\u001b[32m     36\u001b[39m     answer.pretty_print()\n\u001b[32m     37\u001b[39m )  \u001b[38;5;66;03m## Note that confidence is a float number, while other fields are strings\u001b[39;00m\n",
      "\u001b[36mFile \u001b[39m\u001b[32m~/Code/agentics911/agentics/src/agentics/core/agentics.py:603\u001b[39m, in \u001b[36mAG.__lshift__\u001b[39m\u001b[34m(self, other)\u001b[39m\n\u001b[32m    599\u001b[39m         \u001b[38;5;28;01melse\u001b[39;00m:\n\u001b[32m    600\u001b[39m             output_state_dict = output_state.model_dump()\n\u001b[32m    602\u001b[39m         merged = \u001b[38;5;28mself\u001b[39m.atype(\n\u001b[32m--> \u001b[39m\u001b[32m603\u001b[39m             **(\u001b[38;5;28;43mself\u001b[39;49m\u001b[43m[\u001b[49m\u001b[43mi\u001b[49m\u001b[43m]\u001b[49m.model_dump() | other[i].model_dump() | output_state_dict)\n\u001b[32m    604\u001b[39m         )\n\u001b[32m    605\u001b[39m         output.states.append(merged)\n\u001b[32m    606\u001b[39m \u001b[38;5;28;01melif\u001b[39;00m is_list_of_str(other):\n",
      "\u001b[36mFile \u001b[39m\u001b[32m~/Code/agentics911/agentics/src/agentics/core/agentics.py:179\u001b[39m, in \u001b[36mAG.__getitem__\u001b[39m\u001b[34m(self, index)\u001b[39m\n\u001b[32m    177\u001b[39m \u001b[38;5;28;01mdef\u001b[39;00m\u001b[38;5;250m \u001b[39m\u001b[34m__getitem__\u001b[39m(\u001b[38;5;28mself\u001b[39m, index: \u001b[38;5;28mint\u001b[39m):\n\u001b[32m    178\u001b[39m \u001b[38;5;250m    \u001b[39m\u001b[33;03m\"\"\"Returns the state for the provided index\"\"\"\u001b[39;00m\n\u001b[32m--> \u001b[39m\u001b[32m179\u001b[39m     \u001b[38;5;28;01mreturn\u001b[39;00m \u001b[38;5;28;43mself\u001b[39;49m\u001b[43m.\u001b[49m\u001b[43mstates\u001b[49m\u001b[43m[\u001b[49m\u001b[43mindex\u001b[49m\u001b[43m]\u001b[49m\n",
      "\u001b[31mIndexError\u001b[39m: list index out of range"
     ]
    }
   ],
   "source": [
    "from agentics import AG\n",
    "from pydantic import BaseModel\n",
    "from typing import Optional\n",
    "\n",
    "\n",
    "\n",
    "## Define target and source types\n",
    "class Answer(BaseModel):\n",
    "    answer: Optional[str] = None\n",
    "    justification: Optional[str] = None\n",
    "    confidence: Optional[float] = None\n",
    "\n",
    "\n",
    "class Question(BaseModel):\n",
    "    question: Optional[str] = None\n",
    "\n",
    "\n",
    "## Instantiate the source AG with a question\n",
    "source = AG(atype=Question,\n",
    "            llm=AG.get_llm_provider(), ## You can choose between \"openai\" (i.e. get_llm_provider(\"openai\")), \"watsonx\", \"gemini\", \"vllm_crewai\"\n",
    "                                    ## set verbose to true to see the internal agents log. This is optional.\n",
    "            states=[Question(question=\"What is the capital of Italy?\")])\n",
    "\n",
    "## Instantiate the target AG with a target type. No instances are needed for zero shot transduction\n",
    "target = AG(\n",
    "    atype=Answer,  ## You can choose between \"openai\", \"watsonx\", \"gemini\", \"vllm_crewai\"\n",
    "    verbose_agent=True,\n",
    ")  ## set verbose to true to see the internal agents log\n",
    "\n",
    "# Execute logical transduction by using the << operator between source and target AG\n",
    "answer = await (\n",
    "    target << source\n",
    ")  ## Note that << operator is asyncronus and the results should be awaited\n",
    "\n",
    "# Print the results of the transduction\n",
    "print(\n",
    "    answer.pretty_print()\n",
    ")  ## Note that confidence is a float number, while other fields are strings"
   ]
  },
  {
   "cell_type": "markdown",
   "id": "3",
   "metadata": {
    "id": "b8681fea"
   },
   "source": [
    "In agentics, lists of strings can be used as sources instead of AG. Those are provided as input for the transduction."
   ]
  },
  {
   "cell_type": "code",
   "execution_count": 4,
   "id": "4",
   "metadata": {
    "colab": {
     "base_uri": "https://localhost:8080/"
    },
    "executionInfo": {
     "elapsed": 1595,
     "status": "ok",
     "timestamp": 1757074907494,
     "user": {
      "displayName": "",
      "userId": ""
     },
     "user_tz": -180
    },
    "id": "66f8d2e0",
    "outputId": "a04db6b5-016b-4c11-d374-f5f9e62dc731"
   },
   "outputs": [
    {
     "name": "stderr",
     "output_type": "stream",
     "text": [
      "2025-09-23 15:36:27.313 | DEBUG    | agentics.core.llm_connections:get_llm_provider:30 - Available LLM providers: ['watsonx', 'gemini', 'openai']. None specified, defaulting to 'watsonx'\n"
     ]
    },
    {
     "name": "stdout",
     "output_type": "stream",
     "text": [
      "Atype : <class '__main__.Answer'>\n",
      "answer: Paris is located in France, in the northern-central part of the country.\n",
      "justification: \"Paris is widely recognized as the capital of France. Geographically,\\\n",
      "  \\ it is situated in the \\xCEle-de-France region, which is in the northern-central\\\n",
      "  \\ part of France.\"\n",
      "confidence: 0.99\n",
      "\n",
      "\n"
     ]
    }
   ],
   "source": [
    "answer = await (AG(atype=Answer) << [\"Where is Paris?\"])\n",
    "print(answer.pretty_print())"
   ]
  },
  {
   "cell_type": "markdown",
   "id": "5",
   "metadata": {
    "id": "2ade51f3"
   },
   "source": [
    "## Asyncronous Transduction\n",
    "\n",
    "When the source AG has more than one state, the << operator perform asyncronous transfuction for each state to the target type. Transductions are executed in batches."
   ]
  },
  {
   "cell_type": "code",
   "execution_count": 5,
   "id": "6",
   "metadata": {
    "colab": {
     "base_uri": "https://localhost:8080/"
    },
    "executionInfo": {
     "elapsed": 8082,
     "status": "ok",
     "timestamp": 1757074915577,
     "user": {
      "displayName": "",
      "userId": ""
     },
     "user_tz": -180
    },
    "id": "b4ec8966",
    "outputId": "da8b8411-2788-4a5e-d616-f83e41cee8d2"
   },
   "outputs": [
    {
     "name": "stderr",
     "output_type": "stream",
     "text": [
      "2025-09-23 15:36:34.403 | DEBUG    | agentics.core.llm_connections:get_llm_provider:30 - Available LLM providers: ['watsonx', 'gemini', 'openai']. None specified, defaulting to 'watsonx'\n"
     ]
    },
    {
     "data": {
      "application/vnd.jupyter.widget-view+json": {
       "model_id": "18e9b2f7c549478795e2916ad2fe94cd",
       "version_major": 2,
       "version_minor": 0
      },
      "text/plain": [
       "Output()"
      ]
     },
     "metadata": {},
     "output_type": "display_data"
    },
    {
     "data": {
      "text/html": [
       "<pre style=\"white-space:pre;overflow-x:auto;line-height:normal;font-family:Menlo,'DejaVu Sans Mono',consolas,'Courier New',monospace\"></pre>\n"
      ],
      "text/plain": []
     },
     "metadata": {},
     "output_type": "display_data"
    },
    {
     "data": {
      "application/vnd.jupyter.widget-view+json": {
       "model_id": "4be09edb49b64536a4112b5209fc1554",
       "version_major": 2,
       "version_minor": 0
      },
      "text/plain": [
       "Output()"
      ]
     },
     "metadata": {},
     "output_type": "display_data"
    },
    {
     "name": "stdout",
     "output_type": "stream",
     "text": [
      "Atype : <class '__main__.Answer'>\n",
      "answer: Paris is located in France, in the northern-central part of the country.\n",
      "justification: \"Paris is widely recognized as the capital of France. Geographically,\\\n",
      "  \\ it is situated in the \\xCEle-de-France region, which is in the northern-central\\\n",
      "  \\ part of France.\"\n",
      "confidence: 0.99\n",
      "\n",
      "\n"
     ]
    },
    {
     "data": {
      "text/html": [
       "<pre style=\"white-space:pre;overflow-x:auto;line-height:normal;font-family:Menlo,'DejaVu Sans Mono',consolas,'Courier New',monospace\"></pre>\n"
      ],
      "text/plain": []
     },
     "metadata": {},
     "output_type": "display_data"
    }
   ],
   "source": [
    "target = AG(\n",
    "    atype=Answer,\n",
    "    verbose_transduction=True,  # Set to verbose to see transduction timings and other logs\n",
    "    transduction_logs_path=\"/tmp/answers.jsonl\",\n",
    ")  # Optionally write longs of transductions on the specified path\n",
    "questions = [\n",
    "    \"Where is Paris?\",\n",
    "    \"Who is Alberto Sordi\",\n",
    "    \"When will climate change be irreverible?\",\n",
    "    \"Who is the best Jeopardy player?\",\n",
    "]\n",
    "\n",
    "answers = await (target << questions)\n",
    "\n",
    "print(answer.pretty_print())\n",
    "\n",
    "answers = await (target << questions)"
   ]
  },
  {
   "cell_type": "markdown",
   "id": "7",
   "metadata": {
    "id": "298be399"
   },
   "source": [
    "## Self Transduction\n",
    "\n",
    "Self transduction is a method of AGs that enables async execution of transductions between slots of the same object."
   ]
  },
  {
   "cell_type": "code",
   "execution_count": null,
   "id": "8",
   "metadata": {
    "colab": {
     "base_uri": "https://localhost:8080/"
    },
    "executionInfo": {
     "elapsed": 38722,
     "status": "ok",
     "timestamp": 1757075164819,
     "user": {
      "displayName": "",
      "userId": ""
     },
     "user_tz": -180
    },
    "id": "974143b6",
    "outputId": "0f63dbf4-462d-4be7-8ed5-e6ca62af16aa"
   },
   "outputs": [
    {
     "name": "stderr",
     "output_type": "stream",
     "text": [
      "2025-09-23 15:36:52.308 | DEBUG    | agentics.core.agentics:from_csv:260 - Importing Agentics of type Movie from CSV data/movies.csv\n",
      "2025-09-23 15:36:52.310 | DEBUG    | agentics.core.llm_connections:get_llm_provider:30 - Available LLM providers: ['watsonx', 'gemini', 'openai']. None specified, defaulting to 'watsonx'\n"
     ]
    },
    {
     "ename": "NameError",
     "evalue": "name 'get_llm_provider' is not defined",
     "output_type": "error",
     "traceback": [
      "\u001b[31m---------------------------------------------------------------------------\u001b[39m",
      "\u001b[31mNameError\u001b[39m                                 Traceback (most recent call last)",
      "\u001b[36mCell\u001b[39m\u001b[36m \u001b[39m\u001b[32mIn[6]\u001b[39m\u001b[32m, line 23\u001b[39m\n\u001b[32m     19\u001b[39m movies = AG.from_csv(\n\u001b[32m     20\u001b[39m     base / \u001b[33m\"\u001b[39m\u001b[33mdata/movies.csv\u001b[39m\u001b[33m\"\u001b[39m, atype=Movie, max_rows=\u001b[32m20\u001b[39m\n\u001b[32m     21\u001b[39m )  \u001b[38;5;66;03m## Load the input data from a csv file\u001b[39;00m\n\u001b[32m     22\u001b[39m movies.verbose_transduction = \u001b[38;5;28;01mTrue\u001b[39;00m\n\u001b[32m---> \u001b[39m\u001b[32m23\u001b[39m movies.llm = \u001b[43mget_llm_provider\u001b[49m(\n\u001b[32m     24\u001b[39m     \u001b[33m\"\u001b[39m\u001b[33mwatsonx\u001b[39m\u001b[33m\"\u001b[39m\n\u001b[32m     25\u001b[39m )  \u001b[38;5;66;03m## You can choose between \"openai\", \"watsonx\", \"gemini\", \"vllm_crewai\"\u001b[39;00m\n\u001b[32m     27\u001b[39m movies_with_tweets = \u001b[38;5;28;01mawait\u001b[39;00m movies.self_transduction(\n\u001b[32m     28\u001b[39m     [\u001b[33m\"\u001b[39m\u001b[33mmovie_name\u001b[39m\u001b[33m\"\u001b[39m, \u001b[33m\"\u001b[39m\u001b[33mgenre\u001b[39m\u001b[33m\"\u001b[39m, \u001b[33m\"\u001b[39m\u001b[33mdescription\u001b[39m\u001b[33m\"\u001b[39m],  \u001b[38;5;66;03m## source fields\u001b[39;00m\n\u001b[32m     29\u001b[39m     [\u001b[33m\"\u001b[39m\u001b[33mtweet\u001b[39m\u001b[33m\"\u001b[39m],  \u001b[38;5;66;03m## target fields\u001b[39;00m\n\u001b[32m   (...)\u001b[39m\u001b[32m     32\u001b[39m     instructions=\u001b[33m\"\u001b[39m\u001b[33mGenerate a tweet to advertise the release of the input movie\u001b[39m\u001b[33m\"\u001b[39m,\n\u001b[32m     33\u001b[39m )\n\u001b[32m     35\u001b[39m \u001b[38;5;28mprint\u001b[39m(movies_with_tweets.pretty_print())\n",
      "\u001b[31mNameError\u001b[39m: name 'get_llm_provider' is not defined"
     ]
    }
   ],
   "source": [
    "from pydantic import BaseModel, Field\n",
    "from typing import Optional\n",
    "from pathlib import Path\n",
    "\n",
    "\n",
    "## Define the Pydantic type\n",
    "class Movie(BaseModel):\n",
    "    movie_name: Optional[str] = (\n",
    "        None  ## Note that fields name should match the column name in the input csv\n",
    "    )\n",
    "    genre: Optional[str] = None\n",
    "    description: Optional[str] = None\n",
    "    tweet: Optional[str] = Field(\n",
    "        None, description=\"Generate a Tweet to advertise the movie\"\n",
    "    )\n",
    "\n",
    "\n",
    "base = Path(CURRENT_PATH)\n",
    "movies = AG.from_csv(\n",
    "    base / \"data/movies.csv\", atype=Movie, max_rows=20\n",
    ")  ## Load the input data from a csv file\n",
    "movies.verbose_transduction = True\n",
    "movies.llm = AG.get_llm_provider(\n",
    "    \"watsonx\"\n",
    ")  ## You can choose between \"openai\", \"watsonx\", \"gemini\", \"vllm_crewai\"\n",
    "\n",
    "movies_with_tweets = await movies.self_transduction(\n",
    "    [\"movie_name\", \"genre\", \"description\"],  ## source fields\n",
    "    [\"tweet\"],  ## target fields\n",
    "    ## Note that instruction are only needed when the  relation between source and target type\n",
    "    # is not innediately clear and need to be further specified or disambiguated.\n",
    "    instructions=\"Generate a tweet to advertise the release of the input movie\",\n",
    ")\n",
    "\n",
    "print(movies_with_tweets.pretty_print())"
   ]
  },
  {
   "cell_type": "markdown",
   "id": "9",
   "metadata": {
    "id": "fc007db0"
   },
   "source": [
    "As an alternative, self transduction can be encoded using logical transduction algebra which uses the AG() notation to rebind the original data into AGs of the requested subtypes. Learn more about atype manipulation in agentics [here](link)"
   ]
  },
  {
   "cell_type": "code",
   "execution_count": null,
   "id": "8dbb1b7f",
   "metadata": {
    "colab": {
     "base_uri": "https://localhost:8080/"
    },
    "executionInfo": {
     "elapsed": 38963,
     "status": "ok",
     "timestamp": 1757075203780,
     "user": {
      "displayName": "",
      "userId": ""
     },
     "user_tz": -180
    },
    "id": "8dbb1b7f",
    "outputId": "d9c0de9a-56ba-498e-f0e9-051b5c78cec9"
   },
   "outputs": [
    {
     "name": "stderr",
     "output_type": "stream",
     "text": [
      "2025-09-11 11:26:45.851 | DEBUG    | agentics.core.agentics:from_csv:312 - Importing Agentics of type Movie from CSV data/movies.csv\n",
      "2025-09-11 11:26:45.854 | DEBUG    | agentics.core.agentics:__lshift__:518 - Executing task: Generate a tweet to advertise the release of the input movie\n",
      "20 states will be transduced\n",
      "2025-09-11 11:26:45.855 | DEBUG    | agentics.core.agentics:__lshift__:612 - transducer class: <class 'agentics.abstractions.pydantic_transducer.PydanticTransducerCrewAI'>\n",
      "2025-09-11 11:26:50.763 | DEBUG    | agentics.core.agentics:__lshift__:648 - Processed 20 states in 4.907993793487549 seconds\n",
      "2025-09-11 11:26:50.764 | DEBUG    | agentics.core.agentics:__lshift__:700 - 20 states processed in 0.24539968967437745 seconds average per state ...\n"
     ]
    },
    {
     "name": "stdout",
     "output_type": "stream",
     "text": [
      "Atype : <class 'agentics.core.agentics.tweet'>\n",
      "tweet: 'Get ready to experience hope and redemption! ''The Shawshank Redemption'',\n",
      "  a gripping Drama and Crime movie, is now out! Imprisoned for a crime he didn''t\n",
      "  commit, Andy Dufresne''s story of integrity and hope will leave you inspired. Don''t\n",
      "  miss it! #TheShawshankRedemption #NewRelease'\n",
      "\n",
      "tweet: 'Get ready for a cinematic masterpiece! ''The Godfather'', a gripping Drama\n",
      "  and Crime film, is now out! Spanning 1945 to 1955, it chronicles the Italian-American\n",
      "  Corleone crime family''s bloody revenge saga. Don''t miss it! #TheGodfather #Drama\n",
      "  #Crime'\n",
      "\n",
      "tweet: 'Get ready for a cinematic masterpiece! ''The Godfather Part II'' is now out!\n",
      "  This Drama, Crime film follows the Corleone crime family''s saga as they expand\n",
      "  their business into Las Vegas, Hollywood, and Cuba. Don''t miss out on the thrilling\n",
      "  story of the Corleone family''s rise to power! #TheGodfatherPartII #Drama #Crime'\n",
      "\n",
      "tweet: 'Get ready to witness a powerful true story! ''Schindler''s List'' is now out!\n",
      "  This Drama, History, War film tells the story of Oskar Schindler, who saved over\n",
      "  1000 Jewish lives from the Nazis during WWII. Don''t miss this epic release! #SchindlersList\n",
      "  #NewRelease #MustWatch'\n",
      "\n",
      "tweet: 'Get ready for a gripping drama! ''12 Angry Men'' is now out! This intense\n",
      "  film tells the story of a jury''s deliberation over a young Spanish-American''s\n",
      "  fate, exposing the prejudices and preconceptions that threaten to upend justice.\n",
      "  #12AngryMen #Drama #NewRelease'\n",
      "\n",
      "tweet: 'Get ready to be transported to a world of wonder! ''Spirited Away'', an unforgettable\n",
      "  Animation, Family, Fantasy film, is now out! Join Chihiro on her thrilling journey\n",
      "  as she discovers courage she never knew she had to free her family from a strange\n",
      "  new world of spirits. #SpiritedAway #NewRelease'\n",
      "\n",
      "tweet: 'Get ready for the epic battle between good and evil! ''The Dark Knight'' is\n",
      "  now out! Batman, Lt. Jim Gordon, and District Attorney Harvey Dent join forces to\n",
      "  take down the remaining criminal organizations in Gotham, but the Joker has other\n",
      "  plans. #TheDarkKnight #Batman #Joker'\n",
      "\n",
      "tweet: 'Get ready to fall in love! ''Dilwale Dulhania Le Jayenge'' is now out! This\n",
      "  Comedy, Drama, Romance film tells the story of Raj and Simran, two young hearts\n",
      "  trying to make their love work despite the odds. Watch as Raj tries to win Simran''s\n",
      "  heart under the noses of her whole family. #DilwaleDulhaniaLeJayenge #NewRelease\n",
      "  #Bollywood'\n",
      "\n",
      "tweet: 'Get ready to experience the supernatural tale of ''The Green Mile''! This\n",
      "  Fantasy, Drama, Crime movie tells the story of John Coffey, a gentle giant with\n",
      "  the power to heal, and his desperate fight against execution. Don''t miss out on\n",
      "  this emotional rollercoaster! #TheGreenMile #NewRelease'\n",
      "\n",
      "tweet: 'Get ready to experience the darkly comedic thriller ''Parasite''! The story\n",
      "  follows Ki-taek''s family as they become entangled in an unexpected incident with\n",
      "  the wealthy Parks family. Don''t miss out on this critically acclaimed film! #Parasite\n",
      "  #NewRelease'\n",
      "\n",
      "tweet: 'Get ready for a wild ride! ''Pulp Fiction'' is now out! A burger-loving hit\n",
      "  man, his philosophical partner, a drug-addled gangster''s moll and a washed-up boxer\n",
      "  converge in this sprawling, comedic crime caper. #PulpFiction #NewRelease'\n",
      "\n",
      "tweet: 'Get ready to experience the magical and romantic tale of ''Your Name.''! Two\n",
      "  high schoolers, Mitsuha and Taki, switch lives and must navigate their new reality.\n",
      "  Don''t miss out on this unique and captivating story! #YourName #MovieRelease #Romance'\n",
      "\n",
      "tweet: 'Get ready for the epic conclusion! ''The Lord of the Rings: The Return of\n",
      "  the King'' is out now! Join Frodo, Sam, and Gollum on their perilous journey to\n",
      "  destroy the Ring of Power and save Middle Earth from the darkness. #TheLordOfTheRings\n",
      "  #TheReturnOfTheKing #NewMovieRelease'\n",
      "\n",
      "tweet: 'Get ready to be inspired! ''Forrest Gump'' is now out! This epic film tells\n",
      "  the story of a man with a low IQ who achieves great things and finds himself in\n",
      "  the middle of significant historic events, all while searching for his one true\n",
      "  love. #ForrestGump #NewRelease'\n",
      "\n",
      "tweet: 'Get ready for the epic western adventure! ''The Good, the Bad and the Ugly''\n",
      "  is now out! Join a quiet loner, a ruthless hitman, and a Mexican bandit as they\n",
      "  search for a strongbox containing $200,000 in stolen gold in the American Southwest\n",
      "  during the Civil War. #TheGoodTheBadAndTheUgly #WesternMovie #NewRelease'\n",
      "\n",
      "tweet: 'Get ready for an epic tale of honor and bravery! ''Seven Samurai'' is now\n",
      "  out! A samurai answers a village''s request for protection after he falls on hard\n",
      "  times. The town needs protection from bandits, so the samurai gathers six others\n",
      "  to help him teach the people how to defend themselves. #SevenSamurai #NewRelease'\n",
      "\n",
      "tweet: 'Get ready for a gripping true story! ''GoodFellas'' is now out! The film tells\n",
      "  the story of Henry Hill, a young boy adopted by neighbourhood gangsters, as he rises\n",
      "  through the ranks of a Mafia family. Don''t miss it! #GoodFellas #NewRelease #MovieNight'\n",
      "\n",
      "tweet: Get ready to explore the cosmos! 'Interstellar' is now out! Join a group of\n",
      "  brave explorers as they travel through a newly discovered wormhole to conquer the\n",
      "  vast distances of an interstellar voyage. Don't miss this epic adventure!\n",
      "\n",
      "tweet: ' Witness the heart-wrenching tale of survival and loss in ''Grave of the Fireflies'',\n",
      "  a powerful film set in the final months of World War II. Follow the journey of 14-year-old\n",
      "  Seita and his sister Setsuko as they struggle to survive in war-torn Japan. #GraveOfTheFireflies\n",
      "  #WarDrama'\n",
      "\n",
      "tweet: 'Get ready to experience a powerful and emotional journey! ''Life Is Beautiful''\n",
      "  is now out! This heart-wrenching film tells the story of an Italian book seller\n",
      "  and his family as they face the harsh realities of World War II. Don''t miss it!\n",
      "  #LifeIsBeautiful #NewRelease'\n",
      "\n",
      "\n"
     ]
    }
   ],
   "source": [
    "movies = AG.from_csv( base / \"data/movies.csv\", atype=Movie, max_rows=20)\n",
    "tweets = await (AG(atype=movies(\"tweet\").atype,\n",
    "                   instructions=\"Generate a tweet to advertise the release of the input movie\")\n",
    "                << movies(\"movie_name\",\"genre\",\"description\" ))\n",
    "print(tweets.pretty_print())    ## Note that differently from self transduction the output tweets\n",
    "                                ##has only the tweet field, whereas self transduction preserves\n",
    "                                ## the original source data"
   ]
  },
  {
   "cell_type": "markdown",
   "id": "11",
   "metadata": {
    "id": "c3044a80"
   },
   "source": [
    "## Few Shots Transduction\n",
    "\n",
    "Few shots examples can be provided for transduction by adding instances of the target instances in correspondance to their sources . Those will be used by the LLM to infer by analogy all the Null instances of the target type.\n"
   ]
  },
  {
   "cell_type": "code",
   "execution_count": 15,
   "id": "0e2f7a51",
   "metadata": {},
   "outputs": [
    {
     "name": "stderr",
     "output_type": "stream",
     "text": [
      "2025-09-23 16:16:24.395 | DEBUG    | agentics.core.agentics:from_csv:260 - Importing Agentics of type Movie from CSV data/movies.csv\n",
      "2025-09-23 16:16:24.397 | DEBUG    | agentics.core.llm_connections:get_llm_provider:30 - Available LLM providers: ['watsonx', 'gemini', 'openai']. None specified, defaulting to 'watsonx'\n"
     ]
    },
    {
     "name": "stdout",
     "output_type": "stream",
     "text": [
      "<class '__main__.Movie'>\n"
     ]
    }
   ],
   "source": [
    "movies = AG.from_csv(base / \"data/movies.csv\", max_rows=20, atype=Movie)\n",
    "\n",
    "print(movies.atype)"
   ]
  },
  {
   "cell_type": "code",
   "execution_count": null,
   "id": "12",
   "metadata": {
    "colab": {
     "base_uri": "https://localhost:8080/"
    },
    "executionInfo": {
     "elapsed": 7671,
     "status": "ok",
     "timestamp": 1757075243259,
     "user": {
      "displayName": "",
      "userId": ""
     },
     "user_tz": -180
    },
    "id": "a4803bba",
    "outputId": "ca59e4dc-a35e-4aec-c823-37ab94ef94b4"
   },
   "outputs": [
    {
     "name": "stderr",
     "output_type": "stream",
     "text": [
      "2025-09-23 15:37:58.883 | DEBUG    | agentics.core.llm_connections:get_llm_provider:30 - Available LLM providers: ['watsonx', 'gemini', 'openai']. None specified, defaulting to 'watsonx'\n"
     ]
    },
    {
     "data": {
      "application/vnd.jupyter.widget-view+json": {
       "model_id": "eafd43fa31a1437a9cdf9298dd19a00a",
       "version_major": 2,
       "version_minor": 0
      },
      "text/plain": [
       "Output()"
      ]
     },
     "metadata": {},
     "output_type": "display_data"
    },
    {
     "name": "stdout",
     "output_type": "stream",
     "text": [
      "0: Drama, Crime\n",
      "1: Drama, Crime\n",
      "2: Drama, Crime\n",
      "3: Drama, History, War\n",
      "4: Drama\n",
      "5: Animation, Family, Fantasy\n",
      "6: Drama, Action, Crime, Thriller\n",
      "7: Comedy, Drama, Romance\n",
      "8: Fantasy, Drama, Crime\n",
      "9: \n",
      "10: \n",
      "11: \n",
      "12: \n",
      "13: \n",
      "14: \n",
      "15: \n",
      "16: \n",
      "17: \n",
      "18: \n",
      "19: \n"
     ]
    },
    {
     "data": {
      "text/html": [
       "<pre style=\"white-space:pre;overflow-x:auto;line-height:normal;font-family:Menlo,'DejaVu Sans Mono',consolas,'Courier New',monospace\"></pre>\n"
      ],
      "text/plain": []
     },
     "metadata": {},
     "output_type": "display_data"
    },
    {
     "data": {
      "application/vnd.jupyter.widget-view+json": {
       "model_id": "62746991f2684b22ad9d983c6f922136",
       "version_major": 2,
       "version_minor": 0
      },
      "text/plain": [
       "Output()"
      ]
     },
     "metadata": {},
     "output_type": "display_data"
    },
    {
     "name": "stdout",
     "output_type": "stream",
     "text": [
      "Atype : <class 'agentics.core.agentics.genre'>\n",
      "genre: Drama, Crime\n",
      "\n",
      "genre: Drama, Comedy, War\n",
      "\n",
      "genre: Drama, Western\n",
      "\n",
      "genre: Drama, Western, War\n",
      "\n",
      "genre: Western, Drama, Crime\n",
      "\n",
      "genre: Drama, Crime\n",
      "\n",
      "genre: Drama, Action, Crime, Thriller\n",
      "\n",
      "genre: Western, Drama, War\n",
      "\n",
      "genre: Fantasy, Drama, Crime\n",
      "\n",
      "genre: Drama, Crime\n",
      "\n",
      "genre: Science Fiction, Adventure, Drama\n",
      "\n",
      "genre: Drama, Crime\n",
      "\n",
      "genre: Drama, Crime\n",
      "\n",
      "genre: Drama, Fantasy\n",
      "\n",
      "genre: Drama, Adventure\n",
      "\n",
      "genre: Drama, War\n",
      "\n",
      "genre: Comedy, Drama, War\n",
      "\n",
      "genre: Drama, Crime\n",
      "\n",
      "genre: Comedy, Drama, Thriller\n",
      "\n",
      "genre: Drama, Crime\n",
      "\n",
      "\n"
     ]
    },
    {
     "data": {
      "text/html": [
       "<pre style=\"white-space:pre;overflow-x:auto;line-height:normal;font-family:Menlo,'DejaVu Sans Mono',consolas,'Courier New',monospace\"></pre>\n"
      ],
      "text/plain": []
     },
     "metadata": {},
     "output_type": "display_data"
    },
    {
     "name": "stdout",
     "output_type": "stream",
     "text": [
      "Atype : <class 'agentics.core.utils.AType#movie_name:genre:descriptionOptional'>\n",
      "movie_name: The Shawshank Redemption\n",
      "genre: Comedy, Drama, Romance\n",
      "description: Imprisoned in the 1940s for the double murder of his wife and her lover,\n",
      "  upstanding banker Andy Dufresne begins a new life at the Shawshank prison, where\n",
      "  he puts his accounting skills to work for an amoral warden. During his long stretch\n",
      "  in prison, Dufresne comes to be admired by the other inmates -- including an older\n",
      "  prisoner named Red -- for his integrity and unquenchable sense of hope.\n",
      "\n",
      "movie_name: The Godfather\n",
      "genre: Crime, Drama\n",
      "description: Spanning the years 1945 to 1955, a chronicle of the fictional Italian-American\n",
      "  Corleone crime family. When organized crime family patriarch, Vito Corleone barely\n",
      "  survives an attempt on his life, his youngest son, Michael steps in to take care\n",
      "  of the would-be killers, launching a campaign of bloody revenge.\n",
      "\n",
      "movie_name: The Godfather Part II\n",
      "genre: Animation, Drama, War\n",
      "description: In the continuing saga of the Corleone crime family, a young Vito Corleone\n",
      "  grows up in Sicily and in 1910s New York. In the 1950s, Michael Corleone attempts\n",
      "  to expand the family business into Las Vegas, Hollywood and Cuba.\n",
      "\n",
      "movie_name: Schindler's List\n",
      "genre: Crime, Comedy, Drama\n",
      "description: The true story of how businessman Oskar Schindler saved over a thousand\n",
      "  Jewish lives from the Nazis while they worked as slaves in his factory during World\n",
      "  War II.\n",
      "\n",
      "movie_name: 12 Angry Men\n",
      "genre: Animation, Family, Fantasy\n",
      "description: The defense and the prosecution have rested and the jury is filing into\n",
      "  the jury room to decide if a young Spanish-American is guilty or innocent of murdering\n",
      "  his father. What begins as an open and shut case soon becomes a mini-drama of each\n",
      "  of the jurors' prejudices and preconceptions about the trial, the accused, and each\n",
      "  other.\n",
      "\n",
      "movie_name: Spirited Away\n",
      "genre: Fantasy, Drama, Action\n",
      "description: A young girl, Chihiro, becomes trapped in a strange new world of spirits.\n",
      "  When her parents undergo a mysterious transformation, she must call upon the courage\n",
      "  she never knew she had to free her family.\n",
      "\n",
      "movie_name: The Dark Knight\n",
      "genre: Drama, Action, Crime, Thriller\n",
      "description: Batman raises the stakes in his war on crime. With the help of Lt. Jim\n",
      "  Gordon and District Attorney Harvey Dent, Batman sets out to dismantle the remaining\n",
      "  criminal organizations that plague the streets. The partnership proves to be effective,\n",
      "  but they soon find themselves prey to a reign of chaos unleashed by a rising criminal\n",
      "  mastermind known to the terrified citizens of Gotham as the Joker.\n",
      "\n",
      "movie_name: Dilwale Dulhania Le Jayenge\n",
      "genre: Fantasy, Drama, Crime\n",
      "description: \"Raj is a rich, carefree, happy-go-lucky second generation NRI. Simran\\\n",
      "  \\ is the daughter of Chaudhary Baldev Singh, who in spite of being an NRI is very\\\n",
      "  \\ strict about adherence to Indian values. Simran has left for India to be married\\\n",
      "  \\ to her childhood fianc\\xE9. Raj leaves for India with a mission at his hands,\\\n",
      "  \\ to claim his lady love under the noses of her whole family. Thus begins a saga.\"\n",
      "\n",
      "movie_name: The Green Mile\n",
      "genre: Fantasy, Drama, Crime\n",
      "description: A supernatural tale set on death row in a Southern prison, where gentle\n",
      "  giant John Coffey possesses the mysterious power to heal people's ailments. When\n",
      "  the cell block's head guard, Paul Edgecomb, recognizes Coffey's miraculous gift,\n",
      "  he tries desperately to help stave off the condemned man's execution.\n",
      "\n",
      "movie_name: Parasite\n",
      "genre: Comedy, Drama, Romance\n",
      "description: All unemployed, Ki-taek's family takes peculiar interest in the wealthy\n",
      "  and glamorous Parks for their livelihood until they get entangled in an unexpected\n",
      "  incident.\n",
      "\n",
      "movie_name: Pulp Fiction\n",
      "genre: Drama, Western\n",
      "description: A burger-loving hit man, his philosophical partner, a drug-addled gangster's\n",
      "  moll and a washed-up boxer converge in this sprawling, comedic crime caper. Their\n",
      "  adventures unfurl in three stories that ingeniously trip back and forth in time.\n",
      "\n",
      "movie_name: Your Name.\n",
      "genre: Animation, Romance, Drama\n",
      "description: \"High schoolers Mitsuha and Taki are complete strangers living separate\\\n",
      "  \\ lives. But one night, they suddenly switch places. Mitsuha wakes up in Taki\\u2019\\\n",
      "  s body, and he in hers. This bizarre occurrence continues to happen randomly, and\\\n",
      "  \\ the two must adjust their lives around each other.\"\n",
      "\n",
      "movie_name: 'The Lord of the Rings: The Return of the King'\n",
      "genre: Fantasy, Action, Drama\n",
      "description: \"As armies mass for a final battle that will decide the fate of the world--and\\\n",
      "  \\ powerful, ancient forces of Light and Dark compete to determine the outcome--one\\\n",
      "  \\ member of the Fellowship of the Ring is revealed as the noble heir to the throne\\\n",
      "  \\ of the Kings of Men. Yet, the sole hope for triumph over evil lies with a brave\\\n",
      "  \\ hobbit, Frodo, who, accompanied by his loyal friend Sam and the hideous, wretched\\\n",
      "  \\ Gollum, ventures deep into the very dark heart of Mordor on his seemingly impossible\\\n",
      "  \\ quest to destroy the Ring of Power.\\u200B\"\n",
      "\n",
      "movie_name: Forrest Gump\n",
      "genre: Drama, History, War\n",
      "description: \"A man with a low IQ has accomplished great things in his life and been\\\n",
      "  \\ present during significant historic events\\u2014in each case, far exceeding what\\\n",
      "  \\ anyone imagined he could do. But despite all he has achieved, his one true love\\\n",
      "  \\ eludes him.\"\n",
      "\n",
      "movie_name: The Good, the Bad and the Ugly\n",
      "genre: Comedy, Drama, Romance\n",
      "description: \"While the Civil War rages on between the Union and the Confederacy,\\\n",
      "  \\ three men \\u2013 a quiet loner, a ruthless hitman, and a Mexican bandit \\u2013\\\n",
      "  \\ comb the American Southwest in search of a strongbox containing $200,000 in stolen\\\n",
      "  \\ gold.\"\n",
      "\n",
      "movie_name: Seven Samurai\n",
      "genre: Drama, Romance\n",
      "description: A samurai answers a village's request for protection after he falls on\n",
      "  hard times. The town needs protection from bandits, so the samurai gathers six others\n",
      "  to help him teach the people how to defend themselves, and the villagers provide\n",
      "  the soldiers with food.\n",
      "\n",
      "movie_name: GoodFellas\n",
      "genre: Comedy, Drama, Romance\n",
      "description: The true story of Henry Hill, a half-Irish, half-Sicilian Brooklyn kid\n",
      "  who is adopted by neighbourhood gangsters at an early age and climbs the ranks of\n",
      "  a Mafia family under the guidance of Jimmy Conway.\n",
      "\n",
      "movie_name: Interstellar\n",
      "genre: Western, Drama, War\n",
      "description: The adventures of a group of explorers who make use of a newly discovered\n",
      "  wormhole to surpass the limitations on human space travel and conquer the vast distances\n",
      "  involved in an interstellar voyage.\n",
      "\n",
      "movie_name: Grave of the Fireflies\n",
      "genre: Drama, Romance\n",
      "description: In the final months of World War II, 14-year-old Seita and his sister\n",
      "  Setsuko are orphaned when their mother is killed during an air raid in Kobe, Japan.\n",
      "  After a falling out with their aunt, they move into an abandoned bomb shelter. With\n",
      "  no surviving relatives and their emergency rations depleted, Seita and Setsuko struggle\n",
      "  to survive.\n",
      "\n",
      "movie_name: Life Is Beautiful\n",
      "genre: Fantasy, Drama, Crime\n",
      "description: A touching story of an Italian book seller of Jewish ancestry who lives\n",
      "  in his own little fairy tale. His creative and happy life would come to an abrupt\n",
      "  halt when his entire family is deported to a concentration camp during World War\n",
      "  II. While locked up he tries to convince his son that the whole thing is just a\n",
      "  game.\n",
      "\n",
      "\n"
     ]
    }
   ],
   "source": [
    "movies = AG.from_csv(base / \"data/movies.csv\", max_rows=20)\n",
    "## Note that obly the first 9 movies have categories\n",
    "for i, movie in enumerate(movies):\n",
    "    print(f\"{i}: {movie.genre}\")\n",
    "## predicting new genre from given examples\n",
    "all_genres = await (movies(\"genre\") << movies(\"movie_name\", \"description\"))\n",
    "print(all_genres.pretty_print())\n",
    "## few shots examples can also be used in self transfuction\n",
    "movies_with_genre = await movies.self_transduction(\n",
    "    [\"movie_name\", \"description\"], [\"genre\"]\n",
    ")\n",
    "print(movies_with_genre.pretty_print())"
   ]
  }
 ],
 "metadata": {
  "colab": {
   "provenance": [
    {
     "file_id": "https://github.com/IBM/Agentics/blob/Colab/tutorials/transduction.ipynb",
     "timestamp": 1757075262425
    }
   ]
  },
  "kernelspec": {
   "display_name": ".venv",
   "language": "python",
   "name": "python3"
  },
  "language_info": {
   "codemirror_mode": {
    "name": "ipython",
    "version": 3
   },
   "file_extension": ".py",
   "mimetype": "text/x-python",
   "name": "python",
   "nbconvert_exporter": "python",
   "pygments_lexer": "ipython3",
   "version": "3.12.9"
  }
 },
 "nbformat": 4,
 "nbformat_minor": 5
}
